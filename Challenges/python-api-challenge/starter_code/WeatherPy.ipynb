{
 "cells": [
  {
   "cell_type": "markdown",
   "source": [
    "# WeatherPy\r\n",
    "----\r\n",
    "\r\n",
    "#### Note\r\n",
    "* Instructions have been included for each segment. You do not have to follow them exactly, but they are included to help you think through the steps."
   ],
   "metadata": {}
  },
  {
   "cell_type": "markdown",
   "source": [],
   "metadata": {}
  },
  {
   "cell_type": "code",
   "execution_count": 2,
   "source": [
    "# Dependencies and Setup\r\n",
    "import matplotlib.pyplot as plt\r\n",
    "import pandas as pd\r\n",
    "import numpy as np\r\n",
    "import requests\r\n",
    "import time\r\n",
    "from scipy.stats import linregress\r\n",
    "\r\n",
    "# Import API key\r\n",
    "from api_keys import weather_api_key\r\n",
    "\r\n",
    "# Incorporated citipy to determine city based on latitude and longitude\r\n",
    "from citipy import citipy\r\n",
    "\r\n",
    "# Output File (CSV)\r\n",
    "output_data_file = \"output_data/cities.csv\"\r\n",
    "\r\n",
    "# Range of latitudes and longitudes\r\n",
    "lat_range = (-90, 90)\r\n",
    "lng_range = (-180, 180)"
   ],
   "outputs": [],
   "metadata": {
    "scrolled": true
   }
  },
  {
   "cell_type": "markdown",
   "source": [
    "## Generate Cities List"
   ],
   "metadata": {}
  },
  {
   "cell_type": "code",
   "execution_count": 3,
   "source": [
    "# List for holding lat_lngs and cities\r\n",
    "lat_lngs = []\r\n",
    "cities = []\r\n",
    "\r\n",
    "# Create a set of random lat and lng combinations\r\n",
    "lats = np.random.uniform(lat_range[0], lat_range[1], size=1500)\r\n",
    "lngs = np.random.uniform(lng_range[0], lng_range[1], size=1500)\r\n",
    "lat_lngs = zip(lats, lngs)\r\n",
    "\r\n",
    "# Identify nearest city for each lat, lng combination\r\n",
    "for lat_lng in lat_lngs:\r\n",
    "    city = citipy.nearest_city(lat_lng[0], lat_lng[1]).city_name\r\n",
    "    \r\n",
    "    # If the city is unique, then add it to a our cities list\r\n",
    "    if city not in cities:\r\n",
    "        cities.append(city)\r\n",
    "\r\n",
    "# Print the city count to confirm sufficient count\r\n",
    "len(cities)"
   ],
   "outputs": [
    {
     "output_type": "execute_result",
     "data": {
      "text/plain": [
       "617"
      ]
     },
     "metadata": {},
     "execution_count": 3
    }
   ],
   "metadata": {}
  },
  {
   "cell_type": "markdown",
   "source": [
    "### Perform API Calls\r\n",
    "* Perform a weather check on each city using a series of successive API calls.\r\n",
    "* Include a print log of each city as it'sbeing processed (with the city number and city name).\r\n"
   ],
   "metadata": {}
  },
  {
   "cell_type": "code",
   "execution_count": 4,
   "source": [
    "# Save config information.\r\n",
    "url = \"http://api.openweathermap.org/data/2.5/weather?\"\r\n",
    "units = \"metric\"\r\n",
    "\r\n",
    "# Build partial query URL\r\n",
    "query_url = f\"{url}appid={weather_api_key}&units={units}&q=\"\r\n",
    "\r\n",
    "# Loop through the list of cities and perform a request for data on each\r\n",
    "print(f'Checking Weather Data:')\r\n",
    "for city in cities:\r\n",
    "    response = requests.get(query_url + city).json()\r\n",
    "\r\n",
    "    try:\r\n",
    "        print(f\"City Name: {response['name']}, City Number: {response['id']}, the temp is: {response['main']['temp']}C.\")\r\n",
    "    except (KeyError, IndexError):\r\n",
    "        print(\"City not found\")\r\n"
   ],
   "outputs": [
    {
     "output_type": "stream",
     "name": "stdout",
     "text": [
      "Checking Weather Data:\n",
      "City Name: Punta Arenas, City Number: 3874787, the temp is: 8.06C.\n",
      "City Name: Tiksi, City Number: 2015306, the temp is: 8.17C.\n",
      "City Name: Busselton, City Number: 2075265, the temp is: 17.8C.\n",
      "City Name: Coruripe, City Number: 3465329, the temp is: 22.1C.\n",
      "City Name: Kruisfontein, City Number: 986717, the temp is: 9.21C.\n",
      "City Name: Ostrovnoy, City Number: 556268, the temp is: 8.38C.\n",
      "City Name: Watertown, City Number: 4954611, the temp is: 16.32C.\n",
      "City Name: Province of Trapani, City Number: 2522875, the temp is: 24.01C.\n",
      "City Name: Dawei, City Number: 1293625, the temp is: 26.42C.\n",
      "City Name: Hong Kong, City Number: 1819729, the temp is: 32.1C.\n",
      "City not found\n",
      "City Name: Port Elizabeth, City Number: 964420, the temp is: 10.16C.\n",
      "City Name: Qaanaaq, City Number: 3831208, the temp is: 6.11C.\n",
      "City Name: Jamestown, City Number: 5122534, the temp is: 18.21C.\n",
      "City Name: Saint-Philippe, City Number: 935215, the temp is: 19.93C.\n",
      "City Name: Tasiilaq, City Number: 3424607, the temp is: 6.09C.\n",
      "City Name: Saskylakh, City Number: 2017155, the temp is: 25.77C.\n",
      "City Name: Atuona, City Number: 4020109, the temp is: 25.16C.\n",
      "City Name: Challans, City Number: 3027513, the temp is: 14.16C.\n",
      "City Name: Ushuaia, City Number: 3833367, the temp is: 7.81C.\n",
      "City not found\n",
      "City Name: Broome, City Number: 5110365, the temp is: 14.5C.\n",
      "City not found\n",
      "City Name: Arenys de Mar, City Number: 3129661, the temp is: 21.97C.\n",
      "City Name: Yellowknife, City Number: 6185377, the temp is: 15.94C.\n",
      "City Name: Hobart, City Number: 2163355, the temp is: 11.86C.\n",
      "City Name: Porto Velho, City Number: 3662762, the temp is: 24.03C.\n",
      "City Name: Kapaa, City Number: 5848280, the temp is: 26.81C.\n",
      "City Name: Buchanan, City Number: 2278158, the temp is: 24.53C.\n",
      "City not found\n",
      "City Name: Kiryat Gat, City Number: 293842, the temp is: 24.66C.\n",
      "City Name: Vaini, City Number: 4032243, the temp is: 23.09C.\n",
      "City Name: Adrar, City Number: 2381972, the temp is: 30.13C.\n",
      "City Name: George Town, City Number: 1735106, the temp is: 29.95C.\n",
      "City not found\n",
      "City Name: Mount Gambier, City Number: 2156643, the temp is: 11.95C.\n",
      "City Name: Nago, City Number: 1856068, the temp is: 30.65C.\n",
      "City Name: Mataura, City Number: 6201424, the temp is: 13.6C.\n",
      "City Name: Hilo, City Number: 5855927, the temp is: 24.96C.\n",
      "City Name: Kalmunai, City Number: 1242110, the temp is: 30.54C.\n",
      "City Name: Barrow, City Number: 5880054, the temp is: 8.01C.\n",
      "City Name: Bilibino, City Number: 2126682, the temp is: 4.06C.\n",
      "City Name: Brønnøysund, City Number: 3159954, the temp is: 15C.\n",
      "City Name: Hamilton, City Number: 4513583, the temp is: 24.39C.\n",
      "City Name: Havre-St-Pierre, City Number: 5972291, the temp is: 13.2C.\n",
      "City Name: Rome, City Number: 5134295, the temp is: 15.32C.\n",
      "City Name: Angoche, City Number: 1052944, the temp is: 20.13C.\n",
      "City Name: Dikson, City Number: 1507390, the temp is: 4C.\n",
      "City Name: Bandarbeyla, City Number: 64814, the temp is: 27.16C.\n",
      "City Name: Laguna, City Number: 5364271, the temp is: 31.06C.\n",
      "City Name: Chokurdakh, City Number: 2126123, the temp is: 8.47C.\n",
      "City Name: Albany, City Number: 5106841, the temp is: 16.22C.\n",
      "City Name: Arraial do Cabo, City Number: 3471451, the temp is: 17.75C.\n",
      "City Name: Puerto Ayora, City Number: 3652764, the temp is: 21.83C.\n",
      "City Name: Vincennes, City Number: 6613142, the temp is: 13.74C.\n",
      "City Name: Avarua, City Number: 4035715, the temp is: 20.03C.\n",
      "City not found\n",
      "City Name: Auki, City Number: 2109701, the temp is: 29.19C.\n",
      "City Name: New Norfolk, City Number: 2155415, the temp is: 10.98C.\n",
      "City Name: Boca Raton, City Number: 4148411, the temp is: 25.95C.\n",
      "City Name: Richards Bay, City Number: 962367, the temp is: 12.44C.\n",
      "City Name: Punta Alta, City Number: 3839982, the temp is: 5.71C.\n",
      "City Name: Port Hardy, City Number: 6111862, the temp is: 19.1C.\n",
      "City Name: Port Lincoln, City Number: 2063036, the temp is: 15.78C.\n",
      "City Name: Leningradskiy, City Number: 2123814, the temp is: 0.69C.\n",
      "City Name: Rikitea, City Number: 4030556, the temp is: 22.95C.\n",
      "City Name: Sola, City Number: 2134814, the temp is: 28.37C.\n",
      "City Name: Yulara, City Number: 6355222, the temp is: 24.91C.\n",
      "City Name: Suez, City Number: 359796, the temp is: 24.68C.\n",
      "City Name: Zhigansk, City Number: 2012530, the temp is: 20.39C.\n",
      "City Name: Carnarvon, City Number: 2074865, the temp is: 20.04C.\n",
      "City Name: La Ronge, City Number: 6050066, the temp is: 18.14C.\n",
      "City Name: Velešín, City Number: 3063307, the temp is: 13.23C.\n",
      "City not found\n",
      "City Name: Salon-de-Provence, City Number: 2976341, the temp is: 18.91C.\n",
      "City Name: Shimanovsk, City Number: 2016701, the temp is: 27.38C.\n",
      "City Name: Warri, City Number: 2319133, the temp is: 22.73C.\n",
      "City Name: Cape Town, City Number: 3369157, the temp is: 12.11C.\n",
      "City Name: Boa Vista, City Number: 3664980, the temp is: 25.99C.\n",
      "City Name: Prata, City Number: 3452440, the temp is: 11.82C.\n",
      "City Name: Aktash, City Number: 1511997, the temp is: 13.37C.\n",
      "City Name: Port Alfred, City Number: 964432, the temp is: 12.76C.\n",
      "City Name: Laas, City Number: 3175096, the temp is: 13.1C.\n",
      "City Name: Bambous Virieux, City Number: 1106677, the temp is: 22.14C.\n",
      "City Name: Konza, City Number: 190544, the temp is: 13.8C.\n",
      "City Name: Pringsewu, City Number: 1630639, the temp is: 31.47C.\n",
      "City Name: Kirksville, City Number: 5055787, the temp is: 25.44C.\n",
      "City Name: Tuktoyaktuk, City Number: 6170031, the temp is: 12C.\n",
      "City Name: Souillac, City Number: 933995, the temp is: 22.21C.\n",
      "City Name: Butaritari, City Number: 2110227, the temp is: 28.12C.\n",
      "City Name: Crato, City Number: 3401545, the temp is: 22.84C.\n",
      "City Name: Mahajanga, City Number: 1062663, the temp is: 18.01C.\n",
      "City Name: Deputatsky, City Number: 2028164, the temp is: 11.52C.\n",
      "City Name: Talnakh, City Number: 1490256, the temp is: 16.56C.\n",
      "City Name: Isangel, City Number: 2136825, the temp is: 27.06C.\n",
      "City Name: Upernavik, City Number: 3418910, the temp is: 8.34C.\n",
      "City Name: Port Blair, City Number: 1259385, the temp is: 28.81C.\n",
      "City not found\n",
      "City not found\n",
      "City Name: Geraldton, City Number: 2070998, the temp is: 19.23C.\n",
      "City Name: Ribeira Grande, City Number: 3372707, the temp is: 21.26C.\n",
      "City not found\n",
      "City Name: Torbay, City Number: 6167817, the temp is: 19.11C.\n",
      "City Name: São João da Barra, City Number: 3448903, the temp is: 19.24C.\n",
      "City Name: Khotynets, City Number: 549341, the temp is: 18.92C.\n",
      "City Name: Boké, City Number: 2422924, the temp is: 23.03C.\n",
      "City Name: Aquin, City Number: 3731095, the temp is: 25.1C.\n",
      "City Name: Kumasi, City Number: 2298890, the temp is: 18.95C.\n",
      "City Name: Port Macquarie, City Number: 2152659, the temp is: 18.78C.\n",
      "City Name: Airai, City Number: 1651810, the temp is: 25.55C.\n",
      "City Name: East London, City Number: 1006984, the temp is: 13.52C.\n",
      "City Name: Hasaki, City Number: 2112802, the temp is: 32.67C.\n",
      "City Name: Lebu, City Number: 3883457, the temp is: 9.24C.\n",
      "City Name: Abu Samrah, City Number: 172515, the temp is: 24.8C.\n",
      "City Name: Mar del Plata, City Number: 3430863, the temp is: 5.09C.\n",
      "City Name: Iqaluit, City Number: 5983720, the temp is: 7.61C.\n",
      "City Name: Bluff, City Number: 2206939, the temp is: 13.78C.\n",
      "City Name: Margate, City Number: 2643044, the temp is: 12.57C.\n",
      "City Name: Lagos, City Number: 2332453, the temp is: 26.18C.\n",
      "City Name: Granada, City Number: 2517117, the temp is: 20.49C.\n",
      "City Name: Chui, City Number: 3443061, the temp is: 5.76C.\n",
      "City Name: Malanje, City Number: 2239862, the temp is: 13.51C.\n",
      "City Name: Kieta, City Number: 2094027, the temp is: 28.83C.\n",
      "City Name: Riyadh, City Number: 108410, the temp is: 31.08C.\n",
      "City Name: Pevek, City Number: 2122090, the temp is: 0.44C.\n",
      "City Name: Celestún, City Number: 3531368, the temp is: 26.52C.\n",
      "City Name: Hermanus, City Number: 3366880, the temp is: 16C.\n",
      "City Name: Brawley, City Number: 5330567, the temp is: 38.91C.\n",
      "City Name: Tsimmerbude, City Number: 485660, the temp is: 19.03C.\n",
      "City Name: Los Llanos de Aridane, City Number: 2514651, the temp is: 16.74C.\n",
      "City Name: Grindavik, City Number: 3416888, the temp is: 9.68C.\n",
      "City Name: Barzas, City Number: 1510817, the temp is: 19.13C.\n",
      "City Name: Kaitangata, City Number: 2208248, the temp is: 12.18C.\n",
      "City Name: Linguère, City Number: 2249281, the temp is: 28.12C.\n",
      "City Name: Naze, City Number: 1855540, the temp is: 28.51C.\n",
      "City Name: Olafsvik, City Number: 3414079, the temp is: 10.58C.\n",
      "City Name: Smidovich, City Number: 2016412, the temp is: 32.41C.\n",
      "City Name: Santa Maria, City Number: 3450083, the temp is: 4.61C.\n",
      "City Name: Dubbo, City Number: 2168305, the temp is: 13.07C.\n",
      "City Name: Koshurnikovo, City Number: 1502389, the temp is: 18.15C.\n",
      "City Name: Hithadhoo, City Number: 1282256, the temp is: 26.99C.\n",
      "City Name: Cavalcante, City Number: 3466594, the temp is: 19.92C.\n",
      "City Name: Makarov, City Number: 2123614, the temp is: 27.59C.\n",
      "City Name: Tabas, City Number: 113659, the temp is: 31.27C.\n",
      "City Name: Zhangaözen, City Number: 607610, the temp is: 24.64C.\n",
      "City Name: Kaka, City Number: 161901, the temp is: 30.11C.\n",
      "City Name: Saint-André-Avellin, City Number: 6137404, the temp is: 14.19C.\n",
      "City Name: Cherskiy, City Number: 2126199, the temp is: 2.94C.\n",
      "City Name: Luang Prabang, City Number: 1655559, the temp is: 26.98C.\n",
      "City Name: Muli, City Number: 1337617, the temp is: 27.84C.\n",
      "City Name: Marabu, City Number: 1738050, the temp is: 31.08C.\n",
      "City Name: Sabla, City Number: 2349431, the temp is: 23.97C.\n",
      "City Name: Ahipara, City Number: 2194098, the temp is: 15.32C.\n",
      "City Name: Santa Fé do Sul, City Number: 3450232, the temp is: 11.72C.\n",
      "City Name: Yumen, City Number: 1528998, the temp is: 32.78C.\n",
      "City Name: Zeya, City Number: 2012593, the temp is: 20.86C.\n",
      "City Name: Puyang, City Number: 1798425, the temp is: 33.22C.\n",
      "City Name: Coyhaique, City Number: 3894426, the temp is: 3.97C.\n",
      "City Name: Moroni, City Number: 921772, the temp is: 23.18C.\n",
      "City Name: Saint Anthony, City Number: 5044290, the temp is: 29.83C.\n",
      "City Name: Tezu, City Number: 1254709, the temp is: 27.68C.\n",
      "City Name: Ketchikan, City Number: 5554428, the temp is: 17.26C.\n",
      "City Name: Makakilo City, City Number: 5850554, the temp is: 27.23C.\n",
      "City Name: Fortuna, City Number: 5563839, the temp is: 13.89C.\n",
      "City Name: Cidreira, City Number: 3466165, the temp is: 7.18C.\n",
      "City Name: Praia da Vitória, City Number: 3372760, the temp is: 20.14C.\n",
      "City not found\n",
      "City not found\n",
      "City Name: Mahébourg, City Number: 934322, the temp is: 22.16C.\n",
      "City Name: Khatanga, City Number: 2022572, the temp is: 22.38C.\n",
      "City Name: Philadelphia, City Number: 4560349, the temp is: 21.8C.\n",
      "City Name: Mayo, City Number: 4362001, the temp is: 24.62C.\n",
      "City Name: Shache, City Number: 1280037, the temp is: 34.67C.\n",
      "City Name: Codrington, City Number: 2171099, the temp is: 11.91C.\n",
      "City Name: Avera, City Number: 4231997, the temp is: 25.17C.\n",
      "City Name: Lidköping, City Number: 2696329, the temp is: 15.19C.\n",
      "City Name: Araouane, City Number: 2460954, the temp is: 33.31C.\n",
      "City Name: Derzhavīnsk, City Number: 1524606, the temp is: 18.35C.\n",
      "City Name: Moerai, City Number: 4034188, the temp is: 22.16C.\n",
      "City Name: Waipawa, City Number: 2206874, the temp is: 11.73C.\n",
      "City Name: Cananea, City Number: 4015700, the temp is: 20.5C.\n",
      "City Name: Tuatapere, City Number: 2180815, the temp is: 13.79C.\n",
      "City Name: Moreira Sales, City Number: 3456763, the temp is: 3.54C.\n",
      "City Name: Sibolga, City Number: 1213855, the temp is: 29.59C.\n",
      "City Name: Khovd, City Number: 1516048, the temp is: 20.22C.\n",
      "City Name: Kingsport, City Number: 4634662, the temp is: 22.32C.\n",
      "City Name: Proletarsk, City Number: 504831, the temp is: 19.65C.\n",
      "City Name: Rassvet, City Number: 502738, the temp is: 19.16C.\n",
      "City Name: Beira, City Number: 1052373, the temp is: 15.05C.\n",
      "City not found\n",
      "City Name: Kahului, City Number: 5847411, the temp is: 26.61C.\n",
      "City Name: Meulaboh, City Number: 1214488, the temp is: 29.12C.\n",
      "City Name: San Juan, City Number: 3837213, the temp is: 7.44C.\n",
      "City Name: São Filipe, City Number: 3374210, the temp is: 23.57C.\n",
      "City not found\n",
      "City Name: San Cristobal, City Number: 3628473, the temp is: 23.1C.\n",
      "City Name: Amahai, City Number: 1651591, the temp is: 28.41C.\n",
      "City Name: Evensk, City Number: 2125693, the temp is: 14.07C.\n",
      "City not found\n",
      "City Name: Salalah, City Number: 286621, the temp is: 26.05C.\n",
      "City Name: Yangi Marg`ilon, City Number: 1513491, the temp is: 29.4C.\n",
      "City Name: Marrakesh, City Number: 2542997, the temp is: 24.04C.\n",
      "City Name: Half Moon Bay, City Number: 5354943, the temp is: 17.54C.\n",
      "City Name: Nome, City Number: 5870133, the temp is: 11.04C.\n",
      "City Name: Nikolskoye, City Number: 546105, the temp is: 18.69C.\n",
      "City Name: Wuwei, City Number: 1803936, the temp is: 32.94C.\n",
      "City Name: Warwick, City Number: 5225507, the temp is: 16.66C.\n",
      "City Name: Kavaratti, City Number: 1267390, the temp is: 27.92C.\n",
      "City Name: Saint George, City Number: 5546220, the temp is: 34.82C.\n",
      "City Name: Constitución, City Number: 3893726, the temp is: 9.59C.\n",
      "City Name: Thompson, City Number: 6165406, the temp is: 12.09C.\n",
      "City Name: Dingle, City Number: 1714733, the temp is: 32.29C.\n",
      "City Name: Amarillo, City Number: 5516233, the temp is: 26.46C.\n",
      "City Name: Knokke-Heist, City Number: 2794216, the temp is: 14.46C.\n",
      "City Name: Bradford, City Number: 2654993, the temp is: 12.66C.\n",
      "City Name: Mayumba, City Number: 2399001, the temp is: 20.99C.\n",
      "City not found\n",
      "City Name: Abu Kamal, City Number: 174448, the temp is: 29.71C.\n",
      "City Name: Ankpa, City Number: 2349788, the temp is: 20.09C.\n",
      "City Name: Magadan, City Number: 2123628, the temp is: 9.47C.\n",
      "City not found\n",
      "City Name: Gambēla, City Number: 337405, the temp is: 20.94C.\n",
      "City Name: Biak, City Number: 1637001, the temp is: 28.41C.\n",
      "City Name: Camacha, City Number: 2270385, the temp is: 19.67C.\n",
      "City Name: Amazar, City Number: 2027806, the temp is: 21.01C.\n",
      "City Name: Newport, City Number: 2641598, the temp is: 12.56C.\n",
      "City Name: Nhamundá, City Number: 3393929, the temp is: 26.24C.\n",
      "City Name: Launceston, City Number: 2160517, the temp is: 13.02C.\n",
      "City Name: Brae, City Number: 2654970, the temp is: 13.95C.\n",
      "City Name: Buala, City Number: 2109528, the temp is: 28.71C.\n",
      "City Name: Provideniya, City Number: 4031574, the temp is: 10.06C.\n",
      "City Name: Gigmoto, City Number: 1712961, the temp is: 31.35C.\n",
      "City Name: Alenquer, City Number: 3407980, the temp is: 24.19C.\n",
      "City Name: Kutum, City Number: 371745, the temp is: 24C.\n",
      "City Name: Tual, City Number: 1623197, the temp is: 27.42C.\n",
      "City Name: Novovoronezh, City Number: 517716, the temp is: 20.25C.\n",
      "City Name: Yuza, City Number: 1848016, the temp is: 30.03C.\n",
      "City Name: Nantucket, City Number: 4944903, the temp is: 16.78C.\n",
      "City Name: Gimbi, City Number: 336496, the temp is: 13.05C.\n",
      "City Name: Lakes Entrance, City Number: 2160735, the temp is: 16.77C.\n",
      "City Name: Marawi, City Number: 1701054, the temp is: 29.8C.\n",
      "City Name: Claremorris, City Number: 2965471, the temp is: 12.42C.\n",
      "City Name: Tura, City Number: 1254046, the temp is: 25.1C.\n",
      "City not found\n",
      "City not found\n",
      "City Name: Bredasdorp, City Number: 1015776, the temp is: 12.62C.\n",
      "City Name: Kiama, City Number: 2161515, the temp is: 18.51C.\n",
      "City Name: Champerico, City Number: 3598787, the temp is: 26.39C.\n",
      "City Name: Beohāri, City Number: 1276455, the temp is: 24.49C.\n",
      "City Name: Nísia Floresta, City Number: 3393922, the temp is: 24.21C.\n",
      "City Name: Kavieng, City Number: 2094342, the temp is: 29.18C.\n",
      "City Name: Ballina, City Number: 2177069, the temp is: 21.28C.\n",
      "City Name: Sterlibashevo, City Number: 487498, the temp is: 19.08C.\n",
      "City Name: Beringovskiy, City Number: 2126710, the temp is: 9.42C.\n",
      "City Name: Nerchinskiy Zavod, City Number: 2019323, the temp is: 22.82C.\n",
      "City Name: Touros, City Number: 3386213, the temp is: 23.5C.\n",
      "City Name: Pisco, City Number: 3932145, the temp is: 15.03C.\n",
      "City Name: Jalu, City Number: 86049, the temp is: 25.85C.\n",
      "City Name: Pangnirtung, City Number: 6096551, the temp is: 11.12C.\n",
      "City Name: Charleston, City Number: 4574324, the temp is: 25.63C.\n",
      "City Name: Namatanai, City Number: 2090021, the temp is: 28.61C.\n",
      "City Name: Nsanje, City Number: 924572, the temp is: 14.16C.\n",
      "City Name: Sorgun, City Number: 300352, the temp is: 14.08C.\n",
      "City Name: Severo-Kuril'sk, City Number: 2121385, the temp is: 15.08C.\n",
      "City Name: Marsá Maţrūḩ, City Number: 352733, the temp is: 24.11C.\n",
      "City Name: Kumul, City Number: 1529484, the temp is: 37.94C.\n",
      "City Name: Lorengau, City Number: 2092164, the temp is: 29.52C.\n",
      "City not found\n",
      "City not found\n",
      "City Name: Canarana, City Number: 3467604, the temp is: 18.73C.\n",
      "City Name: Ankang, City Number: 1789065, the temp is: 31.21C.\n",
      "City Name: Batagay-Alyta, City Number: 2027042, the temp is: 16.1C.\n",
      "City Name: Disraeli, City Number: 5939663, the temp is: 10.12C.\n",
      "City Name: Castro, City Number: 3466704, the temp is: 0.86C.\n",
      "City Name: Eenhana, City Number: 3357804, the temp is: 8.86C.\n",
      "City Name: Lishan, City Number: 1803267, the temp is: 30.65C.\n",
      "City Name: Del Rio, City Number: 5520076, the temp is: 31.9C.\n",
      "City Name: Jérémie, City Number: 3723593, the temp is: 26.75C.\n",
      "City Name: Cockburn Town, City Number: 3576994, the temp is: 27.62C.\n",
      "City Name: Baijiantan, City Number: 1529626, the temp is: 30.08C.\n",
      "City Name: Arys, City Number: 1526168, the temp is: 30.99C.\n",
      "City Name: Rafai, City Number: 236524, the temp is: 18.64C.\n",
      "City Name: Bengkulu, City Number: 1649150, the temp is: 29.22C.\n",
      "City not found\n",
      "City Name: Parabel', City Number: 1495586, the temp is: 20.36C.\n",
      "City Name: Katherine, City Number: 2068655, the temp is: 32.18C.\n",
      "City Name: Labuhan, City Number: 8079926, the temp is: 31.02C.\n",
      "City Name: Port Hedland, City Number: 2063042, the temp is: 27.03C.\n",
      "City not found\n",
      "City Name: Longyearbyen, City Number: 2729907, the temp is: 5.91C.\n",
      "City Name: Dergachi, City Number: 566456, the temp is: 24.47C.\n",
      "City not found\n",
      "City Name: Kazachinskoye, City Number: 1504075, the temp is: 13.42C.\n",
      "City Name: Arona, City Number: 2521582, the temp is: 17.71C.\n",
      "City Name: Kilinochchi, City Number: 1240372, the temp is: 31.19C.\n",
      "City Name: Andros Town, City Number: 3572906, the temp is: 26.98C.\n",
      "City Name: Sioux Lookout, City Number: 6148373, the temp is: 17.04C.\n",
      "City Name: Vardø, City Number: 777019, the temp is: 8.11C.\n",
      "City Name: Jasper, City Number: 4392354, the temp is: 26.38C.\n",
      "City Name: Fort Nelson, City Number: 5955902, the temp is: 23.77C.\n",
      "City Name: Esfarāyen, City Number: 135298, the temp is: 21.81C.\n",
      "City Name: Shenzhen, City Number: 1795565, the temp is: 32.02C.\n",
      "City Name: Quatre Cocos, City Number: 1106643, the temp is: 21.72C.\n",
      "City Name: Maryville, City Number: 4639848, the temp is: 23.86C.\n",
      "City Name: Menongue, City Number: 3347353, the temp is: 6.78C.\n",
      "City Name: Ondjiva, City Number: 3346821, the temp is: 9.15C.\n",
      "City Name: Estelle, City Number: 4323873, the temp is: 28.73C.\n",
      "City Name: Sinnamary, City Number: 3380290, the temp is: 24.93C.\n",
      "City Name: Tiznit Province, City Number: 2527087, the temp is: 24.84C.\n",
      "City Name: Jilin, City Number: 2036500, the temp is: 32.98C.\n",
      "City Name: Alofi, City Number: 4036284, the temp is: 24.94C.\n",
      "City Name: San Patricio, City Number: 4726521, the temp is: 27.63C.\n",
      "City Name: Narsaq, City Number: 3421719, the temp is: 9.12C.\n",
      "City Name: Leh, City Number: 1264976, the temp is: 15.87C.\n",
      "City Name: Ljungby, City Number: 2694560, the temp is: 15.49C.\n",
      "City Name: Kirakira, City Number: 2178753, the temp is: 28.8C.\n",
      "City Name: Phuket, City Number: 1151253, the temp is: 29.12C.\n",
      "City Name: Saint Paul Harbor, City Number: 5866583, the temp is: 15.73C.\n",
      "City Name: Fomboni, City Number: 921889, the temp is: 24.92C.\n",
      "City Name: Ayan, City Number: 2027316, the temp is: 14.05C.\n",
      "City not found\n",
      "City Name: Bolshaya Sosnova, City Number: 574620, the temp is: 14.89C.\n",
      "City Name: Shingū, City Number: 1847947, the temp is: 28.84C.\n",
      "City Name: Isil'kul', City Number: 1505438, the temp is: 15.01C.\n",
      "City not found\n",
      "City not found\n",
      "City not found\n",
      "City Name: Damietta, City Number: 358048, the temp is: 26.94C.\n",
      "City Name: Comodoro Rivadavia, City Number: 3860443, the temp is: 7.92C.\n",
      "City Name: Sitka, City Number: 5557293, the temp is: 17.94C.\n",
      "City Name: Ponta do Sol, City Number: 2264557, the temp is: 22.47C.\n",
      "City Name: Sobolevo, City Number: 525426, the temp is: 18.41C.\n",
      "City not found\n",
      "City Name: Sandpoint, City Number: 5606401, the temp is: 25.49C.\n",
      "City Name: Winnemucca, City Number: 5710360, the temp is: 31.03C.\n",
      "City Name: Hambantota, City Number: 1244926, the temp is: 30.19C.\n",
      "City Name: Long Beach, City Number: 5367929, the temp is: 22.32C.\n",
      "City Name: Borås, City Number: 2720501, the temp is: 15.52C.\n",
      "City Name: Ossora, City Number: 2122389, the temp is: 13.71C.\n",
      "City Name: Molochnoye, City Number: 525585, the temp is: 18.09C.\n",
      "City Name: Capinópolis, City Number: 3467263, the temp is: 12.88C.\n",
      "City Name: Eydhafushi, City Number: 1337606, the temp is: 28.2C.\n",
      "City Name: Golden, City Number: 5423294, the temp is: 26.11C.\n",
      "City Name: Zhezkazgan, City Number: 1516589, the temp is: 25.13C.\n",
      "City Name: Mount Isa, City Number: 2065594, the temp is: 30.87C.\n",
      "City Name: Moree, City Number: 2156927, the temp is: 17.01C.\n",
      "City Name: Agde, City Number: 3038638, the temp is: 18.46C.\n",
      "City Name: Sabaudia, City Number: 3168764, the temp is: 21.91C.\n",
      "City Name: Makkah al Mukarramah, City Number: 104515, the temp is: 30.98C.\n",
      "City Name: Novotroitskaya, City Number: 517813, the temp is: 18.64C.\n",
      "City Name: Bethel, City Number: 5282297, the temp is: 19.21C.\n",
      "City Name: Harper, City Number: 2276492, the temp is: 24.57C.\n",
      "City Name: Qiongshan, City Number: 1797535, the temp is: 32.99C.\n",
      "City Name: Faanui, City Number: 4034551, the temp is: 25.84C.\n",
      "City Name: Jinxiang, City Number: 1805334, the temp is: 30.94C.\n",
      "City Name: Merauke, City Number: 2082539, the temp is: 28.11C.\n",
      "City Name: Charkhāri, City Number: 1274574, the temp is: 26.21C.\n",
      "City not found\n",
      "City Name: Acarí, City Number: 3948613, the temp is: 18.28C.\n",
      "City Name: Cabra, City Number: 2520645, the temp is: 22.56C.\n",
      "City Name: Kingman, City Number: 5301067, the temp is: 30.58C.\n",
      "City Name: Ransang, City Number: 1691872, the temp is: 31.87C.\n",
      "City Name: North Bend, City Number: 5742974, the temp is: 14.07C.\n",
      "City Name: Dobryanka, City Number: 565778, the temp is: 13.92C.\n",
      "City Name: Banjar, City Number: 1650232, the temp is: 27.92C.\n",
      "City Name: Gwadar, City Number: 1177446, the temp is: 28.49C.\n",
      "City Name: Markova, City Number: 701802, the temp is: 18.61C.\n",
      "City Name: Babushkin, City Number: 2027276, the temp is: 15.97C.\n",
      "City Name: Vila, City Number: 7117100, the temp is: 9.26C.\n",
      "City Name: Peruíbe, City Number: 3454061, the temp is: 10.46C.\n",
      "City Name: Krasnosel'kup, City Number: 1502073, the temp is: 19.57C.\n",
      "City Name: Otradnoye, City Number: 513898, the temp is: 18.6C.\n",
      "City Name: Clearwater, City Number: 4151316, the temp is: 27.32C.\n",
      "City Name: Antofagasta, City Number: 3899539, the temp is: 17.34C.\n",
      "City Name: Amapá, City Number: 3407762, the temp is: 21.34C.\n",
      "City Name: Srednekolymsk, City Number: 2121025, the temp is: 3.66C.\n",
      "City Name: Klaksvík, City Number: 2618795, the temp is: 10.51C.\n",
      "City Name: Filingué, City Number: 2444995, the temp is: 27.44C.\n",
      "City Name: Yarkovo, City Number: 1486369, the temp is: 14.04C.\n",
      "City Name: Umm Kaddadah, City Number: 364933, the temp is: 27.7C.\n",
      "City Name: Nanortalik, City Number: 3421765, the temp is: 6.73C.\n",
      "City Name: Flinders, City Number: 6255012, the temp is: 18.58C.\n",
      "City Name: Hostotipaquillo, City Number: 4004738, the temp is: 21.28C.\n",
      "City Name: Lompoc, City Number: 5367788, the temp is: 15.77C.\n",
      "City Name: Scarborough, City Number: 2638419, the temp is: 12.51C.\n",
      "City Name: Tešanjka, City Number: 3253010, the temp is: 18.41C.\n",
      "City Name: Piaçabuçu, City Number: 3454005, the temp is: 22.23C.\n",
      "City Name: Acapulco de Juárez, City Number: 3533462, the temp is: 26.91C.\n",
      "City Name: Manadhoo, City Number: 1337618, the temp is: 28.15C.\n",
      "City Name: Gibsons, City Number: 5960971, the temp is: 24.32C.\n",
      "City Name: Marsh Harbour, City Number: 3571913, the temp is: 28.67C.\n",
      "City Name: Olinda, City Number: 3393536, the temp is: 22.85C.\n",
      "City Name: San Ramon, City Number: 5392593, the temp is: 17.78C.\n",
      "City Name: Taoudenni, City Number: 2450173, the temp is: 36.02C.\n",
      "City Name: Hibbing, City Number: 5030005, the temp is: 19.77C.\n",
      "City Name: Prince Rupert, City Number: 6113406, the temp is: 14.67C.\n",
      "City Name: Neyshabur, City Number: 122285, the temp is: 25.99C.\n",
      "City Name: Saint Peter, City Number: 3373554, the temp is: 26.31C.\n",
      "City Name: General Pico, City Number: 3855075, the temp is: 2.82C.\n",
      "City Name: Presidencia Roque Sáenz Peña, City Number: 3840300, the temp is: 3.43C.\n",
      "City not found\n",
      "City Name: Uyar, City Number: 1487922, the temp is: 15.73C.\n",
      "City Name: Millinocket, City Number: 4972220, the temp is: 11.51C.\n",
      "City Name: Goderich, City Number: 5962442, the temp is: 19.18C.\n",
      "City Name: Edd, City Number: 338345, the temp is: 32.88C.\n",
      "City Name: Rincon, City Number: 4218882, the temp is: 24.34C.\n",
      "City Name: Kondinskoye, City Number: 1502697, the temp is: 11.41C.\n",
      "City Name: Bichena, City Number: 342190, the temp is: 11.75C.\n",
      "City Name: Alto Araguaia, City Number: 3472473, the temp is: 12.16C.\n",
      "City not found\n",
      "City Name: Haines Junction, City Number: 5969025, the temp is: 17.97C.\n",
      "City Name: Faya, City Number: 110690, the temp is: 17.29C.\n",
      "City Name: Tazovsky, City Number: 1489853, the temp is: 13.9C.\n",
      "City Name: Burns Lake, City Number: 5911745, the temp is: 16.68C.\n",
      "City Name: Havelock, City Number: 4470244, the temp is: 23.83C.\n",
      "City Name: Indiaroba, City Number: 3461289, the temp is: 21.45C.\n",
      "City Name: Saldanha, City Number: 3361934, the temp is: 10.03C.\n",
      "City Name: Sørland, City Number: 3137469, the temp is: 10.75C.\n",
      "City Name: Poum, City Number: 2138555, the temp is: 23.04C.\n",
      "City not found\n",
      "City Name: Esmeraldas, City Number: 3464008, the temp is: 21.48C.\n",
      "City Name: Vorukh, City Number: 1220164, the temp is: 25.65C.\n",
      "City not found\n",
      "City not found\n",
      "City Name: Tamandaré, City Number: 3386931, the temp is: 22.56C.\n",
      "City Name: Barinas, City Number: 3648546, the temp is: 16.02C.\n",
      "City Name: Eureka, City Number: 5563397, the temp is: 14.18C.\n",
      "City Name: Ouésso, City Number: 2255564, the temp is: 22.23C.\n",
      "City not found\n",
      "City Name: Coachella, City Number: 5338166, the temp is: 37C.\n",
      "City Name: Yoichi, City Number: 2129218, the temp is: 27.83C.\n",
      "City Name: Florø, City Number: 3156980, the temp is: 15.98C.\n",
      "City Name: Dhidhdhoo, City Number: 1337612, the temp is: 28.14C.\n",
      "City Name: Bayeux, City Number: 3405940, the temp is: 23.35C.\n",
      "City Name: Progreso, City Number: 3521108, the temp is: 25.06C.\n",
      "City Name: Belmonte, City Number: 3470137, the temp is: 22.28C.\n",
      "City Name: Ancud, City Number: 3899695, the temp is: 6.74C.\n",
      "City Name: Khandyga, City Number: 2022773, the temp is: 22.31C.\n",
      "City Name: Husavik, City Number: 2629833, the temp is: 7.95C.\n",
      "City Name: Paita, City Number: 3694112, the temp is: 19.11C.\n",
      "City not found\n",
      "City Name: Te Anau, City Number: 2181625, the temp is: 11.85C.\n",
      "City Name: San Rafael, City Number: 3836669, the temp is: 5.97C.\n",
      "City Name: Luanda, City Number: 2240449, the temp is: 20.82C.\n",
      "City Name: Coquimbo, City Number: 3893629, the temp is: 9.85C.\n",
      "City Name: Norman Wells, City Number: 6089245, the temp is: 18.02C.\n",
      "City Name: Daugai, City Number: 600040, the temp is: 17.95C.\n",
      "City Name: Mehamn, City Number: 778707, the temp is: 6.97C.\n",
      "City not found\n",
      "City Name: Rohnert Park, City Number: 5388564, the temp is: 17.14C.\n",
      "City Name: Māgadi, City Number: 1264514, the temp is: 21.78C.\n",
      "City Name: Ximeicun, City Number: 1789289, the temp is: 31.85C.\n",
      "City Name: Lyubech, City Number: 702477, the temp is: 20.78C.\n",
      "City Name: Mahon, City Number: 2514301, the temp is: 22.31C.\n",
      "City Name: Dunmore Town, City Number: 3572462, the temp is: 28.52C.\n",
      "City not found\n",
      "City Name: Bariloche, City Number: 7647007, the temp is: 3.02C.\n",
      "City Name: Lüderitz, City Number: 3355672, the temp is: 11.44C.\n",
      "City Name: Rauma, City Number: 639734, the temp is: 17.02C.\n",
      "City not found\n",
      "City Name: Preobrazheniye, City Number: 2017658, the temp is: 27.32C.\n",
      "City not found\n",
      "City Name: Matagami, City Number: 6067747, the temp is: 16.06C.\n",
      "City Name: Pauini, City Number: 3662927, the temp is: 26.12C.\n",
      "City Name: Stephenville, City Number: 4734350, the temp is: 27.92C.\n",
      "City Name: Óbidos, City Number: 3393768, the temp is: 25.13C.\n",
      "City Name: Manaus, City Number: 3663517, the temp is: 28.27C.\n",
      "City Name: Clyde River, City Number: 5924351, the temp is: 5.13C.\n",
      "City Name: Álamos, City Number: 4018904, the temp is: 26.51C.\n",
      "City Name: Nicoya, City Number: 3622716, the temp is: 24.75C.\n",
      "City Name: Yar-Sale, City Number: 1486321, the temp is: 13.95C.\n",
      "City Name: Muros, City Number: 3115824, the temp is: 15.71C.\n",
      "City not found\n",
      "City not found\n",
      "City Name: Athabasca, City Number: 5887916, the temp is: 21.5C.\n",
      "City Name: Eston, City Number: 5949601, the temp is: 21.83C.\n",
      "City Name: Lagoa, City Number: 3372964, the temp is: 20.64C.\n",
      "City Name: Luau, City Number: 876177, the temp is: 11.51C.\n",
      "City Name: Hvolsvollur, City Number: 3415720, the temp is: 8.78C.\n",
      "City Name: Muscat, City Number: 287286, the temp is: 40.01C.\n",
      "City Name: Dali, City Number: 1814093, the temp is: 19.06C.\n",
      "City Name: Les Cayes, City Number: 3728097, the temp is: 25.51C.\n",
      "City Name: Cruzeiro do Sul, City Number: 3465080, the temp is: 5.17C.\n",
      "City Name: Bad Wildungen, City Number: 2953317, the temp is: 14.78C.\n",
      "City Name: Gijang, City Number: 1842966, the temp is: 32.85C.\n",
      "City Name: Sahuaripa, City Number: 3988265, the temp is: 24.13C.\n",
      "City Name: Formosa, City Number: 3433899, the temp is: 3.99C.\n",
      "City Name: Rundu, City Number: 3353383, the temp is: 8.02C.\n",
      "City Name: Trabzon Province, City Number: 738647, the temp is: 22.05C.\n",
      "City Name: Pantai Remis, City Number: 1752256, the temp is: 30.79C.\n",
      "City Name: Lata, City Number: 2738381, the temp is: 15.27C.\n",
      "City Name: Tautira, City Number: 4033557, the temp is: 25.01C.\n",
      "City Name: Sur, City Number: 286245, the temp is: 35.43C.\n",
      "City Name: Bandar-e Lengeh, City Number: 141665, the temp is: 33.06C.\n",
      "City Name: Ati, City Number: 2436400, the temp is: 24.76C.\n",
      "City Name: Tarata, City Number: 3903342, the temp is: 11.68C.\n",
      "City Name: Ferreira do Alentejo, City Number: 2268252, the temp is: 16.77C.\n",
      "City Name: Iwanai, City Number: 2129868, the temp is: 24.86C.\n",
      "City not found\n",
      "City Name: Maceió, City Number: 3395981, the temp is: 20.69C.\n",
      "City Name: Santa Cruz de la Sierra, City Number: 3904906, the temp is: 15.7C.\n",
      "City Name: Odesa, City Number: 698740, the temp is: 20.96C.\n",
      "City Name: Xinyang, City Number: 1788534, the temp is: 30.22C.\n",
      "City Name: Plérin, City Number: 2986795, the temp is: 12.97C.\n",
      "City Name: Talcahuano, City Number: 3870282, the temp is: 9.82C.\n",
      "City Name: Quelimane, City Number: 1028434, the temp is: 13.97C.\n",
      "City Name: Tchibanga, City Number: 2396253, the temp is: 18.4C.\n",
      "City not found\n",
      "City Name: Cabo San Lucas, City Number: 3985710, the temp is: 30.23C.\n",
      "City Name: Puerto Suárez, City Number: 3444199, the temp is: 14.95C.\n",
      "City Name: Pułtusk, City Number: 760917, the temp is: 19.25C.\n",
      "City Name: Kidal, City Number: 2455290, the temp is: 30.2C.\n",
      "City Name: Elko, City Number: 5703673, the temp is: 23.49C.\n",
      "City Name: Smithers, City Number: 6149996, the temp is: 18.18C.\n",
      "City Name: Ranau, City Number: 1733502, the temp is: 24.36C.\n",
      "City Name: Necochea, City Number: 3430443, the temp is: 1.13C.\n",
      "City Name: Châtellerault, City Number: 3026141, the temp is: 13.18C.\n",
      "City Name: Seabra, City Number: 3447928, the temp is: 16.36C.\n",
      "City Name: Da Lat, City Number: 1584071, the temp is: 22.31C.\n",
      "City Name: Abhā, City Number: 110690, the temp is: 17.14C.\n",
      "City Name: Rock Hill, City Number: 4593142, the temp is: 23.89C.\n",
      "City Name: Vostok, City Number: 2013279, the temp is: 31.27C.\n",
      "City Name: Maturin, City Number: 3778045, the temp is: 22.7C.\n",
      "City Name: Kerema, City Number: 2094144, the temp is: 27.72C.\n",
      "City Name: Svetlaya, City Number: 2015852, the temp is: 26.02C.\n",
      "City Name: Viedma, City Number: 3832899, the temp is: 6.33C.\n",
      "City Name: Parrita, City Number: 3622537, the temp is: 27.61C.\n",
      "City Name: San Andrés, City Number: 3670218, the temp is: 28.01C.\n",
      "City Name: Fes, City Number: 2548885, the temp is: 24.14C.\n",
      "City Name: Shemordan, City Number: 494925, the temp is: 16.67C.\n",
      "City Name: Soyo, City Number: 2236967, the temp is: 21.51C.\n",
      "City Name: Borgarnes, City Number: 3418076, the temp is: 9.75C.\n",
      "City Name: Aklavik, City Number: 5882953, the temp is: 16.46C.\n",
      "City Name: Pestovo, City Number: 510364, the temp is: 17.4C.\n",
      "City Name: Turukhansk, City Number: 1488903, the temp is: 19.7C.\n",
      "City Name: Jinji, City Number: 1805515, the temp is: 33.99C.\n",
      "City not found\n",
      "City Name: Bloomington, City Number: 5018739, the temp is: 30.43C.\n",
      "City Name: Arlit, City Number: 2447513, the temp is: 30.08C.\n",
      "City not found\n",
      "City Name: Kangshan, City Number: 1804819, the temp is: 29.13C.\n",
      "City Name: Butembo, City Number: 217562, the temp is: 14.28C.\n",
      "City Name: Pout, City Number: 2246606, the temp is: 26.42C.\n",
      "City Name: Maniitsoq, City Number: 3421982, the temp is: 8.51C.\n",
      "City Name: Riedlingen, City Number: 2847080, the temp is: 14.44C.\n",
      "City Name: Nemuro, City Number: 2128975, the temp is: 29.24C.\n",
      "City Name: Rawson, City Number: 3839307, the temp is: 7.72C.\n",
      "City Name: Guanay, City Number: 3911924, the temp is: 13.88C.\n",
      "City Name: Wamba, City Number: 2319257, the temp is: 21.08C.\n",
      "City Name: Kaeo, City Number: 2189343, the temp is: 15.74C.\n",
      "City Name: Ashland, City Number: 5146062, the temp is: 21.18C.\n",
      "City not found\n",
      "City Name: Tarakan, City Number: 1624725, the temp is: 28.72C.\n",
      "City Name: Honiara, City Number: 2108502, the temp is: 28.4C.\n",
      "City Name: Nishihara, City Number: 1855342, the temp is: 29.29C.\n",
      "City Name: Elumalai, City Number: 1272053, the temp is: 31.5C.\n",
      "City Name: Inhambane, City Number: 1045114, the temp is: 11.99C.\n",
      "City Name: Vágur, City Number: 2610806, the temp is: 10.79C.\n",
      "City Name: Tabuk, City Number: 1684803, the temp is: 30.93C.\n",
      "City Name: Esim, City Number: 2303611, the temp is: 24.67C.\n",
      "City Name: Maningrida, City Number: 2067089, the temp is: 30.89C.\n",
      "City Name: Zhangjiakou, City Number: 2033196, the temp is: 25.85C.\n",
      "City Name: Kremastí, City Number: 408684, the temp is: 27.65C.\n",
      "City Name: Villazón, City Number: 3901501, the temp is: 0.41C.\n",
      "City Name: Verkhniy Baskunchak, City Number: 475196, the temp is: 28.02C.\n",
      "City not found\n",
      "City not found\n",
      "City Name: Temba, City Number: 989747, the temp is: 5.17C.\n",
      "City Name: Karratha, City Number: 6620339, the temp is: 24.55C.\n",
      "City Name: Birobidzhan, City Number: 2026643, the temp is: 33.13C.\n",
      "City not found\n",
      "City Name: Bathsheba, City Number: 3374083, the temp is: 27.34C.\n",
      "City Name: Ubari, City Number: 2219235, the temp is: 25.55C.\n",
      "City Name: Morros, City Number: 3394372, the temp is: 22.08C.\n",
      "City Name: Caravelas, City Number: 3466980, the temp is: 22.38C.\n",
      "City Name: Kichera, City Number: 2022129, the temp is: 26.89C.\n",
      "City Name: Hvide Sande, City Number: 2619537, the temp is: 14.81C.\n",
      "City Name: Diffa, City Number: 2445704, the temp is: 23.33C.\n",
      "City Name: Jizan, City Number: 105298, the temp is: 31.52C.\n",
      "City Name: Salta, City Number: 3838233, the temp is: -0.67C.\n",
      "City Name: Bonavista, City Number: 5905393, the temp is: 18C.\n",
      "City Name: Saint-Louis, City Number: 2246451, the temp is: 26.8C.\n",
      "City Name: Koslan, City Number: 544084, the temp is: 9.83C.\n",
      "City Name: Trincomalee, City Number: 1226260, the temp is: 30.27C.\n",
      "City Name: Nichinan, City Number: 1855476, the temp is: 28.82C.\n",
      "City Name: Adré, City Number: 245669, the temp is: 22.7C.\n",
      "City Name: Kanniyākumāri, City Number: 1268008, the temp is: 28.24C.\n",
      "City Name: Waddān, City Number: 2209055, the temp is: 23.19C.\n",
      "City Name: Naryan-Mar, City Number: 523392, the temp is: 7.25C.\n",
      "City Name: Roald, City Number: 3141667, the temp is: 16.39C.\n",
      "City Name: Ilulissat, City Number: 3423146, the temp is: 9.01C.\n",
      "City Name: Poroshkovo, City Number: 696478, the temp is: 17.23C.\n",
      "City Name: Havøysund, City Number: 779622, the temp is: 8.13C.\n",
      "City Name: Zyryanka, City Number: 2119283, the temp is: 4.74C.\n",
      "City Name: Lac du Bonnet, City Number: 6014443, the temp is: 20.33C.\n",
      "City Name: Zaysan, City Number: 1517060, the temp is: 22.96C.\n",
      "City not found\n",
      "City Name: Mahon, City Number: 2514301, the temp is: 22.31C.\n",
      "City Name: Aripuanã, City Number: 3665202, the temp is: 26.12C.\n",
      "City Name: Basco, City Number: 1726449, the temp is: 28.76C.\n",
      "City Name: Malanville, City Number: 2392837, the temp is: 23.25C.\n",
      "City Name: Esperance, City Number: 2071860, the temp is: 16.91C.\n",
      "City Name: Dzhebariki-Khaya, City Number: 2024626, the temp is: 22.29C.\n",
      "City Name: Arman', City Number: 2127060, the temp is: 9.93C.\n",
      "City not found\n",
      "City Name: Saint-François, City Number: 2980080, the temp is: 15.69C.\n",
      "City Name: Mezhdurechensk, City Number: 1498920, the temp is: 17.44C.\n",
      "City Name: Banda Aceh, City Number: 1215502, the temp is: 30.59C.\n",
      "City Name: Pahrump, City Number: 5509851, the temp is: 33.04C.\n",
      "City Name: Nsoko, City Number: 934900, the temp is: 10.39C.\n",
      "City Name: Waingapu, City Number: 1622318, the temp is: 30.73C.\n",
      "City Name: Sorong, City Number: 1626542, the temp is: 28.27C.\n",
      "City Name: Heyang, City Number: 1811764, the temp is: 28.82C.\n",
      "City Name: Tessalit, City Number: 2449893, the temp is: 31.87C.\n",
      "City Name: Bay Roberts, City Number: 5895424, the temp is: 19.12C.\n",
      "City Name: Bhādāsar, City Number: 1276355, the temp is: 30.28C.\n",
      "City Name: Baruun-Urt, City Number: 2032614, the temp is: 28.52C.\n"
     ]
    }
   ],
   "metadata": {
    "scrolled": true
   }
  },
  {
   "cell_type": "markdown",
   "source": [
    "### Convert Raw Data to DataFrame\r\n",
    "* Export the city data into a .csv.\r\n",
    "* Display the DataFrame"
   ],
   "metadata": {}
  },
  {
   "cell_type": "code",
   "execution_count": 5,
   "source": [
    "# NOTE: Not sure if we are suppose to export our file, in this download we already had a cities.csv files \r\n",
    "# In this case I will be IMPORTING the file and displaying the frame down here.\r\n",
    "csv_path = '../output_data/cities.csv'\r\n",
    "\r\n",
    "cities_df = pd.read_csv(csv_path)\r\n",
    "\r\n",
    "cities_df\r\n"
   ],
   "outputs": [
    {
     "output_type": "execute_result",
     "data": {
      "text/plain": [
       "     City_ID         City  Cloudiness Country        Date  Humidity    Lat  \\\n",
       "0          0    ostrovnoy           2      RU  1558378754        72  68.05   \n",
       "1          1    mahebourg          75      MU  1558378503        74 -20.41   \n",
       "2          2      qaanaaq          25      GL  1558378755        73  77.48   \n",
       "3          3       zhuhai           0      CN  1558378755        39  40.71   \n",
       "4          4    cape town          20      ZA  1558378755        76 -33.93   \n",
       "..       ...          ...         ...     ...         ...       ...    ...   \n",
       "543      543       yabrud           0      SY  1558378840        32  33.97   \n",
       "544      544      paraiso           5      MX  1558378898         4  24.01   \n",
       "545      545      veraval           0      FR  1558378898        62  49.65   \n",
       "546      546  novyy urgal         100      RU  1558378899        93  51.07   \n",
       "547      547      tongren           4      CN  1558378899        64  27.72   \n",
       "\n",
       "        Lng  Max Temp  Wind Speed  \n",
       "0     39.51     37.50        7.16  \n",
       "1     57.70     78.80       11.41  \n",
       "2    -69.36     22.20        2.37  \n",
       "3    112.04     44.60        4.47  \n",
       "4     18.42     55.99        8.05  \n",
       "..      ...       ...         ...  \n",
       "543   36.66     80.60        8.05  \n",
       "544 -104.61     84.20       16.11  \n",
       "545    0.71     61.00        8.05  \n",
       "546  132.56     49.74        2.68  \n",
       "547  109.18     55.86        2.84  \n",
       "\n",
       "[548 rows x 10 columns]"
      ],
      "text/html": [
       "<div>\n",
       "<style scoped>\n",
       "    .dataframe tbody tr th:only-of-type {\n",
       "        vertical-align: middle;\n",
       "    }\n",
       "\n",
       "    .dataframe tbody tr th {\n",
       "        vertical-align: top;\n",
       "    }\n",
       "\n",
       "    .dataframe thead th {\n",
       "        text-align: right;\n",
       "    }\n",
       "</style>\n",
       "<table border=\"1\" class=\"dataframe\">\n",
       "  <thead>\n",
       "    <tr style=\"text-align: right;\">\n",
       "      <th></th>\n",
       "      <th>City_ID</th>\n",
       "      <th>City</th>\n",
       "      <th>Cloudiness</th>\n",
       "      <th>Country</th>\n",
       "      <th>Date</th>\n",
       "      <th>Humidity</th>\n",
       "      <th>Lat</th>\n",
       "      <th>Lng</th>\n",
       "      <th>Max Temp</th>\n",
       "      <th>Wind Speed</th>\n",
       "    </tr>\n",
       "  </thead>\n",
       "  <tbody>\n",
       "    <tr>\n",
       "      <th>0</th>\n",
       "      <td>0</td>\n",
       "      <td>ostrovnoy</td>\n",
       "      <td>2</td>\n",
       "      <td>RU</td>\n",
       "      <td>1558378754</td>\n",
       "      <td>72</td>\n",
       "      <td>68.05</td>\n",
       "      <td>39.51</td>\n",
       "      <td>37.50</td>\n",
       "      <td>7.16</td>\n",
       "    </tr>\n",
       "    <tr>\n",
       "      <th>1</th>\n",
       "      <td>1</td>\n",
       "      <td>mahebourg</td>\n",
       "      <td>75</td>\n",
       "      <td>MU</td>\n",
       "      <td>1558378503</td>\n",
       "      <td>74</td>\n",
       "      <td>-20.41</td>\n",
       "      <td>57.70</td>\n",
       "      <td>78.80</td>\n",
       "      <td>11.41</td>\n",
       "    </tr>\n",
       "    <tr>\n",
       "      <th>2</th>\n",
       "      <td>2</td>\n",
       "      <td>qaanaaq</td>\n",
       "      <td>25</td>\n",
       "      <td>GL</td>\n",
       "      <td>1558378755</td>\n",
       "      <td>73</td>\n",
       "      <td>77.48</td>\n",
       "      <td>-69.36</td>\n",
       "      <td>22.20</td>\n",
       "      <td>2.37</td>\n",
       "    </tr>\n",
       "    <tr>\n",
       "      <th>3</th>\n",
       "      <td>3</td>\n",
       "      <td>zhuhai</td>\n",
       "      <td>0</td>\n",
       "      <td>CN</td>\n",
       "      <td>1558378755</td>\n",
       "      <td>39</td>\n",
       "      <td>40.71</td>\n",
       "      <td>112.04</td>\n",
       "      <td>44.60</td>\n",
       "      <td>4.47</td>\n",
       "    </tr>\n",
       "    <tr>\n",
       "      <th>4</th>\n",
       "      <td>4</td>\n",
       "      <td>cape town</td>\n",
       "      <td>20</td>\n",
       "      <td>ZA</td>\n",
       "      <td>1558378755</td>\n",
       "      <td>76</td>\n",
       "      <td>-33.93</td>\n",
       "      <td>18.42</td>\n",
       "      <td>55.99</td>\n",
       "      <td>8.05</td>\n",
       "    </tr>\n",
       "    <tr>\n",
       "      <th>...</th>\n",
       "      <td>...</td>\n",
       "      <td>...</td>\n",
       "      <td>...</td>\n",
       "      <td>...</td>\n",
       "      <td>...</td>\n",
       "      <td>...</td>\n",
       "      <td>...</td>\n",
       "      <td>...</td>\n",
       "      <td>...</td>\n",
       "      <td>...</td>\n",
       "    </tr>\n",
       "    <tr>\n",
       "      <th>543</th>\n",
       "      <td>543</td>\n",
       "      <td>yabrud</td>\n",
       "      <td>0</td>\n",
       "      <td>SY</td>\n",
       "      <td>1558378840</td>\n",
       "      <td>32</td>\n",
       "      <td>33.97</td>\n",
       "      <td>36.66</td>\n",
       "      <td>80.60</td>\n",
       "      <td>8.05</td>\n",
       "    </tr>\n",
       "    <tr>\n",
       "      <th>544</th>\n",
       "      <td>544</td>\n",
       "      <td>paraiso</td>\n",
       "      <td>5</td>\n",
       "      <td>MX</td>\n",
       "      <td>1558378898</td>\n",
       "      <td>4</td>\n",
       "      <td>24.01</td>\n",
       "      <td>-104.61</td>\n",
       "      <td>84.20</td>\n",
       "      <td>16.11</td>\n",
       "    </tr>\n",
       "    <tr>\n",
       "      <th>545</th>\n",
       "      <td>545</td>\n",
       "      <td>veraval</td>\n",
       "      <td>0</td>\n",
       "      <td>FR</td>\n",
       "      <td>1558378898</td>\n",
       "      <td>62</td>\n",
       "      <td>49.65</td>\n",
       "      <td>0.71</td>\n",
       "      <td>61.00</td>\n",
       "      <td>8.05</td>\n",
       "    </tr>\n",
       "    <tr>\n",
       "      <th>546</th>\n",
       "      <td>546</td>\n",
       "      <td>novyy urgal</td>\n",
       "      <td>100</td>\n",
       "      <td>RU</td>\n",
       "      <td>1558378899</td>\n",
       "      <td>93</td>\n",
       "      <td>51.07</td>\n",
       "      <td>132.56</td>\n",
       "      <td>49.74</td>\n",
       "      <td>2.68</td>\n",
       "    </tr>\n",
       "    <tr>\n",
       "      <th>547</th>\n",
       "      <td>547</td>\n",
       "      <td>tongren</td>\n",
       "      <td>4</td>\n",
       "      <td>CN</td>\n",
       "      <td>1558378899</td>\n",
       "      <td>64</td>\n",
       "      <td>27.72</td>\n",
       "      <td>109.18</td>\n",
       "      <td>55.86</td>\n",
       "      <td>2.84</td>\n",
       "    </tr>\n",
       "  </tbody>\n",
       "</table>\n",
       "<p>548 rows × 10 columns</p>\n",
       "</div>"
      ]
     },
     "metadata": {},
     "execution_count": 5
    }
   ],
   "metadata": {}
  },
  {
   "cell_type": "markdown",
   "source": [
    "## Inspect the data and remove the cities where the humidity > 100%.\n",
    "----\n",
    "Skip this step if there are no cities that have humidity > 100%. "
   ],
   "metadata": {}
  },
  {
   "cell_type": "code",
   "execution_count": 6,
   "source": [
    "#  Get the indices of cities that have humidity over 100%.\r\n",
    "cities_over_100 = cities_df.loc[cities_df['Humidity'] > 100]\r\n",
    "\r\n",
    "cities_over_100"
   ],
   "outputs": [
    {
     "output_type": "execute_result",
     "data": {
      "text/plain": [
       "     City_ID   City  Cloudiness Country        Date  Humidity   Lat    Lng  \\\n",
       "129      129  paita           0      PE  1558378778       290 -5.09 -81.11   \n",
       "\n",
       "     Max Temp  Wind Speed  \n",
       "129      62.6       17.22  "
      ],
      "text/html": [
       "<div>\n",
       "<style scoped>\n",
       "    .dataframe tbody tr th:only-of-type {\n",
       "        vertical-align: middle;\n",
       "    }\n",
       "\n",
       "    .dataframe tbody tr th {\n",
       "        vertical-align: top;\n",
       "    }\n",
       "\n",
       "    .dataframe thead th {\n",
       "        text-align: right;\n",
       "    }\n",
       "</style>\n",
       "<table border=\"1\" class=\"dataframe\">\n",
       "  <thead>\n",
       "    <tr style=\"text-align: right;\">\n",
       "      <th></th>\n",
       "      <th>City_ID</th>\n",
       "      <th>City</th>\n",
       "      <th>Cloudiness</th>\n",
       "      <th>Country</th>\n",
       "      <th>Date</th>\n",
       "      <th>Humidity</th>\n",
       "      <th>Lat</th>\n",
       "      <th>Lng</th>\n",
       "      <th>Max Temp</th>\n",
       "      <th>Wind Speed</th>\n",
       "    </tr>\n",
       "  </thead>\n",
       "  <tbody>\n",
       "    <tr>\n",
       "      <th>129</th>\n",
       "      <td>129</td>\n",
       "      <td>paita</td>\n",
       "      <td>0</td>\n",
       "      <td>PE</td>\n",
       "      <td>1558378778</td>\n",
       "      <td>290</td>\n",
       "      <td>-5.09</td>\n",
       "      <td>-81.11</td>\n",
       "      <td>62.6</td>\n",
       "      <td>17.22</td>\n",
       "    </tr>\n",
       "  </tbody>\n",
       "</table>\n",
       "</div>"
      ]
     },
     "metadata": {},
     "execution_count": 6
    }
   ],
   "metadata": {}
  },
  {
   "cell_type": "code",
   "execution_count": 7,
   "source": [
    "indexNames = cities_df[ (cities_df['Humidity'] > 100) ].index\r\n",
    "print(indexNames)"
   ],
   "outputs": [
    {
     "output_type": "stream",
     "name": "stdout",
     "text": [
      "Int64Index([129], dtype='int64')\n"
     ]
    }
   ],
   "metadata": {}
  },
  {
   "cell_type": "code",
   "execution_count": 8,
   "source": [
    "# Make a new DataFrame equal to the city data to drop all humidity outliers by index.\r\n",
    "# Passing \"inplace=False\" will make a copy of the city_data DataFrame, which we call \"clean_city_data\".\r\n",
    "clean_city_data = cities_df.drop(indexNames , inplace=False)\r\n",
    "\r\n",
    "clean_city_data"
   ],
   "outputs": [
    {
     "output_type": "execute_result",
     "data": {
      "text/plain": [
       "     City_ID         City  Cloudiness Country        Date  Humidity    Lat  \\\n",
       "0          0    ostrovnoy           2      RU  1558378754        72  68.05   \n",
       "1          1    mahebourg          75      MU  1558378503        74 -20.41   \n",
       "2          2      qaanaaq          25      GL  1558378755        73  77.48   \n",
       "3          3       zhuhai           0      CN  1558378755        39  40.71   \n",
       "4          4    cape town          20      ZA  1558378755        76 -33.93   \n",
       "..       ...          ...         ...     ...         ...       ...    ...   \n",
       "543      543       yabrud           0      SY  1558378840        32  33.97   \n",
       "544      544      paraiso           5      MX  1558378898         4  24.01   \n",
       "545      545      veraval           0      FR  1558378898        62  49.65   \n",
       "546      546  novyy urgal         100      RU  1558378899        93  51.07   \n",
       "547      547      tongren           4      CN  1558378899        64  27.72   \n",
       "\n",
       "        Lng  Max Temp  Wind Speed  \n",
       "0     39.51     37.50        7.16  \n",
       "1     57.70     78.80       11.41  \n",
       "2    -69.36     22.20        2.37  \n",
       "3    112.04     44.60        4.47  \n",
       "4     18.42     55.99        8.05  \n",
       "..      ...       ...         ...  \n",
       "543   36.66     80.60        8.05  \n",
       "544 -104.61     84.20       16.11  \n",
       "545    0.71     61.00        8.05  \n",
       "546  132.56     49.74        2.68  \n",
       "547  109.18     55.86        2.84  \n",
       "\n",
       "[547 rows x 10 columns]"
      ],
      "text/html": [
       "<div>\n",
       "<style scoped>\n",
       "    .dataframe tbody tr th:only-of-type {\n",
       "        vertical-align: middle;\n",
       "    }\n",
       "\n",
       "    .dataframe tbody tr th {\n",
       "        vertical-align: top;\n",
       "    }\n",
       "\n",
       "    .dataframe thead th {\n",
       "        text-align: right;\n",
       "    }\n",
       "</style>\n",
       "<table border=\"1\" class=\"dataframe\">\n",
       "  <thead>\n",
       "    <tr style=\"text-align: right;\">\n",
       "      <th></th>\n",
       "      <th>City_ID</th>\n",
       "      <th>City</th>\n",
       "      <th>Cloudiness</th>\n",
       "      <th>Country</th>\n",
       "      <th>Date</th>\n",
       "      <th>Humidity</th>\n",
       "      <th>Lat</th>\n",
       "      <th>Lng</th>\n",
       "      <th>Max Temp</th>\n",
       "      <th>Wind Speed</th>\n",
       "    </tr>\n",
       "  </thead>\n",
       "  <tbody>\n",
       "    <tr>\n",
       "      <th>0</th>\n",
       "      <td>0</td>\n",
       "      <td>ostrovnoy</td>\n",
       "      <td>2</td>\n",
       "      <td>RU</td>\n",
       "      <td>1558378754</td>\n",
       "      <td>72</td>\n",
       "      <td>68.05</td>\n",
       "      <td>39.51</td>\n",
       "      <td>37.50</td>\n",
       "      <td>7.16</td>\n",
       "    </tr>\n",
       "    <tr>\n",
       "      <th>1</th>\n",
       "      <td>1</td>\n",
       "      <td>mahebourg</td>\n",
       "      <td>75</td>\n",
       "      <td>MU</td>\n",
       "      <td>1558378503</td>\n",
       "      <td>74</td>\n",
       "      <td>-20.41</td>\n",
       "      <td>57.70</td>\n",
       "      <td>78.80</td>\n",
       "      <td>11.41</td>\n",
       "    </tr>\n",
       "    <tr>\n",
       "      <th>2</th>\n",
       "      <td>2</td>\n",
       "      <td>qaanaaq</td>\n",
       "      <td>25</td>\n",
       "      <td>GL</td>\n",
       "      <td>1558378755</td>\n",
       "      <td>73</td>\n",
       "      <td>77.48</td>\n",
       "      <td>-69.36</td>\n",
       "      <td>22.20</td>\n",
       "      <td>2.37</td>\n",
       "    </tr>\n",
       "    <tr>\n",
       "      <th>3</th>\n",
       "      <td>3</td>\n",
       "      <td>zhuhai</td>\n",
       "      <td>0</td>\n",
       "      <td>CN</td>\n",
       "      <td>1558378755</td>\n",
       "      <td>39</td>\n",
       "      <td>40.71</td>\n",
       "      <td>112.04</td>\n",
       "      <td>44.60</td>\n",
       "      <td>4.47</td>\n",
       "    </tr>\n",
       "    <tr>\n",
       "      <th>4</th>\n",
       "      <td>4</td>\n",
       "      <td>cape town</td>\n",
       "      <td>20</td>\n",
       "      <td>ZA</td>\n",
       "      <td>1558378755</td>\n",
       "      <td>76</td>\n",
       "      <td>-33.93</td>\n",
       "      <td>18.42</td>\n",
       "      <td>55.99</td>\n",
       "      <td>8.05</td>\n",
       "    </tr>\n",
       "    <tr>\n",
       "      <th>...</th>\n",
       "      <td>...</td>\n",
       "      <td>...</td>\n",
       "      <td>...</td>\n",
       "      <td>...</td>\n",
       "      <td>...</td>\n",
       "      <td>...</td>\n",
       "      <td>...</td>\n",
       "      <td>...</td>\n",
       "      <td>...</td>\n",
       "      <td>...</td>\n",
       "    </tr>\n",
       "    <tr>\n",
       "      <th>543</th>\n",
       "      <td>543</td>\n",
       "      <td>yabrud</td>\n",
       "      <td>0</td>\n",
       "      <td>SY</td>\n",
       "      <td>1558378840</td>\n",
       "      <td>32</td>\n",
       "      <td>33.97</td>\n",
       "      <td>36.66</td>\n",
       "      <td>80.60</td>\n",
       "      <td>8.05</td>\n",
       "    </tr>\n",
       "    <tr>\n",
       "      <th>544</th>\n",
       "      <td>544</td>\n",
       "      <td>paraiso</td>\n",
       "      <td>5</td>\n",
       "      <td>MX</td>\n",
       "      <td>1558378898</td>\n",
       "      <td>4</td>\n",
       "      <td>24.01</td>\n",
       "      <td>-104.61</td>\n",
       "      <td>84.20</td>\n",
       "      <td>16.11</td>\n",
       "    </tr>\n",
       "    <tr>\n",
       "      <th>545</th>\n",
       "      <td>545</td>\n",
       "      <td>veraval</td>\n",
       "      <td>0</td>\n",
       "      <td>FR</td>\n",
       "      <td>1558378898</td>\n",
       "      <td>62</td>\n",
       "      <td>49.65</td>\n",
       "      <td>0.71</td>\n",
       "      <td>61.00</td>\n",
       "      <td>8.05</td>\n",
       "    </tr>\n",
       "    <tr>\n",
       "      <th>546</th>\n",
       "      <td>546</td>\n",
       "      <td>novyy urgal</td>\n",
       "      <td>100</td>\n",
       "      <td>RU</td>\n",
       "      <td>1558378899</td>\n",
       "      <td>93</td>\n",
       "      <td>51.07</td>\n",
       "      <td>132.56</td>\n",
       "      <td>49.74</td>\n",
       "      <td>2.68</td>\n",
       "    </tr>\n",
       "    <tr>\n",
       "      <th>547</th>\n",
       "      <td>547</td>\n",
       "      <td>tongren</td>\n",
       "      <td>4</td>\n",
       "      <td>CN</td>\n",
       "      <td>1558378899</td>\n",
       "      <td>64</td>\n",
       "      <td>27.72</td>\n",
       "      <td>109.18</td>\n",
       "      <td>55.86</td>\n",
       "      <td>2.84</td>\n",
       "    </tr>\n",
       "  </tbody>\n",
       "</table>\n",
       "<p>547 rows × 10 columns</p>\n",
       "</div>"
      ]
     },
     "metadata": {},
     "execution_count": 8
    }
   ],
   "metadata": {}
  },
  {
   "cell_type": "markdown",
   "source": [
    "## Plotting the Data\r\n",
    "* Use proper labeling of the plots using plot titles (including date of analysis) and axes labels.\r\n",
    "* Save the plotted figures as .pngs."
   ],
   "metadata": {}
  },
  {
   "cell_type": "markdown",
   "source": [
    "## Latitude vs. Temperature Plot"
   ],
   "metadata": {}
  },
  {
   "cell_type": "code",
   "execution_count": 9,
   "source": [
    "plt.scatter(clean_city_data['Lat'], clean_city_data['Max Temp'], marker='o')\r\n",
    "\r\n",
    "# Incorporate the other graph properties\r\n",
    "plt.title(f'Latitude vs. Temperature {time.strftime(\"%m/%d/%Y\")}')\r\n",
    "plt.ylabel('Temperature (F)')\r\n",
    "plt.xlabel('Latitude')\r\n",
    "\r\n",
    "# Save the figure\r\n",
    "plt.savefig('../output_data/Latitude-vs-Temperature.png')\r\n",
    "\r\n",
    "# Show plot\r\n",
    "plt.show()"
   ],
   "outputs": [
    {
     "output_type": "display_data",
     "data": {
      "text/plain": [
       "<Figure size 432x288 with 1 Axes>"
      ],
      "image/png": "[encoded data removed]"
     },
     "metadata": {
      "needs_background": "light"
     }
    }
   ],
   "metadata": {
    "scrolled": true
   }
  },
  {
   "cell_type": "markdown",
   "source": [
    "The Latitude vs Temperature plot show above includes all cities in our dataset and shows us that around the 20-degrees latitude mark is where most cities seem to peak."
   ],
   "metadata": {}
  },
  {
   "cell_type": "markdown",
   "source": [
    "## Latitude vs. Humidity Plot"
   ],
   "metadata": {}
  },
  {
   "cell_type": "code",
   "execution_count": 10,
   "source": [
    "plt.scatter(clean_city_data['Lat'], clean_city_data['Humidity'], marker='o')\r\n",
    "\r\n",
    "# Incorporate the other graph properties\r\n",
    "plt.title(f'Latitude vs. Humidity {time.strftime(\"%m/%d/%Y\")}')\r\n",
    "plt.ylabel('Humidity (%)')\r\n",
    "plt.xlabel('Latitude')\r\n",
    "\r\n",
    "# Save the figure\r\n",
    "plt.savefig('../output_data/Latitude-vs-Humidity.png')\r\n",
    "\r\n",
    "# Show plot\r\n",
    "plt.show()"
   ],
   "outputs": [
    {
     "output_type": "display_data",
     "data": {
      "text/plain": [
       "<Figure size 432x288 with 1 Axes>"
      ],
      "image/png": "[encoded data removed]"
     },
     "metadata": {
      "needs_background": "light"
     }
    }
   ],
   "metadata": {}
  },
  {
   "cell_type": "markdown",
   "source": [
    "The Latitude vs Humidity plot shown above show us all the percentage of humidity that these cities have and it seems that around the 50% mark and above is where most of the data is living, much harder to tell if there is any relationship at all. "
   ],
   "metadata": {}
  },
  {
   "cell_type": "markdown",
   "source": [
    "## Latitude vs. Cloudiness Plot"
   ],
   "metadata": {}
  },
  {
   "cell_type": "code",
   "execution_count": 11,
   "source": [
    "plt.scatter(clean_city_data['Lat'], clean_city_data['Cloudiness'], marker='o')\r\n",
    "\r\n",
    "# Incorporate the other graph properties\r\n",
    "plt.title(f'Latitude vs. Cloudiness {time.strftime(\"%m/%d/%Y\")}')\r\n",
    "plt.ylabel('Cloudiness (%)')\r\n",
    "plt.xlabel('Latitude')\r\n",
    "\r\n",
    "# Save the figure\r\n",
    "plt.savefig('../output_data/Latitude-vs-Cloudiness.png')\r\n",
    "\r\n",
    "# Show plot\r\n",
    "plt.show()"
   ],
   "outputs": [
    {
     "output_type": "display_data",
     "data": {
      "text/plain": [
       "<Figure size 432x288 with 1 Axes>"
      ],
      "image/png": "[encoded data removed]"
     },
     "metadata": {
      "needs_background": "light"
     }
    }
   ],
   "metadata": {}
  },
  {
   "cell_type": "markdown",
   "source": [
    "The Latitude vs Cloudiness plot shown above show us all the percentage of cloudiness that these cities have and it seems that while there doesn't seem to be any strong correlations there does seem to be some noticable clumping around certain values like ~0, ~20, ~40, ~70, and ~100."
   ],
   "metadata": {}
  },
  {
   "cell_type": "markdown",
   "source": [
    "## Latitude vs. Wind Speed Plot"
   ],
   "metadata": {}
  },
  {
   "cell_type": "code",
   "execution_count": 12,
   "source": [
    "plt.scatter(clean_city_data['Lat'], clean_city_data['Wind Speed'], marker='o')\r\n",
    "\r\n",
    "# Incorporate the other graph properties\r\n",
    "plt.title(f'Latitude vs. Wind Speed {time.strftime(\"%m/%d/%Y\")}')\r\n",
    "plt.ylabel('Wind Speed (mph)')\r\n",
    "plt.xlabel('Latitude')\r\n",
    "\r\n",
    "# Save the figure\r\n",
    "plt.savefig('../output_data/Latitude-vs-Wind-Speed.png')\r\n",
    "\r\n",
    "# Show plot\r\n",
    "plt.show()"
   ],
   "outputs": [
    {
     "output_type": "display_data",
     "data": {
      "text/plain": [
       "<Figure size 432x288 with 1 Axes>"
      ],
      "image/png": "[encoded data removed]"
     },
     "metadata": {
      "needs_background": "light"
     }
    }
   ],
   "metadata": {}
  },
  {
   "cell_type": "markdown",
   "source": [
    "The Latitude vs Wind Speed plot shown above show us the speed of the wind in mph that these cities have and it seems that while there doesn't seem to be any strong correlations we can see that most cities experience winds under 30 mph while a few outliers live above that. "
   ],
   "metadata": {}
  },
  {
   "cell_type": "markdown",
   "source": [
    "## Linear Regression"
   ],
   "metadata": {}
  },
  {
   "cell_type": "code",
   "execution_count": 13,
   "source": [
    "# Making a northern hemisphere dataframe\r\n",
    "northern_hemisphere_df = clean_city_data.loc[clean_city_data['Lat'] >= 0]\r\n",
    "\r\n",
    "# Making a southern hemisphere dataframe\r\n",
    "southern_hemisphere_df = clean_city_data.loc[clean_city_data['Lat'] < 0]"
   ],
   "outputs": [],
   "metadata": {}
  },
  {
   "cell_type": "markdown",
   "source": [
    "####  Northern Hemisphere - Max Temp vs. Latitude Linear Regression"
   ],
   "metadata": {}
  },
  {
   "cell_type": "code",
   "execution_count": 14,
   "source": [
    "north_temp = northern_hemisphere_df['Max Temp']\r\n",
    "north_lat = northern_hemisphere_df['Lat']\r\n",
    "\r\n",
    "# linear regression formula and line_eq building\r\n",
    "(slope, intercept, rvalue, pvalue, stderr) = linregress(north_lat, north_temp)\r\n",
    "fit = slope * north_temp + intercept\r\n",
    "\r\n",
    "# plotting the graph \r\n",
    "plt.scatter(north_lat, north_temp)\r\n",
    "plt.plot(north_temp,fit,'r-')\r\n",
    "\r\n",
    "# Incorporate the other graph properties\r\n",
    "plt.title(f'Nothern Latitude vs. Temperature {time.strftime(\"%m/%d/%Y\")}')\r\n",
    "plt.ylabel('Temperature (F)')\r\n",
    "plt.xlabel('Latitude')\r\n",
    "\r\n",
    "# Save the figure\r\n",
    "plt.savefig('../output_data/Latitude-vs-Temperature-Linear-Regression-Northern.png')\r\n",
    "\r\n",
    "# Show plot\r\n",
    "plt.show()\r\n",
    "\r\n",
    "# show line_eq\r\n",
    "line_eq = 'y= ' + str(round(slope,2)) + 'x +' + str(round(intercept,2))\r\n",
    "print(f'The equation of the best fit is the following: {line_eq}')"
   ],
   "outputs": [
    {
     "output_type": "display_data",
     "data": {
      "text/plain": [
       "<Figure size 432x288 with 1 Axes>"
      ],
      "image/png": "[encoded data removed]"
     },
     "metadata": {
      "needs_background": "light"
     }
    },
    {
     "output_type": "stream",
     "name": "stdout",
     "text": [
      "The equation of the best fit is the following: y= -0.82x +95.11\n"
     ]
    }
   ],
   "metadata": {}
  },
  {
   "cell_type": "markdown",
   "source": [
    "\r\n",
    "The chart above shows us the Temperature vs. Latitude plot for cities in the northern hemisphere. The temperature appears show a strong negative linear relationship with latitudes in the northern hemisphere"
   ],
   "metadata": {}
  },
  {
   "cell_type": "markdown",
   "source": [
    "####  Southern Hemisphere - Max Temp vs. Latitude Linear Regression"
   ],
   "metadata": {}
  },
  {
   "cell_type": "code",
   "execution_count": 15,
   "source": [
    "south_temp = southern_hemisphere_df['Max Temp']\r\n",
    "south_lat = southern_hemisphere_df['Lat']\r\n",
    "\r\n",
    "# linear regression formula and line_eq building\r\n",
    "(slope, intercept, rvalue, pvalue, stderr) = linregress(south_lat, south_temp)\r\n",
    "fit = slope * south_temp + intercept\r\n",
    "\r\n",
    "# plotting the graph \r\n",
    "plt.scatter(south_lat, south_temp)\r\n",
    "plt.plot(south_temp,fit,'r-')\r\n",
    "\r\n",
    "# Incorporate the other graph properties\r\n",
    "plt.title(f'Southern Latitude vs. Temperature {time.strftime(\"%m/%d/%Y\")}')\r\n",
    "plt.ylabel('Temperature (F)')\r\n",
    "plt.xlabel('Latitude')\r\n",
    "\r\n",
    "# Save the figure\r\n",
    "plt.savefig('../output_data/Latitude-vs-Temperature-Linear-Regression-Southern.png')\r\n",
    "\r\n",
    "# Show plot\r\n",
    "plt.show()\r\n",
    "\r\n",
    "# show line_eq\r\n",
    "line_eq = 'y= ' + str(round(slope,2)) + 'x +' + str(round(intercept,2))\r\n",
    "print(f'The equation of the best fit is the following: {line_eq}')"
   ],
   "outputs": [
    {
     "output_type": "display_data",
     "data": {
      "text/plain": [
       "<Figure size 432x288 with 1 Axes>"
      ],
      "image/png": "[encoded data removed]"
     },
     "metadata": {
      "needs_background": "light"
     }
    },
    {
     "output_type": "stream",
     "name": "stdout",
     "text": [
      "The equation of the best fit is the following: y= 0.69x +83.07\n"
     ]
    }
   ],
   "metadata": {}
  },
  {
   "cell_type": "markdown",
   "source": [
    "The chart above shows us the Temperature vs. Latitude plot for cities in the southern hemisphere. The temperature appears show a strong positve linear relationship with latitudes in the southern hemisphere"
   ],
   "metadata": {}
  },
  {
   "cell_type": "markdown",
   "source": [
    "####  Northern Hemisphere - Humidity (%) vs. Latitude Linear Regression"
   ],
   "metadata": {}
  },
  {
   "cell_type": "code",
   "execution_count": 16,
   "source": [
    "north_humidity = northern_hemisphere_df['Humidity']\r\n",
    "\r\n",
    "# linear regression formula and line_eq building\r\n",
    "(slope, intercept, rvalue, pvalue, stderr) = linregress(north_lat, north_humidity)\r\n",
    "fit = slope * north_humidity + intercept\r\n",
    "\r\n",
    "# plotting the graph \r\n",
    "plt.scatter(north_lat, north_humidity)\r\n",
    "plt.plot(north_humidity,fit,'r-')\r\n",
    "\r\n",
    "# Incorporate the other graph properties\r\n",
    "plt.title(f'Nothern Latitude vs. Humidity {time.strftime(\"%m/%d/%Y\")}')\r\n",
    "plt.ylabel('Humidity (%)')\r\n",
    "plt.xlabel('Latitude')\r\n",
    "\r\n",
    "# Save the figure\r\n",
    "plt.savefig('../output_data/Latitude-vs-Humidity-Linear-Regression-Northern.png')\r\n",
    "\r\n",
    "# Show plot\r\n",
    "plt.show()\r\n",
    "\r\n",
    "# show line_eq\r\n",
    "line_eq = 'y= ' + str(round(slope,2)) + 'x +' + str(round(intercept,2))\r\n",
    "print(f'The equation of the best fit is the following: {line_eq}')"
   ],
   "outputs": [
    {
     "output_type": "display_data",
     "data": {
      "text/plain": [
       "<Figure size 432x288 with 1 Axes>"
      ],
      "image/png": "[encoded data removed]"
     },
     "metadata": {
      "needs_background": "light"
     }
    },
    {
     "output_type": "stream",
     "name": "stdout",
     "text": [
      "The equation of the best fit is the following: y= 0.11x +60.85\n"
     ]
    }
   ],
   "metadata": {}
  },
  {
   "cell_type": "markdown",
   "source": [
    "The chart above shows us the Latitude vs. Humidity plot for cities in the northern hemisphere. The chart appears show no relationship between humdidty and the latitude in the northern hemisphere"
   ],
   "metadata": {}
  },
  {
   "cell_type": "markdown",
   "source": [
    "####  Southern Hemisphere - Humidity (%) vs. Latitude Linear Regression"
   ],
   "metadata": {}
  },
  {
   "cell_type": "code",
   "execution_count": 17,
   "source": [
    "south_humidity = southern_hemisphere_df['Humidity']\r\n",
    "\r\n",
    "# linear regression formula and line_eq building\r\n",
    "(slope, intercept, rvalue, pvalue, stderr) = linregress(south_lat, south_humidity)\r\n",
    "fit = slope * south_humidity + intercept\r\n",
    "\r\n",
    "# plotting the graph \r\n",
    "plt.scatter(south_lat, south_humidity)\r\n",
    "plt.plot(south_humidity,fit,'r-')\r\n",
    "\r\n",
    "# Incorporate the other graph properties\r\n",
    "plt.title(f'Southern Latitude vs. Humidity {time.strftime(\"%m/%d/%Y\")}')\r\n",
    "plt.ylabel('Humidity (%)')\r\n",
    "plt.xlabel('Latitude')\r\n",
    "\r\n",
    "# Save the figure\r\n",
    "plt.savefig('../output_data/Latitude-vs-Humidity-Linear-Regression-Southern.png')\r\n",
    "\r\n",
    "# Show plot\r\n",
    "plt.show()\r\n",
    "\r\n",
    "# show line_eq\r\n",
    "line_eq = 'y= ' + str(round(slope,2)) + 'x +' + str(round(intercept,2))\r\n",
    "print(f'The equation of the best fit is the following: {line_eq}')"
   ],
   "outputs": [
    {
     "output_type": "display_data",
     "data": {
      "text/plain": [
       "<Figure size 432x288 with 1 Axes>"
      ],
      "image/png": "[encoded data removed]"
     },
     "metadata": {
      "needs_background": "light"
     }
    },
    {
     "output_type": "stream",
     "name": "stdout",
     "text": [
      "The equation of the best fit is the following: y= 0.16x +75.63\n"
     ]
    }
   ],
   "metadata": {}
  },
  {
   "cell_type": "markdown",
   "source": [
    "The chart above shows us the Latitude vs. Humidity plot for cities in the southern hemisphere. The chart appears show a very slight postive relationship between humdidty and the latitude in the southern hemisphere"
   ],
   "metadata": {}
  },
  {
   "cell_type": "markdown",
   "source": [
    "####  Northern Hemisphere - Cloudiness (%) vs. Latitude Linear Regression"
   ],
   "metadata": {}
  },
  {
   "cell_type": "code",
   "execution_count": 18,
   "source": [
    "north_cloudiness = northern_hemisphere_df['Cloudiness']\r\n",
    "\r\n",
    "# linear regression formula and line_eq building\r\n",
    "(slope, intercept, rvalue, pvalue, stderr) = linregress(north_lat, north_cloudiness)\r\n",
    "fit = slope * north_cloudiness + intercept\r\n",
    "\r\n",
    "# plotting the graph \r\n",
    "plt.scatter(north_lat, north_cloudiness)\r\n",
    "plt.plot(north_cloudiness,fit,'r-')\r\n",
    "\r\n",
    "# Incorporate the other graph properties\r\n",
    "plt.title(f'Nothern Latitude vs. Cloudiness {time.strftime(\"%m/%d/%Y\")}')\r\n",
    "plt.ylabel('Cloudiness (%)')\r\n",
    "plt.xlabel('Latitude')\r\n",
    "\r\n",
    "# Save the figure\r\n",
    "plt.savefig('../output_data/Latitude-vs-Cloudiness-Linear-Regression-Northern.png')\r\n",
    "\r\n",
    "# Show plot\r\n",
    "plt.show()\r\n",
    "\r\n",
    "# show line_eq\r\n",
    "line_eq = 'y= ' + str(round(slope,2)) + 'x +' + str(round(intercept,2))\r\n",
    "print(f'The equation of the best fit is the following: {line_eq}')"
   ],
   "outputs": [
    {
     "output_type": "display_data",
     "data": {
      "text/plain": [
       "<Figure size 432x288 with 1 Axes>"
      ],
      "image/png": "[encoded data removed]"
     },
     "metadata": {
      "needs_background": "light"
     }
    },
    {
     "output_type": "stream",
     "name": "stdout",
     "text": [
      "The equation of the best fit is the following: y= -0.15x +55.94\n"
     ]
    }
   ],
   "metadata": {}
  },
  {
   "cell_type": "markdown",
   "source": [
    "The chart above shows us the Latitude vs. Cloudiness plot for cities in the northern hemisphere. The chart appears to show a slight negative relationship between cloudiness and the latitude in the northern hemisphere"
   ],
   "metadata": {}
  },
  {
   "cell_type": "markdown",
   "source": [
    "####  Southern Hemisphere - Cloudiness (%) vs. Latitude Linear Regression"
   ],
   "metadata": {}
  },
  {
   "cell_type": "code",
   "execution_count": 19,
   "source": [
    "south_cloudiness = southern_hemisphere_df['Cloudiness']\r\n",
    "\r\n",
    "# linear regression formula and line_eq building\r\n",
    "(slope, intercept, rvalue, pvalue, stderr) = linregress(south_lat, south_cloudiness)\r\n",
    "fit = slope * south_cloudiness + intercept\r\n",
    "\r\n",
    "# plotting the graph \r\n",
    "plt.scatter(south_lat, south_cloudiness)\r\n",
    "plt.plot(south_cloudiness,fit,'r-')\r\n",
    "\r\n",
    "# Incorporate the other graph properties\r\n",
    "plt.title(f'Southern Latitude vs. Cloudiness {time.strftime(\"%m/%d/%Y\")}')\r\n",
    "plt.ylabel('Cloudiness (%)')\r\n",
    "plt.xlabel('Latitude')\r\n",
    "\r\n",
    "# Save the figure\r\n",
    "plt.savefig('../output_data/Latitude-vs-Cloudiness-Linear-Regression-Southern.png')\r\n",
    "\r\n",
    "# Show plot\r\n",
    "plt.show()\r\n",
    "\r\n",
    "# show line_eq\r\n",
    "line_eq = 'y= ' + str(round(slope,2)) + 'x +' + str(round(intercept,2))\r\n",
    "print(f'The equation of the best fit is the following: {line_eq}')"
   ],
   "outputs": [
    {
     "output_type": "display_data",
     "data": {
      "text/plain": [
       "<Figure size 432x288 with 1 Axes>"
      ],
      "image/png": "[encoded data removed]"
     },
     "metadata": {
      "needs_background": "light"
     }
    },
    {
     "output_type": "stream",
     "name": "stdout",
     "text": [
      "The equation of the best fit is the following: y= 0.61x +61.97\n"
     ]
    }
   ],
   "metadata": {}
  },
  {
   "cell_type": "markdown",
   "source": [
    "The chart above shows us the Latitude vs. Cloudiness plot for cities in the southern hemisphere. The temperature appears to show a strong postive relationship between cloudiness and the latitude in the southern hemisphere"
   ],
   "metadata": {}
  },
  {
   "cell_type": "markdown",
   "source": [
    "####  Northern Hemisphere - Wind Speed (mph) vs. Latitude Linear Regression"
   ],
   "metadata": {}
  },
  {
   "cell_type": "code",
   "execution_count": 20,
   "source": [
    "north_wind = northern_hemisphere_df['Wind Speed']\r\n",
    "\r\n",
    "# linear regression formula and line_eq building\r\n",
    "(slope, intercept, rvalue, pvalue, stderr) = linregress(north_lat, north_wind)\r\n",
    "fit = slope * north_wind + intercept\r\n",
    "\r\n",
    "# plotting the graph \r\n",
    "plt.scatter(north_lat, north_wind)\r\n",
    "plt.plot(north_wind,fit,'r-')\r\n",
    "\r\n",
    "# Incorporate the other graph properties\r\n",
    "plt.title(f'Nothern Latitude  vs. Wind Speed {time.strftime(\"%m/%d/%Y\")}')\r\n",
    "plt.ylabel('Wind Speed (mph)')\r\n",
    "plt.xlabel('Latitude')\r\n",
    "\r\n",
    "# Save the figure\r\n",
    "plt.savefig('../output_data/Latitude-vs-Wind-Speed-Linear-Regression-Northern.png')\r\n",
    "\r\n",
    "# Show plot\r\n",
    "plt.show()\r\n",
    "\r\n",
    "# show line_eq\r\n",
    "line_eq = 'y= ' + str(round(slope,2)) + 'x +' + str(round(intercept,2))\r\n",
    "print(f'The equation of the best fit is the following: {line_eq}')"
   ],
   "outputs": [
    {
     "output_type": "display_data",
     "data": {
      "text/plain": [
       "<Figure size 432x288 with 1 Axes>"
      ],
      "image/png": "[encoded data removed]"
     },
     "metadata": {
      "needs_background": "light"
     }
    },
    {
     "output_type": "stream",
     "name": "stdout",
     "text": [
      "The equation of the best fit is the following: y= 0.03x +7.79\n"
     ]
    }
   ],
   "metadata": {}
  },
  {
   "cell_type": "markdown",
   "source": [
    "The chart above shows us the Latitude vs. Wind Speed plot for cities in the northern hemisphere. The temperature appears to show no relationship between wind speed and the latitude in the nothern hemisphere"
   ],
   "metadata": {}
  },
  {
   "cell_type": "markdown",
   "source": [
    "####  Southern Hemisphere - Wind Speed (mph) vs. Latitude Linear Regression"
   ],
   "metadata": {}
  },
  {
   "cell_type": "code",
   "execution_count": 21,
   "source": [
    "south_wind = southern_hemisphere_df['Wind Speed']\r\n",
    "\r\n",
    "# linear regression formula and line_eq building\r\n",
    "(slope, intercept, rvalue, pvalue, stderr) = linregress(south_lat, south_wind)\r\n",
    "fit = slope * south_wind + intercept\r\n",
    "\r\n",
    "# plotting the graph \r\n",
    "plt.scatter(south_lat, south_wind)\r\n",
    "plt.plot(south_wind,fit,'r-')\r\n",
    "\r\n",
    "# Incorporate the other graph properties\r\n",
    "plt.title(f'Southern Latitude  vs. Wind Speed {time.strftime(\"%m/%d/%Y\")}')\r\n",
    "plt.ylabel('Wind Speed (mph)')\r\n",
    "plt.xlabel('Latitude')\r\n",
    "\r\n",
    "# Save the figure\r\n",
    "plt.savefig('../output_data/Latitude-vs-Wind-Speed-Linear-Regression-Southern.png')\r\n",
    "\r\n",
    "# Show plot\r\n",
    "plt.show()\r\n",
    "\r\n",
    "# show line_eq\r\n",
    "line_eq = 'y= ' + str(round(slope,2)) + 'x +' + str(round(intercept,2))\r\n",
    "print(f'The equation of the best fit is the following: {line_eq}')"
   ],
   "outputs": [
    {
     "output_type": "display_data",
     "data": {
      "text/plain": [
       "<Figure size 432x288 with 1 Axes>"
      ],
      "image/png": "[encoded data removed]"
     },
     "metadata": {
      "needs_background": "light"
     }
    },
    {
     "output_type": "stream",
     "name": "stdout",
     "text": [
      "The equation of the best fit is the following: y= -0.15x +4.71\n"
     ]
    }
   ],
   "metadata": {}
  },
  {
   "cell_type": "markdown",
   "source": [
    "The chart above shows us the Latitude vs. Wind Speed plot for cities in the southern hemisphere. The temperature appears to a slght negative relationship between wind speed and the latitude in the southern hemisphere"
   ],
   "metadata": {}
  }
 ],
 "metadata": {
  "anaconda-cloud": {},
  "kernel_info": {
   "name": "python3"
  },
  "kernelspec": {
   "name": "python3",
   "display_name": "Python 3.6.10 64-bit ('PythonData': conda)"
  },
  "language_info": {
   "codemirror_mode": {
    "name": "ipython",
    "version": 3
   },
   "file_extension": ".py",
   "mimetype": "text/x-python",
   "name": "python",
   "nbconvert_exporter": "python",
   "pygments_lexer": "ipython3",
   "version": "3.6.10"
  },
  "latex_envs": {
   "LaTeX_envs_menu_present": true,
   "autoclose": false,
   "autocomplete": true,
   "bibliofile": "biblio.bib",
   "cite_by": "apalike",
   "current_citInitial": 1,
   "eqLabelWithNumbers": true,
   "eqNumInitial": 1,
   "hotkeys": {
    "equation": "Ctrl-E",
    "itemize": "Ctrl-I"
   },
   "labels_anchors": false,
   "latex_user_defs": false,
   "report_style_numbering": false,
   "user_envs_cfg": false
  },
  "nteract": {
   "version": "0.12.3"
  },
  "interpreter": {
   "hash": "6f1c02d1c161c5d027715177dca30aa2b11c766fe1b39fbb30619813eef2dd31"
  }
 },
 "nbformat": 4,
 "nbformat_minor": 2
}