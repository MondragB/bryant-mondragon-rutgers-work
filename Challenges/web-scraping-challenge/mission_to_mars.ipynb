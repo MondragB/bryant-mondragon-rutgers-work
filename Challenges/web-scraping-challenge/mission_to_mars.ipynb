{
 "cells": [
  {
   "cell_type": "code",
   "execution_count": 21,
   "source": [
    "# Dependencies and Setup\r\n",
    "from bs4 import BeautifulSoup\r\n",
    "from splinter import Browser\r\n",
    "import pandas as pd\r\n",
    "from webdriver_manager.chrome import ChromeDriverManager"
   ],
   "outputs": [],
   "metadata": {}
  },
  {
   "cell_type": "code",
   "execution_count": 22,
   "source": [
    "# Set Executable Path & Initialize Chrome Browser\r\n",
    "executable_path = {'executable_path': ChromeDriverManager().install()}\r\n",
    "browser = Browser('chrome', **executable_path, headless=False)"
   ],
   "outputs": [
    {
     "output_type": "stream",
     "name": "stderr",
     "text": [
      "\n",
      "\n",
      "====== WebDriver manager ======\n",
      "Current google-chrome version is 93.0.4577\n",
      "Get LATEST driver version for 93.0.4577\n",
      "Driver [C:\\Users\\bryan\\.wdm\\drivers\\chromedriver\\win32\\93.0.4577.15\\chromedriver.exe] found in cache\n"
     ]
    }
   ],
   "metadata": {}
  },
  {
   "cell_type": "markdown",
   "source": [
    "# NASA Mars News\r\n"
   ],
   "metadata": {}
  },
  {
   "cell_type": "code",
   "execution_count": 23,
   "source": [
    "# Visit the NASA Mars News Site\r\n",
    "mars_url = 'https://redplanetscience.com/'\r\n",
    "browser.visit(mars_url)"
   ],
   "outputs": [],
   "metadata": {}
  },
  {
   "cell_type": "code",
   "execution_count": 24,
   "source": [
    "# Parse Results HTML with BeautifulSoup\r\n",
    "html = browser.html\r\n",
    "soup = BeautifulSoup(html, 'html.parser')\r\n",
    "row_element = soup.select_one('div', class_='row')"
   ],
   "outputs": [],
   "metadata": {}
  },
  {
   "cell_type": "code",
   "execution_count": 25,
   "source": [
    "# Scrape the title and paragraph text\r\n",
    "news_title = row_element.find('div', class_='content_title').get_text()\r\n",
    "news_p = row_element.find('div', class_='article_teaser_body').get_text()\r\n"
   ],
   "outputs": [],
   "metadata": {}
  },
  {
   "cell_type": "markdown",
   "source": [
    "# JPL Mars Space Images\r\n"
   ],
   "metadata": {}
  },
  {
   "cell_type": "code",
   "execution_count": 26,
   "source": [
    "# Visit the JPL Mars Space Images Site\r\n",
    "space_image_url = 'https://spaceimages-mars.com/'\r\n",
    "browser.visit(space_image_url)"
   ],
   "outputs": [],
   "metadata": {}
  },
  {
   "cell_type": "code",
   "execution_count": 27,
   "source": [
    "# Parse Results HTML with BeautifulSoup\r\n",
    "html = browser.html\r\n",
    "soup = BeautifulSoup(html, 'html.parser')\r\n",
    "header_element = soup.select_one('div', class_='header')"
   ],
   "outputs": [],
   "metadata": {}
  },
  {
   "cell_type": "code",
   "execution_count": 28,
   "source": [
    "# Scrape the src for the featured image\r\n",
    "featured_image_url = header_element.find('img', class_='headerimage fade-in').get('src')"
   ],
   "outputs": [],
   "metadata": {}
  },
  {
   "cell_type": "markdown",
   "source": [
    "# Mars Facts\r\n"
   ],
   "metadata": {}
  },
  {
   "cell_type": "code",
   "execution_count": 33,
   "source": [
    "# Use pandas to \"scrape\" the table into a datafram\r\n",
    "# NOTE: \"[x]\" will grab the different tables on the page\r\n",
    "mars_facts_df = pd.read_html('https://galaxyfacts-mars.com/')[0]\r\n",
    "mars_facts_df.columns=['Description','Mars','Earth']\r\n",
    "mars_facts_df.set_index('Description',inplace=True)\r\n",
    "mars_facts_df"
   ],
   "outputs": [
    {
     "output_type": "execute_result",
     "data": {
      "text/html": [
       "<div>\n",
       "<style scoped>\n",
       "    .dataframe tbody tr th:only-of-type {\n",
       "        vertical-align: middle;\n",
       "    }\n",
       "\n",
       "    .dataframe tbody tr th {\n",
       "        vertical-align: top;\n",
       "    }\n",
       "\n",
       "    .dataframe thead th {\n",
       "        text-align: right;\n",
       "    }\n",
       "</style>\n",
       "<table border=\"1\" class=\"dataframe\">\n",
       "  <thead>\n",
       "    <tr style=\"text-align: right;\">\n",
       "      <th></th>\n",
       "      <th>Mars</th>\n",
       "      <th>Earth</th>\n",
       "    </tr>\n",
       "    <tr>\n",
       "      <th>Description</th>\n",
       "      <th></th>\n",
       "      <th></th>\n",
       "    </tr>\n",
       "  </thead>\n",
       "  <tbody>\n",
       "    <tr>\n",
       "      <th>Mars - Earth Comparison</th>\n",
       "      <td>Mars</td>\n",
       "      <td>Earth</td>\n",
       "    </tr>\n",
       "    <tr>\n",
       "      <th>Diameter:</th>\n",
       "      <td>6,779 km</td>\n",
       "      <td>12,742 km</td>\n",
       "    </tr>\n",
       "    <tr>\n",
       "      <th>Mass:</th>\n",
       "      <td>6.39 × 10^23 kg</td>\n",
       "      <td>5.97 × 10^24 kg</td>\n",
       "    </tr>\n",
       "    <tr>\n",
       "      <th>Moons:</th>\n",
       "      <td>2</td>\n",
       "      <td>1</td>\n",
       "    </tr>\n",
       "    <tr>\n",
       "      <th>Distance from Sun:</th>\n",
       "      <td>227,943,824 km</td>\n",
       "      <td>149,598,262 km</td>\n",
       "    </tr>\n",
       "    <tr>\n",
       "      <th>Length of Year:</th>\n",
       "      <td>687 Earth days</td>\n",
       "      <td>365.24 days</td>\n",
       "    </tr>\n",
       "    <tr>\n",
       "      <th>Temperature:</th>\n",
       "      <td>-87 to -5 °C</td>\n",
       "      <td>-88 to 58°C</td>\n",
       "    </tr>\n",
       "  </tbody>\n",
       "</table>\n",
       "</div>"
      ],
      "text/plain": [
       "                                    Mars            Earth\n",
       "Description                                              \n",
       "Mars - Earth Comparison             Mars            Earth\n",
       "Diameter:                       6,779 km        12,742 km\n",
       "Mass:                    6.39 × 10^23 kg  5.97 × 10^24 kg\n",
       "Moons:                                 2                1\n",
       "Distance from Sun:        227,943,824 km   149,598,262 km\n",
       "Length of Year:           687 Earth days      365.24 days\n",
       "Temperature:                -87 to -5 °C      -88 to 58°C"
      ]
     },
     "metadata": {},
     "execution_count": 33
    }
   ],
   "metadata": {}
  },
  {
   "cell_type": "markdown",
   "source": [
    "# Mars Hemispheres\r\n"
   ],
   "metadata": {}
  },
  {
   "cell_type": "code",
   "execution_count": null,
   "source": [
    "# Visit the JPL Mars Space Images Site\r\n",
    "mars_hemisphere_url = 'https://marshemispheres.com/'\r\n",
    "browser.visit(mars_hemisphere_url)"
   ],
   "outputs": [],
   "metadata": {}
  },
  {
   "cell_type": "code",
   "execution_count": null,
   "source": [
    "hemisphere_image_urls = []\r\n",
    "\r\n",
    "# Get a List of All the Hemispheres to use for the counter\r\n",
    "hemipshere_links = browser.find_by_css('span.count').first.text[0]\r\n",
    "\r\n",
    "for item in range(int(hemipshere_links)):\r\n",
    "    hemisphere = {}\r\n",
    "    \r\n",
    "    # Click the link to open the separate page for information\r\n",
    "    browser.find_by_css('a.itemLink.product-item h3')[item].click()\r\n",
    "    \r\n",
    "    # Get hemisphere title\r\n",
    "    hemisphere['title'] = browser.find_by_css('h2.title').text\r\n",
    "\r\n",
    "    # Find sample amage anchor tag & extract\r\n",
    "    sample_picture = browser.links.find_by_text('Sample').first\r\n",
    "    hemisphere['img_url'] = sample_picture['href']\r\n",
    "    \r\n",
    "    # Append hemisphere object to list\r\n",
    "    hemisphere_image_urls.append(hemisphere)\r\n",
    "    \r\n",
    "    # Go back to able to select next in list\r\n",
    "    browser.back()"
   ],
   "outputs": [],
   "metadata": {}
  },
  {
   "cell_type": "code",
   "execution_count": null,
   "source": [
    "# Print out the list of dictionaries\r\n",
    "hemisphere_image_urls"
   ],
   "outputs": [],
   "metadata": {}
  }
 ],
 "metadata": {
  "orig_nbformat": 4,
  "language_info": {
   "name": "python",
   "version": "3.6.10",
   "mimetype": "text/x-python",
   "codemirror_mode": {
    "name": "ipython",
    "version": 3
   },
   "pygments_lexer": "ipython3",
   "nbconvert_exporter": "python",
   "file_extension": ".py"
  },
  "kernelspec": {
   "name": "python3",
   "display_name": "Python 3.6.10 64-bit ('PythonData': conda)"
  },
  "interpreter": {
   "hash": "6f1c02d1c161c5d027715177dca30aa2b11c766fe1b39fbb30619813eef2dd31"
  }
 },
 "nbformat": 4,
 "nbformat_minor": 2
}