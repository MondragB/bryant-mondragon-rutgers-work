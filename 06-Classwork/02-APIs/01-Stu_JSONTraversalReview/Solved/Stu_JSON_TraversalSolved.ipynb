{
 "cells": [
  {
   "cell_type": "code",
   "execution_count": 27,
   "metadata": {
    "collapsed": true
   },
   "outputs": [],
   "source": [
    "# Dependencies\n",
    "import json\n",
    "import os\n",
    "\n",
    "# Load JSON\n",
    "filepath = os.path.join(\"..\", \"Resources\", \"youtube_response.json\")\n",
    "with open(filepath) as jsonfile:\n",
    "    json_data = json.load(jsonfile)\n",
    "\n",
    "    # print(json.dumps(json_data, indent=4, sort_keys=True))"
   ]
  },
  {
   "cell_type": "code",
   "execution_count": 39,
   "metadata": {},
   "outputs": [
    {
     "output_type": "stream",
     "name": "stdout",
     "text": [
      "The title is: Google Developers Day US - Maps API Introduction.\nRating: 4.63.\nLink to the thumbnail: http://i.ytimg.com/vi/hYB0mn5zh2c/default.jpg.\nView count is: 220101.\n"
     ]
    }
   ],
   "source": [
    "video_title = json_data['data']['items'][0]['title']\n",
    "print(f'The title is: {video_title}.')\n",
    "\n",
    "video_rating = json_data['data']['items'][0]['rating']\n",
    "print(f'Rating: {video_rating}.')\n",
    "\n",
    "video_thumbnail = json_data['data']['items'][0]['thumbnail']['default']\n",
    "print(f'Link to the thumbnail: {video_thumbnail}.')\n",
    "\n",
    "view_count = json_data['data']['items'][0]['viewCount']\n",
    "print(f'View count is: {view_count}.')\n"
   ]
  },
  {
   "cell_type": "code",
   "execution_count": null,
   "metadata": {},
   "outputs": [],
   "source": []
  }
 ],
 "metadata": {
  "kernelspec": {
   "name": "python3",
   "display_name": "Python 3.6.10 64-bit ('PythonData': conda)"
  },
  "language_info": {
   "codemirror_mode": {
    "name": "ipython",
    "version": 3
   },
   "file_extension": ".py",
   "mimetype": "text/x-python",
   "name": "python",
   "nbconvert_exporter": "python",
   "pygments_lexer": "ipython3",
   "version": "3.6.10"
  },
  "interpreter": {
   "hash": "6f1c02d1c161c5d027715177dca30aa2b11c766fe1b39fbb30619813eef2dd31"
  }
 },
 "nbformat": 4,
 "nbformat_minor": 2
}