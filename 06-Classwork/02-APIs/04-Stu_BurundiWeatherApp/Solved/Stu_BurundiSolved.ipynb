{
 "cells": [
  {
   "cell_type": "code",
   "execution_count": 53,
   "metadata": {
    "collapsed": true
   },
   "outputs": [],
   "source": [
    "# Dependencies\n",
    "import requests\n",
    "import json\n",
    "from config import api_key"
   ]
  },
  {
   "cell_type": "code",
   "execution_count": 54,
   "metadata": {
    "collapsed": true
   },
   "outputs": [],
   "source": [
    "# Build query URL and request your results in Celsius\n",
    "url = 'https://api.openweathermap.org/data/2.5/weather?'\n",
    "city = 'Bujumbura'\n",
    "units = 'metric'\n",
    "\n",
    "# Get weather data\n",
    "query_url = url + 'q=' + city + '&appid=' + api_key + '&units=' +units"
   ]
  },
  {
   "cell_type": "code",
   "execution_count": 59,
   "metadata": {
    "collapsed": true
   },
   "outputs": [
    {
     "output_type": "stream",
     "name": "stdout",
     "text": [
      "{\n    \"coord\": {\n        \"lon\": 29.3644,\n        \"lat\": -3.3822\n    },\n    \"weather\": [\n        {\n            \"id\": 803,\n            \"main\": \"Clouds\",\n            \"description\": \"broken clouds\",\n            \"icon\": \"04n\"\n        }\n    ],\n    \"base\": \"stations\",\n    \"main\": {\n        \"temp\": 22.15,\n        \"feels_like\": 21.99,\n        \"temp_min\": 22.15,\n        \"temp_max\": 22.15,\n        \"pressure\": 1014,\n        \"humidity\": 60,\n        \"sea_level\": 1014,\n        \"grnd_level\": 925\n    },\n    \"visibility\": 10000,\n    \"wind\": {\n        \"speed\": 0.81,\n        \"deg\": 52,\n        \"gust\": 1.57\n    },\n    \"clouds\": {\n        \"all\": 84\n    },\n    \"dt\": 1625614564,\n    \"sys\": {\n        \"country\": \"BI\",\n        \"sunrise\": 1625630957,\n        \"sunset\": 1625673914\n    },\n    \"timezone\": 7200,\n    \"id\": 425378,\n    \"name\": \"Bujumbura\",\n    \"cod\": 200\n}\nThe temperature in Bujumbura is 22.15 C.\n"
     ]
    }
   ],
   "source": [
    "# Get temperature from JSON response\n",
    "weather_response = requests.get(query_url).json()\n",
    "print(json.dumps(weather_response, indent=4))\n",
    "weather_celsius = weather_response['main']['temp']\n",
    "print(f'The temperature in Bujumbura is {weather_celsius} C.')"
   ]
  },
  {
   "cell_type": "code",
   "execution_count": 56,
   "metadata": {},
   "outputs": [],
   "source": [
    "# Report temperature"
   ]
  }
 ],
 "metadata": {
  "kernelspec": {
   "name": "python3",
   "display_name": "Python 3.6.10 64-bit ('PythonData': conda)"
  },
  "language_info": {
   "codemirror_mode": {
    "name": "ipython",
    "version": 3
   },
   "file_extension": ".py",
   "mimetype": "text/x-python",
   "name": "python",
   "nbconvert_exporter": "python",
   "pygments_lexer": "ipython3",
   "version": "3.6.10"
  },
  "varInspector": {
   "cols": {
    "lenName": 16,
    "lenType": 16,
    "lenVar": 40
   },
   "kernels_config": {
    "python": {
     "delete_cmd_postfix": "",
     "delete_cmd_prefix": "del ",
     "library": "var_list.py",
     "varRefreshCmd": "print(var_dic_list())"
    },
    "r": {
     "delete_cmd_postfix": ") ",
     "delete_cmd_prefix": "rm(",
     "library": "var_list.r",
     "varRefreshCmd": "cat(var_dic_list()) "
    }
   },
   "types_to_exclude": [
    "module",
    "function",
    "builtin_function_or_method",
    "instance",
    "_Feature"
   ],
   "window_display": false
  },
  "interpreter": {
   "hash": "6f1c02d1c161c5d027715177dca30aa2b11c766fe1b39fbb30619813eef2dd31"
  }
 },
 "nbformat": 4,
 "nbformat_minor": 2
}