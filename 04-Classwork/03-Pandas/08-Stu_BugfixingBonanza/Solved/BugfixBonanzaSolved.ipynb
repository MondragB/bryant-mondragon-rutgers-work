{
 "cells": [
  {
   "cell_type": "code",
   "execution_count": 179,
   "metadata": {},
   "outputs": [
    {
     "output_type": "execute_result",
     "data": {
      "text/plain": [
       "      Bug\\nID   Product Component       Assignee    Status Resolution  \\\n",
       "0        3638       JDT        UI        aeschli  VERIFIED      FIXED   \n",
       "1        3854       JDT        UI        aeschli  VERIFIED      FIXED   \n",
       "2        4188       JDT        UI        aeschli  VERIFIED      FIXED   \n",
       "3        5115       JDT     Debug        aeschli  VERIFIED      FIXED   \n",
       "4        5820       JDT        UI        aeschli  VERIFIED      FIXED   \n",
       "...       ...       ...       ...            ...       ...        ...   \n",
       "9995    70864  Platform     Debug  darin.eclipse  VERIFIED      FIXED   \n",
       "9996    70955       JDT     Debug  darin.eclipse  VERIFIED      FIXED   \n",
       "9997    71149  Platform     Debug  darin.eclipse  VERIFIED      FIXED   \n",
       "9998    71292  Platform     Debug  darin.eclipse  VERIFIED      FIXED   \n",
       "9999    71296  Platform       Ant  darin.eclipse  VERIFIED      FIXED   \n",
       "\n",
       "                                                Summary           Changed  \\\n",
       "0     Package Viewer: order resource folders before ...    1/17/2002 7:28   \n",
       "1                Wrong execution's classpath. (1GEY0W0)    1/18/2002 4:02   \n",
       "2                        type hierachy - typo (1GJW2XJ)    1/28/2002 3:12   \n",
       "3     Workspace source locator fails with mulitple p...  11/13/2001 10:11   \n",
       "4       Close all editors brings up hierarchy of object  11/20/2001 16:22   \n",
       "...                                                 ...               ...   \n",
       "9995     API method to show the console view has a bug.   8/20/2004 14:42   \n",
       "9996   Empty string as a program argument not accepted.  10/29/2004 10:27   \n",
       "9997  [artwork] When breakpoints are disabled (skipp...   1/14/2005 17:06   \n",
       "9998               Launch name is truncated in MRU list   8/20/2004 15:00   \n",
       "9999     Ant editor performance tests: opening / typing   10/15/2004 9:30   \n",
       "\n",
       "     Assignee\\nReal\\nName Classification  ... Number of\\nComments  \\\n",
       "0      Martin Aeschlimann        Eclipse  ...                   3   \n",
       "1      Martin Aeschlimann        Eclipse  ...                   5   \n",
       "2      Martin Aeschlimann        Eclipse  ...                   3   \n",
       "3      Martin Aeschlimann        Eclipse  ...                  10   \n",
       "4      Martin Aeschlimann        Eclipse  ...                   5   \n",
       "...                   ...            ...  ...                 ...   \n",
       "9995         Darin Wright        Eclipse  ...                   4   \n",
       "9996         Darin Wright        Eclipse  ...                  10   \n",
       "9997         Darin Wright        Eclipse  ...                  17   \n",
       "9998         Darin Wright        Eclipse  ...                   7   \n",
       "9999         Darin Wright        Eclipse  ...                   5   \n",
       "\n",
       "                Opened            OS Priority       Reporter  \\\n",
       "0     10/10/2001 22:58    Windows NT       P1        aeschli   \n",
       "1     10/10/2001 23:01    Windows NT       P1    david_audel   \n",
       "2     10/10/2001 23:07  Windows 2000       P1    erich_gamma   \n",
       "3     10/19/2001 13:41  Windows 2000       P1  darin.eclipse   \n",
       "4     11/12/2001 18:18  Windows 2000       P1   jed.anderson   \n",
       "...                ...           ...      ...            ...   \n",
       "9995   7/26/2004 18:11    Windows XP       P3       bagrodia   \n",
       "9996    7/28/2004 3:29    Windows NT       P3     paul.smith   \n",
       "9997    7/30/2004 7:59    Windows XP       P3       acuretra   \n",
       "9998    8/3/2004 11:11    Windows XP       P3    dj.houghton   \n",
       "9999    8/3/2004 11:41    Windows XP       P3  Darin_Swanson   \n",
       "\n",
       "         Reporter\\nReal\\nName     Severity Target\\nMilestone Version Votes  \n",
       "0          Martin Aeschlimann        major               ---       2     0  \n",
       "1                 David Audel       normal               ---       2     0  \n",
       "2                 Erich Gamma       normal               ---       2     0  \n",
       "3                Darin Wright       normal               ---       2     0  \n",
       "4                Jed Anderson       normal               ---       2     0  \n",
       "...                       ...          ...               ...     ...   ...  \n",
       "9995         Saurabh Bagrodia        minor               3.1       3     0  \n",
       "9996               Paul Smith        minor            3.1 M3       3     0  \n",
       "9997  Thorbjørn Ravn Andersen  enhancement            3.1 M5       3     0  \n",
       "9998              DJ Houghton       normal            3.1 M2       3     0  \n",
       "9999            Darin Swanson       normal            3.1 M2       3     0  \n",
       "\n",
       "[10000 rows x 21 columns]"
      ],
      "text/html": "<div>\n<style scoped>\n    .dataframe tbody tr th:only-of-type {\n        vertical-align: middle;\n    }\n\n    .dataframe tbody tr th {\n        vertical-align: top;\n    }\n\n    .dataframe thead th {\n        text-align: right;\n    }\n</style>\n<table border=\"1\" class=\"dataframe\">\n  <thead>\n    <tr style=\"text-align: right;\">\n      <th></th>\n      <th>Bug\\nID</th>\n      <th>Product</th>\n      <th>Component</th>\n      <th>Assignee</th>\n      <th>Status</th>\n      <th>Resolution</th>\n      <th>Summary</th>\n      <th>Changed</th>\n      <th>Assignee\\nReal\\nName</th>\n      <th>Classification</th>\n      <th>...</th>\n      <th>Number of\\nComments</th>\n      <th>Opened</th>\n      <th>OS</th>\n      <th>Priority</th>\n      <th>Reporter</th>\n      <th>Reporter\\nReal\\nName</th>\n      <th>Severity</th>\n      <th>Target\\nMilestone</th>\n      <th>Version</th>\n      <th>Votes</th>\n    </tr>\n  </thead>\n  <tbody>\n    <tr>\n      <th>0</th>\n      <td>3638</td>\n      <td>JDT</td>\n      <td>UI</td>\n      <td>aeschli</td>\n      <td>VERIFIED</td>\n      <td>FIXED</td>\n      <td>Package Viewer: order resource folders before ...</td>\n      <td>1/17/2002 7:28</td>\n      <td>Martin Aeschlimann</td>\n      <td>Eclipse</td>\n      <td>...</td>\n      <td>3</td>\n      <td>10/10/2001 22:58</td>\n      <td>Windows NT</td>\n      <td>P1</td>\n      <td>aeschli</td>\n      <td>Martin Aeschlimann</td>\n      <td>major</td>\n      <td>---</td>\n      <td>2</td>\n      <td>0</td>\n    </tr>\n    <tr>\n      <th>1</th>\n      <td>3854</td>\n      <td>JDT</td>\n      <td>UI</td>\n      <td>aeschli</td>\n      <td>VERIFIED</td>\n      <td>FIXED</td>\n      <td>Wrong execution's classpath. (1GEY0W0)</td>\n      <td>1/18/2002 4:02</td>\n      <td>Martin Aeschlimann</td>\n      <td>Eclipse</td>\n      <td>...</td>\n      <td>5</td>\n      <td>10/10/2001 23:01</td>\n      <td>Windows NT</td>\n      <td>P1</td>\n      <td>david_audel</td>\n      <td>David Audel</td>\n      <td>normal</td>\n      <td>---</td>\n      <td>2</td>\n      <td>0</td>\n    </tr>\n    <tr>\n      <th>2</th>\n      <td>4188</td>\n      <td>JDT</td>\n      <td>UI</td>\n      <td>aeschli</td>\n      <td>VERIFIED</td>\n      <td>FIXED</td>\n      <td>type hierachy - typo (1GJW2XJ)</td>\n      <td>1/28/2002 3:12</td>\n      <td>Martin Aeschlimann</td>\n      <td>Eclipse</td>\n      <td>...</td>\n      <td>3</td>\n      <td>10/10/2001 23:07</td>\n      <td>Windows 2000</td>\n      <td>P1</td>\n      <td>erich_gamma</td>\n      <td>Erich Gamma</td>\n      <td>normal</td>\n      <td>---</td>\n      <td>2</td>\n      <td>0</td>\n    </tr>\n    <tr>\n      <th>3</th>\n      <td>5115</td>\n      <td>JDT</td>\n      <td>Debug</td>\n      <td>aeschli</td>\n      <td>VERIFIED</td>\n      <td>FIXED</td>\n      <td>Workspace source locator fails with mulitple p...</td>\n      <td>11/13/2001 10:11</td>\n      <td>Martin Aeschlimann</td>\n      <td>Eclipse</td>\n      <td>...</td>\n      <td>10</td>\n      <td>10/19/2001 13:41</td>\n      <td>Windows 2000</td>\n      <td>P1</td>\n      <td>darin.eclipse</td>\n      <td>Darin Wright</td>\n      <td>normal</td>\n      <td>---</td>\n      <td>2</td>\n      <td>0</td>\n    </tr>\n    <tr>\n      <th>4</th>\n      <td>5820</td>\n      <td>JDT</td>\n      <td>UI</td>\n      <td>aeschli</td>\n      <td>VERIFIED</td>\n      <td>FIXED</td>\n      <td>Close all editors brings up hierarchy of object</td>\n      <td>11/20/2001 16:22</td>\n      <td>Martin Aeschlimann</td>\n      <td>Eclipse</td>\n      <td>...</td>\n      <td>5</td>\n      <td>11/12/2001 18:18</td>\n      <td>Windows 2000</td>\n      <td>P1</td>\n      <td>jed.anderson</td>\n      <td>Jed Anderson</td>\n      <td>normal</td>\n      <td>---</td>\n      <td>2</td>\n      <td>0</td>\n    </tr>\n    <tr>\n      <th>...</th>\n      <td>...</td>\n      <td>...</td>\n      <td>...</td>\n      <td>...</td>\n      <td>...</td>\n      <td>...</td>\n      <td>...</td>\n      <td>...</td>\n      <td>...</td>\n      <td>...</td>\n      <td>...</td>\n      <td>...</td>\n      <td>...</td>\n      <td>...</td>\n      <td>...</td>\n      <td>...</td>\n      <td>...</td>\n      <td>...</td>\n      <td>...</td>\n      <td>...</td>\n      <td>...</td>\n    </tr>\n    <tr>\n      <th>9995</th>\n      <td>70864</td>\n      <td>Platform</td>\n      <td>Debug</td>\n      <td>darin.eclipse</td>\n      <td>VERIFIED</td>\n      <td>FIXED</td>\n      <td>API method to show the console view has a bug.</td>\n      <td>8/20/2004 14:42</td>\n      <td>Darin Wright</td>\n      <td>Eclipse</td>\n      <td>...</td>\n      <td>4</td>\n      <td>7/26/2004 18:11</td>\n      <td>Windows XP</td>\n      <td>P3</td>\n      <td>bagrodia</td>\n      <td>Saurabh Bagrodia</td>\n      <td>minor</td>\n      <td>3.1</td>\n      <td>3</td>\n      <td>0</td>\n    </tr>\n    <tr>\n      <th>9996</th>\n      <td>70955</td>\n      <td>JDT</td>\n      <td>Debug</td>\n      <td>darin.eclipse</td>\n      <td>VERIFIED</td>\n      <td>FIXED</td>\n      <td>Empty string as a program argument not accepted.</td>\n      <td>10/29/2004 10:27</td>\n      <td>Darin Wright</td>\n      <td>Eclipse</td>\n      <td>...</td>\n      <td>10</td>\n      <td>7/28/2004 3:29</td>\n      <td>Windows NT</td>\n      <td>P3</td>\n      <td>paul.smith</td>\n      <td>Paul Smith</td>\n      <td>minor</td>\n      <td>3.1 M3</td>\n      <td>3</td>\n      <td>0</td>\n    </tr>\n    <tr>\n      <th>9997</th>\n      <td>71149</td>\n      <td>Platform</td>\n      <td>Debug</td>\n      <td>darin.eclipse</td>\n      <td>VERIFIED</td>\n      <td>FIXED</td>\n      <td>[artwork] When breakpoints are disabled (skipp...</td>\n      <td>1/14/2005 17:06</td>\n      <td>Darin Wright</td>\n      <td>Eclipse</td>\n      <td>...</td>\n      <td>17</td>\n      <td>7/30/2004 7:59</td>\n      <td>Windows XP</td>\n      <td>P3</td>\n      <td>acuretra</td>\n      <td>Thorbjørn Ravn Andersen</td>\n      <td>enhancement</td>\n      <td>3.1 M5</td>\n      <td>3</td>\n      <td>0</td>\n    </tr>\n    <tr>\n      <th>9998</th>\n      <td>71292</td>\n      <td>Platform</td>\n      <td>Debug</td>\n      <td>darin.eclipse</td>\n      <td>VERIFIED</td>\n      <td>FIXED</td>\n      <td>Launch name is truncated in MRU list</td>\n      <td>8/20/2004 15:00</td>\n      <td>Darin Wright</td>\n      <td>Eclipse</td>\n      <td>...</td>\n      <td>7</td>\n      <td>8/3/2004 11:11</td>\n      <td>Windows XP</td>\n      <td>P3</td>\n      <td>dj.houghton</td>\n      <td>DJ Houghton</td>\n      <td>normal</td>\n      <td>3.1 M2</td>\n      <td>3</td>\n      <td>0</td>\n    </tr>\n    <tr>\n      <th>9999</th>\n      <td>71296</td>\n      <td>Platform</td>\n      <td>Ant</td>\n      <td>darin.eclipse</td>\n      <td>VERIFIED</td>\n      <td>FIXED</td>\n      <td>Ant editor performance tests: opening / typing</td>\n      <td>10/15/2004 9:30</td>\n      <td>Darin Wright</td>\n      <td>Eclipse</td>\n      <td>...</td>\n      <td>5</td>\n      <td>8/3/2004 11:41</td>\n      <td>Windows XP</td>\n      <td>P3</td>\n      <td>Darin_Swanson</td>\n      <td>Darin Swanson</td>\n      <td>normal</td>\n      <td>3.1 M2</td>\n      <td>3</td>\n      <td>0</td>\n    </tr>\n  </tbody>\n</table>\n<p>10000 rows × 21 columns</p>\n</div>"
     },
     "metadata": {},
     "execution_count": 179
    }
   ],
   "source": [
    "# Create a reference to the CSV and import it into a Pandas DataFrame\n",
    "import pandas as pd\n",
    "csv_path = \"../Unsolved/Resources/EclipseBugs.csv\"\n",
    "eclipse_df = pd.read_csv(csv_path)\n",
    "eclipse_df"
   ]
  },
  {
   "cell_type": "code",
   "execution_count": 180,
   "metadata": {},
   "outputs": [
    {
     "output_type": "execute_result",
     "data": {
      "text/plain": [
       "8.75"
      ]
     },
     "metadata": {},
     "execution_count": 180
    }
   ],
   "source": [
    "# Finding the average number of comments per bug\n",
    "average_comments = eclipse_df[\"Number of\\nComments\"].mean()\n",
    "average_comments"
   ]
  },
  {
   "cell_type": "code",
   "execution_count": 181,
   "metadata": {},
   "outputs": [
    {
     "output_type": "execute_result",
     "data": {
      "text/plain": [
       "                                Component\n",
       "Assignee       Component                 \n",
       "Aaron_Ferguson UI                      10\n",
       "Adam_Schlegel  UI                       7\n",
       "ChrisAustin    User Assistance          3\n",
       "Claude_Knaus   UI                      31\n",
       "               Text                     7"
      ],
      "text/html": "<div>\n<style scoped>\n    .dataframe tbody tr th:only-of-type {\n        vertical-align: middle;\n    }\n\n    .dataframe tbody tr th {\n        vertical-align: top;\n    }\n\n    .dataframe thead th {\n        text-align: right;\n    }\n</style>\n<table border=\"1\" class=\"dataframe\">\n  <thead>\n    <tr style=\"text-align: right;\">\n      <th></th>\n      <th></th>\n      <th>Component</th>\n    </tr>\n    <tr>\n      <th>Assignee</th>\n      <th>Component</th>\n      <th></th>\n    </tr>\n  </thead>\n  <tbody>\n    <tr>\n      <th>Aaron_Ferguson</th>\n      <th>UI</th>\n      <td>10</td>\n    </tr>\n    <tr>\n      <th>Adam_Schlegel</th>\n      <th>UI</th>\n      <td>7</td>\n    </tr>\n    <tr>\n      <th>ChrisAustin</th>\n      <th>User Assistance</th>\n      <td>3</td>\n    </tr>\n    <tr>\n      <th rowspan=\"2\" valign=\"top\">Claude_Knaus</th>\n      <th>UI</th>\n      <td>31</td>\n    </tr>\n    <tr>\n      <th>Text</th>\n      <td>7</td>\n    </tr>\n  </tbody>\n</table>\n</div>"
     },
     "metadata": {},
     "execution_count": 181
    }
   ],
   "source": [
    "# Grouping the DataFrame by \"Assignee\"\n",
    "assignee_group = eclipse_df.groupby(\"Assignee\")\n",
    "\n",
    "# Count how many of each component Assignees worked on and create DataFrame\n",
    "assignee_work_df = pd.DataFrame(assignee_group[\"Component\"].value_counts())\n",
    "assignee_work_df.head()"
   ]
  },
  {
   "cell_type": "code",
   "execution_count": 182,
   "metadata": {},
   "outputs": [
    {
     "output_type": "execute_result",
     "data": {
      "text/plain": [
       "                                Component Bug Count\n",
       "Assignee       Component                           \n",
       "Aaron_Ferguson UI                                10\n",
       "Adam_Schlegel  UI                                 7\n",
       "ChrisAustin    User Assistance                    3\n",
       "Claude_Knaus   UI                                31\n",
       "               Text                               7"
      ],
      "text/html": "<div>\n<style scoped>\n    .dataframe tbody tr th:only-of-type {\n        vertical-align: middle;\n    }\n\n    .dataframe tbody tr th {\n        vertical-align: top;\n    }\n\n    .dataframe thead th {\n        text-align: right;\n    }\n</style>\n<table border=\"1\" class=\"dataframe\">\n  <thead>\n    <tr style=\"text-align: right;\">\n      <th></th>\n      <th></th>\n      <th>Component Bug Count</th>\n    </tr>\n    <tr>\n      <th>Assignee</th>\n      <th>Component</th>\n      <th></th>\n    </tr>\n  </thead>\n  <tbody>\n    <tr>\n      <th>Aaron_Ferguson</th>\n      <th>UI</th>\n      <td>10</td>\n    </tr>\n    <tr>\n      <th>Adam_Schlegel</th>\n      <th>UI</th>\n      <td>7</td>\n    </tr>\n    <tr>\n      <th>ChrisAustin</th>\n      <th>User Assistance</th>\n      <td>3</td>\n    </tr>\n    <tr>\n      <th rowspan=\"2\" valign=\"top\">Claude_Knaus</th>\n      <th>UI</th>\n      <td>31</td>\n    </tr>\n    <tr>\n      <th>Text</th>\n      <td>7</td>\n    </tr>\n  </tbody>\n</table>\n</div>"
     },
     "metadata": {},
     "execution_count": 182
    }
   ],
   "source": [
    "# Rename the \"Component\" column to \"Component Bug Count\"\n",
    "assignee_work_df = assignee_work_df.rename(\n",
    "    columns={\"Component\": \"Component Bug Count\"})\n",
    "assignee_work_df.head()"
   ]
  },
  {
   "cell_type": "code",
   "execution_count": 183,
   "metadata": {},
   "outputs": [
    {
     "output_type": "execute_result",
     "data": {
      "text/plain": [
       "                               Assignee\n",
       "Assignee       Assignee                \n",
       "Aaron_Ferguson Aaron_Ferguson      0.10\n",
       "Adam_Schlegel  Adam_Schlegel       0.07\n",
       "ChrisAustin    ChrisAustin         0.03\n",
       "Claude_Knaus   Claude_Knaus        0.38\n",
       "Curtis_Windatt Curtis_Windatt      0.06"
      ],
      "text/html": "<div>\n<style scoped>\n    .dataframe tbody tr th:only-of-type {\n        vertical-align: middle;\n    }\n\n    .dataframe tbody tr th {\n        vertical-align: top;\n    }\n\n    .dataframe thead th {\n        text-align: right;\n    }\n</style>\n<table border=\"1\" class=\"dataframe\">\n  <thead>\n    <tr style=\"text-align: right;\">\n      <th></th>\n      <th></th>\n      <th>Assignee</th>\n    </tr>\n    <tr>\n      <th>Assignee</th>\n      <th>Assignee</th>\n      <th></th>\n    </tr>\n  </thead>\n  <tbody>\n    <tr>\n      <th>Aaron_Ferguson</th>\n      <th>Aaron_Ferguson</th>\n      <td>0.10</td>\n    </tr>\n    <tr>\n      <th>Adam_Schlegel</th>\n      <th>Adam_Schlegel</th>\n      <td>0.07</td>\n    </tr>\n    <tr>\n      <th>ChrisAustin</th>\n      <th>ChrisAustin</th>\n      <td>0.03</td>\n    </tr>\n    <tr>\n      <th>Claude_Knaus</th>\n      <th>Claude_Knaus</th>\n      <td>0.38</td>\n    </tr>\n    <tr>\n      <th>Curtis_Windatt</th>\n      <th>Curtis_Windatt</th>\n      <td>0.06</td>\n    </tr>\n  </tbody>\n</table>\n</div>"
     },
     "metadata": {},
     "execution_count": 183
    }
   ],
   "source": [
    "# Find the percentage of bugs overall fixed by each Assignee\n",
    "total_bugs = assignee_group[\"Assignee\"].count()\n",
    "bugs_per_user = assignee_group[\"Assignee\"].value_counts()\n",
    "\n",
    "user_bug_percent_df = pd.DataFrame((bugs_per_user/10000)*100)\n",
    "user_bug_percent_df.head()"
   ]
  },
  {
   "cell_type": "code",
   "execution_count": 184,
   "metadata": {},
   "outputs": [
    {
     "output_type": "error",
     "ename": "ValueError",
     "evalue": "cannot insert Assignee, already exists",
     "traceback": [
      "\u001b[1;31m---------------------------------------------------------------------------\u001b[0m",
      "\u001b[1;31mValueError\u001b[0m                                Traceback (most recent call last)",
      "\u001b[1;32m<ipython-input-184-c367570bd957>\u001b[0m in \u001b[0;36m<module>\u001b[1;34m\u001b[0m\n\u001b[0;32m      4\u001b[0m \u001b[1;33m\u001b[0m\u001b[0m\n\u001b[0;32m      5\u001b[0m \u001b[1;31m# Reset the index for this DataFrame so \"Assignee\" is a column\u001b[0m\u001b[1;33m\u001b[0m\u001b[1;33m\u001b[0m\u001b[1;33m\u001b[0m\u001b[0m\n\u001b[1;32m----> 6\u001b[1;33m \u001b[0muser_bug_percent_df\u001b[0m \u001b[1;33m=\u001b[0m \u001b[0muser_bug_percent_df\u001b[0m\u001b[1;33m.\u001b[0m\u001b[0mreset_index\u001b[0m\u001b[1;33m(\u001b[0m\u001b[1;33m)\u001b[0m\u001b[1;33m\u001b[0m\u001b[1;33m\u001b[0m\u001b[0m\n\u001b[0m\u001b[0;32m      7\u001b[0m \u001b[0muser_bug_percent_df\u001b[0m\u001b[1;33m.\u001b[0m\u001b[0mhead\u001b[0m\u001b[1;33m(\u001b[0m\u001b[1;33m)\u001b[0m\u001b[1;33m\u001b[0m\u001b[1;33m\u001b[0m\u001b[0m\n",
      "\u001b[1;32m~\\anaconda3\\envs\\PythonData\\lib\\site-packages\\pandas\\core\\frame.py\u001b[0m in \u001b[0;36mreset_index\u001b[1;34m(self, level, drop, inplace, col_level, col_fill)\u001b[0m\n\u001b[0;32m   4602\u001b[0m                 \u001b[1;31m# to ndarray and maybe infer different dtype\u001b[0m\u001b[1;33m\u001b[0m\u001b[1;33m\u001b[0m\u001b[1;33m\u001b[0m\u001b[0m\n\u001b[0;32m   4603\u001b[0m                 \u001b[0mlevel_values\u001b[0m \u001b[1;33m=\u001b[0m \u001b[0m_maybe_casted_values\u001b[0m\u001b[1;33m(\u001b[0m\u001b[0mlev\u001b[0m\u001b[1;33m,\u001b[0m \u001b[0mlab\u001b[0m\u001b[1;33m)\u001b[0m\u001b[1;33m\u001b[0m\u001b[1;33m\u001b[0m\u001b[0m\n\u001b[1;32m-> 4604\u001b[1;33m                 \u001b[0mnew_obj\u001b[0m\u001b[1;33m.\u001b[0m\u001b[0minsert\u001b[0m\u001b[1;33m(\u001b[0m\u001b[1;36m0\u001b[0m\u001b[1;33m,\u001b[0m \u001b[0mname\u001b[0m\u001b[1;33m,\u001b[0m \u001b[0mlevel_values\u001b[0m\u001b[1;33m)\u001b[0m\u001b[1;33m\u001b[0m\u001b[1;33m\u001b[0m\u001b[0m\n\u001b[0m\u001b[0;32m   4605\u001b[0m \u001b[1;33m\u001b[0m\u001b[0m\n\u001b[0;32m   4606\u001b[0m         \u001b[0mnew_obj\u001b[0m\u001b[1;33m.\u001b[0m\u001b[0mindex\u001b[0m \u001b[1;33m=\u001b[0m \u001b[0mnew_index\u001b[0m\u001b[1;33m\u001b[0m\u001b[1;33m\u001b[0m\u001b[0m\n",
      "\u001b[1;32m~\\anaconda3\\envs\\PythonData\\lib\\site-packages\\pandas\\core\\frame.py\u001b[0m in \u001b[0;36minsert\u001b[1;34m(self, loc, column, value, allow_duplicates)\u001b[0m\n\u001b[0;32m   3494\u001b[0m         \u001b[0mself\u001b[0m\u001b[1;33m.\u001b[0m\u001b[0m_ensure_valid_index\u001b[0m\u001b[1;33m(\u001b[0m\u001b[0mvalue\u001b[0m\u001b[1;33m)\u001b[0m\u001b[1;33m\u001b[0m\u001b[1;33m\u001b[0m\u001b[0m\n\u001b[0;32m   3495\u001b[0m         \u001b[0mvalue\u001b[0m \u001b[1;33m=\u001b[0m \u001b[0mself\u001b[0m\u001b[1;33m.\u001b[0m\u001b[0m_sanitize_column\u001b[0m\u001b[1;33m(\u001b[0m\u001b[0mcolumn\u001b[0m\u001b[1;33m,\u001b[0m \u001b[0mvalue\u001b[0m\u001b[1;33m,\u001b[0m \u001b[0mbroadcast\u001b[0m\u001b[1;33m=\u001b[0m\u001b[1;32mFalse\u001b[0m\u001b[1;33m)\u001b[0m\u001b[1;33m\u001b[0m\u001b[1;33m\u001b[0m\u001b[0m\n\u001b[1;32m-> 3496\u001b[1;33m         \u001b[0mself\u001b[0m\u001b[1;33m.\u001b[0m\u001b[0m_data\u001b[0m\u001b[1;33m.\u001b[0m\u001b[0minsert\u001b[0m\u001b[1;33m(\u001b[0m\u001b[0mloc\u001b[0m\u001b[1;33m,\u001b[0m \u001b[0mcolumn\u001b[0m\u001b[1;33m,\u001b[0m \u001b[0mvalue\u001b[0m\u001b[1;33m,\u001b[0m \u001b[0mallow_duplicates\u001b[0m\u001b[1;33m=\u001b[0m\u001b[0mallow_duplicates\u001b[0m\u001b[1;33m)\u001b[0m\u001b[1;33m\u001b[0m\u001b[1;33m\u001b[0m\u001b[0m\n\u001b[0m\u001b[0;32m   3497\u001b[0m \u001b[1;33m\u001b[0m\u001b[0m\n\u001b[0;32m   3498\u001b[0m     \u001b[1;32mdef\u001b[0m \u001b[0massign\u001b[0m\u001b[1;33m(\u001b[0m\u001b[0mself\u001b[0m\u001b[1;33m,\u001b[0m \u001b[1;33m**\u001b[0m\u001b[0mkwargs\u001b[0m\u001b[1;33m)\u001b[0m \u001b[1;33m->\u001b[0m \u001b[1;34m\"DataFrame\"\u001b[0m\u001b[1;33m:\u001b[0m\u001b[1;33m\u001b[0m\u001b[1;33m\u001b[0m\u001b[0m\n",
      "\u001b[1;32m~\\anaconda3\\envs\\PythonData\\lib\\site-packages\\pandas\\core\\internals\\managers.py\u001b[0m in \u001b[0;36minsert\u001b[1;34m(self, loc, item, value, allow_duplicates)\u001b[0m\n\u001b[0;32m   1171\u001b[0m         \u001b[1;32mif\u001b[0m \u001b[1;32mnot\u001b[0m \u001b[0mallow_duplicates\u001b[0m \u001b[1;32mand\u001b[0m \u001b[0mitem\u001b[0m \u001b[1;32min\u001b[0m \u001b[0mself\u001b[0m\u001b[1;33m.\u001b[0m\u001b[0mitems\u001b[0m\u001b[1;33m:\u001b[0m\u001b[1;33m\u001b[0m\u001b[1;33m\u001b[0m\u001b[0m\n\u001b[0;32m   1172\u001b[0m             \u001b[1;31m# Should this be a different kind of error??\u001b[0m\u001b[1;33m\u001b[0m\u001b[1;33m\u001b[0m\u001b[1;33m\u001b[0m\u001b[0m\n\u001b[1;32m-> 1173\u001b[1;33m             \u001b[1;32mraise\u001b[0m \u001b[0mValueError\u001b[0m\u001b[1;33m(\u001b[0m\u001b[1;34mf\"cannot insert {item}, already exists\"\u001b[0m\u001b[1;33m)\u001b[0m\u001b[1;33m\u001b[0m\u001b[1;33m\u001b[0m\u001b[0m\n\u001b[0m\u001b[0;32m   1174\u001b[0m \u001b[1;33m\u001b[0m\u001b[0m\n\u001b[0;32m   1175\u001b[0m         \u001b[1;32mif\u001b[0m \u001b[1;32mnot\u001b[0m \u001b[0misinstance\u001b[0m\u001b[1;33m(\u001b[0m\u001b[0mloc\u001b[0m\u001b[1;33m,\u001b[0m \u001b[0mint\u001b[0m\u001b[1;33m)\u001b[0m\u001b[1;33m:\u001b[0m\u001b[1;33m\u001b[0m\u001b[1;33m\u001b[0m\u001b[0m\n",
      "\u001b[1;31mValueError\u001b[0m: cannot insert Assignee, already exists"
     ]
    }
   ],
   "source": [
    "# Rename the \"Assignee\" column to \"Percent of Total Bugs Assigned\"\n",
    "user_bug_percent_df = user_bug_percent_df.rename(\n",
    "    columns={\"Assignee\": \"Percent of Total Bugs Assigned\"})\n",
    "\n",
    "# Reset the index for this DataFrame so \"Assignee\" is a column\n",
    "user_bug_percent_df = user_bug_percent_df.reset_index()\n",
    "user_bug_percent_df.head()"
   ]
  },
  {
   "cell_type": "code",
   "execution_count": 176,
   "metadata": {},
   "outputs": [
    {
     "output_type": "execute_result",
     "data": {
      "text/plain": [
       "         Assignee        Component  Component Bug Count\n",
       "0  Aaron_Ferguson               UI                   10\n",
       "1   Adam_Schlegel               UI                    7\n",
       "2     ChrisAustin  User Assistance                    3\n",
       "3    Claude_Knaus               UI                   31\n",
       "4    Claude_Knaus             Text                    7"
      ],
      "text/html": "<div>\n<style scoped>\n    .dataframe tbody tr th:only-of-type {\n        vertical-align: middle;\n    }\n\n    .dataframe tbody tr th {\n        vertical-align: top;\n    }\n\n    .dataframe thead th {\n        text-align: right;\n    }\n</style>\n<table border=\"1\" class=\"dataframe\">\n  <thead>\n    <tr style=\"text-align: right;\">\n      <th></th>\n      <th>Assignee</th>\n      <th>Component</th>\n      <th>Component Bug Count</th>\n    </tr>\n  </thead>\n  <tbody>\n    <tr>\n      <th>0</th>\n      <td>Aaron_Ferguson</td>\n      <td>UI</td>\n      <td>10</td>\n    </tr>\n    <tr>\n      <th>1</th>\n      <td>Adam_Schlegel</td>\n      <td>UI</td>\n      <td>7</td>\n    </tr>\n    <tr>\n      <th>2</th>\n      <td>ChrisAustin</td>\n      <td>User Assistance</td>\n      <td>3</td>\n    </tr>\n    <tr>\n      <th>3</th>\n      <td>Claude_Knaus</td>\n      <td>UI</td>\n      <td>31</td>\n    </tr>\n    <tr>\n      <th>4</th>\n      <td>Claude_Knaus</td>\n      <td>Text</td>\n      <td>7</td>\n    </tr>\n  </tbody>\n</table>\n</div>"
     },
     "metadata": {},
     "execution_count": 176
    }
   ],
   "source": [
    "# Reset the index of \"assignee_group\" so that \"Assignee\" and \"Component\" are columns\n",
    "assignee_work_df = assignee_work_df.reset_index()"
   ]
  },
  {
   "cell_type": "code",
   "execution_count": 177,
   "metadata": {},
   "outputs": [
    {
     "output_type": "error",
     "ename": "KeyError",
     "evalue": "'Assignee'",
     "traceback": [
      "\u001b[1;31m---------------------------------------------------------------------------\u001b[0m",
      "\u001b[1;31mKeyError\u001b[0m                                  Traceback (most recent call last)",
      "\u001b[1;32m<ipython-input-177-a7e2c54dfc89>\u001b[0m in \u001b[0;36m<module>\u001b[1;34m\u001b[0m\n\u001b[0;32m      1\u001b[0m \u001b[1;31m# Merge the \"Percent of Total Bugs Assigned\" into the DataFrame\u001b[0m\u001b[1;33m\u001b[0m\u001b[1;33m\u001b[0m\u001b[1;33m\u001b[0m\u001b[0m\n\u001b[1;32m----> 2\u001b[1;33m \u001b[0massignee_work_df\u001b[0m \u001b[1;33m=\u001b[0m \u001b[0massignee_work_df\u001b[0m\u001b[1;33m.\u001b[0m\u001b[0mmerge\u001b[0m\u001b[1;33m(\u001b[0m\u001b[0muser_bug_percent_df\u001b[0m\u001b[1;33m,\u001b[0m \u001b[0mon\u001b[0m\u001b[1;33m=\u001b[0m\u001b[1;34m\"Assignee\"\u001b[0m\u001b[1;33m)\u001b[0m\u001b[1;33m\u001b[0m\u001b[1;33m\u001b[0m\u001b[0m\n\u001b[0m\u001b[0;32m      3\u001b[0m \u001b[0massignee_work_df\u001b[0m\u001b[1;33m.\u001b[0m\u001b[0mhead\u001b[0m\u001b[1;33m(\u001b[0m\u001b[1;33m)\u001b[0m\u001b[1;33m\u001b[0m\u001b[1;33m\u001b[0m\u001b[0m\n",
      "\u001b[1;32m~\\anaconda3\\envs\\PythonData\\lib\\site-packages\\pandas\\core\\frame.py\u001b[0m in \u001b[0;36mmerge\u001b[1;34m(self, right, how, on, left_on, right_on, left_index, right_index, sort, suffixes, copy, indicator, validate)\u001b[0m\n\u001b[0;32m   7295\u001b[0m             \u001b[0mcopy\u001b[0m\u001b[1;33m=\u001b[0m\u001b[0mcopy\u001b[0m\u001b[1;33m,\u001b[0m\u001b[1;33m\u001b[0m\u001b[1;33m\u001b[0m\u001b[0m\n\u001b[0;32m   7296\u001b[0m             \u001b[0mindicator\u001b[0m\u001b[1;33m=\u001b[0m\u001b[0mindicator\u001b[0m\u001b[1;33m,\u001b[0m\u001b[1;33m\u001b[0m\u001b[1;33m\u001b[0m\u001b[0m\n\u001b[1;32m-> 7297\u001b[1;33m             \u001b[0mvalidate\u001b[0m\u001b[1;33m=\u001b[0m\u001b[0mvalidate\u001b[0m\u001b[1;33m,\u001b[0m\u001b[1;33m\u001b[0m\u001b[1;33m\u001b[0m\u001b[0m\n\u001b[0m\u001b[0;32m   7298\u001b[0m         )\n\u001b[0;32m   7299\u001b[0m \u001b[1;33m\u001b[0m\u001b[0m\n",
      "\u001b[1;32m~\\anaconda3\\envs\\PythonData\\lib\\site-packages\\pandas\\core\\reshape\\merge.py\u001b[0m in \u001b[0;36mmerge\u001b[1;34m(left, right, how, on, left_on, right_on, left_index, right_index, sort, suffixes, copy, indicator, validate)\u001b[0m\n\u001b[0;32m     84\u001b[0m         \u001b[0mcopy\u001b[0m\u001b[1;33m=\u001b[0m\u001b[0mcopy\u001b[0m\u001b[1;33m,\u001b[0m\u001b[1;33m\u001b[0m\u001b[1;33m\u001b[0m\u001b[0m\n\u001b[0;32m     85\u001b[0m         \u001b[0mindicator\u001b[0m\u001b[1;33m=\u001b[0m\u001b[0mindicator\u001b[0m\u001b[1;33m,\u001b[0m\u001b[1;33m\u001b[0m\u001b[1;33m\u001b[0m\u001b[0m\n\u001b[1;32m---> 86\u001b[1;33m         \u001b[0mvalidate\u001b[0m\u001b[1;33m=\u001b[0m\u001b[0mvalidate\u001b[0m\u001b[1;33m,\u001b[0m\u001b[1;33m\u001b[0m\u001b[1;33m\u001b[0m\u001b[0m\n\u001b[0m\u001b[0;32m     87\u001b[0m     )\n\u001b[0;32m     88\u001b[0m     \u001b[1;32mreturn\u001b[0m \u001b[0mop\u001b[0m\u001b[1;33m.\u001b[0m\u001b[0mget_result\u001b[0m\u001b[1;33m(\u001b[0m\u001b[1;33m)\u001b[0m\u001b[1;33m\u001b[0m\u001b[1;33m\u001b[0m\u001b[0m\n",
      "\u001b[1;32m~\\anaconda3\\envs\\PythonData\\lib\\site-packages\\pandas\\core\\reshape\\merge.py\u001b[0m in \u001b[0;36m__init__\u001b[1;34m(self, left, right, how, on, left_on, right_on, axis, left_index, right_index, sort, suffixes, copy, indicator, validate)\u001b[0m\n\u001b[0;32m    625\u001b[0m             \u001b[0mself\u001b[0m\u001b[1;33m.\u001b[0m\u001b[0mright_join_keys\u001b[0m\u001b[1;33m,\u001b[0m\u001b[1;33m\u001b[0m\u001b[1;33m\u001b[0m\u001b[0m\n\u001b[0;32m    626\u001b[0m             \u001b[0mself\u001b[0m\u001b[1;33m.\u001b[0m\u001b[0mjoin_names\u001b[0m\u001b[1;33m,\u001b[0m\u001b[1;33m\u001b[0m\u001b[1;33m\u001b[0m\u001b[0m\n\u001b[1;32m--> 627\u001b[1;33m         ) = self._get_merge_keys()\n\u001b[0m\u001b[0;32m    628\u001b[0m \u001b[1;33m\u001b[0m\u001b[0m\n\u001b[0;32m    629\u001b[0m         \u001b[1;31m# validate the merge keys dtypes. We may need to coerce\u001b[0m\u001b[1;33m\u001b[0m\u001b[1;33m\u001b[0m\u001b[1;33m\u001b[0m\u001b[0m\n",
      "\u001b[1;32m~\\anaconda3\\envs\\PythonData\\lib\\site-packages\\pandas\\core\\reshape\\merge.py\u001b[0m in \u001b[0;36m_get_merge_keys\u001b[1;34m(self)\u001b[0m\n\u001b[0;32m    981\u001b[0m                     \u001b[1;32mif\u001b[0m \u001b[1;32mnot\u001b[0m \u001b[0mis_rkey\u001b[0m\u001b[1;33m(\u001b[0m\u001b[0mrk\u001b[0m\u001b[1;33m)\u001b[0m\u001b[1;33m:\u001b[0m\u001b[1;33m\u001b[0m\u001b[1;33m\u001b[0m\u001b[0m\n\u001b[0;32m    982\u001b[0m                         \u001b[1;32mif\u001b[0m \u001b[0mrk\u001b[0m \u001b[1;32mis\u001b[0m \u001b[1;32mnot\u001b[0m \u001b[1;32mNone\u001b[0m\u001b[1;33m:\u001b[0m\u001b[1;33m\u001b[0m\u001b[1;33m\u001b[0m\u001b[0m\n\u001b[1;32m--> 983\u001b[1;33m                             \u001b[0mright_keys\u001b[0m\u001b[1;33m.\u001b[0m\u001b[0mappend\u001b[0m\u001b[1;33m(\u001b[0m\u001b[0mright\u001b[0m\u001b[1;33m.\u001b[0m\u001b[0m_get_label_or_level_values\u001b[0m\u001b[1;33m(\u001b[0m\u001b[0mrk\u001b[0m\u001b[1;33m)\u001b[0m\u001b[1;33m)\u001b[0m\u001b[1;33m\u001b[0m\u001b[1;33m\u001b[0m\u001b[0m\n\u001b[0m\u001b[0;32m    984\u001b[0m                         \u001b[1;32melse\u001b[0m\u001b[1;33m:\u001b[0m\u001b[1;33m\u001b[0m\u001b[1;33m\u001b[0m\u001b[0m\n\u001b[0;32m    985\u001b[0m                             \u001b[1;31m# work-around for merge_asof(right_index=True)\u001b[0m\u001b[1;33m\u001b[0m\u001b[1;33m\u001b[0m\u001b[1;33m\u001b[0m\u001b[0m\n",
      "\u001b[1;32m~\\anaconda3\\envs\\PythonData\\lib\\site-packages\\pandas\\core\\generic.py\u001b[0m in \u001b[0;36m_get_label_or_level_values\u001b[1;34m(self, key, axis)\u001b[0m\n\u001b[0;32m   1690\u001b[0m             \u001b[0mvalues\u001b[0m \u001b[1;33m=\u001b[0m \u001b[0mself\u001b[0m\u001b[1;33m.\u001b[0m\u001b[0maxes\u001b[0m\u001b[1;33m[\u001b[0m\u001b[0maxis\u001b[0m\u001b[1;33m]\u001b[0m\u001b[1;33m.\u001b[0m\u001b[0mget_level_values\u001b[0m\u001b[1;33m(\u001b[0m\u001b[0mkey\u001b[0m\u001b[1;33m)\u001b[0m\u001b[1;33m.\u001b[0m\u001b[0m_values\u001b[0m\u001b[1;33m\u001b[0m\u001b[1;33m\u001b[0m\u001b[0m\n\u001b[0;32m   1691\u001b[0m         \u001b[1;32melse\u001b[0m\u001b[1;33m:\u001b[0m\u001b[1;33m\u001b[0m\u001b[1;33m\u001b[0m\u001b[0m\n\u001b[1;32m-> 1692\u001b[1;33m             \u001b[1;32mraise\u001b[0m \u001b[0mKeyError\u001b[0m\u001b[1;33m(\u001b[0m\u001b[0mkey\u001b[0m\u001b[1;33m)\u001b[0m\u001b[1;33m\u001b[0m\u001b[1;33m\u001b[0m\u001b[0m\n\u001b[0m\u001b[0;32m   1693\u001b[0m \u001b[1;33m\u001b[0m\u001b[0m\n\u001b[0;32m   1694\u001b[0m         \u001b[1;31m# Check for duplicates\u001b[0m\u001b[1;33m\u001b[0m\u001b[1;33m\u001b[0m\u001b[1;33m\u001b[0m\u001b[0m\n",
      "\u001b[1;31mKeyError\u001b[0m: 'Assignee'"
     ]
    }
   ],
   "source": [
    "# Merge the \"Percent of Total Bugs Assigned\" into the DataFrame\n",
    "assignee_work_df = assignee_work_df.merge(user_bug_percent_df, on=\"Assignee\")\n",
    "assignee_work_df.head()"
   ]
  },
  {
   "cell_type": "code",
   "execution_count": null,
   "metadata": {},
   "outputs": [],
   "source": []
  }
 ],
 "metadata": {
  "kernelspec": {
   "name": "python3",
   "display_name": "Python 3.6.10 64-bit ('PythonData': conda)"
  },
  "language_info": {
   "codemirror_mode": {
    "name": "ipython",
    "version": 3
   },
   "file_extension": ".py",
   "mimetype": "text/x-python",
   "name": "python",
   "nbconvert_exporter": "python",
   "pygments_lexer": "ipython3",
   "version": "3.6.10"
  },
  "interpreter": {
   "hash": "6f1c02d1c161c5d027715177dca30aa2b11c766fe1b39fbb30619813eef2dd31"
  }
 },
 "nbformat": 4,
 "nbformat_minor": 2
}