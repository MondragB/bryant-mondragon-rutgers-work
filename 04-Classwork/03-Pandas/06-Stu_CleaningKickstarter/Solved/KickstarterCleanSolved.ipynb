{
 "cells": [
  {
   "cell_type": "code",
   "execution_count": 308,
   "metadata": {
    "collapsed": true
   },
   "outputs": [],
   "source": [
    "import pandas as pd"
   ]
  },
  {
   "cell_type": "code",
   "execution_count": 309,
   "metadata": {
    "collapsed": true
   },
   "outputs": [],
   "source": [
    "# The path to our CSV file\n",
    "csv_path = \"../Unsolved/Resources/KickstarterData.csv\"\n",
    "\n",
    "# Read our Kickstarter data into pandas\n",
    "kickstarter_df = pd.read_csv(csv_path)"
   ]
  },
  {
   "cell_type": "code",
   "execution_count": 310,
   "metadata": {
    "collapsed": true
   },
   "outputs": [
    {
     "output_type": "execute_result",
     "data": {
      "text/plain": [
       "Index(['id', 'photo', 'name', 'blurb', 'goal', 'pledged', 'state', 'slug',\n",
       "       'disable_communication', 'country', 'currency', 'currency_symbol',\n",
       "       'currency_trailing_code', 'deadline', 'state_changed_at', 'created_at',\n",
       "       'launched_at', 'staff_pick', 'is_starrable', 'backers_count',\n",
       "       'static_usd_rate', 'usd_pledged', 'creator', 'location', 'category',\n",
       "       'profile', 'spotlight', 'urls', 'source_url', 'friends', 'is_starred',\n",
       "       'is_backing', 'permissions'],\n",
       "      dtype='object')"
      ]
     },
     "metadata": {},
     "execution_count": 310
    }
   ],
   "source": [
    "# Get a list of all of our columns for easy reference\r\n",
    "kickstarter_df.columns"
   ]
  },
  {
   "cell_type": "code",
   "execution_count": 311,
   "metadata": {
    "collapsed": true,
    "scrolled": true
   },
   "outputs": [
    {
     "output_type": "execute_result",
     "data": {
      "text/plain": [
       "                                                   name     goal  pledged  \\\n",
       "0     The Class Act Players Theatre Company Presents...   1500.0   2925.0   \n",
       "1     MR INCREDIBLE by Camilla Whitehill - VAULT Fes...   2500.0   2936.0   \n",
       "2                                                   RUN   1000.0   1200.0   \n",
       "3     9th International Meeting of Youth Theatre sap...   2000.0   2135.0   \n",
       "4                           Get Conti to the Ed Fringe!   1000.0   1250.0   \n",
       "...                                                 ...      ...      ...   \n",
       "4115            Bring Love's Labour's Lost to Minnesota  25000.0  25388.0   \n",
       "4116                                              Score    300.0    340.0   \n",
       "4117  \"The Santaland Diaries\" by David Sedaris in Lo...   6000.0   7140.0   \n",
       "4118    REBATEnsemble Presents: ICONS - The Martin Show    300.0    312.0   \n",
       "4119                                    Licensed To Ill   3000.0   3084.0   \n",
       "\n",
       "           state country  staff_pick  backers_count  spotlight  \n",
       "0     successful      US       False             17       True  \n",
       "1     successful      GB        True             15       True  \n",
       "2     successful      GB       False             30       True  \n",
       "3     successful      IT       False             24       True  \n",
       "4     successful      GB       False             28       True  \n",
       "...          ...     ...         ...            ...        ...  \n",
       "4115  successful      US        True            213       True  \n",
       "4116  successful      GB       False             17       True  \n",
       "4117  successful      US       False            108       True  \n",
       "4118  successful      US       False              6       True  \n",
       "4119  successful      GB       False             78       True  \n",
       "\n",
       "[4120 rows x 8 columns]"
      ],
      "text/html": "<div>\n<style scoped>\n    .dataframe tbody tr th:only-of-type {\n        vertical-align: middle;\n    }\n\n    .dataframe tbody tr th {\n        vertical-align: top;\n    }\n\n    .dataframe thead th {\n        text-align: right;\n    }\n</style>\n<table border=\"1\" class=\"dataframe\">\n  <thead>\n    <tr style=\"text-align: right;\">\n      <th></th>\n      <th>name</th>\n      <th>goal</th>\n      <th>pledged</th>\n      <th>state</th>\n      <th>country</th>\n      <th>staff_pick</th>\n      <th>backers_count</th>\n      <th>spotlight</th>\n    </tr>\n  </thead>\n  <tbody>\n    <tr>\n      <th>0</th>\n      <td>The Class Act Players Theatre Company Presents...</td>\n      <td>1500.0</td>\n      <td>2925.0</td>\n      <td>successful</td>\n      <td>US</td>\n      <td>False</td>\n      <td>17</td>\n      <td>True</td>\n    </tr>\n    <tr>\n      <th>1</th>\n      <td>MR INCREDIBLE by Camilla Whitehill - VAULT Fes...</td>\n      <td>2500.0</td>\n      <td>2936.0</td>\n      <td>successful</td>\n      <td>GB</td>\n      <td>True</td>\n      <td>15</td>\n      <td>True</td>\n    </tr>\n    <tr>\n      <th>2</th>\n      <td>RUN</td>\n      <td>1000.0</td>\n      <td>1200.0</td>\n      <td>successful</td>\n      <td>GB</td>\n      <td>False</td>\n      <td>30</td>\n      <td>True</td>\n    </tr>\n    <tr>\n      <th>3</th>\n      <td>9th International Meeting of Youth Theatre sap...</td>\n      <td>2000.0</td>\n      <td>2135.0</td>\n      <td>successful</td>\n      <td>IT</td>\n      <td>False</td>\n      <td>24</td>\n      <td>True</td>\n    </tr>\n    <tr>\n      <th>4</th>\n      <td>Get Conti to the Ed Fringe!</td>\n      <td>1000.0</td>\n      <td>1250.0</td>\n      <td>successful</td>\n      <td>GB</td>\n      <td>False</td>\n      <td>28</td>\n      <td>True</td>\n    </tr>\n    <tr>\n      <th>...</th>\n      <td>...</td>\n      <td>...</td>\n      <td>...</td>\n      <td>...</td>\n      <td>...</td>\n      <td>...</td>\n      <td>...</td>\n      <td>...</td>\n    </tr>\n    <tr>\n      <th>4115</th>\n      <td>Bring Love's Labour's Lost to Minnesota</td>\n      <td>25000.0</td>\n      <td>25388.0</td>\n      <td>successful</td>\n      <td>US</td>\n      <td>True</td>\n      <td>213</td>\n      <td>True</td>\n    </tr>\n    <tr>\n      <th>4116</th>\n      <td>Score</td>\n      <td>300.0</td>\n      <td>340.0</td>\n      <td>successful</td>\n      <td>GB</td>\n      <td>False</td>\n      <td>17</td>\n      <td>True</td>\n    </tr>\n    <tr>\n      <th>4117</th>\n      <td>\"The Santaland Diaries\" by David Sedaris in Lo...</td>\n      <td>6000.0</td>\n      <td>7140.0</td>\n      <td>successful</td>\n      <td>US</td>\n      <td>False</td>\n      <td>108</td>\n      <td>True</td>\n    </tr>\n    <tr>\n      <th>4118</th>\n      <td>REBATEnsemble Presents: ICONS - The Martin Show</td>\n      <td>300.0</td>\n      <td>312.0</td>\n      <td>successful</td>\n      <td>US</td>\n      <td>False</td>\n      <td>6</td>\n      <td>True</td>\n    </tr>\n    <tr>\n      <th>4119</th>\n      <td>Licensed To Ill</td>\n      <td>3000.0</td>\n      <td>3084.0</td>\n      <td>successful</td>\n      <td>GB</td>\n      <td>False</td>\n      <td>78</td>\n      <td>True</td>\n    </tr>\n  </tbody>\n</table>\n<p>4120 rows × 8 columns</p>\n</div>"
     },
     "metadata": {},
     "execution_count": 311
    }
   ],
   "source": [
    "# Extract \"name\", \"goal\", \"pledged\", \"state\", \"country\", \"staff_pick\",\n",
    "# \"backers_count\", and \"spotlight\"\n",
    "new_kickstarter_df = kickstarter_df[['name', 'goal', 'pledged', 'state', 'country', 'staff_pick', 'backers_count', 'spotlight']]\n",
    "new_kickstarter_df"
   ]
  },
  {
   "cell_type": "code",
   "execution_count": 312,
   "metadata": {
    "collapsed": true,
    "scrolled": true
   },
   "outputs": [
    {
     "output_type": "execute_result",
     "data": {
      "text/plain": [
       "                                                   name     goal  pledged  \\\n",
       "0     The Class Act Players Theatre Company Presents...   1500.0   2925.0   \n",
       "1     MR INCREDIBLE by Camilla Whitehill - VAULT Fes...   2500.0   2936.0   \n",
       "2                                                   RUN   1000.0   1200.0   \n",
       "3     9th International Meeting of Youth Theatre sap...   2000.0   2135.0   \n",
       "4                           Get Conti to the Ed Fringe!   1000.0   1250.0   \n",
       "...                                                 ...      ...      ...   \n",
       "4115            Bring Love's Labour's Lost to Minnesota  25000.0  25388.0   \n",
       "4116                                              Score    300.0    340.0   \n",
       "4117  \"The Santaland Diaries\" by David Sedaris in Lo...   6000.0   7140.0   \n",
       "4118    REBATEnsemble Presents: ICONS - The Martin Show    300.0    312.0   \n",
       "4119                                    Licensed To Ill   3000.0   3084.0   \n",
       "\n",
       "           state country  staff_pick  backers_count  spotlight  \n",
       "0     successful      US       False             17       True  \n",
       "1     successful      GB        True             15       True  \n",
       "2     successful      GB       False             30       True  \n",
       "3     successful      IT       False             24       True  \n",
       "4     successful      GB       False             28       True  \n",
       "...          ...     ...         ...            ...        ...  \n",
       "4115  successful      US        True            213       True  \n",
       "4116  successful      GB       False             17       True  \n",
       "4117  successful      US       False            108       True  \n",
       "4118  successful      US       False              6       True  \n",
       "4119  successful      GB       False             78       True  \n",
       "\n",
       "[3307 rows x 8 columns]"
      ],
      "text/html": "<div>\n<style scoped>\n    .dataframe tbody tr th:only-of-type {\n        vertical-align: middle;\n    }\n\n    .dataframe tbody tr th {\n        vertical-align: top;\n    }\n\n    .dataframe thead th {\n        text-align: right;\n    }\n</style>\n<table border=\"1\" class=\"dataframe\">\n  <thead>\n    <tr style=\"text-align: right;\">\n      <th></th>\n      <th>name</th>\n      <th>goal</th>\n      <th>pledged</th>\n      <th>state</th>\n      <th>country</th>\n      <th>staff_pick</th>\n      <th>backers_count</th>\n      <th>spotlight</th>\n    </tr>\n  </thead>\n  <tbody>\n    <tr>\n      <th>0</th>\n      <td>The Class Act Players Theatre Company Presents...</td>\n      <td>1500.0</td>\n      <td>2925.0</td>\n      <td>successful</td>\n      <td>US</td>\n      <td>False</td>\n      <td>17</td>\n      <td>True</td>\n    </tr>\n    <tr>\n      <th>1</th>\n      <td>MR INCREDIBLE by Camilla Whitehill - VAULT Fes...</td>\n      <td>2500.0</td>\n      <td>2936.0</td>\n      <td>successful</td>\n      <td>GB</td>\n      <td>True</td>\n      <td>15</td>\n      <td>True</td>\n    </tr>\n    <tr>\n      <th>2</th>\n      <td>RUN</td>\n      <td>1000.0</td>\n      <td>1200.0</td>\n      <td>successful</td>\n      <td>GB</td>\n      <td>False</td>\n      <td>30</td>\n      <td>True</td>\n    </tr>\n    <tr>\n      <th>3</th>\n      <td>9th International Meeting of Youth Theatre sap...</td>\n      <td>2000.0</td>\n      <td>2135.0</td>\n      <td>successful</td>\n      <td>IT</td>\n      <td>False</td>\n      <td>24</td>\n      <td>True</td>\n    </tr>\n    <tr>\n      <th>4</th>\n      <td>Get Conti to the Ed Fringe!</td>\n      <td>1000.0</td>\n      <td>1250.0</td>\n      <td>successful</td>\n      <td>GB</td>\n      <td>False</td>\n      <td>28</td>\n      <td>True</td>\n    </tr>\n    <tr>\n      <th>...</th>\n      <td>...</td>\n      <td>...</td>\n      <td>...</td>\n      <td>...</td>\n      <td>...</td>\n      <td>...</td>\n      <td>...</td>\n      <td>...</td>\n    </tr>\n    <tr>\n      <th>4115</th>\n      <td>Bring Love's Labour's Lost to Minnesota</td>\n      <td>25000.0</td>\n      <td>25388.0</td>\n      <td>successful</td>\n      <td>US</td>\n      <td>True</td>\n      <td>213</td>\n      <td>True</td>\n    </tr>\n    <tr>\n      <th>4116</th>\n      <td>Score</td>\n      <td>300.0</td>\n      <td>340.0</td>\n      <td>successful</td>\n      <td>GB</td>\n      <td>False</td>\n      <td>17</td>\n      <td>True</td>\n    </tr>\n    <tr>\n      <th>4117</th>\n      <td>\"The Santaland Diaries\" by David Sedaris in Lo...</td>\n      <td>6000.0</td>\n      <td>7140.0</td>\n      <td>successful</td>\n      <td>US</td>\n      <td>False</td>\n      <td>108</td>\n      <td>True</td>\n    </tr>\n    <tr>\n      <th>4118</th>\n      <td>REBATEnsemble Presents: ICONS - The Martin Show</td>\n      <td>300.0</td>\n      <td>312.0</td>\n      <td>successful</td>\n      <td>US</td>\n      <td>False</td>\n      <td>6</td>\n      <td>True</td>\n    </tr>\n    <tr>\n      <th>4119</th>\n      <td>Licensed To Ill</td>\n      <td>3000.0</td>\n      <td>3084.0</td>\n      <td>successful</td>\n      <td>GB</td>\n      <td>False</td>\n      <td>78</td>\n      <td>True</td>\n    </tr>\n  </tbody>\n</table>\n<p>3307 rows × 8 columns</p>\n</div>"
     },
     "metadata": {},
     "execution_count": 312
    }
   ],
   "source": [
    "# Remove projects that made no money at all\n",
    "cleaned_kickstarter_df = new_kickstarter_df.loc[new_kickstarter_df['pledged' ] > 0]\n",
    "cleaned_kickstarter_df"
   ]
  },
  {
   "cell_type": "code",
   "execution_count": 313,
   "metadata": {
    "collapsed": true,
    "scrolled": true
   },
   "outputs": [
    {
     "output_type": "execute_result",
     "data": {
      "text/plain": [
       "                                                 name     goal  pledged  \\\n",
       "0   The Class Act Players Theatre Company Presents...   1500.0   2925.0   \n",
       "8                             Forefront Festival 2015   7200.0   7230.0   \n",
       "11                              Hamlet the Hip-Hopera   9747.0  10103.0   \n",
       "14                                          Pride Con  15000.0  15110.0   \n",
       "15      En Garde Arts Emerging Artists Festival BOSSS  10000.0  10306.0   \n",
       "\n",
       "         state country  staff_pick  backers_count  spotlight  \n",
       "0   successful      US       False             17       True  \n",
       "8   successful      US       False             68       True  \n",
       "11  successful      US        True            132       True  \n",
       "14  successful      US       False             60       True  \n",
       "15  successful      US        True             80       True  "
      ],
      "text/html": "<div>\n<style scoped>\n    .dataframe tbody tr th:only-of-type {\n        vertical-align: middle;\n    }\n\n    .dataframe tbody tr th {\n        vertical-align: top;\n    }\n\n    .dataframe thead th {\n        text-align: right;\n    }\n</style>\n<table border=\"1\" class=\"dataframe\">\n  <thead>\n    <tr style=\"text-align: right;\">\n      <th></th>\n      <th>name</th>\n      <th>goal</th>\n      <th>pledged</th>\n      <th>state</th>\n      <th>country</th>\n      <th>staff_pick</th>\n      <th>backers_count</th>\n      <th>spotlight</th>\n    </tr>\n  </thead>\n  <tbody>\n    <tr>\n      <th>0</th>\n      <td>The Class Act Players Theatre Company Presents...</td>\n      <td>1500.0</td>\n      <td>2925.0</td>\n      <td>successful</td>\n      <td>US</td>\n      <td>False</td>\n      <td>17</td>\n      <td>True</td>\n    </tr>\n    <tr>\n      <th>8</th>\n      <td>Forefront Festival 2015</td>\n      <td>7200.0</td>\n      <td>7230.0</td>\n      <td>successful</td>\n      <td>US</td>\n      <td>False</td>\n      <td>68</td>\n      <td>True</td>\n    </tr>\n    <tr>\n      <th>11</th>\n      <td>Hamlet the Hip-Hopera</td>\n      <td>9747.0</td>\n      <td>10103.0</td>\n      <td>successful</td>\n      <td>US</td>\n      <td>True</td>\n      <td>132</td>\n      <td>True</td>\n    </tr>\n    <tr>\n      <th>14</th>\n      <td>Pride Con</td>\n      <td>15000.0</td>\n      <td>15110.0</td>\n      <td>successful</td>\n      <td>US</td>\n      <td>False</td>\n      <td>60</td>\n      <td>True</td>\n    </tr>\n    <tr>\n      <th>15</th>\n      <td>En Garde Arts Emerging Artists Festival BOSSS</td>\n      <td>10000.0</td>\n      <td>10306.0</td>\n      <td>successful</td>\n      <td>US</td>\n      <td>True</td>\n      <td>80</td>\n      <td>True</td>\n    </tr>\n  </tbody>\n</table>\n</div>"
     },
     "metadata": {},
     "execution_count": 313
    }
   ],
   "source": [
    "# Collect only those projects that were hosted in the US\n",
    "# Create a list of the columns\n",
    "# Create a new df for \"US\" with the columns above.\n",
    "v2_df = cleaned_kickstarter_df.loc[cleaned_kickstarter_df['country'] == 'US']\n",
    "v2_df.head()"
   ]
  },
  {
   "cell_type": "code",
   "execution_count": 314,
   "metadata": {
    "collapsed": true
   },
   "outputs": [
    {
     "output_type": "stream",
     "name": "stderr",
     "text": [
      "ipykernel_launcher:2: SettingWithCopyWarning: \nA value is trying to be set on a copy of a slice from a DataFrame.\nTry using .loc[row_indexer,col_indexer] = value instead\n\nSee the caveats in the documentation: https://pandas.pydata.org/pandas-docs/stable/user_guide/indexing.html#returning-a-view-versus-a-copy\n"
     ]
    }
   ],
   "source": [
    "# Create a new column that finds the average amount pledged to a project\n",
    "v2_df['average_pledge'] = v2_df['pledged'] / v2_df['backers_count']"
   ]
  },
  {
   "cell_type": "code",
   "execution_count": 315,
   "metadata": {
    "collapsed": true
   },
   "outputs": [
    {
     "output_type": "stream",
     "name": "stderr",
     "text": [
      "ipykernel_launcher:2: SettingWithCopyWarning: \nA value is trying to be set on a copy of a slice from a DataFrame.\nTry using .loc[row_indexer,col_indexer] = value instead\n\nSee the caveats in the documentation: https://pandas.pydata.org/pandas-docs/stable/user_guide/indexing.html#returning-a-view-versus-a-copy\nipykernel_launcher:3: SettingWithCopyWarning: \nA value is trying to be set on a copy of a slice from a DataFrame.\nTry using .loc[row_indexer,col_indexer] = value instead\n\nSee the caveats in the documentation: https://pandas.pydata.org/pandas-docs/stable/user_guide/indexing.html#returning-a-view-versus-a-copy\nipykernel_launcher:4: SettingWithCopyWarning: \nA value is trying to be set on a copy of a slice from a DataFrame.\nTry using .loc[row_indexer,col_indexer] = value instead\n\nSee the caveats in the documentation: https://pandas.pydata.org/pandas-docs/stable/user_guide/indexing.html#returning-a-view-versus-a-copy\n"
     ]
    },
    {
     "output_type": "execute_result",
     "data": {
      "text/plain": [
       "name               object\n",
       "goal              float64\n",
       "pledged           float64\n",
       "state              object\n",
       "country            object\n",
       "staff_pick           bool\n",
       "backers_count       int64\n",
       "spotlight            bool\n",
       "average_pledge    float64\n",
       "dtype: object"
      ]
     },
     "metadata": {},
     "execution_count": 315
    }
   ],
   "source": [
    "# First convert \"average_donation\", \"goal\", and \"pledged\" columns to float\n",
    "v2_df['pledged'] = v2_df['pledged'].astype(float)\n",
    "v2_df['goal'] = v2_df['goal'].astype(float)\n",
    "v2_df['average_pledge'] = v2_df['average_pledge'].astype(float)\n",
    "v2_df.dtypes\n",
    "# Then Format to go to two decimal places, include a dollar sign, and use comma notation"
   ]
  },
  {
   "cell_type": "code",
   "execution_count": 316,
   "metadata": {
    "collapsed": true
   },
   "outputs": [],
   "source": [
    "# Calculate the total number of backers for all US projects"
   ]
  },
  {
   "cell_type": "code",
   "execution_count": 317,
   "metadata": {
    "collapsed": true
   },
   "outputs": [],
   "source": [
    "# Calculate the average number of backers for all US projects"
   ]
  },
  {
   "cell_type": "code",
   "execution_count": 318,
   "metadata": {
    "collapsed": true,
    "scrolled": true
   },
   "outputs": [],
   "source": [
    "# Collect only those US campaigns that have been picked as a \"Staff Pick\""
   ]
  },
  {
   "cell_type": "code",
   "execution_count": 319,
   "metadata": {
    "collapsed": true
   },
   "outputs": [],
   "source": [
    "# Group by the state of the campaigns and see if staff picks matter (Seems to matter quite a bit)"
   ]
  }
 ],
 "metadata": {
  "kernelspec": {
   "name": "python3",
   "display_name": "Python 3.6.10 64-bit ('PythonData': conda)"
  },
  "language_info": {
   "codemirror_mode": {
    "name": "ipython",
    "version": 3
   },
   "file_extension": ".py",
   "mimetype": "text/x-python",
   "name": "python",
   "nbconvert_exporter": "python",
   "pygments_lexer": "ipython3",
   "version": "3.6.10"
  },
  "interpreter": {
   "hash": "6f1c02d1c161c5d027715177dca30aa2b11c766fe1b39fbb30619813eef2dd31"
  }
 },
 "nbformat": 4,
 "nbformat_minor": 2
}