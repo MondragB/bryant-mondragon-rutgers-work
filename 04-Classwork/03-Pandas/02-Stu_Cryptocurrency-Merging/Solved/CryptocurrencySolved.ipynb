{
 "cells": [
  {
   "cell_type": "code",
   "execution_count": 24,
   "metadata": {
    "collapsed": true
   },
   "outputs": [],
   "source": [
    "# Import Dependencies\n",
    "import pandas as pd"
   ]
  },
  {
   "cell_type": "code",
   "execution_count": 25,
   "metadata": {
    "collapsed": true
   },
   "outputs": [],
   "source": [
    "bitcoin_csv = \"../Unsolved/Resources/bitcoin_cash_price.csv\"\n",
    "dash_csv = \"../Unsolved/Resources/dash_price.csv\""
   ]
  },
  {
   "cell_type": "code",
   "execution_count": 26,
   "metadata": {
    "collapsed": true
   },
   "outputs": [],
   "source": [
    "bitcoin_df = pd.read_csv(bitcoin_csv)\n",
    "dash_df = pd.read_csv(dash_csv)"
   ]
  },
  {
   "cell_type": "code",
   "execution_count": 27,
   "metadata": {
    "collapsed": true
   },
   "outputs": [
    {
     "output_type": "execute_result",
     "data": {
      "text/plain": [
       "        Date    Open    High     Low   Close       Volume     Market Cap\n",
       "0  17-Sep-17  438.90  438.90  384.06  419.86  221828000.0  7,279,520,000\n",
       "1  16-Sep-17  424.49  450.98  388.20  440.22  313583000.0  7,039,590,000\n",
       "2  15-Sep-17  369.49  448.39  301.69  424.02  707231000.0  6,126,800,000\n",
       "3  14-Sep-17  504.22  510.47  367.04  367.04  257431000.0  8,359,650,000\n",
       "4  13-Sep-17  509.47  519.20  471.22  503.61  340344000.0  8,445,540,000"
      ],
      "text/html": "<div>\n<style scoped>\n    .dataframe tbody tr th:only-of-type {\n        vertical-align: middle;\n    }\n\n    .dataframe tbody tr th {\n        vertical-align: top;\n    }\n\n    .dataframe thead th {\n        text-align: right;\n    }\n</style>\n<table border=\"1\" class=\"dataframe\">\n  <thead>\n    <tr style=\"text-align: right;\">\n      <th></th>\n      <th>Date</th>\n      <th>Open</th>\n      <th>High</th>\n      <th>Low</th>\n      <th>Close</th>\n      <th>Volume</th>\n      <th>Market Cap</th>\n    </tr>\n  </thead>\n  <tbody>\n    <tr>\n      <th>0</th>\n      <td>17-Sep-17</td>\n      <td>438.90</td>\n      <td>438.90</td>\n      <td>384.06</td>\n      <td>419.86</td>\n      <td>221828000.0</td>\n      <td>7,279,520,000</td>\n    </tr>\n    <tr>\n      <th>1</th>\n      <td>16-Sep-17</td>\n      <td>424.49</td>\n      <td>450.98</td>\n      <td>388.20</td>\n      <td>440.22</td>\n      <td>313583000.0</td>\n      <td>7,039,590,000</td>\n    </tr>\n    <tr>\n      <th>2</th>\n      <td>15-Sep-17</td>\n      <td>369.49</td>\n      <td>448.39</td>\n      <td>301.69</td>\n      <td>424.02</td>\n      <td>707231000.0</td>\n      <td>6,126,800,000</td>\n    </tr>\n    <tr>\n      <th>3</th>\n      <td>14-Sep-17</td>\n      <td>504.22</td>\n      <td>510.47</td>\n      <td>367.04</td>\n      <td>367.04</td>\n      <td>257431000.0</td>\n      <td>8,359,650,000</td>\n    </tr>\n    <tr>\n      <th>4</th>\n      <td>13-Sep-17</td>\n      <td>509.47</td>\n      <td>519.20</td>\n      <td>471.22</td>\n      <td>503.61</td>\n      <td>340344000.0</td>\n      <td>8,445,540,000</td>\n    </tr>\n  </tbody>\n</table>\n</div>"
     },
     "metadata": {},
     "execution_count": 27
    }
   ],
   "source": [
    "bitcoin_df.head()"
   ]
  },
  {
   "cell_type": "code",
   "execution_count": 28,
   "metadata": {
    "collapsed": true
   },
   "outputs": [
    {
     "output_type": "execute_result",
     "data": {
      "text/plain": [
       "        Date    Open    High     Low   Close      Volume     Market Cap\n",
       "0  17-Sep-17  298.59  315.58  278.17  313.84  38081600.0  2,257,850,000\n",
       "1  16-Sep-17  284.50  301.23  276.57  298.86  43702600.0  2,150,800,000\n",
       "2  15-Sep-17  236.05  300.11  220.51  284.36  72695500.0  1,784,040,000\n",
       "3  14-Sep-17  301.11  303.74  236.24  236.24  35013800.0  2,275,100,000\n",
       "4  13-Sep-17  324.72  325.16  287.25  301.29  28322500.0  2,452,930,000"
      ],
      "text/html": "<div>\n<style scoped>\n    .dataframe tbody tr th:only-of-type {\n        vertical-align: middle;\n    }\n\n    .dataframe tbody tr th {\n        vertical-align: top;\n    }\n\n    .dataframe thead th {\n        text-align: right;\n    }\n</style>\n<table border=\"1\" class=\"dataframe\">\n  <thead>\n    <tr style=\"text-align: right;\">\n      <th></th>\n      <th>Date</th>\n      <th>Open</th>\n      <th>High</th>\n      <th>Low</th>\n      <th>Close</th>\n      <th>Volume</th>\n      <th>Market Cap</th>\n    </tr>\n  </thead>\n  <tbody>\n    <tr>\n      <th>0</th>\n      <td>17-Sep-17</td>\n      <td>298.59</td>\n      <td>315.58</td>\n      <td>278.17</td>\n      <td>313.84</td>\n      <td>38081600.0</td>\n      <td>2,257,850,000</td>\n    </tr>\n    <tr>\n      <th>1</th>\n      <td>16-Sep-17</td>\n      <td>284.50</td>\n      <td>301.23</td>\n      <td>276.57</td>\n      <td>298.86</td>\n      <td>43702600.0</td>\n      <td>2,150,800,000</td>\n    </tr>\n    <tr>\n      <th>2</th>\n      <td>15-Sep-17</td>\n      <td>236.05</td>\n      <td>300.11</td>\n      <td>220.51</td>\n      <td>284.36</td>\n      <td>72695500.0</td>\n      <td>1,784,040,000</td>\n    </tr>\n    <tr>\n      <th>3</th>\n      <td>14-Sep-17</td>\n      <td>301.11</td>\n      <td>303.74</td>\n      <td>236.24</td>\n      <td>236.24</td>\n      <td>35013800.0</td>\n      <td>2,275,100,000</td>\n    </tr>\n    <tr>\n      <th>4</th>\n      <td>13-Sep-17</td>\n      <td>324.72</td>\n      <td>325.16</td>\n      <td>287.25</td>\n      <td>301.29</td>\n      <td>28322500.0</td>\n      <td>2,452,930,000</td>\n    </tr>\n  </tbody>\n</table>\n</div>"
     },
     "metadata": {},
     "execution_count": 28
    }
   ],
   "source": [
    "dash_df.head()"
   ]
  },
  {
   "cell_type": "code",
   "execution_count": 29,
   "metadata": {
    "collapsed": true
   },
   "outputs": [
    {
     "output_type": "execute_result",
     "data": {
      "text/plain": [
       "        Date  Open_x  High_x   Low_x  Close_x     Volume_x   Market Cap_x  \\\n",
       "0  17-Sep-17  438.90  438.90  384.06   419.86  221828000.0  7,279,520,000   \n",
       "1  16-Sep-17  424.49  450.98  388.20   440.22  313583000.0  7,039,590,000   \n",
       "2  15-Sep-17  369.49  448.39  301.69   424.02  707231000.0  6,126,800,000   \n",
       "3  14-Sep-17  504.22  510.47  367.04   367.04  257431000.0  8,359,650,000   \n",
       "4  13-Sep-17  509.47  519.20  471.22   503.61  340344000.0  8,445,540,000   \n",
       "\n",
       "   Open_y  High_y   Low_y  Close_y    Volume_y   Market Cap_y  \n",
       "0  298.59  315.58  278.17   313.84  38081600.0  2,257,850,000  \n",
       "1  284.50  301.23  276.57   298.86  43702600.0  2,150,800,000  \n",
       "2  236.05  300.11  220.51   284.36  72695500.0  1,784,040,000  \n",
       "3  301.11  303.74  236.24   236.24  35013800.0  2,275,100,000  \n",
       "4  324.72  325.16  287.25   301.29  28322500.0  2,452,930,000  "
      ],
      "text/html": "<div>\n<style scoped>\n    .dataframe tbody tr th:only-of-type {\n        vertical-align: middle;\n    }\n\n    .dataframe tbody tr th {\n        vertical-align: top;\n    }\n\n    .dataframe thead th {\n        text-align: right;\n    }\n</style>\n<table border=\"1\" class=\"dataframe\">\n  <thead>\n    <tr style=\"text-align: right;\">\n      <th></th>\n      <th>Date</th>\n      <th>Open_x</th>\n      <th>High_x</th>\n      <th>Low_x</th>\n      <th>Close_x</th>\n      <th>Volume_x</th>\n      <th>Market Cap_x</th>\n      <th>Open_y</th>\n      <th>High_y</th>\n      <th>Low_y</th>\n      <th>Close_y</th>\n      <th>Volume_y</th>\n      <th>Market Cap_y</th>\n    </tr>\n  </thead>\n  <tbody>\n    <tr>\n      <th>0</th>\n      <td>17-Sep-17</td>\n      <td>438.90</td>\n      <td>438.90</td>\n      <td>384.06</td>\n      <td>419.86</td>\n      <td>221828000.0</td>\n      <td>7,279,520,000</td>\n      <td>298.59</td>\n      <td>315.58</td>\n      <td>278.17</td>\n      <td>313.84</td>\n      <td>38081600.0</td>\n      <td>2,257,850,000</td>\n    </tr>\n    <tr>\n      <th>1</th>\n      <td>16-Sep-17</td>\n      <td>424.49</td>\n      <td>450.98</td>\n      <td>388.20</td>\n      <td>440.22</td>\n      <td>313583000.0</td>\n      <td>7,039,590,000</td>\n      <td>284.50</td>\n      <td>301.23</td>\n      <td>276.57</td>\n      <td>298.86</td>\n      <td>43702600.0</td>\n      <td>2,150,800,000</td>\n    </tr>\n    <tr>\n      <th>2</th>\n      <td>15-Sep-17</td>\n      <td>369.49</td>\n      <td>448.39</td>\n      <td>301.69</td>\n      <td>424.02</td>\n      <td>707231000.0</td>\n      <td>6,126,800,000</td>\n      <td>236.05</td>\n      <td>300.11</td>\n      <td>220.51</td>\n      <td>284.36</td>\n      <td>72695500.0</td>\n      <td>1,784,040,000</td>\n    </tr>\n    <tr>\n      <th>3</th>\n      <td>14-Sep-17</td>\n      <td>504.22</td>\n      <td>510.47</td>\n      <td>367.04</td>\n      <td>367.04</td>\n      <td>257431000.0</td>\n      <td>8,359,650,000</td>\n      <td>301.11</td>\n      <td>303.74</td>\n      <td>236.24</td>\n      <td>236.24</td>\n      <td>35013800.0</td>\n      <td>2,275,100,000</td>\n    </tr>\n    <tr>\n      <th>4</th>\n      <td>13-Sep-17</td>\n      <td>509.47</td>\n      <td>519.20</td>\n      <td>471.22</td>\n      <td>503.61</td>\n      <td>340344000.0</td>\n      <td>8,445,540,000</td>\n      <td>324.72</td>\n      <td>325.16</td>\n      <td>287.25</td>\n      <td>301.29</td>\n      <td>28322500.0</td>\n      <td>2,452,930,000</td>\n    </tr>\n  </tbody>\n</table>\n</div>"
     },
     "metadata": {},
     "execution_count": 29
    }
   ],
   "source": [
    "# Merge the two DataFrames together based on the Dates they share\n",
    "merged_df = pd.merge(bitcoin_df, dash_df, on='Date')\n",
    "merged_df.head()"
   ]
  },
  {
   "cell_type": "code",
   "execution_count": 30,
   "metadata": {
    "collapsed": true,
    "scrolled": true
   },
   "outputs": [
    {
     "output_type": "execute_result",
     "data": {
      "text/plain": [
       "        Date  Bitcoin Open  Bitcoin High  Bitcoin Low  Bitcoin Close  \\\n",
       "0  17-Sep-17        438.90        438.90       384.06         419.86   \n",
       "1  16-Sep-17        424.49        450.98       388.20         440.22   \n",
       "2  15-Sep-17        369.49        448.39       301.69         424.02   \n",
       "3  14-Sep-17        504.22        510.47       367.04         367.04   \n",
       "4  13-Sep-17        509.47        519.20       471.22         503.61   \n",
       "\n",
       "   Bitcoin Volume Bitcoin Market Cap  Dash Open  Dash High  Dash Low  \\\n",
       "0     221828000.0      7,279,520,000     298.59     315.58    278.17   \n",
       "1     313583000.0      7,039,590,000     284.50     301.23    276.57   \n",
       "2     707231000.0      6,126,800,000     236.05     300.11    220.51   \n",
       "3     257431000.0      8,359,650,000     301.11     303.74    236.24   \n",
       "4     340344000.0      8,445,540,000     324.72     325.16    287.25   \n",
       "\n",
       "   Dash Close  Dash Volume Dash Market Cap  \n",
       "0      313.84   38081600.0   2,257,850,000  \n",
       "1      298.86   43702600.0   2,150,800,000  \n",
       "2      284.36   72695500.0   1,784,040,000  \n",
       "3      236.24   35013800.0   2,275,100,000  \n",
       "4      301.29   28322500.0   2,452,930,000  "
      ],
      "text/html": "<div>\n<style scoped>\n    .dataframe tbody tr th:only-of-type {\n        vertical-align: middle;\n    }\n\n    .dataframe tbody tr th {\n        vertical-align: top;\n    }\n\n    .dataframe thead th {\n        text-align: right;\n    }\n</style>\n<table border=\"1\" class=\"dataframe\">\n  <thead>\n    <tr style=\"text-align: right;\">\n      <th></th>\n      <th>Date</th>\n      <th>Bitcoin Open</th>\n      <th>Bitcoin High</th>\n      <th>Bitcoin Low</th>\n      <th>Bitcoin Close</th>\n      <th>Bitcoin Volume</th>\n      <th>Bitcoin Market Cap</th>\n      <th>Dash Open</th>\n      <th>Dash High</th>\n      <th>Dash Low</th>\n      <th>Dash Close</th>\n      <th>Dash Volume</th>\n      <th>Dash Market Cap</th>\n    </tr>\n  </thead>\n  <tbody>\n    <tr>\n      <th>0</th>\n      <td>17-Sep-17</td>\n      <td>438.90</td>\n      <td>438.90</td>\n      <td>384.06</td>\n      <td>419.86</td>\n      <td>221828000.0</td>\n      <td>7,279,520,000</td>\n      <td>298.59</td>\n      <td>315.58</td>\n      <td>278.17</td>\n      <td>313.84</td>\n      <td>38081600.0</td>\n      <td>2,257,850,000</td>\n    </tr>\n    <tr>\n      <th>1</th>\n      <td>16-Sep-17</td>\n      <td>424.49</td>\n      <td>450.98</td>\n      <td>388.20</td>\n      <td>440.22</td>\n      <td>313583000.0</td>\n      <td>7,039,590,000</td>\n      <td>284.50</td>\n      <td>301.23</td>\n      <td>276.57</td>\n      <td>298.86</td>\n      <td>43702600.0</td>\n      <td>2,150,800,000</td>\n    </tr>\n    <tr>\n      <th>2</th>\n      <td>15-Sep-17</td>\n      <td>369.49</td>\n      <td>448.39</td>\n      <td>301.69</td>\n      <td>424.02</td>\n      <td>707231000.0</td>\n      <td>6,126,800,000</td>\n      <td>236.05</td>\n      <td>300.11</td>\n      <td>220.51</td>\n      <td>284.36</td>\n      <td>72695500.0</td>\n      <td>1,784,040,000</td>\n    </tr>\n    <tr>\n      <th>3</th>\n      <td>14-Sep-17</td>\n      <td>504.22</td>\n      <td>510.47</td>\n      <td>367.04</td>\n      <td>367.04</td>\n      <td>257431000.0</td>\n      <td>8,359,650,000</td>\n      <td>301.11</td>\n      <td>303.74</td>\n      <td>236.24</td>\n      <td>236.24</td>\n      <td>35013800.0</td>\n      <td>2,275,100,000</td>\n    </tr>\n    <tr>\n      <th>4</th>\n      <td>13-Sep-17</td>\n      <td>509.47</td>\n      <td>519.20</td>\n      <td>471.22</td>\n      <td>503.61</td>\n      <td>340344000.0</td>\n      <td>8,445,540,000</td>\n      <td>324.72</td>\n      <td>325.16</td>\n      <td>287.25</td>\n      <td>301.29</td>\n      <td>28322500.0</td>\n      <td>2,452,930,000</td>\n    </tr>\n  </tbody>\n</table>\n</div>"
     },
     "metadata": {},
     "execution_count": 30
    }
   ],
   "source": [
    "# Rename columns so that they are differentiated\n",
    "renamed_merged_data = merged_df.rename(columns={'Open_x':'Bitcoin Open','High_x':'Bitcoin High','Low_x':'Bitcoin Low','Close_x':'Bitcoin Close','Volume_x':'Bitcoin Volume','Market Cap_x':'Bitcoin Market Cap','Open_y':'Dash Open','High_y':'Dash High','Low_y':'Dash Low','Close_y':'Dash Close','Volume_y':'Dash Volume','Market Cap_y':'Dash Market Cap'})\n",
    "renamed_merged_data.head()"
   ]
  },
  {
   "cell_type": "code",
   "execution_count": 53,
   "metadata": {
    "collapsed": true
   },
   "outputs": [
    {
     "output_type": "execute_result",
     "data": {
      "text/plain": [
       "        Date  Open_Bitcoin  High_Bitcoin  Low_Bitcoin  Close_Bitcoin  \\\n",
       "0  17-Sep-17        438.90        438.90       384.06         419.86   \n",
       "1  16-Sep-17        424.49        450.98       388.20         440.22   \n",
       "2  15-Sep-17        369.49        448.39       301.69         424.02   \n",
       "3  14-Sep-17        504.22        510.47       367.04         367.04   \n",
       "4  13-Sep-17        509.47        519.20       471.22         503.61   \n",
       "\n",
       "   Volume_Bitcoin Market Cap_Bitcoin  Open_Dash  High_Dash  Low_Dash  \\\n",
       "0     221828000.0      7,279,520,000     298.59     315.58    278.17   \n",
       "1     313583000.0      7,039,590,000     284.50     301.23    276.57   \n",
       "2     707231000.0      6,126,800,000     236.05     300.11    220.51   \n",
       "3     257431000.0      8,359,650,000     301.11     303.74    236.24   \n",
       "4     340344000.0      8,445,540,000     324.72     325.16    287.25   \n",
       "\n",
       "   Close_Dash  Volume_Dash Market Cap_Dash  \n",
       "0      313.84   38081600.0   2,257,850,000  \n",
       "1      298.86   43702600.0   2,150,800,000  \n",
       "2      284.36   72695500.0   1,784,040,000  \n",
       "3      236.24   35013800.0   2,275,100,000  \n",
       "4      301.29   28322500.0   2,452,930,000  "
      ],
      "text/html": "<div>\n<style scoped>\n    .dataframe tbody tr th:only-of-type {\n        vertical-align: middle;\n    }\n\n    .dataframe tbody tr th {\n        vertical-align: top;\n    }\n\n    .dataframe thead th {\n        text-align: right;\n    }\n</style>\n<table border=\"1\" class=\"dataframe\">\n  <thead>\n    <tr style=\"text-align: right;\">\n      <th></th>\n      <th>Date</th>\n      <th>Open_Bitcoin</th>\n      <th>High_Bitcoin</th>\n      <th>Low_Bitcoin</th>\n      <th>Close_Bitcoin</th>\n      <th>Volume_Bitcoin</th>\n      <th>Market Cap_Bitcoin</th>\n      <th>Open_Dash</th>\n      <th>High_Dash</th>\n      <th>Low_Dash</th>\n      <th>Close_Dash</th>\n      <th>Volume_Dash</th>\n      <th>Market Cap_Dash</th>\n    </tr>\n  </thead>\n  <tbody>\n    <tr>\n      <th>0</th>\n      <td>17-Sep-17</td>\n      <td>438.90</td>\n      <td>438.90</td>\n      <td>384.06</td>\n      <td>419.86</td>\n      <td>221828000.0</td>\n      <td>7,279,520,000</td>\n      <td>298.59</td>\n      <td>315.58</td>\n      <td>278.17</td>\n      <td>313.84</td>\n      <td>38081600.0</td>\n      <td>2,257,850,000</td>\n    </tr>\n    <tr>\n      <th>1</th>\n      <td>16-Sep-17</td>\n      <td>424.49</td>\n      <td>450.98</td>\n      <td>388.20</td>\n      <td>440.22</td>\n      <td>313583000.0</td>\n      <td>7,039,590,000</td>\n      <td>284.50</td>\n      <td>301.23</td>\n      <td>276.57</td>\n      <td>298.86</td>\n      <td>43702600.0</td>\n      <td>2,150,800,000</td>\n    </tr>\n    <tr>\n      <th>2</th>\n      <td>15-Sep-17</td>\n      <td>369.49</td>\n      <td>448.39</td>\n      <td>301.69</td>\n      <td>424.02</td>\n      <td>707231000.0</td>\n      <td>6,126,800,000</td>\n      <td>236.05</td>\n      <td>300.11</td>\n      <td>220.51</td>\n      <td>284.36</td>\n      <td>72695500.0</td>\n      <td>1,784,040,000</td>\n    </tr>\n    <tr>\n      <th>3</th>\n      <td>14-Sep-17</td>\n      <td>504.22</td>\n      <td>510.47</td>\n      <td>367.04</td>\n      <td>367.04</td>\n      <td>257431000.0</td>\n      <td>8,359,650,000</td>\n      <td>301.11</td>\n      <td>303.74</td>\n      <td>236.24</td>\n      <td>236.24</td>\n      <td>35013800.0</td>\n      <td>2,275,100,000</td>\n    </tr>\n    <tr>\n      <th>4</th>\n      <td>13-Sep-17</td>\n      <td>509.47</td>\n      <td>519.20</td>\n      <td>471.22</td>\n      <td>503.61</td>\n      <td>340344000.0</td>\n      <td>8,445,540,000</td>\n      <td>324.72</td>\n      <td>325.16</td>\n      <td>287.25</td>\n      <td>301.29</td>\n      <td>28322500.0</td>\n      <td>2,452,930,000</td>\n    </tr>\n  </tbody>\n</table>\n</div>"
     },
     "metadata": {},
     "execution_count": 53
    }
   ],
   "source": [
    "# alternatively you can set your suffixes when the merge occurs\n",
    "alternative_df = pd.merge(bitcoin_df, dash_df, on='Date', suffixes=(\"_Bitcoin\",\"_Dash\"))\n",
    "alternative_df.head()"
   ]
  },
  {
   "cell_type": "code",
   "execution_count": 56,
   "metadata": {
    "collapsed": true
   },
   "outputs": [
    {
     "output_type": "execute_result",
     "data": {
      "text/plain": [
       "Date                       9-Sep-17\n",
       "Bitcoin Open                 772.42\n",
       "Bitcoin High                1091.97\n",
       "Bitcoin Low                  683.94\n",
       "Bitcoin Close                754.56\n",
       "Bitcoin Volume          3.19623e+09\n",
       "Bitcoin Market Cap    9,866,110,000\n",
       "Dash Open                    400.42\n",
       "Dash High                    409.77\n",
       "Dash Low                     376.34\n",
       "Dash Close                   399.85\n",
       "Dash Volume             2.67415e+08\n",
       "Dash Market Cap       3,009,530,000\n",
       "dtype: object"
      ]
     },
     "metadata": {},
     "execution_count": 56
    }
   ],
   "source": [
    "# Collecting best open for Bitcoin and Dash\n",
    "best_open_bitcoin = renamed_merged_data.sort_values('Bitcoin Open').max()\n",
    "best_open_bitcoin"
   ]
  },
  {
   "cell_type": "code",
   "execution_count": 33,
   "metadata": {},
   "outputs": [
    {
     "output_type": "execute_result",
     "data": {
      "text/plain": [
       "         Date  Bitcoin Open  Bitcoin High  Bitcoin Low  Bitcoin Close  \\\n",
       "21  27-Aug-17        625.89        654.87       589.63          620.9   \n",
       "\n",
       "    Bitcoin Volume Bitcoin Market Cap  Dash Open  Dash High  Dash Low  \\\n",
       "21     402718000.0     10,357,000,000     400.42     400.63    358.23   \n",
       "\n",
       "    Dash Close  Dash Volume Dash Market Cap  \n",
       "21      362.89  121516000.0   3,009,530,000  "
      ],
      "text/html": "<div>\n<style scoped>\n    .dataframe tbody tr th:only-of-type {\n        vertical-align: middle;\n    }\n\n    .dataframe tbody tr th {\n        vertical-align: top;\n    }\n\n    .dataframe thead th {\n        text-align: right;\n    }\n</style>\n<table border=\"1\" class=\"dataframe\">\n  <thead>\n    <tr style=\"text-align: right;\">\n      <th></th>\n      <th>Date</th>\n      <th>Bitcoin Open</th>\n      <th>Bitcoin High</th>\n      <th>Bitcoin Low</th>\n      <th>Bitcoin Close</th>\n      <th>Bitcoin Volume</th>\n      <th>Bitcoin Market Cap</th>\n      <th>Dash Open</th>\n      <th>Dash High</th>\n      <th>Dash Low</th>\n      <th>Dash Close</th>\n      <th>Dash Volume</th>\n      <th>Dash Market Cap</th>\n    </tr>\n  </thead>\n  <tbody>\n    <tr>\n      <th>21</th>\n      <td>27-Aug-17</td>\n      <td>625.89</td>\n      <td>654.87</td>\n      <td>589.63</td>\n      <td>620.9</td>\n      <td>402718000.0</td>\n      <td>10,357,000,000</td>\n      <td>400.42</td>\n      <td>400.63</td>\n      <td>358.23</td>\n      <td>362.89</td>\n      <td>121516000.0</td>\n      <td>3,009,530,000</td>\n    </tr>\n  </tbody>\n</table>\n</div>"
     },
     "metadata": {},
     "execution_count": 33
    }
   ],
   "source": [
    "\n",
    "\n",
    "best_open_dash = renamed_merged_data.sort_values('Dash Open').max()\n",
    "best_open_dash"
   ]
  },
  {
   "cell_type": "code",
   "execution_count": 34,
   "metadata": {},
   "outputs": [
    {
     "output_type": "execute_result",
     "data": {
      "text/plain": [
       "         Date  Bitcoin Open  Bitcoin High  Bitcoin Low  Bitcoin Close  \\\n",
       "29  19-Aug-17        697.04       1091.97       625.16         754.56   \n",
       "\n",
       "    Bitcoin Volume Bitcoin Market Cap  Dash Open  Dash High  Dash Low  \\\n",
       "29    3.196230e+09     11,498,100,000     224.67     329.98    224.67   \n",
       "\n",
       "    Dash Close  Dash Volume Dash Market Cap  \n",
       "29       288.7  220487000.0   1,685,040,000  "
      ],
      "text/html": "<div>\n<style scoped>\n    .dataframe tbody tr th:only-of-type {\n        vertical-align: middle;\n    }\n\n    .dataframe tbody tr th {\n        vertical-align: top;\n    }\n\n    .dataframe thead th {\n        text-align: right;\n    }\n</style>\n<table border=\"1\" class=\"dataframe\">\n  <thead>\n    <tr style=\"text-align: right;\">\n      <th></th>\n      <th>Date</th>\n      <th>Bitcoin Open</th>\n      <th>Bitcoin High</th>\n      <th>Bitcoin Low</th>\n      <th>Bitcoin Close</th>\n      <th>Bitcoin Volume</th>\n      <th>Bitcoin Market Cap</th>\n      <th>Dash Open</th>\n      <th>Dash High</th>\n      <th>Dash Low</th>\n      <th>Dash Close</th>\n      <th>Dash Volume</th>\n      <th>Dash Market Cap</th>\n    </tr>\n  </thead>\n  <tbody>\n    <tr>\n      <th>29</th>\n      <td>19-Aug-17</td>\n      <td>697.04</td>\n      <td>1091.97</td>\n      <td>625.16</td>\n      <td>754.56</td>\n      <td>3.196230e+09</td>\n      <td>11,498,100,000</td>\n      <td>224.67</td>\n      <td>329.98</td>\n      <td>224.67</td>\n      <td>288.7</td>\n      <td>220487000.0</td>\n      <td>1,685,040,000</td>\n    </tr>\n  </tbody>\n</table>\n</div>"
     },
     "metadata": {},
     "execution_count": 34
    }
   ],
   "source": [
    "# Collecting best close for Bitcoin and Dash\n",
    "best_close_bitcoin = renamed_merged_data.sort_values('Bitcoin Close').max()\n",
    "best_close_bitcoin"
   ]
  },
  {
   "cell_type": "code",
   "execution_count": 35,
   "metadata": {},
   "outputs": [
    {
     "output_type": "execute_result",
     "data": {
      "text/plain": [
       "         Date  Bitcoin Open  Bitcoin High  Bitcoin Low  Bitcoin Close  \\\n",
       "22  26-Aug-17        641.88        646.93       622.36         625.32   \n",
       "\n",
       "    Bitcoin Volume Bitcoin Market Cap  Dash Open  Dash High  Dash Low  \\\n",
       "22     193414000.0     10,616,100,000     315.28     409.77    315.28   \n",
       "\n",
       "    Dash Close  Dash Volume Dash Market Cap  \n",
       "22      399.85  267415000.0   2,369,010,000  "
      ],
      "text/html": "<div>\n<style scoped>\n    .dataframe tbody tr th:only-of-type {\n        vertical-align: middle;\n    }\n\n    .dataframe tbody tr th {\n        vertical-align: top;\n    }\n\n    .dataframe thead th {\n        text-align: right;\n    }\n</style>\n<table border=\"1\" class=\"dataframe\">\n  <thead>\n    <tr style=\"text-align: right;\">\n      <th></th>\n      <th>Date</th>\n      <th>Bitcoin Open</th>\n      <th>Bitcoin High</th>\n      <th>Bitcoin Low</th>\n      <th>Bitcoin Close</th>\n      <th>Bitcoin Volume</th>\n      <th>Bitcoin Market Cap</th>\n      <th>Dash Open</th>\n      <th>Dash High</th>\n      <th>Dash Low</th>\n      <th>Dash Close</th>\n      <th>Dash Volume</th>\n      <th>Dash Market Cap</th>\n    </tr>\n  </thead>\n  <tbody>\n    <tr>\n      <th>22</th>\n      <td>26-Aug-17</td>\n      <td>641.88</td>\n      <td>646.93</td>\n      <td>622.36</td>\n      <td>625.32</td>\n      <td>193414000.0</td>\n      <td>10,616,100,000</td>\n      <td>315.28</td>\n      <td>409.77</td>\n      <td>315.28</td>\n      <td>399.85</td>\n      <td>267415000.0</td>\n      <td>2,369,010,000</td>\n    </tr>\n  </tbody>\n</table>\n</div>"
     },
     "metadata": {},
     "execution_count": 35
    }
   ],
   "source": [
    "best_close_dash = renamed_merged_data.sort_values('Dash Close').max()\n",
    "best_close_dash"
   ]
  },
  {
   "cell_type": "code",
   "execution_count": 55,
   "metadata": {},
   "outputs": [],
   "source": [
    "# Collecting the best total volume for Bitcoin and Dash\n",
    "bitcoin_volume = round(renamed_merged_data[\"Bitcoin Volume\"].sum()/1000000,2)\n",
    "dash_volume = round(renamed_merged_data[\"Dash Volume\"].sum()/1000000,2)"
   ]
  },
  {
   "cell_type": "code",
   "execution_count": 58,
   "metadata": {
    "collapsed": true
   },
   "outputs": [
    {
     "output_type": "execute_result",
     "data": {
      "text/plain": [
       "                   Best Open Bitcoin\n",
       "Date                        9-Sep-17\n",
       "Bitcoin Open                  772.42\n",
       "Bitcoin High                 1091.97\n",
       "Bitcoin Low                   683.94\n",
       "Bitcoin Close                 754.56\n",
       "Bitcoin Volume           3.19623e+09\n",
       "Bitcoin Market Cap     9,866,110,000\n",
       "Dash Open                     400.42\n",
       "Dash High                     409.77\n",
       "Dash Low                      376.34\n",
       "Dash Close                    399.85\n",
       "Dash Volume              2.67415e+08\n",
       "Dash Market Cap        3,009,530,000"
      ],
      "text/html": "<div>\n<style scoped>\n    .dataframe tbody tr th:only-of-type {\n        vertical-align: middle;\n    }\n\n    .dataframe tbody tr th {\n        vertical-align: top;\n    }\n\n    .dataframe thead th {\n        text-align: right;\n    }\n</style>\n<table border=\"1\" class=\"dataframe\">\n  <thead>\n    <tr style=\"text-align: right;\">\n      <th></th>\n      <th>Best Open Bitcoin</th>\n    </tr>\n  </thead>\n  <tbody>\n    <tr>\n      <th>Date</th>\n      <td>9-Sep-17</td>\n    </tr>\n    <tr>\n      <th>Bitcoin Open</th>\n      <td>772.42</td>\n    </tr>\n    <tr>\n      <th>Bitcoin High</th>\n      <td>1091.97</td>\n    </tr>\n    <tr>\n      <th>Bitcoin Low</th>\n      <td>683.94</td>\n    </tr>\n    <tr>\n      <th>Bitcoin Close</th>\n      <td>754.56</td>\n    </tr>\n    <tr>\n      <th>Bitcoin Volume</th>\n      <td>3.19623e+09</td>\n    </tr>\n    <tr>\n      <th>Bitcoin Market Cap</th>\n      <td>9,866,110,000</td>\n    </tr>\n    <tr>\n      <th>Dash Open</th>\n      <td>400.42</td>\n    </tr>\n    <tr>\n      <th>Dash High</th>\n      <td>409.77</td>\n    </tr>\n    <tr>\n      <th>Dash Low</th>\n      <td>376.34</td>\n    </tr>\n    <tr>\n      <th>Dash Close</th>\n      <td>399.85</td>\n    </tr>\n    <tr>\n      <th>Dash Volume</th>\n      <td>2.67415e+08</td>\n    </tr>\n    <tr>\n      <th>Dash Market Cap</th>\n      <td>3,009,530,000</td>\n    </tr>\n  </tbody>\n</table>\n</div>"
     },
     "metadata": {},
     "execution_count": 58
    }
   ],
   "source": [
    "# Creating a summary DataFrame using above values\n",
    "summary_df = pd.DataFrame({'Best Open Bitcoin': best_open_bitcoin,\n",
    "'Best Open Dash': best_open_dash, 'Best Close Bitcoin': best_close_bitcoin, 'Best Close Dash': best_close_dash, 'Bitcoin Volume': bitcoin_volume, 'Dash Volume': dash_volume})\n",
    "summary_df"
   ]
  },
  {
   "cell_type": "code",
   "execution_count": null,
   "metadata": {},
   "outputs": [],
   "source": []
  }
 ],
 "metadata": {
  "kernelspec": {
   "name": "python3",
   "display_name": "Python 3.6.10 64-bit ('PythonData': conda)"
  },
  "language_info": {
   "codemirror_mode": {
    "name": "ipython",
    "version": 3
   },
   "file_extension": ".py",
   "mimetype": "text/x-python",
   "name": "python",
   "nbconvert_exporter": "python",
   "pygments_lexer": "ipython3",
   "version": "3.6.10"
  },
  "interpreter": {
   "hash": "6f1c02d1c161c5d027715177dca30aa2b11c766fe1b39fbb30619813eef2dd31"
  }
 },
 "nbformat": 4,
 "nbformat_minor": 2
}