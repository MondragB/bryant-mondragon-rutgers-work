{
 "cells": [
  {
   "cell_type": "code",
   "execution_count": 21,
   "source": [
    "# Dependancies\r\n",
    "import pymongo\r\n",
    "import datetime"
   ],
   "outputs": [],
   "metadata": {}
  },
  {
   "cell_type": "code",
   "execution_count": 17,
   "source": [
    "# Connection setup to MongoDB\r\n",
    "conn = 'mongodb://localhost:27017'\r\n",
    "client = pymongo.MongoClient(conn)\r\n",
    "\r\n",
    "# Use database named \"fruits_db\" - should create if it doesn't exist(?)'\r\n",
    "db = client[\"fruits_db\"]\r\n",
    "\r\n",
    "# New collection named \"fruits\"\r\n",
    "fruits = db[\"fruits\"]"
   ],
   "outputs": [],
   "metadata": {}
  },
  {
   "cell_type": "markdown",
   "source": [
    "# Part I"
   ],
   "metadata": {}
  },
  {
   "cell_type": "code",
   "execution_count": 18,
   "source": [
    "# Inserting data into the fruits\r\n",
    "db.fruits.insert_one(\r\n",
    "    {\r\n",
    "        'Vendor Name': 'Stop-N-Shop',\r\n",
    "        'Quantity Receieved': 100,\r\n",
    "        'Ripeness Rating': '2'\r\n",
    "    }\r\n",
    ")\r\n",
    "\r\n",
    "db.fruits.insert_one(\r\n",
    "    {\r\n",
    "        'Vendor Name': 'ShopRight',\r\n",
    "        'Quantity Receieved': 200,\r\n",
    "        'Ripeness Rating': '1'\r\n",
    "    }\r\n",
    ")"
   ],
   "outputs": [
    {
     "output_type": "execute_result",
     "data": {
      "text/plain": [
       "<pymongo.results.InsertOneResult at 0x15a79929c08>"
      ]
     },
     "metadata": {},
     "execution_count": 18
    }
   ],
   "metadata": {}
  },
  {
   "cell_type": "markdown",
   "source": [
    "# Part II & III (Time function added)\r\n",
    "\r\n",
    "- Maybe add a while loop to asking how many Vendors you want to add a time (?)"
   ],
   "metadata": {}
  },
  {
   "cell_type": "code",
   "execution_count": 22,
   "source": [
    "user_name = input(\"What is your Vendor Name?\")\r\n",
    "user_quantity = input(\"How much fruit are you shipping?\")\r\n",
    "user_ripeness = input(\"What is the ripeness rating of your fruit? Please enter 1, 2, or 3\")\r\n",
    "\r\n",
    "db.fruits.insert_one(\r\n",
    "    {\r\n",
    "        'Vendor Name': user_name,\r\n",
    "        'Quantity Receieved': user_quantity,\r\n",
    "        'Ripeness Rating': user_ripeness,\r\n",
    "        'Time Added' : datetime.datetime.now()\r\n",
    "    }\r\n",
    ")"
   ],
   "outputs": [
    {
     "output_type": "execute_result",
     "data": {
      "text/plain": [
       "<pymongo.results.InsertOneResult at 0x15a79947408>"
      ]
     },
     "metadata": {},
     "execution_count": 22
    }
   ],
   "metadata": {}
  }
 ],
 "metadata": {
  "kernelspec": {
   "name": "python3",
   "display_name": "Python 3.6.10 64-bit ('PythonData': conda)"
  },
  "language_info": {
   "codemirror_mode": {
    "name": "ipython",
    "version": 3
   },
   "file_extension": ".py",
   "mimetype": "text/x-python",
   "name": "python",
   "nbconvert_exporter": "python",
   "pygments_lexer": "ipython3",
   "version": "3.6.10"
  },
  "interpreter": {
   "hash": "6f1c02d1c161c5d027715177dca30aa2b11c766fe1b39fbb30619813eef2dd31"
  }
 },
 "nbformat": 4,
 "nbformat_minor": 2
}