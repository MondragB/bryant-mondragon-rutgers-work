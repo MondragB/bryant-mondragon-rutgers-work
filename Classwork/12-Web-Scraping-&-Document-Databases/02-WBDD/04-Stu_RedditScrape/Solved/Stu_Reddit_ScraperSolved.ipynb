{
 "cells": [
  {
   "cell_type": "code",
   "execution_count": 1,
   "source": [
    "# Dependencies\r\n",
    "from bs4 import BeautifulSoup\r\n",
    "import requests\r\n",
    "import os"
   ],
   "outputs": [],
   "metadata": {}
  },
  {
   "cell_type": "code",
   "execution_count": 3,
   "source": [
    "filepath = os.path.join(\"Stu_Reddit_ScraperSolved.html\")\r\n",
    "with open(filepath, encoding='utf-8') as file:\r\n",
    "    html = file.read()"
   ],
   "outputs": [],
   "metadata": {}
  },
  {
   "cell_type": "code",
   "execution_count": 4,
   "source": [
    "# Create BeautifulSoup object; parse with 'html.parser'\r\n",
    "soup = BeautifulSoup(html, 'html.parser')"
   ],
   "outputs": [],
   "metadata": {}
  },
  {
   "cell_type": "code",
   "execution_count": 17,
   "source": [
    "# Find the class subscribers then find the class with number\r\n",
    "# to get the number of subscribers\r\n",
    "subscribers = soup.find('span', class_='number')\r\n",
    "subscribers.text\r\n"
   ],
   "outputs": [
    {
     "output_type": "execute_result",
     "data": {
      "text/plain": [
       "'422,381'"
      ]
     },
     "metadata": {},
     "execution_count": 17
    }
   ],
   "metadata": {}
  },
  {
   "cell_type": "code",
   "execution_count": 27,
   "source": [
    "# Examine the results, then determine element that contains sought info\r\n",
    "# results are returned as an iterable list\r\n",
    "results = soup.find_all('div', class_='top-matter')"
   ],
   "outputs": [],
   "metadata": {}
  },
  {
   "cell_type": "code",
   "execution_count": 31,
   "source": [
    "# Loop through returned results\r\n",
    "for result in results:\r\n",
    "    # Retrieve the thread title\r\n",
    "    title = result.find('p', class_='title')\r\n",
    "    # Access the thread's text content\r\n",
    "    title_text = title.a.text\r\n",
    "    try:\r\n",
    "        # Access the thread with CSS selectors\r\n",
    "        thread = result.find('li', class_='first')\r\n",
    "        # The number of comments made in the thread\r\n",
    "        comments = thread.text.lstrip()\r\n",
    "        # Parse string, e.g. '47 comments' for possible numeric manipulation\r\n",
    "        comments_num = int(comments.split()[0])\r\n",
    "        # Access the href attribute with bracket notation\r\n",
    "        link = thread.a['href']\r\n",
    "        # Run if the thread has 20 or more comments\r\n",
    "        if (comments_num >= 20):\r\n",
    "            print('\\n-----------------\\n')\r\n",
    "            print(title_text)\r\n",
    "            print('Comments:', comments_num)\r\n",
    "            print(link)\r\n",
    "    except AttributeError as e:\r\n",
    "        print(e)"
   ],
   "outputs": [
    {
     "output_type": "stream",
     "name": "stdout",
     "text": [
      "'NoneType' object has no attribute 'text'\n",
      "\n",
      "-----------------\n",
      "\n",
      "[Meta] Clarification on rules\n",
      "Comments: 79\n",
      "https://www.reddit.com/r/ProgrammerHumor/comments/6y2b47/meta_clarification_on_rules/\n",
      "\n",
      "-----------------\n",
      "\n",
      "Doing conditionals\n",
      "Comments: 258\n",
      "https://www.reddit.com/r/ProgrammerHumor/comments/7pw5qk/doing_conditionals/\n",
      "\n",
      "-----------------\n",
      "\n",
      "Perfect date\n",
      "Comments: 58\n",
      "https://www.reddit.com/r/ProgrammerHumor/comments/7pyyl2/perfect_date/\n",
      "\n",
      "-----------------\n",
      "\n",
      "The truth about java.\n",
      "Comments: 61\n",
      "https://www.reddit.com/r/ProgrammerHumor/comments/7pxod4/the_truth_about_java/\n",
      "\n",
      "-----------------\n",
      "\n",
      "It all makes sense now.\n",
      "Comments: 341\n",
      "https://www.reddit.com/r/ProgrammerHumor/comments/7pp66f/it_all_makes_sense_now/\n",
      "\n",
      "-----------------\n",
      "\n",
      "This is where US's bandwidth going.\n",
      "Comments: 20\n",
      "https://www.reddit.com/r/ProgrammerHumor/comments/7pv1ta/this_is_where_uss_bandwidth_going/\n"
     ]
    }
   ],
   "metadata": {}
  },
  {
   "cell_type": "code",
   "execution_count": null,
   "source": [
    "# BONUS\r\n",
    "# Try to scrape the site using the URL\r\n",
    "# url = 'https://www.reddit.com/r/ProgrammingHumor/'\r\n",
    "\r\n",
    "# Retrieve page with the requests module\r\n",
    "# html = requests.get(url)"
   ],
   "outputs": [],
   "metadata": {}
  },
  {
   "cell_type": "code",
   "execution_count": null,
   "source": [],
   "outputs": [],
   "metadata": {}
  }
 ],
 "metadata": {
  "kernelspec": {
   "name": "python3",
   "display_name": "Python 3.6.10 64-bit ('PythonData': conda)"
  },
  "language_info": {
   "codemirror_mode": {
    "name": "ipython",
    "version": 3
   },
   "file_extension": ".py",
   "mimetype": "text/x-python",
   "name": "python",
   "nbconvert_exporter": "python",
   "pygments_lexer": "ipython3",
   "version": "3.6.10"
  },
  "varInspector": {
   "cols": {
    "lenName": 16,
    "lenType": 16,
    "lenVar": 40
   },
   "kernels_config": {
    "python": {
     "delete_cmd_postfix": "",
     "delete_cmd_prefix": "del ",
     "library": "var_list.py",
     "varRefreshCmd": "print(var_dic_list())"
    },
    "r": {
     "delete_cmd_postfix": ") ",
     "delete_cmd_prefix": "rm(",
     "library": "var_list.r",
     "varRefreshCmd": "cat(var_dic_list()) "
    }
   },
   "types_to_exclude": [
    "module",
    "function",
    "builtin_function_or_method",
    "instance",
    "_Feature"
   ],
   "window_display": false
  },
  "interpreter": {
   "hash": "6f1c02d1c161c5d027715177dca30aa2b11c766fe1b39fbb30619813eef2dd31"
  }
 },
 "nbformat": 4,
 "nbformat_minor": 2
}