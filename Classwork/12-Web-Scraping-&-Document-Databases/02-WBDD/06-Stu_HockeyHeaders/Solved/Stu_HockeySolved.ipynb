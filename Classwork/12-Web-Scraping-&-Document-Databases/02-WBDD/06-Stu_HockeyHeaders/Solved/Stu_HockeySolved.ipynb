{
 "cells": [
  {
   "cell_type": "code",
   "execution_count": 2,
   "source": [
    "# Dependencies\r\n",
    "from bs4 import BeautifulSoup\r\n",
    "import requests\r\n",
    "import pymongo"
   ],
   "outputs": [],
   "metadata": {
    "collapsed": true
   }
  },
  {
   "cell_type": "code",
   "execution_count": 3,
   "source": [
    "# Initialize PyMongo to work with MongoDBs\r\n",
    "conn = 'mongodb://localhost:27017'\r\n",
    "client = pymongo.MongoClient(conn)"
   ],
   "outputs": [],
   "metadata": {
    "collapsed": true
   }
  },
  {
   "cell_type": "code",
   "execution_count": 4,
   "source": [
    "# Define database and collection\r\n",
    "db = client.nhl_db\r\n",
    "collection = db.articles"
   ],
   "outputs": [],
   "metadata": {
    "collapsed": true
   }
  },
  {
   "cell_type": "code",
   "execution_count": 5,
   "source": [
    "# URL of page to be scraped\r\n",
    "url = 'https://www.nhl.com  /news'"
   ],
   "outputs": [],
   "metadata": {
    "collapsed": true
   }
  },
  {
   "cell_type": "code",
   "execution_count": 6,
   "source": [
    "# Retrieve page with the requests module\r\n",
    "response = requests.get(url)"
   ],
   "outputs": [],
   "metadata": {
    "collapsed": true
   }
  },
  {
   "cell_type": "code",
   "execution_count": 16,
   "source": [
    "# Create BeautifulSoup object; parse with 'html.parser'\r\n",
    "soup = BeautifulSoup(response.text, 'html.parser');"
   ],
   "outputs": [],
   "metadata": {
    "collapsed": true
   }
  },
  {
   "cell_type": "code",
   "execution_count": 17,
   "source": [
    "# Retrieve the parent divs for all articles\r\n",
    "results = soup.find_all('div', class_='template--article__content')\r\n",
    "# loop over results to get article data\r\n",
    "for result in results:\r\n",
    "    # scrape the article header \r\n",
    "    header = result.find('h1', class_='article-item__headline').text\r\n",
    "    \r\n",
    "    # scrape the article subheader\r\n",
    "    subheader = result.find('h2', class_='article-item__subheader').text\r\n",
    "    \r\n",
    "    # scrape the datetime\r\n",
    "    datetime = result.find('span', class_='article-item__date')['data-date']\r\n",
    "    # get only the date from the datetime\r\n",
    "    date = datetime.split('T')[0]\r\n",
    "    # print article data\r\n",
    "    print('-----------------')\r\n",
    "    print(header)\r\n",
    "    print(subheader)\r\n",
    "    print(date)\r\n",
    "\r\n",
    "    # Dictionary to be inserted into MongoDB\r\n",
    "    post = {\r\n",
    "        'header': header,\r\n",
    "        'subheader': subheader,\r\n",
    "        'date': date\r\n",
    "    }\r\n",
    "\r\n",
    "    # Insert dictionary into MongoDB as a document\r\n",
    "    collection.insert_one(post)"
   ],
   "outputs": [
    {
     "output_type": "stream",
     "name": "stdout",
     "text": [
      "-----------------\n",
      "Best defenseman for 2021-22 season debated by NHL.com writers\n",
      "Makar, Hedman, Fox among choices\n",
      "2021-08-18\n"
     ]
    }
   ],
   "metadata": {
    "collapsed": true
   }
  },
  {
   "cell_type": "code",
   "execution_count": 14,
   "source": [
    "# Display the MongoDB records created above\r\n",
    "articles = db.articles.find()\r\n",
    "for article in articles:\r\n",
    "    print(article)"
   ],
   "outputs": [
    {
     "output_type": "stream",
     "name": "stdout",
     "text": [
      "{'_id': ObjectId('611c55fbd96eb89068c18e64'), 'header': 'Best defenseman for 2021-22 season debated by NHL.com writers', 'subheader': 'Makar, Hedman, Fox among choices', 'date': '2021-08-18'}\n"
     ]
    }
   ],
   "metadata": {
    "collapsed": true
   }
  }
 ],
 "metadata": {
  "kernelspec": {
   "name": "python3",
   "display_name": "Python 3.6.10 64-bit ('PythonData': conda)"
  },
  "language_info": {
   "codemirror_mode": {
    "name": "ipython",
    "version": 3
   },
   "file_extension": ".py",
   "mimetype": "text/x-python",
   "name": "python",
   "nbconvert_exporter": "python",
   "pygments_lexer": "ipython3",
   "version": "3.6.10"
  },
  "varInspector": {
   "cols": {
    "lenName": 16,
    "lenType": 16,
    "lenVar": 40
   },
   "kernels_config": {
    "python": {
     "delete_cmd_postfix": "",
     "delete_cmd_prefix": "del ",
     "library": "var_list.py",
     "varRefreshCmd": "print(var_dic_list())"
    },
    "r": {
     "delete_cmd_postfix": ") ",
     "delete_cmd_prefix": "rm(",
     "library": "var_list.r",
     "varRefreshCmd": "cat(var_dic_list()) "
    }
   },
   "types_to_exclude": [
    "module",
    "function",
    "builtin_function_or_method",
    "instance",
    "_Feature"
   ],
   "window_display": false
  },
  "interpreter": {
   "hash": "6f1c02d1c161c5d027715177dca30aa2b11c766fe1b39fbb30619813eef2dd31"
  }
 },
 "nbformat": 4,
 "nbformat_minor": 2
}