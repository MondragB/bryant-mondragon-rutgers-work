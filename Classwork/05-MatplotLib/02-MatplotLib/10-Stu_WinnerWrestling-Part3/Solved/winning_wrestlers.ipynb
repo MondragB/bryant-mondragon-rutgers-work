{
 "cells": [
  {
   "cell_type": "markdown",
   "metadata": {},
   "source": [
    "# Winning Wrestlers Entertainment\n",
    "\n",
    "In this activity you will be taking four separate csvs that were scraped down from a wrestling database, merging them together, and then creating charts to visualize a wrestler's wins and losses over the course of four years.\n",
    "\n",
    "### Part 1 - Macho Merging\n",
    "\n",
    "* You will likely need to perform three different merges over the course of this activity, changing the names of your columns as you go along."
   ]
  },
  {
   "cell_type": "code",
   "execution_count": 1,
   "metadata": {},
   "outputs": [],
   "source": [
    "import matplotlib.pyplot as plt\n",
    "import pandas as pd\n",
    "import numpy as np"
   ]
  },
  {
   "cell_type": "code",
   "execution_count": 2,
   "metadata": {},
   "outputs": [],
   "source": [
    "# Take in all of our wrestling data and read it into pandas\n",
    "wrestling_2013 = \"../Resources/WWE-Data-2013.csv\"\n",
    "wrestling_2014 = \"../Resources/WWE-Data-2014.csv\"\n",
    "wrestling_2015 = \"../Resources/WWE-Data-2015.csv\"\n",
    "wrestling_2016 = \"../Resources/WWE-Data-2016.csv\"\n",
    "\n",
    "wrestlers_2013_df = pd.read_csv(wrestling_2013)\n",
    "wrestlers_2014_df = pd.read_csv(wrestling_2014)\n",
    "wrestlers_2015_df = pd.read_csv(wrestling_2015)\n",
    "wrestlers_2016_df = pd.read_csv(wrestling_2016)"
   ]
  },
  {
   "cell_type": "code",
   "execution_count": 3,
   "metadata": {},
   "outputs": [
    {
     "output_type": "execute_result",
     "data": {
      "text/plain": [
       "           Wrestler  Wins_x  Losses_x  Draws_x  Wins_y  Losses_y  Draws_y\n",
       "0      Daniel Bryan   177.0      37.0      6.0    35.0      16.0      2.0\n",
       "1      Dean Ambrose    70.0     134.0      4.0   129.0      36.0      2.0\n",
       "2    Antonio Cesaro    80.0     126.0      1.0     5.0      24.0      0.0\n",
       "3      Seth Rollins    50.0     150.0      4.0    87.0     105.0      4.0\n",
       "4       Randy Orton   129.0      63.0      8.0    33.0      87.0      5.0\n",
       "..              ...     ...       ...      ...     ...       ...      ...\n",
       "177   Elias Sampson     NaN       NaN      NaN     3.0      21.0      0.0\n",
       "178      Chad Gable     NaN       NaN      NaN     5.0      17.0      0.0\n",
       "179    Steve Cutler     NaN       NaN      NaN     4.0      15.0      0.0\n",
       "180     Dana Brooke     NaN       NaN      NaN     4.0      10.0      0.0\n",
       "181      Finn Balor     NaN       NaN      NaN     9.0       3.0      0.0\n",
       "\n",
       "[182 rows x 7 columns]"
      ],
      "text/html": "<div>\n<style scoped>\n    .dataframe tbody tr th:only-of-type {\n        vertical-align: middle;\n    }\n\n    .dataframe tbody tr th {\n        vertical-align: top;\n    }\n\n    .dataframe thead th {\n        text-align: right;\n    }\n</style>\n<table border=\"1\" class=\"dataframe\">\n  <thead>\n    <tr style=\"text-align: right;\">\n      <th></th>\n      <th>Wrestler</th>\n      <th>Wins_x</th>\n      <th>Losses_x</th>\n      <th>Draws_x</th>\n      <th>Wins_y</th>\n      <th>Losses_y</th>\n      <th>Draws_y</th>\n    </tr>\n  </thead>\n  <tbody>\n    <tr>\n      <th>0</th>\n      <td>Daniel Bryan</td>\n      <td>177.0</td>\n      <td>37.0</td>\n      <td>6.0</td>\n      <td>35.0</td>\n      <td>16.0</td>\n      <td>2.0</td>\n    </tr>\n    <tr>\n      <th>1</th>\n      <td>Dean Ambrose</td>\n      <td>70.0</td>\n      <td>134.0</td>\n      <td>4.0</td>\n      <td>129.0</td>\n      <td>36.0</td>\n      <td>2.0</td>\n    </tr>\n    <tr>\n      <th>2</th>\n      <td>Antonio Cesaro</td>\n      <td>80.0</td>\n      <td>126.0</td>\n      <td>1.0</td>\n      <td>5.0</td>\n      <td>24.0</td>\n      <td>0.0</td>\n    </tr>\n    <tr>\n      <th>3</th>\n      <td>Seth Rollins</td>\n      <td>50.0</td>\n      <td>150.0</td>\n      <td>4.0</td>\n      <td>87.0</td>\n      <td>105.0</td>\n      <td>4.0</td>\n    </tr>\n    <tr>\n      <th>4</th>\n      <td>Randy Orton</td>\n      <td>129.0</td>\n      <td>63.0</td>\n      <td>8.0</td>\n      <td>33.0</td>\n      <td>87.0</td>\n      <td>5.0</td>\n    </tr>\n    <tr>\n      <th>...</th>\n      <td>...</td>\n      <td>...</td>\n      <td>...</td>\n      <td>...</td>\n      <td>...</td>\n      <td>...</td>\n      <td>...</td>\n    </tr>\n    <tr>\n      <th>177</th>\n      <td>Elias Sampson</td>\n      <td>NaN</td>\n      <td>NaN</td>\n      <td>NaN</td>\n      <td>3.0</td>\n      <td>21.0</td>\n      <td>0.0</td>\n    </tr>\n    <tr>\n      <th>178</th>\n      <td>Chad Gable</td>\n      <td>NaN</td>\n      <td>NaN</td>\n      <td>NaN</td>\n      <td>5.0</td>\n      <td>17.0</td>\n      <td>0.0</td>\n    </tr>\n    <tr>\n      <th>179</th>\n      <td>Steve Cutler</td>\n      <td>NaN</td>\n      <td>NaN</td>\n      <td>NaN</td>\n      <td>4.0</td>\n      <td>15.0</td>\n      <td>0.0</td>\n    </tr>\n    <tr>\n      <th>180</th>\n      <td>Dana Brooke</td>\n      <td>NaN</td>\n      <td>NaN</td>\n      <td>NaN</td>\n      <td>4.0</td>\n      <td>10.0</td>\n      <td>0.0</td>\n    </tr>\n    <tr>\n      <th>181</th>\n      <td>Finn Balor</td>\n      <td>NaN</td>\n      <td>NaN</td>\n      <td>NaN</td>\n      <td>9.0</td>\n      <td>3.0</td>\n      <td>0.0</td>\n    </tr>\n  </tbody>\n</table>\n<p>182 rows × 7 columns</p>\n</div>"
     },
     "metadata": {},
     "execution_count": 3
    }
   ],
   "source": [
    "# Merge the first two datasets on \"Wrestler\" so that no data is lost (should be 182 rows)\n",
    "combined_wrestlers_df = pd.merge(wrestlers_2013_df, wrestlers_2014_df, how='outer', on='Wrestler')\n",
    "combined_wrestlers_df"
   ]
  },
  {
   "cell_type": "code",
   "execution_count": 4,
   "metadata": {},
   "outputs": [
    {
     "output_type": "execute_result",
     "data": {
      "text/plain": [
       "         Wrestler  2013 Wins  2013 Losses  2013 Draws  2014 Wins  2014 Losses  \\\n",
       "0    Daniel Bryan      177.0         37.0         6.0       35.0         16.0   \n",
       "1    Dean Ambrose       70.0        134.0         4.0      129.0         36.0   \n",
       "2  Antonio Cesaro       80.0        126.0         1.0        5.0         24.0   \n",
       "3    Seth Rollins       50.0        150.0         4.0       87.0        105.0   \n",
       "4     Randy Orton      129.0         63.0         8.0       33.0         87.0   \n",
       "\n",
       "   2014 Draws  \n",
       "0         2.0  \n",
       "1         2.0  \n",
       "2         0.0  \n",
       "3         4.0  \n",
       "4         5.0  "
      ],
      "text/html": "<div>\n<style scoped>\n    .dataframe tbody tr th:only-of-type {\n        vertical-align: middle;\n    }\n\n    .dataframe tbody tr th {\n        vertical-align: top;\n    }\n\n    .dataframe thead th {\n        text-align: right;\n    }\n</style>\n<table border=\"1\" class=\"dataframe\">\n  <thead>\n    <tr style=\"text-align: right;\">\n      <th></th>\n      <th>Wrestler</th>\n      <th>2013 Wins</th>\n      <th>2013 Losses</th>\n      <th>2013 Draws</th>\n      <th>2014 Wins</th>\n      <th>2014 Losses</th>\n      <th>2014 Draws</th>\n    </tr>\n  </thead>\n  <tbody>\n    <tr>\n      <th>0</th>\n      <td>Daniel Bryan</td>\n      <td>177.0</td>\n      <td>37.0</td>\n      <td>6.0</td>\n      <td>35.0</td>\n      <td>16.0</td>\n      <td>2.0</td>\n    </tr>\n    <tr>\n      <th>1</th>\n      <td>Dean Ambrose</td>\n      <td>70.0</td>\n      <td>134.0</td>\n      <td>4.0</td>\n      <td>129.0</td>\n      <td>36.0</td>\n      <td>2.0</td>\n    </tr>\n    <tr>\n      <th>2</th>\n      <td>Antonio Cesaro</td>\n      <td>80.0</td>\n      <td>126.0</td>\n      <td>1.0</td>\n      <td>5.0</td>\n      <td>24.0</td>\n      <td>0.0</td>\n    </tr>\n    <tr>\n      <th>3</th>\n      <td>Seth Rollins</td>\n      <td>50.0</td>\n      <td>150.0</td>\n      <td>4.0</td>\n      <td>87.0</td>\n      <td>105.0</td>\n      <td>4.0</td>\n    </tr>\n    <tr>\n      <th>4</th>\n      <td>Randy Orton</td>\n      <td>129.0</td>\n      <td>63.0</td>\n      <td>8.0</td>\n      <td>33.0</td>\n      <td>87.0</td>\n      <td>5.0</td>\n    </tr>\n  </tbody>\n</table>\n</div>"
     },
     "metadata": {},
     "execution_count": 4
    }
   ],
   "source": [
    "# Rename our _x columns to \"2013 Wins\", \"2013 Losses\", and \"2013 Draws\"\n",
    "combined_wrestlers_df = combined_wrestlers_df.rename(columns={\"Wins_x\":\"2013 Wins\", \"Losses_x\":\"2013 Losses\", \"Draws_x\":\"2013 Draws\"})\n",
    "\n",
    "# Rename our _y columns to \"2014 Wins\", \"2014 Losses\", and \"2014 Draws\"\n",
    "combined_wrestlers_df = combined_wrestlers_df.rename(columns={\"Wins_y\":\"2014 Wins\",\"Losses_y\":\"2014 Losses\",\"Draws_y\":\"2014 Draws\"})\n",
    "\n",
    "combined_wrestlers_df.head()"
   ]
  },
  {
   "cell_type": "code",
   "execution_count": 5,
   "metadata": {},
   "outputs": [
    {
     "output_type": "execute_result",
     "data": {
      "text/plain": [
       "                 Wrestler  2013 Wins  2013 Losses  2013 Draws  2014 Wins  \\\n",
       "0            Daniel Bryan      177.0         37.0         6.0       35.0   \n",
       "1            Dean Ambrose       70.0        134.0         4.0      129.0   \n",
       "2          Antonio Cesaro       80.0        126.0         1.0        5.0   \n",
       "3            Seth Rollins       50.0        150.0         4.0       87.0   \n",
       "4             Randy Orton      129.0         63.0         8.0       33.0   \n",
       "..                    ...        ...          ...         ...        ...   \n",
       "208         Tommy Dreamer        NaN          NaN         NaN        NaN   \n",
       "209  Levis Valenzuela Jr.        NaN          NaN         NaN        NaN   \n",
       "210                Cassie        NaN          NaN         NaN        NaN   \n",
       "211         Gionna Daddio        NaN          NaN         NaN        NaN   \n",
       "212       Tino Sabbatelli        NaN          NaN         NaN        NaN   \n",
       "\n",
       "     2014 Losses  2014 Draws   Wins  Losses  Draws  \n",
       "0           16.0         2.0   51.0     7.0    0.0  \n",
       "1           36.0         2.0  150.0    63.0    5.0  \n",
       "2           24.0         0.0    NaN     NaN    NaN  \n",
       "3          105.0         4.0   51.0   124.0    1.0  \n",
       "4           87.0         5.0   81.0    10.0    1.0  \n",
       "..           ...         ...    ...     ...    ...  \n",
       "208          NaN         NaN    4.0     9.0    1.0  \n",
       "209          NaN         NaN    7.0     6.0    0.0  \n",
       "210          NaN         NaN    0.0    12.0    0.0  \n",
       "211          NaN         NaN    8.0     4.0    0.0  \n",
       "212          NaN         NaN    1.0    11.0    0.0  \n",
       "\n",
       "[213 rows x 10 columns]"
      ],
      "text/html": "<div>\n<style scoped>\n    .dataframe tbody tr th:only-of-type {\n        vertical-align: middle;\n    }\n\n    .dataframe tbody tr th {\n        vertical-align: top;\n    }\n\n    .dataframe thead th {\n        text-align: right;\n    }\n</style>\n<table border=\"1\" class=\"dataframe\">\n  <thead>\n    <tr style=\"text-align: right;\">\n      <th></th>\n      <th>Wrestler</th>\n      <th>2013 Wins</th>\n      <th>2013 Losses</th>\n      <th>2013 Draws</th>\n      <th>2014 Wins</th>\n      <th>2014 Losses</th>\n      <th>2014 Draws</th>\n      <th>Wins</th>\n      <th>Losses</th>\n      <th>Draws</th>\n    </tr>\n  </thead>\n  <tbody>\n    <tr>\n      <th>0</th>\n      <td>Daniel Bryan</td>\n      <td>177.0</td>\n      <td>37.0</td>\n      <td>6.0</td>\n      <td>35.0</td>\n      <td>16.0</td>\n      <td>2.0</td>\n      <td>51.0</td>\n      <td>7.0</td>\n      <td>0.0</td>\n    </tr>\n    <tr>\n      <th>1</th>\n      <td>Dean Ambrose</td>\n      <td>70.0</td>\n      <td>134.0</td>\n      <td>4.0</td>\n      <td>129.0</td>\n      <td>36.0</td>\n      <td>2.0</td>\n      <td>150.0</td>\n      <td>63.0</td>\n      <td>5.0</td>\n    </tr>\n    <tr>\n      <th>2</th>\n      <td>Antonio Cesaro</td>\n      <td>80.0</td>\n      <td>126.0</td>\n      <td>1.0</td>\n      <td>5.0</td>\n      <td>24.0</td>\n      <td>0.0</td>\n      <td>NaN</td>\n      <td>NaN</td>\n      <td>NaN</td>\n    </tr>\n    <tr>\n      <th>3</th>\n      <td>Seth Rollins</td>\n      <td>50.0</td>\n      <td>150.0</td>\n      <td>4.0</td>\n      <td>87.0</td>\n      <td>105.0</td>\n      <td>4.0</td>\n      <td>51.0</td>\n      <td>124.0</td>\n      <td>1.0</td>\n    </tr>\n    <tr>\n      <th>4</th>\n      <td>Randy Orton</td>\n      <td>129.0</td>\n      <td>63.0</td>\n      <td>8.0</td>\n      <td>33.0</td>\n      <td>87.0</td>\n      <td>5.0</td>\n      <td>81.0</td>\n      <td>10.0</td>\n      <td>1.0</td>\n    </tr>\n    <tr>\n      <th>...</th>\n      <td>...</td>\n      <td>...</td>\n      <td>...</td>\n      <td>...</td>\n      <td>...</td>\n      <td>...</td>\n      <td>...</td>\n      <td>...</td>\n      <td>...</td>\n      <td>...</td>\n    </tr>\n    <tr>\n      <th>208</th>\n      <td>Tommy Dreamer</td>\n      <td>NaN</td>\n      <td>NaN</td>\n      <td>NaN</td>\n      <td>NaN</td>\n      <td>NaN</td>\n      <td>NaN</td>\n      <td>4.0</td>\n      <td>9.0</td>\n      <td>1.0</td>\n    </tr>\n    <tr>\n      <th>209</th>\n      <td>Levis Valenzuela Jr.</td>\n      <td>NaN</td>\n      <td>NaN</td>\n      <td>NaN</td>\n      <td>NaN</td>\n      <td>NaN</td>\n      <td>NaN</td>\n      <td>7.0</td>\n      <td>6.0</td>\n      <td>0.0</td>\n    </tr>\n    <tr>\n      <th>210</th>\n      <td>Cassie</td>\n      <td>NaN</td>\n      <td>NaN</td>\n      <td>NaN</td>\n      <td>NaN</td>\n      <td>NaN</td>\n      <td>NaN</td>\n      <td>0.0</td>\n      <td>12.0</td>\n      <td>0.0</td>\n    </tr>\n    <tr>\n      <th>211</th>\n      <td>Gionna Daddio</td>\n      <td>NaN</td>\n      <td>NaN</td>\n      <td>NaN</td>\n      <td>NaN</td>\n      <td>NaN</td>\n      <td>NaN</td>\n      <td>8.0</td>\n      <td>4.0</td>\n      <td>0.0</td>\n    </tr>\n    <tr>\n      <th>212</th>\n      <td>Tino Sabbatelli</td>\n      <td>NaN</td>\n      <td>NaN</td>\n      <td>NaN</td>\n      <td>NaN</td>\n      <td>NaN</td>\n      <td>NaN</td>\n      <td>1.0</td>\n      <td>11.0</td>\n      <td>0.0</td>\n    </tr>\n  </tbody>\n</table>\n<p>213 rows × 10 columns</p>\n</div>"
     },
     "metadata": {},
     "execution_count": 5
    }
   ],
   "source": [
    "# Merge our newly combined dataframe with the 2015 dataframe\n",
    "combined_wrestlers_df = pd.merge(combined_wrestlers_df, wrestlers_2015_df, how=\"outer\", on=\"Wrestler\")\n",
    "combined_wrestlers_df"
   ]
  },
  {
   "cell_type": "code",
   "execution_count": 6,
   "metadata": {},
   "outputs": [
    {
     "output_type": "execute_result",
     "data": {
      "text/plain": [
       "         Wrestler  2013 Wins  2013 Losses  2013 Draws  2014 Wins  2014 Losses  \\\n",
       "0    Daniel Bryan      177.0         37.0         6.0       35.0         16.0   \n",
       "1    Dean Ambrose       70.0        134.0         4.0      129.0         36.0   \n",
       "2  Antonio Cesaro       80.0        126.0         1.0        5.0         24.0   \n",
       "3    Seth Rollins       50.0        150.0         4.0       87.0        105.0   \n",
       "4     Randy Orton      129.0         63.0         8.0       33.0         87.0   \n",
       "\n",
       "   2014 Draws  2015 Wins  2015 Losses  2015 Draws  \n",
       "0         2.0       51.0          7.0         0.0  \n",
       "1         2.0      150.0         63.0         5.0  \n",
       "2         0.0        NaN          NaN         NaN  \n",
       "3         4.0       51.0        124.0         1.0  \n",
       "4         5.0       81.0         10.0         1.0  "
      ],
      "text/html": "<div>\n<style scoped>\n    .dataframe tbody tr th:only-of-type {\n        vertical-align: middle;\n    }\n\n    .dataframe tbody tr th {\n        vertical-align: top;\n    }\n\n    .dataframe thead th {\n        text-align: right;\n    }\n</style>\n<table border=\"1\" class=\"dataframe\">\n  <thead>\n    <tr style=\"text-align: right;\">\n      <th></th>\n      <th>Wrestler</th>\n      <th>2013 Wins</th>\n      <th>2013 Losses</th>\n      <th>2013 Draws</th>\n      <th>2014 Wins</th>\n      <th>2014 Losses</th>\n      <th>2014 Draws</th>\n      <th>2015 Wins</th>\n      <th>2015 Losses</th>\n      <th>2015 Draws</th>\n    </tr>\n  </thead>\n  <tbody>\n    <tr>\n      <th>0</th>\n      <td>Daniel Bryan</td>\n      <td>177.0</td>\n      <td>37.0</td>\n      <td>6.0</td>\n      <td>35.0</td>\n      <td>16.0</td>\n      <td>2.0</td>\n      <td>51.0</td>\n      <td>7.0</td>\n      <td>0.0</td>\n    </tr>\n    <tr>\n      <th>1</th>\n      <td>Dean Ambrose</td>\n      <td>70.0</td>\n      <td>134.0</td>\n      <td>4.0</td>\n      <td>129.0</td>\n      <td>36.0</td>\n      <td>2.0</td>\n      <td>150.0</td>\n      <td>63.0</td>\n      <td>5.0</td>\n    </tr>\n    <tr>\n      <th>2</th>\n      <td>Antonio Cesaro</td>\n      <td>80.0</td>\n      <td>126.0</td>\n      <td>1.0</td>\n      <td>5.0</td>\n      <td>24.0</td>\n      <td>0.0</td>\n      <td>NaN</td>\n      <td>NaN</td>\n      <td>NaN</td>\n    </tr>\n    <tr>\n      <th>3</th>\n      <td>Seth Rollins</td>\n      <td>50.0</td>\n      <td>150.0</td>\n      <td>4.0</td>\n      <td>87.0</td>\n      <td>105.0</td>\n      <td>4.0</td>\n      <td>51.0</td>\n      <td>124.0</td>\n      <td>1.0</td>\n    </tr>\n    <tr>\n      <th>4</th>\n      <td>Randy Orton</td>\n      <td>129.0</td>\n      <td>63.0</td>\n      <td>8.0</td>\n      <td>33.0</td>\n      <td>87.0</td>\n      <td>5.0</td>\n      <td>81.0</td>\n      <td>10.0</td>\n      <td>1.0</td>\n    </tr>\n  </tbody>\n</table>\n</div>"
     },
     "metadata": {},
     "execution_count": 6
    }
   ],
   "source": [
    "# Rename \"wins\", \"losses\", and \"draws\" to \"2015 Wins\", \"2015 Losses\", and \"2015 Draws\"\n",
    "combined_wrestlers_df = combined_wrestlers_df.rename(columns={\"Wins\":\"2015 Wins\",\"Losses\":\"2015 Losses\",\"Draws\":\"2015 Draws\"})\n",
    "\n",
    "combined_wrestlers_df.head()"
   ]
  },
  {
   "cell_type": "code",
   "execution_count": 7,
   "metadata": {},
   "outputs": [
    {
     "output_type": "execute_result",
     "data": {
      "text/plain": [
       "            Wrestler  2013 Wins  2013 Losses  2013 Draws  2014 Wins  \\\n",
       "0       Daniel Bryan      177.0         37.0         6.0       35.0   \n",
       "1       Dean Ambrose       70.0        134.0         4.0      129.0   \n",
       "2     Antonio Cesaro       80.0        126.0         1.0        5.0   \n",
       "3       Seth Rollins       50.0        150.0         4.0       87.0   \n",
       "4        Randy Orton      129.0         63.0         8.0       33.0   \n",
       "..               ...        ...          ...         ...        ...   \n",
       "265      Nikki Cross        NaN          NaN         NaN        NaN   \n",
       "266      Noah Potjes        NaN          NaN         NaN        NaN   \n",
       "267     Cezar Bononi        NaN          NaN         NaN        NaN   \n",
       "268  James Ellsworth        NaN          NaN         NaN        NaN   \n",
       "269   Macey Estrella        NaN          NaN         NaN        NaN   \n",
       "\n",
       "     2014 Losses  2014 Draws  2015 Wins  2015 Losses  2015 Draws   Wins  \\\n",
       "0           16.0         2.0       51.0          7.0         0.0    NaN   \n",
       "1           36.0         2.0      150.0         63.0         5.0  133.0   \n",
       "2           24.0         0.0        NaN          NaN         NaN    NaN   \n",
       "3          105.0         4.0       51.0        124.0         1.0   39.0   \n",
       "4           87.0         5.0       81.0         10.0         1.0   39.0   \n",
       "..           ...         ...        ...          ...         ...    ...   \n",
       "265          NaN         NaN        NaN          NaN         NaN    8.0   \n",
       "266          NaN         NaN        NaN          NaN         NaN    3.0   \n",
       "267          NaN         NaN        NaN          NaN         NaN    1.0   \n",
       "268          NaN         NaN        NaN          NaN         NaN    8.0   \n",
       "269          NaN         NaN        NaN          NaN         NaN    1.0   \n",
       "\n",
       "     Losses  Draws  \n",
       "0       NaN    NaN  \n",
       "1      67.0    4.0  \n",
       "2       NaN    NaN  \n",
       "3      75.0    4.0  \n",
       "4      21.0    0.0  \n",
       "..      ...    ...  \n",
       "265     5.0    0.0  \n",
       "266    10.0    0.0  \n",
       "267     9.0    1.0  \n",
       "268     3.0    0.0  \n",
       "269    10.0    0.0  \n",
       "\n",
       "[270 rows x 13 columns]"
      ],
      "text/html": "<div>\n<style scoped>\n    .dataframe tbody tr th:only-of-type {\n        vertical-align: middle;\n    }\n\n    .dataframe tbody tr th {\n        vertical-align: top;\n    }\n\n    .dataframe thead th {\n        text-align: right;\n    }\n</style>\n<table border=\"1\" class=\"dataframe\">\n  <thead>\n    <tr style=\"text-align: right;\">\n      <th></th>\n      <th>Wrestler</th>\n      <th>2013 Wins</th>\n      <th>2013 Losses</th>\n      <th>2013 Draws</th>\n      <th>2014 Wins</th>\n      <th>2014 Losses</th>\n      <th>2014 Draws</th>\n      <th>2015 Wins</th>\n      <th>2015 Losses</th>\n      <th>2015 Draws</th>\n      <th>Wins</th>\n      <th>Losses</th>\n      <th>Draws</th>\n    </tr>\n  </thead>\n  <tbody>\n    <tr>\n      <th>0</th>\n      <td>Daniel Bryan</td>\n      <td>177.0</td>\n      <td>37.0</td>\n      <td>6.0</td>\n      <td>35.0</td>\n      <td>16.0</td>\n      <td>2.0</td>\n      <td>51.0</td>\n      <td>7.0</td>\n      <td>0.0</td>\n      <td>NaN</td>\n      <td>NaN</td>\n      <td>NaN</td>\n    </tr>\n    <tr>\n      <th>1</th>\n      <td>Dean Ambrose</td>\n      <td>70.0</td>\n      <td>134.0</td>\n      <td>4.0</td>\n      <td>129.0</td>\n      <td>36.0</td>\n      <td>2.0</td>\n      <td>150.0</td>\n      <td>63.0</td>\n      <td>5.0</td>\n      <td>133.0</td>\n      <td>67.0</td>\n      <td>4.0</td>\n    </tr>\n    <tr>\n      <th>2</th>\n      <td>Antonio Cesaro</td>\n      <td>80.0</td>\n      <td>126.0</td>\n      <td>1.0</td>\n      <td>5.0</td>\n      <td>24.0</td>\n      <td>0.0</td>\n      <td>NaN</td>\n      <td>NaN</td>\n      <td>NaN</td>\n      <td>NaN</td>\n      <td>NaN</td>\n      <td>NaN</td>\n    </tr>\n    <tr>\n      <th>3</th>\n      <td>Seth Rollins</td>\n      <td>50.0</td>\n      <td>150.0</td>\n      <td>4.0</td>\n      <td>87.0</td>\n      <td>105.0</td>\n      <td>4.0</td>\n      <td>51.0</td>\n      <td>124.0</td>\n      <td>1.0</td>\n      <td>39.0</td>\n      <td>75.0</td>\n      <td>4.0</td>\n    </tr>\n    <tr>\n      <th>4</th>\n      <td>Randy Orton</td>\n      <td>129.0</td>\n      <td>63.0</td>\n      <td>8.0</td>\n      <td>33.0</td>\n      <td>87.0</td>\n      <td>5.0</td>\n      <td>81.0</td>\n      <td>10.0</td>\n      <td>1.0</td>\n      <td>39.0</td>\n      <td>21.0</td>\n      <td>0.0</td>\n    </tr>\n    <tr>\n      <th>...</th>\n      <td>...</td>\n      <td>...</td>\n      <td>...</td>\n      <td>...</td>\n      <td>...</td>\n      <td>...</td>\n      <td>...</td>\n      <td>...</td>\n      <td>...</td>\n      <td>...</td>\n      <td>...</td>\n      <td>...</td>\n      <td>...</td>\n    </tr>\n    <tr>\n      <th>265</th>\n      <td>Nikki Cross</td>\n      <td>NaN</td>\n      <td>NaN</td>\n      <td>NaN</td>\n      <td>NaN</td>\n      <td>NaN</td>\n      <td>NaN</td>\n      <td>NaN</td>\n      <td>NaN</td>\n      <td>NaN</td>\n      <td>8.0</td>\n      <td>5.0</td>\n      <td>0.0</td>\n    </tr>\n    <tr>\n      <th>266</th>\n      <td>Noah Potjes</td>\n      <td>NaN</td>\n      <td>NaN</td>\n      <td>NaN</td>\n      <td>NaN</td>\n      <td>NaN</td>\n      <td>NaN</td>\n      <td>NaN</td>\n      <td>NaN</td>\n      <td>NaN</td>\n      <td>3.0</td>\n      <td>10.0</td>\n      <td>0.0</td>\n    </tr>\n    <tr>\n      <th>267</th>\n      <td>Cezar Bononi</td>\n      <td>NaN</td>\n      <td>NaN</td>\n      <td>NaN</td>\n      <td>NaN</td>\n      <td>NaN</td>\n      <td>NaN</td>\n      <td>NaN</td>\n      <td>NaN</td>\n      <td>NaN</td>\n      <td>1.0</td>\n      <td>9.0</td>\n      <td>1.0</td>\n    </tr>\n    <tr>\n      <th>268</th>\n      <td>James Ellsworth</td>\n      <td>NaN</td>\n      <td>NaN</td>\n      <td>NaN</td>\n      <td>NaN</td>\n      <td>NaN</td>\n      <td>NaN</td>\n      <td>NaN</td>\n      <td>NaN</td>\n      <td>NaN</td>\n      <td>8.0</td>\n      <td>3.0</td>\n      <td>0.0</td>\n    </tr>\n    <tr>\n      <th>269</th>\n      <td>Macey Estrella</td>\n      <td>NaN</td>\n      <td>NaN</td>\n      <td>NaN</td>\n      <td>NaN</td>\n      <td>NaN</td>\n      <td>NaN</td>\n      <td>NaN</td>\n      <td>NaN</td>\n      <td>NaN</td>\n      <td>1.0</td>\n      <td>10.0</td>\n      <td>0.0</td>\n    </tr>\n  </tbody>\n</table>\n<p>270 rows × 13 columns</p>\n</div>"
     },
     "metadata": {},
     "execution_count": 7
    }
   ],
   "source": [
    "# Merge our newly combined dataframe with the 2016 dataframe\n",
    "combined_wrestlers_df = pd.merge(combined_wrestlers_df, wrestlers_2016_df, how=\"outer\", on=\"Wrestler\")\n",
    "combined_wrestlers_df"
   ]
  },
  {
   "cell_type": "code",
   "execution_count": 8,
   "metadata": {},
   "outputs": [
    {
     "output_type": "execute_result",
     "data": {
      "text/plain": [
       "         Wrestler  2013 Wins  2013 Losses  2013 Draws  2014 Wins  2014 Losses  \\\n",
       "0    Daniel Bryan      177.0         37.0         6.0       35.0         16.0   \n",
       "1    Dean Ambrose       70.0        134.0         4.0      129.0         36.0   \n",
       "2  Antonio Cesaro       80.0        126.0         1.0        5.0         24.0   \n",
       "3    Seth Rollins       50.0        150.0         4.0       87.0        105.0   \n",
       "4     Randy Orton      129.0         63.0         8.0       33.0         87.0   \n",
       "\n",
       "   2014 Draws  2015 Wins  2015 Losses  2015 Draws  2016 Wins  2016 Losses  \\\n",
       "0         2.0       51.0          7.0         0.0        NaN          NaN   \n",
       "1         2.0      150.0         63.0         5.0      133.0         67.0   \n",
       "2         0.0        NaN          NaN         NaN        NaN          NaN   \n",
       "3         4.0       51.0        124.0         1.0       39.0         75.0   \n",
       "4         5.0       81.0         10.0         1.0       39.0         21.0   \n",
       "\n",
       "   2016 Draws  \n",
       "0         NaN  \n",
       "1         4.0  \n",
       "2         NaN  \n",
       "3         4.0  \n",
       "4         0.0  "
      ],
      "text/html": "<div>\n<style scoped>\n    .dataframe tbody tr th:only-of-type {\n        vertical-align: middle;\n    }\n\n    .dataframe tbody tr th {\n        vertical-align: top;\n    }\n\n    .dataframe thead th {\n        text-align: right;\n    }\n</style>\n<table border=\"1\" class=\"dataframe\">\n  <thead>\n    <tr style=\"text-align: right;\">\n      <th></th>\n      <th>Wrestler</th>\n      <th>2013 Wins</th>\n      <th>2013 Losses</th>\n      <th>2013 Draws</th>\n      <th>2014 Wins</th>\n      <th>2014 Losses</th>\n      <th>2014 Draws</th>\n      <th>2015 Wins</th>\n      <th>2015 Losses</th>\n      <th>2015 Draws</th>\n      <th>2016 Wins</th>\n      <th>2016 Losses</th>\n      <th>2016 Draws</th>\n    </tr>\n  </thead>\n  <tbody>\n    <tr>\n      <th>0</th>\n      <td>Daniel Bryan</td>\n      <td>177.0</td>\n      <td>37.0</td>\n      <td>6.0</td>\n      <td>35.0</td>\n      <td>16.0</td>\n      <td>2.0</td>\n      <td>51.0</td>\n      <td>7.0</td>\n      <td>0.0</td>\n      <td>NaN</td>\n      <td>NaN</td>\n      <td>NaN</td>\n    </tr>\n    <tr>\n      <th>1</th>\n      <td>Dean Ambrose</td>\n      <td>70.0</td>\n      <td>134.0</td>\n      <td>4.0</td>\n      <td>129.0</td>\n      <td>36.0</td>\n      <td>2.0</td>\n      <td>150.0</td>\n      <td>63.0</td>\n      <td>5.0</td>\n      <td>133.0</td>\n      <td>67.0</td>\n      <td>4.0</td>\n    </tr>\n    <tr>\n      <th>2</th>\n      <td>Antonio Cesaro</td>\n      <td>80.0</td>\n      <td>126.0</td>\n      <td>1.0</td>\n      <td>5.0</td>\n      <td>24.0</td>\n      <td>0.0</td>\n      <td>NaN</td>\n      <td>NaN</td>\n      <td>NaN</td>\n      <td>NaN</td>\n      <td>NaN</td>\n      <td>NaN</td>\n    </tr>\n    <tr>\n      <th>3</th>\n      <td>Seth Rollins</td>\n      <td>50.0</td>\n      <td>150.0</td>\n      <td>4.0</td>\n      <td>87.0</td>\n      <td>105.0</td>\n      <td>4.0</td>\n      <td>51.0</td>\n      <td>124.0</td>\n      <td>1.0</td>\n      <td>39.0</td>\n      <td>75.0</td>\n      <td>4.0</td>\n    </tr>\n    <tr>\n      <th>4</th>\n      <td>Randy Orton</td>\n      <td>129.0</td>\n      <td>63.0</td>\n      <td>8.0</td>\n      <td>33.0</td>\n      <td>87.0</td>\n      <td>5.0</td>\n      <td>81.0</td>\n      <td>10.0</td>\n      <td>1.0</td>\n      <td>39.0</td>\n      <td>21.0</td>\n      <td>0.0</td>\n    </tr>\n  </tbody>\n</table>\n</div>"
     },
     "metadata": {},
     "execution_count": 8
    }
   ],
   "source": [
    "# Rename \"wins\", \"losses\", and \"draws\" to \"2016 Wins\", \"2016 Losses\", and \"2016 Draws\"\n",
    "combined_wrestlers_df = combined_wrestlers_df.rename(columns={\"Wins\":\"2016 Wins\",\"Losses\":\"2016 Losses\",\"Draws\":\"2016 Draws\"})\n",
    "\n",
    "combined_wrestlers_df.head()"
   ]
  },
  {
   "cell_type": "code",
   "execution_count": 9,
   "metadata": {},
   "outputs": [
    {
     "output_type": "execute_result",
     "data": {
      "text/plain": [
       "            Wrestler  2013 Wins  2013 Losses  2013 Draws  2014 Wins  \\\n",
       "0       Daniel Bryan      177.0         37.0         6.0       35.0   \n",
       "1       Dean Ambrose       70.0        134.0         4.0      129.0   \n",
       "2     Antonio Cesaro       80.0        126.0         1.0        5.0   \n",
       "3       Seth Rollins       50.0        150.0         4.0       87.0   \n",
       "4        Randy Orton      129.0         63.0         8.0       33.0   \n",
       "..               ...        ...          ...         ...        ...   \n",
       "265      Nikki Cross        0.0          0.0         0.0        0.0   \n",
       "266      Noah Potjes        0.0          0.0         0.0        0.0   \n",
       "267     Cezar Bononi        0.0          0.0         0.0        0.0   \n",
       "268  James Ellsworth        0.0          0.0         0.0        0.0   \n",
       "269   Macey Estrella        0.0          0.0         0.0        0.0   \n",
       "\n",
       "     2014 Losses  2014 Draws  2015 Wins  2015 Losses  2015 Draws  2016 Wins  \\\n",
       "0           16.0         2.0       51.0          7.0         0.0        0.0   \n",
       "1           36.0         2.0      150.0         63.0         5.0      133.0   \n",
       "2           24.0         0.0        0.0          0.0         0.0        0.0   \n",
       "3          105.0         4.0       51.0        124.0         1.0       39.0   \n",
       "4           87.0         5.0       81.0         10.0         1.0       39.0   \n",
       "..           ...         ...        ...          ...         ...        ...   \n",
       "265          0.0         0.0        0.0          0.0         0.0        8.0   \n",
       "266          0.0         0.0        0.0          0.0         0.0        3.0   \n",
       "267          0.0         0.0        0.0          0.0         0.0        1.0   \n",
       "268          0.0         0.0        0.0          0.0         0.0        8.0   \n",
       "269          0.0         0.0        0.0          0.0         0.0        1.0   \n",
       "\n",
       "     2016 Losses  2016 Draws  Total Wins  Total Losses  Total Draws  \\\n",
       "0            0.0         0.0       263.0          60.0          8.0   \n",
       "1           67.0         4.0       482.0         300.0         15.0   \n",
       "2            0.0         0.0        85.0         150.0          1.0   \n",
       "3           75.0         4.0       227.0         454.0         13.0   \n",
       "4           21.0         0.0       282.0         181.0         14.0   \n",
       "..           ...         ...         ...           ...          ...   \n",
       "265          5.0         0.0         8.0           5.0          0.0   \n",
       "266         10.0         0.0         3.0          10.0          0.0   \n",
       "267          9.0         1.0         1.0           9.0          1.0   \n",
       "268          3.0         0.0         8.0           3.0          0.0   \n",
       "269         10.0         0.0         1.0          10.0          0.0   \n",
       "\n",
       "     Total Matches  \n",
       "0            331.0  \n",
       "1            797.0  \n",
       "2            236.0  \n",
       "3            694.0  \n",
       "4            477.0  \n",
       "..             ...  \n",
       "265           13.0  \n",
       "266           13.0  \n",
       "267           11.0  \n",
       "268           11.0  \n",
       "269           11.0  \n",
       "\n",
       "[270 rows x 17 columns]"
      ],
      "text/html": "<div>\n<style scoped>\n    .dataframe tbody tr th:only-of-type {\n        vertical-align: middle;\n    }\n\n    .dataframe tbody tr th {\n        vertical-align: top;\n    }\n\n    .dataframe thead th {\n        text-align: right;\n    }\n</style>\n<table border=\"1\" class=\"dataframe\">\n  <thead>\n    <tr style=\"text-align: right;\">\n      <th></th>\n      <th>Wrestler</th>\n      <th>2013 Wins</th>\n      <th>2013 Losses</th>\n      <th>2013 Draws</th>\n      <th>2014 Wins</th>\n      <th>2014 Losses</th>\n      <th>2014 Draws</th>\n      <th>2015 Wins</th>\n      <th>2015 Losses</th>\n      <th>2015 Draws</th>\n      <th>2016 Wins</th>\n      <th>2016 Losses</th>\n      <th>2016 Draws</th>\n      <th>Total Wins</th>\n      <th>Total Losses</th>\n      <th>Total Draws</th>\n      <th>Total Matches</th>\n    </tr>\n  </thead>\n  <tbody>\n    <tr>\n      <th>0</th>\n      <td>Daniel Bryan</td>\n      <td>177.0</td>\n      <td>37.0</td>\n      <td>6.0</td>\n      <td>35.0</td>\n      <td>16.0</td>\n      <td>2.0</td>\n      <td>51.0</td>\n      <td>7.0</td>\n      <td>0.0</td>\n      <td>0.0</td>\n      <td>0.0</td>\n      <td>0.0</td>\n      <td>263.0</td>\n      <td>60.0</td>\n      <td>8.0</td>\n      <td>331.0</td>\n    </tr>\n    <tr>\n      <th>1</th>\n      <td>Dean Ambrose</td>\n      <td>70.0</td>\n      <td>134.0</td>\n      <td>4.0</td>\n      <td>129.0</td>\n      <td>36.0</td>\n      <td>2.0</td>\n      <td>150.0</td>\n      <td>63.0</td>\n      <td>5.0</td>\n      <td>133.0</td>\n      <td>67.0</td>\n      <td>4.0</td>\n      <td>482.0</td>\n      <td>300.0</td>\n      <td>15.0</td>\n      <td>797.0</td>\n    </tr>\n    <tr>\n      <th>2</th>\n      <td>Antonio Cesaro</td>\n      <td>80.0</td>\n      <td>126.0</td>\n      <td>1.0</td>\n      <td>5.0</td>\n      <td>24.0</td>\n      <td>0.0</td>\n      <td>0.0</td>\n      <td>0.0</td>\n      <td>0.0</td>\n      <td>0.0</td>\n      <td>0.0</td>\n      <td>0.0</td>\n      <td>85.0</td>\n      <td>150.0</td>\n      <td>1.0</td>\n      <td>236.0</td>\n    </tr>\n    <tr>\n      <th>3</th>\n      <td>Seth Rollins</td>\n      <td>50.0</td>\n      <td>150.0</td>\n      <td>4.0</td>\n      <td>87.0</td>\n      <td>105.0</td>\n      <td>4.0</td>\n      <td>51.0</td>\n      <td>124.0</td>\n      <td>1.0</td>\n      <td>39.0</td>\n      <td>75.0</td>\n      <td>4.0</td>\n      <td>227.0</td>\n      <td>454.0</td>\n      <td>13.0</td>\n      <td>694.0</td>\n    </tr>\n    <tr>\n      <th>4</th>\n      <td>Randy Orton</td>\n      <td>129.0</td>\n      <td>63.0</td>\n      <td>8.0</td>\n      <td>33.0</td>\n      <td>87.0</td>\n      <td>5.0</td>\n      <td>81.0</td>\n      <td>10.0</td>\n      <td>1.0</td>\n      <td>39.0</td>\n      <td>21.0</td>\n      <td>0.0</td>\n      <td>282.0</td>\n      <td>181.0</td>\n      <td>14.0</td>\n      <td>477.0</td>\n    </tr>\n    <tr>\n      <th>...</th>\n      <td>...</td>\n      <td>...</td>\n      <td>...</td>\n      <td>...</td>\n      <td>...</td>\n      <td>...</td>\n      <td>...</td>\n      <td>...</td>\n      <td>...</td>\n      <td>...</td>\n      <td>...</td>\n      <td>...</td>\n      <td>...</td>\n      <td>...</td>\n      <td>...</td>\n      <td>...</td>\n      <td>...</td>\n    </tr>\n    <tr>\n      <th>265</th>\n      <td>Nikki Cross</td>\n      <td>0.0</td>\n      <td>0.0</td>\n      <td>0.0</td>\n      <td>0.0</td>\n      <td>0.0</td>\n      <td>0.0</td>\n      <td>0.0</td>\n      <td>0.0</td>\n      <td>0.0</td>\n      <td>8.0</td>\n      <td>5.0</td>\n      <td>0.0</td>\n      <td>8.0</td>\n      <td>5.0</td>\n      <td>0.0</td>\n      <td>13.0</td>\n    </tr>\n    <tr>\n      <th>266</th>\n      <td>Noah Potjes</td>\n      <td>0.0</td>\n      <td>0.0</td>\n      <td>0.0</td>\n      <td>0.0</td>\n      <td>0.0</td>\n      <td>0.0</td>\n      <td>0.0</td>\n      <td>0.0</td>\n      <td>0.0</td>\n      <td>3.0</td>\n      <td>10.0</td>\n      <td>0.0</td>\n      <td>3.0</td>\n      <td>10.0</td>\n      <td>0.0</td>\n      <td>13.0</td>\n    </tr>\n    <tr>\n      <th>267</th>\n      <td>Cezar Bononi</td>\n      <td>0.0</td>\n      <td>0.0</td>\n      <td>0.0</td>\n      <td>0.0</td>\n      <td>0.0</td>\n      <td>0.0</td>\n      <td>0.0</td>\n      <td>0.0</td>\n      <td>0.0</td>\n      <td>1.0</td>\n      <td>9.0</td>\n      <td>1.0</td>\n      <td>1.0</td>\n      <td>9.0</td>\n      <td>1.0</td>\n      <td>11.0</td>\n    </tr>\n    <tr>\n      <th>268</th>\n      <td>James Ellsworth</td>\n      <td>0.0</td>\n      <td>0.0</td>\n      <td>0.0</td>\n      <td>0.0</td>\n      <td>0.0</td>\n      <td>0.0</td>\n      <td>0.0</td>\n      <td>0.0</td>\n      <td>0.0</td>\n      <td>8.0</td>\n      <td>3.0</td>\n      <td>0.0</td>\n      <td>8.0</td>\n      <td>3.0</td>\n      <td>0.0</td>\n      <td>11.0</td>\n    </tr>\n    <tr>\n      <th>269</th>\n      <td>Macey Estrella</td>\n      <td>0.0</td>\n      <td>0.0</td>\n      <td>0.0</td>\n      <td>0.0</td>\n      <td>0.0</td>\n      <td>0.0</td>\n      <td>0.0</td>\n      <td>0.0</td>\n      <td>0.0</td>\n      <td>1.0</td>\n      <td>10.0</td>\n      <td>0.0</td>\n      <td>1.0</td>\n      <td>10.0</td>\n      <td>0.0</td>\n      <td>11.0</td>\n    </tr>\n  </tbody>\n</table>\n<p>270 rows × 17 columns</p>\n</div>"
     },
     "metadata": {},
     "execution_count": 9
    }
   ],
   "source": [
    "# Replace all NaN values with 0 \n",
    "combined_wrestlers_df = combined_wrestlers_df.fillna(0)\n",
    "\n",
    "# Create a new column called \"Total Wins\" and add up each wrestler's wins per year to fill in the values\n",
    "combined_wrestlers_df[\"Total Wins\"] = combined_wrestlers_df[\"2013 Wins\"] + combined_wrestlers_df[\"2014 Wins\"] + combined_wrestlers_df[\"2015 Wins\"] + combined_wrestlers_df[\"2016 Wins\"]\n",
    "\n",
    "# Create a new column called \"Total Losses\" and add up each wrestler's losses per year to fill in the values\n",
    "combined_wrestlers_df[\"Total Losses\"] = combined_wrestlers_df[\"2013 Losses\"] + combined_wrestlers_df[\"2014 Losses\"] + combined_wrestlers_df[\"2015 Losses\"] + combined_wrestlers_df[\"2016 Losses\"]\n",
    "\n",
    "# Create a new column called \"Total Draws\" and add up each wrestler's draws per year to fill in the values\n",
    "combined_wrestlers_df[\"Total Draws\"] = combined_wrestlers_df[\"2013 Draws\"] + combined_wrestlers_df[\"2014 Draws\"] + combined_wrestlers_df[\"2015 Draws\"] + combined_wrestlers_df[\"2016 Draws\"]\n",
    "\n",
    "# Create a new column called \"Total Matches\" and add up the total wins, losses, and draws for each wrestler to fill in the values\n",
    "combined_wrestlers_df[\"Total Matches\"] = combined_wrestlers_df[\"Total Wins\"] + combined_wrestlers_df[\"Total Losses\"] + combined_wrestlers_df[\"Total Draws\"]\n",
    "\n",
    "combined_wrestlers_df"
   ]
  },
  {
   "cell_type": "code",
   "execution_count": 10,
   "metadata": {
    "scrolled": true
   },
   "outputs": [
    {
     "output_type": "execute_result",
     "data": {
      "text/plain": [
       "              2013 Wins  2013 Losses  2013 Draws  2014 Wins  2014 Losses  \\\n",
       "Wrestler                                                                   \n",
       "Dean Ambrose       70.0        134.0         4.0      129.0         36.0   \n",
       "Seth Rollins       50.0        150.0         4.0       87.0        105.0   \n",
       "Randy Orton       129.0         63.0         8.0       33.0         87.0   \n",
       "Roman Reigns       49.0        140.0         5.0      118.0         28.0   \n",
       "Ryback            103.0         88.0         3.0       43.0        114.0   \n",
       "\n",
       "              2014 Draws  2015 Wins  2015 Losses  2015 Draws  2016 Wins  \\\n",
       "Wrestler                                                                  \n",
       "Dean Ambrose         2.0      150.0         63.0         5.0      133.0   \n",
       "Seth Rollins         4.0       51.0        124.0         1.0       39.0   \n",
       "Randy Orton          5.0       81.0         10.0         1.0       39.0   \n",
       "Roman Reigns         4.0      187.0         19.0         7.0      142.0   \n",
       "Ryback               1.0      138.0         34.0         2.0       37.0   \n",
       "\n",
       "              2016 Losses  2016 Draws  Total Wins  Total Losses  Total Draws  \\\n",
       "Wrestler                                                                       \n",
       "Dean Ambrose         67.0         4.0       482.0         300.0         15.0   \n",
       "Seth Rollins         75.0         4.0       227.0         454.0         13.0   \n",
       "Randy Orton          21.0         0.0       282.0         181.0         14.0   \n",
       "Roman Reigns         12.0         5.0       496.0         199.0         21.0   \n",
       "Ryback               17.0         1.0       321.0         253.0          7.0   \n",
       "\n",
       "              Total Matches  \n",
       "Wrestler                     \n",
       "Dean Ambrose          797.0  \n",
       "Seth Rollins          694.0  \n",
       "Randy Orton           477.0  \n",
       "Roman Reigns          716.0  \n",
       "Ryback                581.0  "
      ],
      "text/html": "<div>\n<style scoped>\n    .dataframe tbody tr th:only-of-type {\n        vertical-align: middle;\n    }\n\n    .dataframe tbody tr th {\n        vertical-align: top;\n    }\n\n    .dataframe thead th {\n        text-align: right;\n    }\n</style>\n<table border=\"1\" class=\"dataframe\">\n  <thead>\n    <tr style=\"text-align: right;\">\n      <th></th>\n      <th>2013 Wins</th>\n      <th>2013 Losses</th>\n      <th>2013 Draws</th>\n      <th>2014 Wins</th>\n      <th>2014 Losses</th>\n      <th>2014 Draws</th>\n      <th>2015 Wins</th>\n      <th>2015 Losses</th>\n      <th>2015 Draws</th>\n      <th>2016 Wins</th>\n      <th>2016 Losses</th>\n      <th>2016 Draws</th>\n      <th>Total Wins</th>\n      <th>Total Losses</th>\n      <th>Total Draws</th>\n      <th>Total Matches</th>\n    </tr>\n    <tr>\n      <th>Wrestler</th>\n      <th></th>\n      <th></th>\n      <th></th>\n      <th></th>\n      <th></th>\n      <th></th>\n      <th></th>\n      <th></th>\n      <th></th>\n      <th></th>\n      <th></th>\n      <th></th>\n      <th></th>\n      <th></th>\n      <th></th>\n      <th></th>\n    </tr>\n  </thead>\n  <tbody>\n    <tr>\n      <th>Dean Ambrose</th>\n      <td>70.0</td>\n      <td>134.0</td>\n      <td>4.0</td>\n      <td>129.0</td>\n      <td>36.0</td>\n      <td>2.0</td>\n      <td>150.0</td>\n      <td>63.0</td>\n      <td>5.0</td>\n      <td>133.0</td>\n      <td>67.0</td>\n      <td>4.0</td>\n      <td>482.0</td>\n      <td>300.0</td>\n      <td>15.0</td>\n      <td>797.0</td>\n    </tr>\n    <tr>\n      <th>Seth Rollins</th>\n      <td>50.0</td>\n      <td>150.0</td>\n      <td>4.0</td>\n      <td>87.0</td>\n      <td>105.0</td>\n      <td>4.0</td>\n      <td>51.0</td>\n      <td>124.0</td>\n      <td>1.0</td>\n      <td>39.0</td>\n      <td>75.0</td>\n      <td>4.0</td>\n      <td>227.0</td>\n      <td>454.0</td>\n      <td>13.0</td>\n      <td>694.0</td>\n    </tr>\n    <tr>\n      <th>Randy Orton</th>\n      <td>129.0</td>\n      <td>63.0</td>\n      <td>8.0</td>\n      <td>33.0</td>\n      <td>87.0</td>\n      <td>5.0</td>\n      <td>81.0</td>\n      <td>10.0</td>\n      <td>1.0</td>\n      <td>39.0</td>\n      <td>21.0</td>\n      <td>0.0</td>\n      <td>282.0</td>\n      <td>181.0</td>\n      <td>14.0</td>\n      <td>477.0</td>\n    </tr>\n    <tr>\n      <th>Roman Reigns</th>\n      <td>49.0</td>\n      <td>140.0</td>\n      <td>5.0</td>\n      <td>118.0</td>\n      <td>28.0</td>\n      <td>4.0</td>\n      <td>187.0</td>\n      <td>19.0</td>\n      <td>7.0</td>\n      <td>142.0</td>\n      <td>12.0</td>\n      <td>5.0</td>\n      <td>496.0</td>\n      <td>199.0</td>\n      <td>21.0</td>\n      <td>716.0</td>\n    </tr>\n    <tr>\n      <th>Ryback</th>\n      <td>103.0</td>\n      <td>88.0</td>\n      <td>3.0</td>\n      <td>43.0</td>\n      <td>114.0</td>\n      <td>1.0</td>\n      <td>138.0</td>\n      <td>34.0</td>\n      <td>2.0</td>\n      <td>37.0</td>\n      <td>17.0</td>\n      <td>1.0</td>\n      <td>321.0</td>\n      <td>253.0</td>\n      <td>7.0</td>\n      <td>581.0</td>\n    </tr>\n  </tbody>\n</table>\n</div>"
     },
     "metadata": {},
     "execution_count": 10
    }
   ],
   "source": [
    "# Create a new dataframe for those wrestlers who have wrestled at least 100 matches,\n",
    "# have at least one win in 2013,\n",
    "# and have at least one win in 2016\n",
    "wrestled_over_hundred = combined_wrestlers_df.loc[(combined_wrestlers_df[\"Total Matches\"] >= 100) &\n",
    "                                                 (combined_wrestlers_df[\"2013 Wins\"] > 0) &\n",
    "                                                 (combined_wrestlers_df[\"2016 Wins\"] > 0)]\n",
    "\n",
    "# Set the index of this new dataframe to be the wrestlers names\n",
    "wrestled_over_hundred = wrestled_over_hundred.set_index(\"Wrestler\")\n",
    "\n",
    "wrestled_over_hundred.head()"
   ]
  },
  {
   "cell_type": "markdown",
   "metadata": {},
   "source": [
    "### Part 3 - Charting Careers\n",
    "\n",
    "* Create a variable and an input that asks the user what wrestler they would like to look for. \n",
    "\n",
    "* Store an individual wrestler's wins over time in a variable\n",
    "\n",
    "* Store that same wrestler's losses over time in a variable as well\n",
    "\n",
    "* Create a line chart that will plot this wrestler's wins and losses from 2013 to 2016"
   ]
  },
  {
   "cell_type": "code",
   "execution_count": 11,
   "metadata": {},
   "outputs": [],
   "source": [
    "# Collect the user's input to search through our data frame\n",
    "wrestler_name = input(\"What wrestler's career would you like to look at?\")"
   ]
  },
  {
   "cell_type": "code",
   "execution_count": 12,
   "metadata": {},
   "outputs": [],
   "source": [
    "# Create a series that looks for a wrestler by name and then traces their wins from 2013 to 2016\n",
    "wins_over_time = wrestled_over_hundred.loc[wrestler_name,[\"2013 Wins\",\"2014 Wins\", \"2015 Wins\", \"2016 Wins\"]]\n",
    "\n",
    "# Create a series that looks for a wrestler by name and then traces their losses from 2013 to 2016\n",
    "losses_over_time = wrestled_over_hundred.loc[wrestler_name,[\"2013 Losses\",\"2014 Losses\",\n",
    "                                                            \"2015 Losses\", \"2016 Losses\"]]"
   ]
  },
  {
   "cell_type": "code",
   "execution_count": 13,
   "metadata": {
    "scrolled": false
   },
   "outputs": [
    {
     "output_type": "display_data",
     "data": {
      "text/plain": "<Figure size 432x288 with 1 Axes>",
      "image/svg+xml": "<?xml version=\"1.0\" encoding=\"utf-8\" standalone=\"no\"?>\r\n<!DOCTYPE svg PUBLIC \"-//W3C//DTD SVG 1.1//EN\"\r\n  \"http://www.w3.org/Graphics/SVG/1.1/DTD/svg11.dtd\">\r\n<!-- Created with matplotlib (https://matplotlib.org/) -->\r\n<svg height=\"277.314375pt\" version=\"1.1\" viewBox=\"0 0 388.965625 277.314375\" width=\"388.965625pt\" xmlns=\"http://www.w3.org/2000/svg\" xmlns:xlink=\"http://www.w3.org/1999/xlink\">\r\n <defs>\r\n  <style type=\"text/css\">\r\n*{stroke-linecap:butt;stroke-linejoin:round;}\r\n  </style>\r\n </defs>\r\n <g id=\"figure_1\">\r\n  <g id=\"patch_1\">\r\n   <path d=\"M 0 277.314375 \r\nL 388.965625 277.314375 \r\nL 388.965625 0 \r\nL 0 0 \r\nz\r\n\" style=\"fill:none;\"/>\r\n  </g>\r\n  <g id=\"axes_1\">\r\n   <g id=\"patch_2\">\r\n    <path d=\"M 46.965625 239.758125 \r\nL 381.765625 239.758125 \r\nL 381.765625 22.318125 \r\nL 46.965625 22.318125 \r\nz\r\n\" style=\"fill:#ffffff;\"/>\r\n   </g>\r\n   <g id=\"matplotlib.axis_1\">\r\n    <g id=\"xtick_1\">\r\n     <g id=\"line2d_1\">\r\n      <defs>\r\n       <path d=\"M 0 0 \r\nL 0 3.5 \r\n\" id=\"m8569285b90\" style=\"stroke:#000000;stroke-width:0.8;\"/>\r\n      </defs>\r\n      <g>\r\n       <use style=\"stroke:#000000;stroke-width:0.8;\" x=\"62.183807\" xlink:href=\"#m8569285b90\" y=\"239.758125\"/>\r\n      </g>\r\n     </g>\r\n     <g id=\"text_1\">\r\n      <!-- 2013 -->\r\n      <defs>\r\n       <path d=\"M 19.1875 8.296875 \r\nL 53.609375 8.296875 \r\nL 53.609375 0 \r\nL 7.328125 0 \r\nL 7.328125 8.296875 \r\nQ 12.9375 14.109375 22.625 23.890625 \r\nQ 32.328125 33.6875 34.8125 36.53125 \r\nQ 39.546875 41.84375 41.421875 45.53125 \r\nQ 43.3125 49.21875 43.3125 52.78125 \r\nQ 43.3125 58.59375 39.234375 62.25 \r\nQ 35.15625 65.921875 28.609375 65.921875 \r\nQ 23.96875 65.921875 18.8125 64.3125 \r\nQ 13.671875 62.703125 7.8125 59.421875 \r\nL 7.8125 69.390625 \r\nQ 13.765625 71.78125 18.9375 73 \r\nQ 24.125 74.21875 28.421875 74.21875 \r\nQ 39.75 74.21875 46.484375 68.546875 \r\nQ 53.21875 62.890625 53.21875 53.421875 \r\nQ 53.21875 48.921875 51.53125 44.890625 \r\nQ 49.859375 40.875 45.40625 35.40625 \r\nQ 44.1875 33.984375 37.640625 27.21875 \r\nQ 31.109375 20.453125 19.1875 8.296875 \r\nz\r\n\" id=\"DejaVuSans-50\"/>\r\n       <path d=\"M 31.78125 66.40625 \r\nQ 24.171875 66.40625 20.328125 58.90625 \r\nQ 16.5 51.421875 16.5 36.375 \r\nQ 16.5 21.390625 20.328125 13.890625 \r\nQ 24.171875 6.390625 31.78125 6.390625 \r\nQ 39.453125 6.390625 43.28125 13.890625 \r\nQ 47.125 21.390625 47.125 36.375 \r\nQ 47.125 51.421875 43.28125 58.90625 \r\nQ 39.453125 66.40625 31.78125 66.40625 \r\nz\r\nM 31.78125 74.21875 \r\nQ 44.046875 74.21875 50.515625 64.515625 \r\nQ 56.984375 54.828125 56.984375 36.375 \r\nQ 56.984375 17.96875 50.515625 8.265625 \r\nQ 44.046875 -1.421875 31.78125 -1.421875 \r\nQ 19.53125 -1.421875 13.0625 8.265625 \r\nQ 6.59375 17.96875 6.59375 36.375 \r\nQ 6.59375 54.828125 13.0625 64.515625 \r\nQ 19.53125 74.21875 31.78125 74.21875 \r\nz\r\n\" id=\"DejaVuSans-48\"/>\r\n       <path d=\"M 12.40625 8.296875 \r\nL 28.515625 8.296875 \r\nL 28.515625 63.921875 \r\nL 10.984375 60.40625 \r\nL 10.984375 69.390625 \r\nL 28.421875 72.90625 \r\nL 38.28125 72.90625 \r\nL 38.28125 8.296875 \r\nL 54.390625 8.296875 \r\nL 54.390625 0 \r\nL 12.40625 0 \r\nz\r\n\" id=\"DejaVuSans-49\"/>\r\n       <path d=\"M 40.578125 39.3125 \r\nQ 47.65625 37.796875 51.625 33 \r\nQ 55.609375 28.21875 55.609375 21.1875 \r\nQ 55.609375 10.40625 48.1875 4.484375 \r\nQ 40.765625 -1.421875 27.09375 -1.421875 \r\nQ 22.515625 -1.421875 17.65625 -0.515625 \r\nQ 12.796875 0.390625 7.625 2.203125 \r\nL 7.625 11.71875 \r\nQ 11.71875 9.328125 16.59375 8.109375 \r\nQ 21.484375 6.890625 26.8125 6.890625 \r\nQ 36.078125 6.890625 40.9375 10.546875 \r\nQ 45.796875 14.203125 45.796875 21.1875 \r\nQ 45.796875 27.640625 41.28125 31.265625 \r\nQ 36.765625 34.90625 28.71875 34.90625 \r\nL 20.21875 34.90625 \r\nL 20.21875 43.015625 \r\nL 29.109375 43.015625 \r\nQ 36.375 43.015625 40.234375 45.921875 \r\nQ 44.09375 48.828125 44.09375 54.296875 \r\nQ 44.09375 59.90625 40.109375 62.90625 \r\nQ 36.140625 65.921875 28.71875 65.921875 \r\nQ 24.65625 65.921875 20.015625 65.03125 \r\nQ 15.375 64.15625 9.8125 62.3125 \r\nL 9.8125 71.09375 \r\nQ 15.4375 72.65625 20.34375 73.4375 \r\nQ 25.25 74.21875 29.59375 74.21875 \r\nQ 40.828125 74.21875 47.359375 69.109375 \r\nQ 53.90625 64.015625 53.90625 55.328125 \r\nQ 53.90625 49.265625 50.4375 45.09375 \r\nQ 46.96875 40.921875 40.578125 39.3125 \r\nz\r\n\" id=\"DejaVuSans-51\"/>\r\n      </defs>\r\n      <g transform=\"translate(49.458807 254.356562)scale(0.1 -0.1)\">\r\n       <use xlink:href=\"#DejaVuSans-50\"/>\r\n       <use x=\"63.623047\" xlink:href=\"#DejaVuSans-48\"/>\r\n       <use x=\"127.246094\" xlink:href=\"#DejaVuSans-49\"/>\r\n       <use x=\"190.869141\" xlink:href=\"#DejaVuSans-51\"/>\r\n      </g>\r\n     </g>\r\n    </g>\r\n    <g id=\"xtick_2\">\r\n     <g id=\"line2d_2\">\r\n      <g>\r\n       <use style=\"stroke:#000000;stroke-width:0.8;\" x=\"163.638352\" xlink:href=\"#m8569285b90\" y=\"239.758125\"/>\r\n      </g>\r\n     </g>\r\n     <g id=\"text_2\">\r\n      <!-- 2014 -->\r\n      <defs>\r\n       <path d=\"M 37.796875 64.3125 \r\nL 12.890625 25.390625 \r\nL 37.796875 25.390625 \r\nz\r\nM 35.203125 72.90625 \r\nL 47.609375 72.90625 \r\nL 47.609375 25.390625 \r\nL 58.015625 25.390625 \r\nL 58.015625 17.1875 \r\nL 47.609375 17.1875 \r\nL 47.609375 0 \r\nL 37.796875 0 \r\nL 37.796875 17.1875 \r\nL 4.890625 17.1875 \r\nL 4.890625 26.703125 \r\nz\r\n\" id=\"DejaVuSans-52\"/>\r\n      </defs>\r\n      <g transform=\"translate(150.913352 254.356562)scale(0.1 -0.1)\">\r\n       <use xlink:href=\"#DejaVuSans-50\"/>\r\n       <use x=\"63.623047\" xlink:href=\"#DejaVuSans-48\"/>\r\n       <use x=\"127.246094\" xlink:href=\"#DejaVuSans-49\"/>\r\n       <use x=\"190.869141\" xlink:href=\"#DejaVuSans-52\"/>\r\n      </g>\r\n     </g>\r\n    </g>\r\n    <g id=\"xtick_3\">\r\n     <g id=\"line2d_3\">\r\n      <g>\r\n       <use style=\"stroke:#000000;stroke-width:0.8;\" x=\"265.092898\" xlink:href=\"#m8569285b90\" y=\"239.758125\"/>\r\n      </g>\r\n     </g>\r\n     <g id=\"text_3\">\r\n      <!-- 2015 -->\r\n      <defs>\r\n       <path d=\"M 10.796875 72.90625 \r\nL 49.515625 72.90625 \r\nL 49.515625 64.59375 \r\nL 19.828125 64.59375 \r\nL 19.828125 46.734375 \r\nQ 21.96875 47.46875 24.109375 47.828125 \r\nQ 26.265625 48.1875 28.421875 48.1875 \r\nQ 40.625 48.1875 47.75 41.5 \r\nQ 54.890625 34.8125 54.890625 23.390625 \r\nQ 54.890625 11.625 47.5625 5.09375 \r\nQ 40.234375 -1.421875 26.90625 -1.421875 \r\nQ 22.3125 -1.421875 17.546875 -0.640625 \r\nQ 12.796875 0.140625 7.71875 1.703125 \r\nL 7.71875 11.625 \r\nQ 12.109375 9.234375 16.796875 8.0625 \r\nQ 21.484375 6.890625 26.703125 6.890625 \r\nQ 35.15625 6.890625 40.078125 11.328125 \r\nQ 45.015625 15.765625 45.015625 23.390625 \r\nQ 45.015625 31 40.078125 35.4375 \r\nQ 35.15625 39.890625 26.703125 39.890625 \r\nQ 22.75 39.890625 18.8125 39.015625 \r\nQ 14.890625 38.140625 10.796875 36.28125 \r\nz\r\n\" id=\"DejaVuSans-53\"/>\r\n      </defs>\r\n      <g transform=\"translate(252.367898 254.356562)scale(0.1 -0.1)\">\r\n       <use xlink:href=\"#DejaVuSans-50\"/>\r\n       <use x=\"63.623047\" xlink:href=\"#DejaVuSans-48\"/>\r\n       <use x=\"127.246094\" xlink:href=\"#DejaVuSans-49\"/>\r\n       <use x=\"190.869141\" xlink:href=\"#DejaVuSans-53\"/>\r\n      </g>\r\n     </g>\r\n    </g>\r\n    <g id=\"xtick_4\">\r\n     <g id=\"line2d_4\">\r\n      <g>\r\n       <use style=\"stroke:#000000;stroke-width:0.8;\" x=\"366.547443\" xlink:href=\"#m8569285b90\" y=\"239.758125\"/>\r\n      </g>\r\n     </g>\r\n     <g id=\"text_4\">\r\n      <!-- 2016 -->\r\n      <defs>\r\n       <path d=\"M 33.015625 40.375 \r\nQ 26.375 40.375 22.484375 35.828125 \r\nQ 18.609375 31.296875 18.609375 23.390625 \r\nQ 18.609375 15.53125 22.484375 10.953125 \r\nQ 26.375 6.390625 33.015625 6.390625 \r\nQ 39.65625 6.390625 43.53125 10.953125 \r\nQ 47.40625 15.53125 47.40625 23.390625 \r\nQ 47.40625 31.296875 43.53125 35.828125 \r\nQ 39.65625 40.375 33.015625 40.375 \r\nz\r\nM 52.59375 71.296875 \r\nL 52.59375 62.3125 \r\nQ 48.875 64.0625 45.09375 64.984375 \r\nQ 41.3125 65.921875 37.59375 65.921875 \r\nQ 27.828125 65.921875 22.671875 59.328125 \r\nQ 17.53125 52.734375 16.796875 39.40625 \r\nQ 19.671875 43.65625 24.015625 45.921875 \r\nQ 28.375 48.1875 33.59375 48.1875 \r\nQ 44.578125 48.1875 50.953125 41.515625 \r\nQ 57.328125 34.859375 57.328125 23.390625 \r\nQ 57.328125 12.15625 50.6875 5.359375 \r\nQ 44.046875 -1.421875 33.015625 -1.421875 \r\nQ 20.359375 -1.421875 13.671875 8.265625 \r\nQ 6.984375 17.96875 6.984375 36.375 \r\nQ 6.984375 53.65625 15.1875 63.9375 \r\nQ 23.390625 74.21875 37.203125 74.21875 \r\nQ 40.921875 74.21875 44.703125 73.484375 \r\nQ 48.484375 72.75 52.59375 71.296875 \r\nz\r\n\" id=\"DejaVuSans-54\"/>\r\n      </defs>\r\n      <g transform=\"translate(353.822443 254.356562)scale(0.1 -0.1)\">\r\n       <use xlink:href=\"#DejaVuSans-50\"/>\r\n       <use x=\"63.623047\" xlink:href=\"#DejaVuSans-48\"/>\r\n       <use x=\"127.246094\" xlink:href=\"#DejaVuSans-49\"/>\r\n       <use x=\"190.869141\" xlink:href=\"#DejaVuSans-54\"/>\r\n      </g>\r\n     </g>\r\n    </g>\r\n    <g id=\"text_5\">\r\n     <!-- Years -->\r\n     <defs>\r\n      <path d=\"M -0.203125 72.90625 \r\nL 10.40625 72.90625 \r\nL 30.609375 42.921875 \r\nL 50.6875 72.90625 \r\nL 61.28125 72.90625 \r\nL 35.5 34.71875 \r\nL 35.5 0 \r\nL 25.59375 0 \r\nL 25.59375 34.71875 \r\nz\r\n\" id=\"DejaVuSans-89\"/>\r\n      <path d=\"M 56.203125 29.59375 \r\nL 56.203125 25.203125 \r\nL 14.890625 25.203125 \r\nQ 15.484375 15.921875 20.484375 11.0625 \r\nQ 25.484375 6.203125 34.421875 6.203125 \r\nQ 39.59375 6.203125 44.453125 7.46875 \r\nQ 49.3125 8.734375 54.109375 11.28125 \r\nL 54.109375 2.78125 \r\nQ 49.265625 0.734375 44.1875 -0.34375 \r\nQ 39.109375 -1.421875 33.890625 -1.421875 \r\nQ 20.796875 -1.421875 13.15625 6.1875 \r\nQ 5.515625 13.8125 5.515625 26.8125 \r\nQ 5.515625 40.234375 12.765625 48.109375 \r\nQ 20.015625 56 32.328125 56 \r\nQ 43.359375 56 49.78125 48.890625 \r\nQ 56.203125 41.796875 56.203125 29.59375 \r\nz\r\nM 47.21875 32.234375 \r\nQ 47.125 39.59375 43.09375 43.984375 \r\nQ 39.0625 48.390625 32.421875 48.390625 \r\nQ 24.90625 48.390625 20.390625 44.140625 \r\nQ 15.875 39.890625 15.1875 32.171875 \r\nz\r\n\" id=\"DejaVuSans-101\"/>\r\n      <path d=\"M 34.28125 27.484375 \r\nQ 23.390625 27.484375 19.1875 25 \r\nQ 14.984375 22.515625 14.984375 16.5 \r\nQ 14.984375 11.71875 18.140625 8.90625 \r\nQ 21.296875 6.109375 26.703125 6.109375 \r\nQ 34.1875 6.109375 38.703125 11.40625 \r\nQ 43.21875 16.703125 43.21875 25.484375 \r\nL 43.21875 27.484375 \r\nz\r\nM 52.203125 31.203125 \r\nL 52.203125 0 \r\nL 43.21875 0 \r\nL 43.21875 8.296875 \r\nQ 40.140625 3.328125 35.546875 0.953125 \r\nQ 30.953125 -1.421875 24.3125 -1.421875 \r\nQ 15.921875 -1.421875 10.953125 3.296875 \r\nQ 6 8.015625 6 15.921875 \r\nQ 6 25.140625 12.171875 29.828125 \r\nQ 18.359375 34.515625 30.609375 34.515625 \r\nL 43.21875 34.515625 \r\nL 43.21875 35.40625 \r\nQ 43.21875 41.609375 39.140625 45 \r\nQ 35.0625 48.390625 27.6875 48.390625 \r\nQ 23 48.390625 18.546875 47.265625 \r\nQ 14.109375 46.140625 10.015625 43.890625 \r\nL 10.015625 52.203125 \r\nQ 14.9375 54.109375 19.578125 55.046875 \r\nQ 24.21875 56 28.609375 56 \r\nQ 40.484375 56 46.34375 49.84375 \r\nQ 52.203125 43.703125 52.203125 31.203125 \r\nz\r\n\" id=\"DejaVuSans-97\"/>\r\n      <path d=\"M 41.109375 46.296875 \r\nQ 39.59375 47.171875 37.8125 47.578125 \r\nQ 36.03125 48 33.890625 48 \r\nQ 26.265625 48 22.1875 43.046875 \r\nQ 18.109375 38.09375 18.109375 28.8125 \r\nL 18.109375 0 \r\nL 9.078125 0 \r\nL 9.078125 54.6875 \r\nL 18.109375 54.6875 \r\nL 18.109375 46.1875 \r\nQ 20.953125 51.171875 25.484375 53.578125 \r\nQ 30.03125 56 36.53125 56 \r\nQ 37.453125 56 38.578125 55.875 \r\nQ 39.703125 55.765625 41.0625 55.515625 \r\nz\r\n\" id=\"DejaVuSans-114\"/>\r\n      <path d=\"M 44.28125 53.078125 \r\nL 44.28125 44.578125 \r\nQ 40.484375 46.53125 36.375 47.5 \r\nQ 32.28125 48.484375 27.875 48.484375 \r\nQ 21.1875 48.484375 17.84375 46.4375 \r\nQ 14.5 44.390625 14.5 40.28125 \r\nQ 14.5 37.15625 16.890625 35.375 \r\nQ 19.28125 33.59375 26.515625 31.984375 \r\nL 29.59375 31.296875 \r\nQ 39.15625 29.25 43.1875 25.515625 \r\nQ 47.21875 21.78125 47.21875 15.09375 \r\nQ 47.21875 7.46875 41.1875 3.015625 \r\nQ 35.15625 -1.421875 24.609375 -1.421875 \r\nQ 20.21875 -1.421875 15.453125 -0.5625 \r\nQ 10.6875 0.296875 5.421875 2 \r\nL 5.421875 11.28125 \r\nQ 10.40625 8.6875 15.234375 7.390625 \r\nQ 20.0625 6.109375 24.8125 6.109375 \r\nQ 31.15625 6.109375 34.5625 8.28125 \r\nQ 37.984375 10.453125 37.984375 14.40625 \r\nQ 37.984375 18.0625 35.515625 20.015625 \r\nQ 33.0625 21.96875 24.703125 23.78125 \r\nL 21.578125 24.515625 \r\nQ 13.234375 26.265625 9.515625 29.90625 \r\nQ 5.8125 33.546875 5.8125 39.890625 \r\nQ 5.8125 47.609375 11.28125 51.796875 \r\nQ 16.75 56 26.8125 56 \r\nQ 31.78125 56 36.171875 55.265625 \r\nQ 40.578125 54.546875 44.28125 53.078125 \r\nz\r\n\" id=\"DejaVuSans-115\"/>\r\n     </defs>\r\n     <g transform=\"translate(201.173438 268.034687)scale(0.1 -0.1)\">\r\n      <use xlink:href=\"#DejaVuSans-89\"/>\r\n      <use x=\"47.833984\" xlink:href=\"#DejaVuSans-101\"/>\r\n      <use x=\"109.357422\" xlink:href=\"#DejaVuSans-97\"/>\r\n      <use x=\"170.636719\" xlink:href=\"#DejaVuSans-114\"/>\r\n      <use x=\"211.75\" xlink:href=\"#DejaVuSans-115\"/>\r\n     </g>\r\n    </g>\r\n   </g>\r\n   <g id=\"matplotlib.axis_2\">\r\n    <g id=\"ytick_1\">\r\n     <g id=\"line2d_5\">\r\n      <defs>\r\n       <path d=\"M 0 0 \r\nL -3.5 0 \r\n\" id=\"md5f0d599bb\" style=\"stroke:#000000;stroke-width:0.8;\"/>\r\n      </defs>\r\n      <g>\r\n       <use style=\"stroke:#000000;stroke-width:0.8;\" x=\"46.965625\" xlink:href=\"#md5f0d599bb\" y=\"213.263335\"/>\r\n      </g>\r\n     </g>\r\n     <g id=\"text_6\">\r\n      <!-- 20 -->\r\n      <g transform=\"translate(27.240625 217.062554)scale(0.1 -0.1)\">\r\n       <use xlink:href=\"#DejaVuSans-50\"/>\r\n       <use x=\"63.623047\" xlink:href=\"#DejaVuSans-48\"/>\r\n      </g>\r\n     </g>\r\n    </g>\r\n    <g id=\"ytick_2\">\r\n     <g id=\"line2d_6\">\r\n      <g>\r\n       <use style=\"stroke:#000000;stroke-width:0.8;\" x=\"46.965625\" xlink:href=\"#md5f0d599bb\" y=\"180.041028\"/>\r\n      </g>\r\n     </g>\r\n     <g id=\"text_7\">\r\n      <!-- 40 -->\r\n      <g transform=\"translate(27.240625 183.840247)scale(0.1 -0.1)\">\r\n       <use xlink:href=\"#DejaVuSans-52\"/>\r\n       <use x=\"63.623047\" xlink:href=\"#DejaVuSans-48\"/>\r\n      </g>\r\n     </g>\r\n    </g>\r\n    <g id=\"ytick_3\">\r\n     <g id=\"line2d_7\">\r\n      <g>\r\n       <use style=\"stroke:#000000;stroke-width:0.8;\" x=\"46.965625\" xlink:href=\"#md5f0d599bb\" y=\"146.818721\"/>\r\n      </g>\r\n     </g>\r\n     <g id=\"text_8\">\r\n      <!-- 60 -->\r\n      <g transform=\"translate(27.240625 150.61794)scale(0.1 -0.1)\">\r\n       <use xlink:href=\"#DejaVuSans-54\"/>\r\n       <use x=\"63.623047\" xlink:href=\"#DejaVuSans-48\"/>\r\n      </g>\r\n     </g>\r\n    </g>\r\n    <g id=\"ytick_4\">\r\n     <g id=\"line2d_8\">\r\n      <g>\r\n       <use style=\"stroke:#000000;stroke-width:0.8;\" x=\"46.965625\" xlink:href=\"#md5f0d599bb\" y=\"113.596414\"/>\r\n      </g>\r\n     </g>\r\n     <g id=\"text_9\">\r\n      <!-- 80 -->\r\n      <defs>\r\n       <path d=\"M 31.78125 34.625 \r\nQ 24.75 34.625 20.71875 30.859375 \r\nQ 16.703125 27.09375 16.703125 20.515625 \r\nQ 16.703125 13.921875 20.71875 10.15625 \r\nQ 24.75 6.390625 31.78125 6.390625 \r\nQ 38.8125 6.390625 42.859375 10.171875 \r\nQ 46.921875 13.96875 46.921875 20.515625 \r\nQ 46.921875 27.09375 42.890625 30.859375 \r\nQ 38.875 34.625 31.78125 34.625 \r\nz\r\nM 21.921875 38.8125 \r\nQ 15.578125 40.375 12.03125 44.71875 \r\nQ 8.5 49.078125 8.5 55.328125 \r\nQ 8.5 64.0625 14.71875 69.140625 \r\nQ 20.953125 74.21875 31.78125 74.21875 \r\nQ 42.671875 74.21875 48.875 69.140625 \r\nQ 55.078125 64.0625 55.078125 55.328125 \r\nQ 55.078125 49.078125 51.53125 44.71875 \r\nQ 48 40.375 41.703125 38.8125 \r\nQ 48.828125 37.15625 52.796875 32.3125 \r\nQ 56.78125 27.484375 56.78125 20.515625 \r\nQ 56.78125 9.90625 50.3125 4.234375 \r\nQ 43.84375 -1.421875 31.78125 -1.421875 \r\nQ 19.734375 -1.421875 13.25 4.234375 \r\nQ 6.78125 9.90625 6.78125 20.515625 \r\nQ 6.78125 27.484375 10.78125 32.3125 \r\nQ 14.796875 37.15625 21.921875 38.8125 \r\nz\r\nM 18.3125 54.390625 \r\nQ 18.3125 48.734375 21.84375 45.5625 \r\nQ 25.390625 42.390625 31.78125 42.390625 \r\nQ 38.140625 42.390625 41.71875 45.5625 \r\nQ 45.3125 48.734375 45.3125 54.390625 \r\nQ 45.3125 60.0625 41.71875 63.234375 \r\nQ 38.140625 66.40625 31.78125 66.40625 \r\nQ 25.390625 66.40625 21.84375 63.234375 \r\nQ 18.3125 60.0625 18.3125 54.390625 \r\nz\r\n\" id=\"DejaVuSans-56\"/>\r\n      </defs>\r\n      <g transform=\"translate(27.240625 117.395633)scale(0.1 -0.1)\">\r\n       <use xlink:href=\"#DejaVuSans-56\"/>\r\n       <use x=\"63.623047\" xlink:href=\"#DejaVuSans-48\"/>\r\n      </g>\r\n     </g>\r\n    </g>\r\n    <g id=\"ytick_5\">\r\n     <g id=\"line2d_9\">\r\n      <g>\r\n       <use style=\"stroke:#000000;stroke-width:0.8;\" x=\"46.965625\" xlink:href=\"#md5f0d599bb\" y=\"80.374107\"/>\r\n      </g>\r\n     </g>\r\n     <g id=\"text_10\">\r\n      <!-- 100 -->\r\n      <g transform=\"translate(20.878125 84.173325)scale(0.1 -0.1)\">\r\n       <use xlink:href=\"#DejaVuSans-49\"/>\r\n       <use x=\"63.623047\" xlink:href=\"#DejaVuSans-48\"/>\r\n       <use x=\"127.246094\" xlink:href=\"#DejaVuSans-48\"/>\r\n      </g>\r\n     </g>\r\n    </g>\r\n    <g id=\"ytick_6\">\r\n     <g id=\"line2d_10\">\r\n      <g>\r\n       <use style=\"stroke:#000000;stroke-width:0.8;\" x=\"46.965625\" xlink:href=\"#md5f0d599bb\" y=\"47.1518\"/>\r\n      </g>\r\n     </g>\r\n     <g id=\"text_11\">\r\n      <!-- 120 -->\r\n      <g transform=\"translate(20.878125 50.951018)scale(0.1 -0.1)\">\r\n       <use xlink:href=\"#DejaVuSans-49\"/>\r\n       <use x=\"63.623047\" xlink:href=\"#DejaVuSans-50\"/>\r\n       <use x=\"127.246094\" xlink:href=\"#DejaVuSans-48\"/>\r\n      </g>\r\n     </g>\r\n    </g>\r\n    <g id=\"text_12\">\r\n     <!-- Number of Wins/Losses -->\r\n     <defs>\r\n      <path d=\"M 9.8125 72.90625 \r\nL 23.09375 72.90625 \r\nL 55.421875 11.921875 \r\nL 55.421875 72.90625 \r\nL 64.984375 72.90625 \r\nL 64.984375 0 \r\nL 51.703125 0 \r\nL 19.390625 60.984375 \r\nL 19.390625 0 \r\nL 9.8125 0 \r\nz\r\n\" id=\"DejaVuSans-78\"/>\r\n      <path d=\"M 8.5 21.578125 \r\nL 8.5 54.6875 \r\nL 17.484375 54.6875 \r\nL 17.484375 21.921875 \r\nQ 17.484375 14.15625 20.5 10.265625 \r\nQ 23.53125 6.390625 29.59375 6.390625 \r\nQ 36.859375 6.390625 41.078125 11.03125 \r\nQ 45.3125 15.671875 45.3125 23.6875 \r\nL 45.3125 54.6875 \r\nL 54.296875 54.6875 \r\nL 54.296875 0 \r\nL 45.3125 0 \r\nL 45.3125 8.40625 \r\nQ 42.046875 3.421875 37.71875 1 \r\nQ 33.40625 -1.421875 27.6875 -1.421875 \r\nQ 18.265625 -1.421875 13.375 4.4375 \r\nQ 8.5 10.296875 8.5 21.578125 \r\nz\r\nM 31.109375 56 \r\nz\r\n\" id=\"DejaVuSans-117\"/>\r\n      <path d=\"M 52 44.1875 \r\nQ 55.375 50.25 60.0625 53.125 \r\nQ 64.75 56 71.09375 56 \r\nQ 79.640625 56 84.28125 50.015625 \r\nQ 88.921875 44.046875 88.921875 33.015625 \r\nL 88.921875 0 \r\nL 79.890625 0 \r\nL 79.890625 32.71875 \r\nQ 79.890625 40.578125 77.09375 44.375 \r\nQ 74.3125 48.1875 68.609375 48.1875 \r\nQ 61.625 48.1875 57.5625 43.546875 \r\nQ 53.515625 38.921875 53.515625 30.90625 \r\nL 53.515625 0 \r\nL 44.484375 0 \r\nL 44.484375 32.71875 \r\nQ 44.484375 40.625 41.703125 44.40625 \r\nQ 38.921875 48.1875 33.109375 48.1875 \r\nQ 26.21875 48.1875 22.15625 43.53125 \r\nQ 18.109375 38.875 18.109375 30.90625 \r\nL 18.109375 0 \r\nL 9.078125 0 \r\nL 9.078125 54.6875 \r\nL 18.109375 54.6875 \r\nL 18.109375 46.1875 \r\nQ 21.1875 51.21875 25.484375 53.609375 \r\nQ 29.78125 56 35.6875 56 \r\nQ 41.65625 56 45.828125 52.96875 \r\nQ 50 49.953125 52 44.1875 \r\nz\r\n\" id=\"DejaVuSans-109\"/>\r\n      <path d=\"M 48.6875 27.296875 \r\nQ 48.6875 37.203125 44.609375 42.84375 \r\nQ 40.53125 48.484375 33.40625 48.484375 \r\nQ 26.265625 48.484375 22.1875 42.84375 \r\nQ 18.109375 37.203125 18.109375 27.296875 \r\nQ 18.109375 17.390625 22.1875 11.75 \r\nQ 26.265625 6.109375 33.40625 6.109375 \r\nQ 40.53125 6.109375 44.609375 11.75 \r\nQ 48.6875 17.390625 48.6875 27.296875 \r\nz\r\nM 18.109375 46.390625 \r\nQ 20.953125 51.265625 25.265625 53.625 \r\nQ 29.59375 56 35.59375 56 \r\nQ 45.5625 56 51.78125 48.09375 \r\nQ 58.015625 40.1875 58.015625 27.296875 \r\nQ 58.015625 14.40625 51.78125 6.484375 \r\nQ 45.5625 -1.421875 35.59375 -1.421875 \r\nQ 29.59375 -1.421875 25.265625 0.953125 \r\nQ 20.953125 3.328125 18.109375 8.203125 \r\nL 18.109375 0 \r\nL 9.078125 0 \r\nL 9.078125 75.984375 \r\nL 18.109375 75.984375 \r\nz\r\n\" id=\"DejaVuSans-98\"/>\r\n      <path id=\"DejaVuSans-32\"/>\r\n      <path d=\"M 30.609375 48.390625 \r\nQ 23.390625 48.390625 19.1875 42.75 \r\nQ 14.984375 37.109375 14.984375 27.296875 \r\nQ 14.984375 17.484375 19.15625 11.84375 \r\nQ 23.34375 6.203125 30.609375 6.203125 \r\nQ 37.796875 6.203125 41.984375 11.859375 \r\nQ 46.1875 17.53125 46.1875 27.296875 \r\nQ 46.1875 37.015625 41.984375 42.703125 \r\nQ 37.796875 48.390625 30.609375 48.390625 \r\nz\r\nM 30.609375 56 \r\nQ 42.328125 56 49.015625 48.375 \r\nQ 55.71875 40.765625 55.71875 27.296875 \r\nQ 55.71875 13.875 49.015625 6.21875 \r\nQ 42.328125 -1.421875 30.609375 -1.421875 \r\nQ 18.84375 -1.421875 12.171875 6.21875 \r\nQ 5.515625 13.875 5.515625 27.296875 \r\nQ 5.515625 40.765625 12.171875 48.375 \r\nQ 18.84375 56 30.609375 56 \r\nz\r\n\" id=\"DejaVuSans-111\"/>\r\n      <path d=\"M 37.109375 75.984375 \r\nL 37.109375 68.5 \r\nL 28.515625 68.5 \r\nQ 23.6875 68.5 21.796875 66.546875 \r\nQ 19.921875 64.59375 19.921875 59.515625 \r\nL 19.921875 54.6875 \r\nL 34.71875 54.6875 \r\nL 34.71875 47.703125 \r\nL 19.921875 47.703125 \r\nL 19.921875 0 \r\nL 10.890625 0 \r\nL 10.890625 47.703125 \r\nL 2.296875 47.703125 \r\nL 2.296875 54.6875 \r\nL 10.890625 54.6875 \r\nL 10.890625 58.5 \r\nQ 10.890625 67.625 15.140625 71.796875 \r\nQ 19.390625 75.984375 28.609375 75.984375 \r\nz\r\n\" id=\"DejaVuSans-102\"/>\r\n      <path d=\"M 3.328125 72.90625 \r\nL 13.28125 72.90625 \r\nL 28.609375 11.28125 \r\nL 43.890625 72.90625 \r\nL 54.984375 72.90625 \r\nL 70.3125 11.28125 \r\nL 85.59375 72.90625 \r\nL 95.609375 72.90625 \r\nL 77.296875 0 \r\nL 64.890625 0 \r\nL 49.515625 63.28125 \r\nL 33.984375 0 \r\nL 21.578125 0 \r\nz\r\n\" id=\"DejaVuSans-87\"/>\r\n      <path d=\"M 9.421875 54.6875 \r\nL 18.40625 54.6875 \r\nL 18.40625 0 \r\nL 9.421875 0 \r\nz\r\nM 9.421875 75.984375 \r\nL 18.40625 75.984375 \r\nL 18.40625 64.59375 \r\nL 9.421875 64.59375 \r\nz\r\n\" id=\"DejaVuSans-105\"/>\r\n      <path d=\"M 54.890625 33.015625 \r\nL 54.890625 0 \r\nL 45.90625 0 \r\nL 45.90625 32.71875 \r\nQ 45.90625 40.484375 42.875 44.328125 \r\nQ 39.84375 48.1875 33.796875 48.1875 \r\nQ 26.515625 48.1875 22.3125 43.546875 \r\nQ 18.109375 38.921875 18.109375 30.90625 \r\nL 18.109375 0 \r\nL 9.078125 0 \r\nL 9.078125 54.6875 \r\nL 18.109375 54.6875 \r\nL 18.109375 46.1875 \r\nQ 21.34375 51.125 25.703125 53.5625 \r\nQ 30.078125 56 35.796875 56 \r\nQ 45.21875 56 50.046875 50.171875 \r\nQ 54.890625 44.34375 54.890625 33.015625 \r\nz\r\n\" id=\"DejaVuSans-110\"/>\r\n      <path d=\"M 25.390625 72.90625 \r\nL 33.6875 72.90625 \r\nL 8.296875 -9.28125 \r\nL 0 -9.28125 \r\nz\r\n\" id=\"DejaVuSans-47\"/>\r\n      <path d=\"M 9.8125 72.90625 \r\nL 19.671875 72.90625 \r\nL 19.671875 8.296875 \r\nL 55.171875 8.296875 \r\nL 55.171875 0 \r\nL 9.8125 0 \r\nz\r\n\" id=\"DejaVuSans-76\"/>\r\n     </defs>\r\n     <g transform=\"translate(14.798438 189.448281)rotate(-90)scale(0.1 -0.1)\">\r\n      <use xlink:href=\"#DejaVuSans-78\"/>\r\n      <use x=\"74.804688\" xlink:href=\"#DejaVuSans-117\"/>\r\n      <use x=\"138.183594\" xlink:href=\"#DejaVuSans-109\"/>\r\n      <use x=\"235.595703\" xlink:href=\"#DejaVuSans-98\"/>\r\n      <use x=\"299.072266\" xlink:href=\"#DejaVuSans-101\"/>\r\n      <use x=\"360.595703\" xlink:href=\"#DejaVuSans-114\"/>\r\n      <use x=\"401.708984\" xlink:href=\"#DejaVuSans-32\"/>\r\n      <use x=\"433.496094\" xlink:href=\"#DejaVuSans-111\"/>\r\n      <use x=\"494.677734\" xlink:href=\"#DejaVuSans-102\"/>\r\n      <use x=\"529.882812\" xlink:href=\"#DejaVuSans-32\"/>\r\n      <use x=\"561.669922\" xlink:href=\"#DejaVuSans-87\"/>\r\n      <use x=\"658.296875\" xlink:href=\"#DejaVuSans-105\"/>\r\n      <use x=\"686.080078\" xlink:href=\"#DejaVuSans-110\"/>\r\n      <use x=\"749.458984\" xlink:href=\"#DejaVuSans-115\"/>\r\n      <use x=\"801.558594\" xlink:href=\"#DejaVuSans-47\"/>\r\n      <use x=\"835.25\" xlink:href=\"#DejaVuSans-76\"/>\r\n      <use x=\"889.212891\" xlink:href=\"#DejaVuSans-111\"/>\r\n      <use x=\"950.394531\" xlink:href=\"#DejaVuSans-115\"/>\r\n      <use x=\"1002.494141\" xlink:href=\"#DejaVuSans-115\"/>\r\n      <use x=\"1054.59375\" xlink:href=\"#DejaVuSans-101\"/>\r\n      <use x=\"1116.117188\" xlink:href=\"#DejaVuSans-115\"/>\r\n     </g>\r\n    </g>\r\n   </g>\r\n   <g id=\"line2d_11\">\r\n    <path clip-path=\"url(#pc5fdc5eba2)\" d=\"M 62.183807 32.201761 \r\nL 163.638352 191.668835 \r\nL 265.092898 111.935298 \r\nL 366.547443 181.702143 \r\n\" style=\"fill:none;stroke:#008000;stroke-linecap:square;stroke-width:1.5;\"/>\r\n   </g>\r\n   <g id=\"line2d_12\">\r\n    <path clip-path=\"url(#pc5fdc5eba2)\" d=\"M 62.183807 141.835375 \r\nL 163.638352 101.968606 \r\nL 265.092898 229.874489 \r\nL 366.547443 211.60222 \r\n\" style=\"fill:none;stroke:#0000ff;stroke-linecap:square;stroke-width:1.5;\"/>\r\n   </g>\r\n   <g id=\"patch_3\">\r\n    <path d=\"M 46.965625 239.758125 \r\nL 46.965625 22.318125 \r\n\" style=\"fill:none;stroke:#000000;stroke-linecap:square;stroke-linejoin:miter;stroke-width:0.8;\"/>\r\n   </g>\r\n   <g id=\"patch_4\">\r\n    <path d=\"M 381.765625 239.758125 \r\nL 381.765625 22.318125 \r\n\" style=\"fill:none;stroke:#000000;stroke-linecap:square;stroke-linejoin:miter;stroke-width:0.8;\"/>\r\n   </g>\r\n   <g id=\"patch_5\">\r\n    <path d=\"M 46.965625 239.758125 \r\nL 381.765625 239.758125 \r\n\" style=\"fill:none;stroke:#000000;stroke-linecap:square;stroke-linejoin:miter;stroke-width:0.8;\"/>\r\n   </g>\r\n   <g id=\"patch_6\">\r\n    <path d=\"M 46.965625 22.318125 \r\nL 381.765625 22.318125 \r\n\" style=\"fill:none;stroke:#000000;stroke-linecap:square;stroke-linejoin:miter;stroke-width:0.8;\"/>\r\n   </g>\r\n   <g id=\"text_13\">\r\n    <!-- Randy Orton's Recent Career -->\r\n    <defs>\r\n     <path d=\"M 44.390625 34.1875 \r\nQ 47.5625 33.109375 50.5625 29.59375 \r\nQ 53.5625 26.078125 56.59375 19.921875 \r\nL 66.609375 0 \r\nL 56 0 \r\nL 46.6875 18.703125 \r\nQ 43.0625 26.03125 39.671875 28.421875 \r\nQ 36.28125 30.8125 30.421875 30.8125 \r\nL 19.671875 30.8125 \r\nL 19.671875 0 \r\nL 9.8125 0 \r\nL 9.8125 72.90625 \r\nL 32.078125 72.90625 \r\nQ 44.578125 72.90625 50.734375 67.671875 \r\nQ 56.890625 62.453125 56.890625 51.90625 \r\nQ 56.890625 45.015625 53.6875 40.46875 \r\nQ 50.484375 35.9375 44.390625 34.1875 \r\nz\r\nM 19.671875 64.796875 \r\nL 19.671875 38.921875 \r\nL 32.078125 38.921875 \r\nQ 39.203125 38.921875 42.84375 42.21875 \r\nQ 46.484375 45.515625 46.484375 51.90625 \r\nQ 46.484375 58.296875 42.84375 61.546875 \r\nQ 39.203125 64.796875 32.078125 64.796875 \r\nz\r\n\" id=\"DejaVuSans-82\"/>\r\n     <path d=\"M 45.40625 46.390625 \r\nL 45.40625 75.984375 \r\nL 54.390625 75.984375 \r\nL 54.390625 0 \r\nL 45.40625 0 \r\nL 45.40625 8.203125 \r\nQ 42.578125 3.328125 38.25 0.953125 \r\nQ 33.9375 -1.421875 27.875 -1.421875 \r\nQ 17.96875 -1.421875 11.734375 6.484375 \r\nQ 5.515625 14.40625 5.515625 27.296875 \r\nQ 5.515625 40.1875 11.734375 48.09375 \r\nQ 17.96875 56 27.875 56 \r\nQ 33.9375 56 38.25 53.625 \r\nQ 42.578125 51.265625 45.40625 46.390625 \r\nz\r\nM 14.796875 27.296875 \r\nQ 14.796875 17.390625 18.875 11.75 \r\nQ 22.953125 6.109375 30.078125 6.109375 \r\nQ 37.203125 6.109375 41.296875 11.75 \r\nQ 45.40625 17.390625 45.40625 27.296875 \r\nQ 45.40625 37.203125 41.296875 42.84375 \r\nQ 37.203125 48.484375 30.078125 48.484375 \r\nQ 22.953125 48.484375 18.875 42.84375 \r\nQ 14.796875 37.203125 14.796875 27.296875 \r\nz\r\n\" id=\"DejaVuSans-100\"/>\r\n     <path d=\"M 32.171875 -5.078125 \r\nQ 28.375 -14.84375 24.75 -17.8125 \r\nQ 21.140625 -20.796875 15.09375 -20.796875 \r\nL 7.90625 -20.796875 \r\nL 7.90625 -13.28125 \r\nL 13.1875 -13.28125 \r\nQ 16.890625 -13.28125 18.9375 -11.515625 \r\nQ 21 -9.765625 23.484375 -3.21875 \r\nL 25.09375 0.875 \r\nL 2.984375 54.6875 \r\nL 12.5 54.6875 \r\nL 29.59375 11.921875 \r\nL 46.6875 54.6875 \r\nL 56.203125 54.6875 \r\nz\r\n\" id=\"DejaVuSans-121\"/>\r\n     <path d=\"M 39.40625 66.21875 \r\nQ 28.65625 66.21875 22.328125 58.203125 \r\nQ 16.015625 50.203125 16.015625 36.375 \r\nQ 16.015625 22.609375 22.328125 14.59375 \r\nQ 28.65625 6.59375 39.40625 6.59375 \r\nQ 50.140625 6.59375 56.421875 14.59375 \r\nQ 62.703125 22.609375 62.703125 36.375 \r\nQ 62.703125 50.203125 56.421875 58.203125 \r\nQ 50.140625 66.21875 39.40625 66.21875 \r\nz\r\nM 39.40625 74.21875 \r\nQ 54.734375 74.21875 63.90625 63.9375 \r\nQ 73.09375 53.65625 73.09375 36.375 \r\nQ 73.09375 19.140625 63.90625 8.859375 \r\nQ 54.734375 -1.421875 39.40625 -1.421875 \r\nQ 24.03125 -1.421875 14.8125 8.828125 \r\nQ 5.609375 19.09375 5.609375 36.375 \r\nQ 5.609375 53.65625 14.8125 63.9375 \r\nQ 24.03125 74.21875 39.40625 74.21875 \r\nz\r\n\" id=\"DejaVuSans-79\"/>\r\n     <path d=\"M 18.3125 70.21875 \r\nL 18.3125 54.6875 \r\nL 36.8125 54.6875 \r\nL 36.8125 47.703125 \r\nL 18.3125 47.703125 \r\nL 18.3125 18.015625 \r\nQ 18.3125 11.328125 20.140625 9.421875 \r\nQ 21.96875 7.515625 27.59375 7.515625 \r\nL 36.8125 7.515625 \r\nL 36.8125 0 \r\nL 27.59375 0 \r\nQ 17.1875 0 13.234375 3.875 \r\nQ 9.28125 7.765625 9.28125 18.015625 \r\nL 9.28125 47.703125 \r\nL 2.6875 47.703125 \r\nL 2.6875 54.6875 \r\nL 9.28125 54.6875 \r\nL 9.28125 70.21875 \r\nz\r\n\" id=\"DejaVuSans-116\"/>\r\n     <path d=\"M 17.921875 72.90625 \r\nL 17.921875 45.796875 \r\nL 9.625 45.796875 \r\nL 9.625 72.90625 \r\nz\r\n\" id=\"DejaVuSans-39\"/>\r\n     <path d=\"M 48.78125 52.59375 \r\nL 48.78125 44.1875 \r\nQ 44.96875 46.296875 41.140625 47.34375 \r\nQ 37.3125 48.390625 33.40625 48.390625 \r\nQ 24.65625 48.390625 19.8125 42.84375 \r\nQ 14.984375 37.3125 14.984375 27.296875 \r\nQ 14.984375 17.28125 19.8125 11.734375 \r\nQ 24.65625 6.203125 33.40625 6.203125 \r\nQ 37.3125 6.203125 41.140625 7.25 \r\nQ 44.96875 8.296875 48.78125 10.40625 \r\nL 48.78125 2.09375 \r\nQ 45.015625 0.34375 40.984375 -0.53125 \r\nQ 36.96875 -1.421875 32.421875 -1.421875 \r\nQ 20.0625 -1.421875 12.78125 6.34375 \r\nQ 5.515625 14.109375 5.515625 27.296875 \r\nQ 5.515625 40.671875 12.859375 48.328125 \r\nQ 20.21875 56 33.015625 56 \r\nQ 37.15625 56 41.109375 55.140625 \r\nQ 45.0625 54.296875 48.78125 52.59375 \r\nz\r\n\" id=\"DejaVuSans-99\"/>\r\n     <path d=\"M 64.40625 67.28125 \r\nL 64.40625 56.890625 \r\nQ 59.421875 61.53125 53.78125 63.8125 \r\nQ 48.140625 66.109375 41.796875 66.109375 \r\nQ 29.296875 66.109375 22.65625 58.46875 \r\nQ 16.015625 50.828125 16.015625 36.375 \r\nQ 16.015625 21.96875 22.65625 14.328125 \r\nQ 29.296875 6.6875 41.796875 6.6875 \r\nQ 48.140625 6.6875 53.78125 8.984375 \r\nQ 59.421875 11.28125 64.40625 15.921875 \r\nL 64.40625 5.609375 \r\nQ 59.234375 2.09375 53.4375 0.328125 \r\nQ 47.65625 -1.421875 41.21875 -1.421875 \r\nQ 24.65625 -1.421875 15.125 8.703125 \r\nQ 5.609375 18.84375 5.609375 36.375 \r\nQ 5.609375 53.953125 15.125 64.078125 \r\nQ 24.65625 74.21875 41.21875 74.21875 \r\nQ 47.75 74.21875 53.53125 72.484375 \r\nQ 59.328125 70.75 64.40625 67.28125 \r\nz\r\n\" id=\"DejaVuSans-67\"/>\r\n    </defs>\r\n    <g transform=\"translate(127.195938 16.318125)scale(0.12 -0.12)\">\r\n     <use xlink:href=\"#DejaVuSans-82\"/>\r\n     <use x=\"67.232422\" xlink:href=\"#DejaVuSans-97\"/>\r\n     <use x=\"128.511719\" xlink:href=\"#DejaVuSans-110\"/>\r\n     <use x=\"191.890625\" xlink:href=\"#DejaVuSans-100\"/>\r\n     <use x=\"255.367188\" xlink:href=\"#DejaVuSans-121\"/>\r\n     <use x=\"314.546875\" xlink:href=\"#DejaVuSans-32\"/>\r\n     <use x=\"346.333984\" xlink:href=\"#DejaVuSans-79\"/>\r\n     <use x=\"425.044922\" xlink:href=\"#DejaVuSans-114\"/>\r\n     <use x=\"466.158203\" xlink:href=\"#DejaVuSans-116\"/>\r\n     <use x=\"505.367188\" xlink:href=\"#DejaVuSans-111\"/>\r\n     <use x=\"566.548828\" xlink:href=\"#DejaVuSans-110\"/>\r\n     <use x=\"629.927734\" xlink:href=\"#DejaVuSans-39\"/>\r\n     <use x=\"657.417969\" xlink:href=\"#DejaVuSans-115\"/>\r\n     <use x=\"709.517578\" xlink:href=\"#DejaVuSans-32\"/>\r\n     <use x=\"741.304688\" xlink:href=\"#DejaVuSans-82\"/>\r\n     <use x=\"806.287109\" xlink:href=\"#DejaVuSans-101\"/>\r\n     <use x=\"867.810547\" xlink:href=\"#DejaVuSans-99\"/>\r\n     <use x=\"922.791016\" xlink:href=\"#DejaVuSans-101\"/>\r\n     <use x=\"984.314453\" xlink:href=\"#DejaVuSans-110\"/>\r\n     <use x=\"1047.693359\" xlink:href=\"#DejaVuSans-116\"/>\r\n     <use x=\"1086.902344\" xlink:href=\"#DejaVuSans-32\"/>\r\n     <use x=\"1118.689453\" xlink:href=\"#DejaVuSans-67\"/>\r\n     <use x=\"1188.513672\" xlink:href=\"#DejaVuSans-97\"/>\r\n     <use x=\"1249.792969\" xlink:href=\"#DejaVuSans-114\"/>\r\n     <use x=\"1288.65625\" xlink:href=\"#DejaVuSans-101\"/>\r\n     <use x=\"1350.179688\" xlink:href=\"#DejaVuSans-101\"/>\r\n     <use x=\"1411.703125\" xlink:href=\"#DejaVuSans-114\"/>\r\n    </g>\r\n   </g>\r\n   <g id=\"legend_1\">\r\n    <g id=\"patch_7\">\r\n     <path d=\"M 309.46875 59.674375 \r\nL 374.765625 59.674375 \r\nQ 376.765625 59.674375 376.765625 57.674375 \r\nL 376.765625 29.318125 \r\nQ 376.765625 27.318125 374.765625 27.318125 \r\nL 309.46875 27.318125 \r\nQ 307.46875 27.318125 307.46875 29.318125 \r\nL 307.46875 57.674375 \r\nQ 307.46875 59.674375 309.46875 59.674375 \r\nz\r\n\" style=\"fill:#ffffff;opacity:0.8;stroke:#cccccc;stroke-linejoin:miter;\"/>\r\n    </g>\r\n    <g id=\"line2d_13\">\r\n     <path d=\"M 311.46875 35.416562 \r\nL 331.46875 35.416562 \r\n\" style=\"fill:none;stroke:#008000;stroke-linecap:square;stroke-width:1.5;\"/>\r\n    </g>\r\n    <g id=\"line2d_14\"/>\r\n    <g id=\"text_14\">\r\n     <!-- Wins -->\r\n     <g transform=\"translate(339.46875 38.916562)scale(0.1 -0.1)\">\r\n      <use xlink:href=\"#DejaVuSans-87\"/>\r\n      <use x=\"96.626953\" xlink:href=\"#DejaVuSans-105\"/>\r\n      <use x=\"124.410156\" xlink:href=\"#DejaVuSans-110\"/>\r\n      <use x=\"187.789062\" xlink:href=\"#DejaVuSans-115\"/>\r\n     </g>\r\n    </g>\r\n    <g id=\"line2d_15\">\r\n     <path d=\"M 311.46875 50.094687 \r\nL 331.46875 50.094687 \r\n\" style=\"fill:none;stroke:#0000ff;stroke-linecap:square;stroke-width:1.5;\"/>\r\n    </g>\r\n    <g id=\"line2d_16\"/>\r\n    <g id=\"text_15\">\r\n     <!-- Losses -->\r\n     <g transform=\"translate(339.46875 53.594687)scale(0.1 -0.1)\">\r\n      <use xlink:href=\"#DejaVuSans-76\"/>\r\n      <use x=\"53.962891\" xlink:href=\"#DejaVuSans-111\"/>\r\n      <use x=\"115.144531\" xlink:href=\"#DejaVuSans-115\"/>\r\n      <use x=\"167.244141\" xlink:href=\"#DejaVuSans-115\"/>\r\n      <use x=\"219.34375\" xlink:href=\"#DejaVuSans-101\"/>\r\n      <use x=\"280.867188\" xlink:href=\"#DejaVuSans-115\"/>\r\n     </g>\r\n    </g>\r\n   </g>\r\n  </g>\r\n </g>\r\n <defs>\r\n  <clipPath id=\"pc5fdc5eba2\">\r\n   <rect height=\"217.44\" width=\"334.8\" x=\"46.965625\" y=\"22.318125\"/>\r\n  </clipPath>\r\n </defs>\r\n</svg>\r\n",
      "image/png": "[encoded data removed]"
     },
     "metadata": {
      "needs_background": "light"
     }
    }
   ],
   "source": [
    "# Create a list of the years that we will use as our x axis\n",
    "years = [2013,2014,2015,2016]\n",
    "\n",
    "# Plot our line that will be used to track a wrestler's wins over the years\n",
    "plt.plot(years, wins_over_time, color=\"green\", label=\"Wins\")\n",
    "\n",
    "# Plot our line that will be used to track a wrestler's losses over the years\n",
    "plt.plot(years, losses_over_time, color=\"blue\", label=\"Losses\")\n",
    "\n",
    "# Place a legend on the chart in what matplotlib believes to be the \"best\" location\n",
    "plt.legend(loc=\"best\")\n",
    "\n",
    "plt.title(wrestler_name + \"'s Recent Career\")\n",
    "plt.xlabel(\"Years\")\n",
    "plt.xticks(np.arange(min(years), max(years)+1, 1.0))\n",
    "plt.ylabel(\"Number of Wins/Losses\")\n",
    "\n",
    "# Print our chart to the screen\n",
    "plt.show()"
   ]
  },
  {
   "cell_type": "code",
   "execution_count": null,
   "metadata": {},
   "outputs": [],
   "source": []
  }
 ],
 "metadata": {
  "kernelspec": {
   "name": "python3",
   "display_name": "Python 3.6.10 64-bit ('PythonData': conda)"
  },
  "language_info": {
   "codemirror_mode": {
    "name": "ipython",
    "version": 3
   },
   "file_extension": ".py",
   "mimetype": "text/x-python",
   "name": "python",
   "nbconvert_exporter": "python",
   "pygments_lexer": "ipython3",
   "version": "3.6.10"
  },
  "interpreter": {
   "hash": "6f1c02d1c161c5d027715177dca30aa2b11c766fe1b39fbb30619813eef2dd31"
  }
 },
 "nbformat": 4,
 "nbformat_minor": 2
}