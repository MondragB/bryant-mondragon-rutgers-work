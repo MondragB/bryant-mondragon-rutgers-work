{
 "cells": [
  {
   "cell_type": "code",
   "execution_count": 6,
   "metadata": {},
   "outputs": [],
   "source": [
    "# Modules\n",
    "import os\n",
    "import csv"
   ]
  },
  {
   "cell_type": "code",
   "execution_count": 7,
   "metadata": {},
   "outputs": [],
   "source": [
    "video = input(\"What show or movie are you looking for? \")"
   ]
  },
  {
   "cell_type": "code",
   "execution_count": 8,
   "metadata": {},
   "outputs": [],
   "source": [
    "csvpath = os.path.join(\"Resources\", \"netflix_ratings.csv\")"
   ]
  },
  {
   "cell_type": "code",
   "execution_count": 11,
   "metadata": {},
   "outputs": [
    {
     "output_type": "stream",
     "name": "stdout",
     "text": [
      "Grease is rated PG with a rating of 80\nSorry about this, we don't seem to have what you are looking for!\n"
     ]
    }
   ],
   "source": [
    "# Bonus\n",
    "# ------------------------------------------\n",
    "# Set variable to check if we found the video\n",
    "found = False\n",
    "\n",
    "# Open the CSV\n",
    "with open(csvpath) as csvfile:\n",
    "    csvreader = csv.reader(csvfile, delimiter=\",\")\n",
    "\n",
    "    # Loop through looking for the video\n",
    "    for row in csvreader:\n",
    "        if row[0] == video:\n",
    "            print(row[0] + \" is rated \" + row[1] +\n",
    "                  \" with a rating of \" + row[6])\n",
    "\n",
    "            # Set variable to confirm we have found the video\n",
    "            found = True\n",
    "\n",
    "    # If the video is never found, alert the user\n",
    "    if found is False:\n",
    "        print(\"Sorry about this, we don't seem to have what you are looking for!\")\n"
   ]
  },
  {
   "cell_type": "code",
   "execution_count": null,
   "metadata": {},
   "outputs": [],
   "source": []
  }
 ],
 "metadata": {
  "kernelspec": {
   "name": "python3",
   "display_name": "Python 3.6.10 64-bit ('PythonData': conda)"
  },
  "language_info": {
   "codemirror_mode": {
    "name": "ipython",
    "version": 3
   },
   "file_extension": ".py",
   "mimetype": "text/x-python",
   "name": "python",
   "nbconvert_exporter": "python",
   "pygments_lexer": "ipython3",
   "version": "3.6.10"
  },
  "interpreter": {
   "hash": "6f1c02d1c161c5d027715177dca30aa2b11c766fe1b39fbb30619813eef2dd31"
  }
 },
 "nbformat": 4,
 "nbformat_minor": 2
}