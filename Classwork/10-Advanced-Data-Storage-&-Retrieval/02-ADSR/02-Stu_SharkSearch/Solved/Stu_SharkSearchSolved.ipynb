{
 "cells": [
  {
   "cell_type": "code",
   "execution_count": 9,
   "source": [
    "from sqlalchemy.ext.declarative import declarative_base\r\n",
    "Base = declarative_base()\r\n",
    "from sqlalchemy import Column, Integer, String, Float"
   ],
   "outputs": [],
   "metadata": {}
  },
  {
   "cell_type": "code",
   "execution_count": 10,
   "source": [
    "from sqlalchemy import create_engine\r\n",
    "database_path = \"../Resources/sharks.sqlite\"\r\n",
    "engine = create_engine(f\"sqlite:///{database_path}\")\r\n",
    "Base.metadata.create_all(engine)"
   ],
   "outputs": [],
   "metadata": {}
  },
  {
   "cell_type": "code",
   "execution_count": 11,
   "source": [
    "from sqlalchemy.orm import Session\r\n",
    "session = Session(bind=engine)"
   ],
   "outputs": [],
   "metadata": {}
  },
  {
   "cell_type": "code",
   "execution_count": 12,
   "source": [
    "# create your shark class\r\n",
    "class Shark(Base):\r\n",
    "    __tablename__ = \"sharks\"\r\n",
    "    id = Column(Integer, primary_key=True)\r\n",
    "    case_number = Column(String)\r\n",
    "    date = Column(String)\r\n",
    "    year = Column(Integer)\r\n",
    "    type = Column(String)\r\n",
    "    country = Column(String)\r\n",
    "    area = Column(String)\r\n",
    "    location = Column(String)\r\n",
    "    activity = Column(String)\r\n",
    "    name = Column(String)\r\n",
    "    sex = Column(String)\r\n",
    "    age = Column(Integer)\r\n",
    "    injury = Column(String)\r\n",
    "    fatal_y_n = Column(String)\r\n",
    "    time = Column(String)\r\n",
    "    species = Column(String)\r\n",
    "    investigator_or_source = Column(String)\r\n",
    "    pdf = Column(String)\r\n",
    "    original_order = Column(String)\r\n"
   ],
   "outputs": [],
   "metadata": {
    "deletable": false,
    "nbgrader": {
     "checksum": "272368b77cc71254fcd63d37c986090e",
     "grade": false,
     "grade_id": "cell-c57d66be4b87f3dc",
     "locked": false,
     "schema_version": 1,
     "solution": true
    }
   }
  },
  {
   "cell_type": "code",
   "execution_count": 15,
   "source": [
    "# print all locations of shark attacks\r\n",
    "sharks = session.query(Shark)\r\n",
    "for shark in sharks:\r\n",
    "    print(shark.location)"
   ],
   "outputs": [
    {
     "output_type": "stream",
     "name": "stdout",
     "text": [
      "Point Casuarina, Bunbury\n",
      "Flinders, Mornington Penisula\n",
      "Weipa\n",
      "None\n",
      "Sanibel Island, Lee County\n",
      "2-3 km north of Sunday's River mouth\n",
      "Second Beach, Port St. John's\n",
      "Blue Bay\n",
      "South Broulee\n",
      "Bateman's Bay\n",
      "Ponce Inlet, Volusia County\n",
      "Pulau Payar Island\n",
      "Alenuihaha Channel\n",
      "The Natural Jetty, Rottnest Island\n",
      "Near Albany\n",
      "Bourail\n",
      "Off Cape Point\n",
      "Taranaki\n",
      "Avalon\n",
      "Batt Reef\n",
      "Shelly Beach, near Port Macquarie\n",
      "Bondi Beach, Sydney\n",
      "Garden Point, Woolloomooloo Sydney Harbour\n",
      "Quebradillas\n",
      "Cellito Beach\n",
      "Florida Keys, Monroe County\n",
      "Sandon\n",
      "Onboard the fishing vessel Nuevo Cedes\n",
      "Praia do Olho d'Aqua\n",
      "Guantanamo Bay\n",
      "Alderman Islands\n",
      "Surf Beach, Batemans Bay\n",
      "Second Beach, Port St. John's\n",
      "Olho d'Água\n",
      "Off Tower Hill\n",
      "Karitane Beach\n",
      "Sharpes Beach, Ballina\n",
      "Shark Alley, off Gansbaai\n",
      "Windang,       Lake Illawara\n",
      "Binalong Bay\n",
      "Fingal Beach\n",
      "Hawkes Bay\n",
      "Isla Isabella\n",
      "Haumoana\n",
      "Guantanamo\n",
      "Port Kennedy Beach\n",
      "near Schouten Island\n",
      "Irino Beach\n",
      "Seal Rocks\n",
      "Long Reef, north of Sydney\n",
      "Port Kennedy Beach\n",
      "Dillon Beach, Marin County\n",
      "Maraetai\n",
      "Plettenberg Bay\n",
      "Mowarry Point\n",
      "Chidenguele\n",
      "Elphinstone Reef\n",
      "Luzon Strait\n",
      "Clifton Beach\n",
      "Santa Cruz\n",
      "North Haven\n",
      "50 miles off Kaohsiung\n",
      "off Paoay, Ilocos Norte Province\n",
      "Oceanworld, Manley\n",
      "None\n",
      "Darwin\n",
      "Lake Macquarie\n",
      "Santa Rosa Beach, Walton County\n",
      "Smokvina Bay, Vis Island\n",
      "Green Turtle Cay\n",
      "New Smyrna Beach, Volusia County\n",
      "Bethune Beach\n",
      "Near Croker Island\n",
      "Ormond-by-the-Sea, Volusia County\n",
      "Ka'a'awa, Oahu\n",
      "Surf Beach, Lompoc, Santa Barbara County\n",
      "Clarks Beach, Byron Bay\n",
      "Ponce Inlet, New Smyrna Beach, Volusia County\n",
      "Ponce Inlet, New Smyrna Beach, Volusia County\n",
      "New Smyrna Beach, Volusia County\n",
      "20 k off The Spit, off the Gold Coast\n",
      "Hutchinson Island\n",
      "Tallow Beach, Byron Bay\n",
      "McKenzie Beach Park in Pahoa, Hawai'i \n",
      "Lundy Island\n",
      "New Smyrna Beach, Volusia County\n",
      "New Smyrna Beach, Volusia County\n",
      "New Smyrna Beach, Volusia County\n",
      "Surf City, Topsail Island, Pender County\n",
      "Sanibel Island, Lee County\n",
      "North Myrtle Beach, Horry County\n",
      "8 miles off Mobile\n",
      "Buck Island\n",
      "New Smyrna Beach, Volusia County\n",
      "Ala Moana Beach Park, Oah'u\n",
      "Levys Beach\n",
      "None\n",
      "Playa Teta\n",
      "None\n",
      "Honokowai, Maui\n"
     ]
    }
   ],
   "metadata": {
    "deletable": false,
    "nbgrader": {
     "checksum": "827e8537e30fd84c706b14b2040fccf2",
     "grade": false,
     "grade_id": "cell-48e2a351e977f8b6",
     "locked": false,
     "schema_version": 1,
     "solution": true
    }
   }
  },
  {
   "cell_type": "code",
   "execution_count": 19,
   "source": [
    "# find the number of provoked attacks\r\n",
    "shark_provoked = session.query(Shark).\\\r\n",
    "    filter(Shark.type == 'Provoked').count()\r\n",
    "print(f\"There are {shark_provoked} provoked shark attacks.\")"
   ],
   "outputs": [
    {
     "output_type": "stream",
     "name": "stdout",
     "text": [
      "There are 12 provoked shark attacks.\n"
     ]
    }
   ],
   "metadata": {
    "deletable": false,
    "nbgrader": {
     "checksum": "5da00f78964b8a2627e7955872b79cf2",
     "grade": false,
     "grade_id": "cell-33b12ba730e08a42",
     "locked": false,
     "schema_version": 1,
     "solution": true
    }
   }
  },
  {
   "cell_type": "code",
   "execution_count": 21,
   "source": [
    "# find the number of attacks in USA\r\n",
    "shark_usa = session.query(Shark).\\\r\n",
    "    filter(Shark.country == 'USA').count()\r\n",
    "print(f\"There are {shark_usa} sharks attacks in the US.\")"
   ],
   "outputs": [
    {
     "output_type": "stream",
     "name": "stdout",
     "text": [
      "There are 28 sharks attacks in the US.\n"
     ]
    }
   ],
   "metadata": {
    "deletable": false,
    "nbgrader": {
     "checksum": "625cca75f2e3869d61a4d1bb6aaa862d",
     "grade": false,
     "grade_id": "cell-4b1293d38480400d",
     "locked": false,
     "schema_version": 1,
     "solution": true
    }
   }
  },
  {
   "cell_type": "code",
   "execution_count": 23,
   "source": [
    "# find the number of attacks in 2017\r\n",
    "shark_attack_2017 = session.query(Shark).\\\r\n",
    "    filter(Shark.year == 2017).count()\r\n",
    "print(f\"There are {shark_attack_2017} in the US.\")"
   ],
   "outputs": [
    {
     "output_type": "stream",
     "name": "stdout",
     "text": [
      "There are 3 in the US.\n"
     ]
    }
   ],
   "metadata": {
    "deletable": false,
    "nbgrader": {
     "checksum": "5c44b8a34de6f5090552b1efa1c4d58e",
     "grade": false,
     "grade_id": "cell-5431c1fabaae9ed8",
     "locked": false,
     "schema_version": 1,
     "solution": true
    }
   }
  },
  {
   "cell_type": "code",
   "execution_count": 24,
   "source": [
    "# find the number of attacks while surfing\r\n",
    "shark_attack_surfing = session.query(Shark).\\\r\n",
    "    filter(Shark.activity == 'Surfing').count()\r\n",
    "print(f\"There are {shark_attack_surfing} attacks while surfing.\")"
   ],
   "outputs": [
    {
     "output_type": "stream",
     "name": "stdout",
     "text": [
      "There are 34 attacks while surfing.\n"
     ]
    }
   ],
   "metadata": {
    "deletable": false,
    "nbgrader": {
     "checksum": "6fb8eae592cf139c082c6f77d42e00aa",
     "grade": false,
     "grade_id": "cell-4de2402e47fe0214",
     "locked": false,
     "schema_version": 1,
     "solution": true
    }
   }
  },
  {
   "cell_type": "code",
   "execution_count": null,
   "source": [
    "# find the number of fatal attacks\r\n",
    "# YOUR CODE HERE"
   ],
   "outputs": [],
   "metadata": {
    "deletable": false,
    "nbgrader": {
     "checksum": "ac16e312f24b2a48fba9a384e600676f",
     "grade": false,
     "grade_id": "cell-9e2afa5b2f869a4f",
     "locked": false,
     "schema_version": 1,
     "solution": true
    }
   }
  },
  {
   "cell_type": "code",
   "execution_count": null,
   "source": [
    "# find the number of fatal attacks while surfing\r\n",
    "# YOUR CODE HERE"
   ],
   "outputs": [],
   "metadata": {
    "deletable": false,
    "nbgrader": {
     "checksum": "099a489efed7a5379e3b22a0997c9465",
     "grade": false,
     "grade_id": "cell-75819f28900a2e54",
     "locked": false,
     "schema_version": 1,
     "solution": true
    }
   }
  },
  {
   "cell_type": "code",
   "execution_count": null,
   "source": [
    "# find the number of fatal attacks in Mozambique while spearfishing\r\n",
    "# YOUR CODE HERE"
   ],
   "outputs": [],
   "metadata": {
    "deletable": false,
    "nbgrader": {
     "checksum": "7e93397023f1706df0f8bec0a433137b",
     "grade": false,
     "grade_id": "cell-ef68003cff255319",
     "locked": false,
     "schema_version": 1,
     "solution": true
    }
   }
  }
 ],
 "metadata": {
  "kernelspec": {
   "name": "python3",
   "display_name": "Python 3.6.10 64-bit ('PythonData': conda)"
  },
  "language_info": {
   "codemirror_mode": {
    "name": "ipython",
    "version": 3
   },
   "file_extension": ".py",
   "mimetype": "text/x-python",
   "name": "python",
   "nbconvert_exporter": "python",
   "pygments_lexer": "ipython3",
   "version": "3.6.10"
  },
  "varInspector": {
   "cols": {
    "lenName": 16,
    "lenType": 16,
    "lenVar": 40
   },
   "kernels_config": {
    "python": {
     "delete_cmd_postfix": "",
     "delete_cmd_prefix": "del ",
     "library": "var_list.py",
     "varRefreshCmd": "print(var_dic_list())"
    },
    "r": {
     "delete_cmd_postfix": ") ",
     "delete_cmd_prefix": "rm(",
     "library": "var_list.r",
     "varRefreshCmd": "cat(var_dic_list()) "
    }
   },
   "types_to_exclude": [
    "module",
    "function",
    "builtin_function_or_method",
    "instance",
    "_Feature"
   ],
   "window_display": false
  },
  "interpreter": {
   "hash": "6f1c02d1c161c5d027715177dca30aa2b11c766fe1b39fbb30619813eef2dd31"
  }
 },
 "nbformat": 4,
 "nbformat_minor": 2
}