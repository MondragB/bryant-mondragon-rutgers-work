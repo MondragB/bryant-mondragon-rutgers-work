{
 "cells": [
  {
   "cell_type": "code",
   "execution_count": 23,
   "source": [
    "# Define the Surfer Class\r\n",
    "class Surfer():\r\n",
    "    def __init__(self, name, board_type, fav_location, wipeouts, rank):\r\n",
    "        self.name = name\r\n",
    "        self.board_type = board_type\r\n",
    "        self.fav_location = fav_location\r\n",
    "        self.wipeouts = wipeouts\r\n",
    "        self.rank = rank\r\n",
    "\r\n",
    "    def wipeouts(self):\r\n",
    "        print(f'Hi. My name is {self.name} and I have {self.wipeouts} wipeouts.')\r\n",
    "        \r\n",
    "    def rank(self):\r\n",
    "        print(f'Hi. My name is {self.name} and I am ranked as number {self.rank}.')\r\n",
    "\r\n",
    "    def is_surfer_good(self):\r\n",
    "        if(self.wipeouts < 10):\r\n",
    "            print(f'{self.name} is good.')\r\n",
    "        else:\r\n",
    "            print(f'{self.name} is bad')"
   ],
   "outputs": [],
   "metadata": {
    "collapsed": true
   }
  },
  {
   "cell_type": "code",
   "execution_count": 24,
   "source": [
    "# Create Surfers\r\n",
    "# --------------------------------------------------------------------------------\r\n",
    "surfer = Surfer('Mike', 'Long', 'Hawaii', 10, 5)\r\n",
    "surfer2 = Surfer('Ike', 'Short', 'NJ', 17, 6)\r\n",
    "surfer3 = Surfer('Bryant', 'Long', 'NYC', 9, 3)\r\n",
    "surfer4 = Surfer('Jordan', 'Short', 'Florida', 4, 1)\r\n",
    "surfer5 = Surfer('Sam', 'Medium', 'CA', 12, 2)\r\n",
    "surfer6 = Surfer('Ruby', 'Medium', 'Hawaii', 6, 4)"
   ],
   "outputs": [],
   "metadata": {}
  },
  {
   "cell_type": "code",
   "execution_count": 32,
   "source": [
    "Surfer.rank(surfer)\r\n",
    "Surfer.rank(surfer2)\r\n",
    "Surfer.wipeouts(surfer3)\r\n",
    "Surfer.wipeouts(surfer4)\r\n",
    "Surfer.is_surfer_good(surfer5)\r\n",
    "Surfer.is_surfer_good(surfer3)\r\n"
   ],
   "outputs": [
    {
     "output_type": "stream",
     "name": "stdout",
     "text": [
      "Hi. My name is Mike and I am ranked as number 5.\n",
      "Hi. My name is Ike and I am ranked as number 6.\n",
      "Hi. My name is Bryant and I have 9 wipeouts.\n",
      "Hi. My name is Jordan and I have 4 wipeouts.\n",
      "Sam is bad\n",
      "Bryant is good.\n"
     ]
    }
   ],
   "metadata": {}
  }
 ],
 "metadata": {
  "kernelspec": {
   "name": "python3",
   "display_name": "Python 3.6.10 64-bit ('PythonData': conda)"
  },
  "language_info": {
   "codemirror_mode": {
    "name": "ipython",
    "version": 3
   },
   "file_extension": ".py",
   "mimetype": "text/x-python",
   "name": "python",
   "nbconvert_exporter": "python",
   "pygments_lexer": "ipython3",
   "version": "3.6.10"
  },
  "varInspector": {
   "cols": {
    "lenName": 16,
    "lenType": 16,
    "lenVar": 40
   },
   "kernels_config": {
    "python": {
     "delete_cmd_postfix": "",
     "delete_cmd_prefix": "del ",
     "library": "var_list.py",
     "varRefreshCmd": "print(var_dic_list())"
    },
    "r": {
     "delete_cmd_postfix": ") ",
     "delete_cmd_prefix": "rm(",
     "library": "var_list.r",
     "varRefreshCmd": "cat(var_dic_list()) "
    }
   },
   "types_to_exclude": [
    "module",
    "function",
    "builtin_function_or_method",
    "instance",
    "_Feature"
   ],
   "window_display": false
  },
  "interpreter": {
   "hash": "6f1c02d1c161c5d027715177dca30aa2b11c766fe1b39fbb30619813eef2dd31"
  }
 },
 "nbformat": 4,
 "nbformat_minor": 2
}