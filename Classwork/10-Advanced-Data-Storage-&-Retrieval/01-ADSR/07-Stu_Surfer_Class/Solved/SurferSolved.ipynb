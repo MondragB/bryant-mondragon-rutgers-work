{
 "cells": [
  {
   "cell_type": "code",
   "execution_count": 14,
   "source": [
    "import gc"
   ],
   "outputs": [],
   "metadata": {}
  },
  {
   "cell_type": "code",
   "execution_count": 7,
   "source": [
    "# Define the Surfer Class\r\n",
    "class Surfer():\r\n",
    "    def __init__(self, name, board_type, fav_location):\r\n",
    "        self.name = name\r\n",
    "        self.board_type = board_type\r\n",
    "        self.fav_location = fav_location"
   ],
   "outputs": [],
   "metadata": {
    "collapsed": true
   }
  },
  {
   "cell_type": "code",
   "execution_count": 8,
   "source": [
    "# Create an instance of the Surfer Class\r\n",
    "surfer = Surfer('Mike', 'Long', 'Hawaii')"
   ],
   "outputs": [],
   "metadata": {
    "collapsed": true
   }
  },
  {
   "cell_type": "code",
   "execution_count": 10,
   "source": [
    "# Print the object's attributes\r\n",
    "print(surfer.name)\r\n",
    "print(surfer.board_type)\r\n",
    "print(surfer.fav_location)"
   ],
   "outputs": [
    {
     "output_type": "stream",
     "name": "stdout",
     "text": [
      "Mike\n",
      "Long\n",
      "Hawaii\n"
     ]
    }
   ],
   "metadata": {}
  },
  {
   "cell_type": "code",
   "execution_count": 16,
   "source": [
    "# ----BONUS----\r\n",
    "# Variable to keep track of changes to while loop\r\n",
    "flag = 'y'\r\n",
    "surfers = []\r\n",
    "\r\n",
    "while (flag == 'y'):\r\n",
    "    name_input = input(\"What is the name of your surfer?\")\r\n",
    "    board_input = input(\"What type of board do you use?\")\r\n",
    "    location_input = input(\"Where is your favorite place to surf?\")\r\n",
    "\r\n",
    "    new_surfer = Surfer(name_input, board_input, location_input)\r\n",
    "    surfers.append(new_surfer)\r\n",
    "\r\n",
    "    flag = input(\"Do you want to make another surfer? Enter Yes(y) or No(n).\")\r\n"
   ],
   "outputs": [],
   "metadata": {}
  },
  {
   "cell_type": "code",
   "execution_count": 17,
   "source": [
    "# Garbage Collector has a way to get objects and you can print something from them \r\n",
    "# in this case it is just printing out the memory locations.\r\n",
    "for obj in gc.get_objects():\r\n",
    "    if isinstance(obj, Surfer):\r\n",
    "        print(obj)"
   ],
   "outputs": [
    {
     "output_type": "stream",
     "name": "stdout",
     "text": [
      "<__main__.Surfer object at 0x000001250AB95F98>\n",
      "<__main__.Surfer object at 0x000001250A3BFB38>\n",
      "<__main__.Surfer object at 0x000001250A312588>\n",
      "<__main__.Surfer object at 0x000001250A5745F8>\n",
      "<__main__.Surfer object at 0x0000012509FDD518>\n"
     ]
    }
   ],
   "metadata": {}
  }
 ],
 "metadata": {
  "kernelspec": {
   "name": "python3",
   "display_name": "Python 3.6.10 64-bit ('PythonData': conda)"
  },
  "language_info": {
   "codemirror_mode": {
    "name": "ipython",
    "version": 3
   },
   "file_extension": ".py",
   "mimetype": "text/x-python",
   "name": "python",
   "nbconvert_exporter": "python",
   "pygments_lexer": "ipython3",
   "version": "3.6.10"
  },
  "varInspector": {
   "cols": {
    "lenName": 16,
    "lenType": 16,
    "lenVar": 40
   },
   "kernels_config": {
    "python": {
     "delete_cmd_postfix": "",
     "delete_cmd_prefix": "del ",
     "library": "var_list.py",
     "varRefreshCmd": "print(var_dic_list())"
    },
    "r": {
     "delete_cmd_postfix": ") ",
     "delete_cmd_prefix": "rm(",
     "library": "var_list.r",
     "varRefreshCmd": "cat(var_dic_list()) "
    }
   },
   "types_to_exclude": [
    "module",
    "function",
    "builtin_function_or_method",
    "instance",
    "_Feature"
   ],
   "window_display": false
  },
  "interpreter": {
   "hash": "6f1c02d1c161c5d027715177dca30aa2b11c766fe1b39fbb30619813eef2dd31"
  }
 },
 "nbformat": 4,
 "nbformat_minor": 2
}