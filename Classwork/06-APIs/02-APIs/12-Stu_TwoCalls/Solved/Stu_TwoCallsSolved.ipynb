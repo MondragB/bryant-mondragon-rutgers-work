{
 "cells": [
  {
   "cell_type": "code",
   "execution_count": 16,
   "metadata": {
    "collapsed": true
   },
   "outputs": [],
   "source": [
    "# Dependencies\n",
    "import requests\n",
    "\n",
    "url = \"http://api.worldbank.org/v2/\"\n",
    "api_format = \"json\"\n"
   ]
  },
  {
   "cell_type": "code",
   "execution_count": 21,
   "metadata": {
    "collapsed": true
   },
   "outputs": [
    {
     "output_type": "execute_result",
     "data": {
      "text/plain": [
       "['IBD', 'IDB', 'IDX', 'LNX']"
      ]
     },
     "metadata": {},
     "execution_count": 21
    }
   ],
   "source": [
    "# Get the list of lending types the world bank has\n",
    "lending_response = requests.get(f\"{url}lendingTypes?format=json\").json()\n",
    "lending_types = [lending_type['id'] for lending_type in lending_response[1]]\n",
    "lending_types"
   ]
  },
  {
   "cell_type": "code",
   "execution_count": 22,
   "metadata": {
    "collapsed": true
   },
   "outputs": [],
   "source": [
    "# Next, determine how many countries fall into each lending type.\n",
    "countries = countries_response[1]\n",
    "# Hint: Look at the first element of the response array.\n",
    "country_count_by_type = {}\n",
    "for lending_type in lending_types:\n",
    "    query = f'{url}countries?lendingTypes={lending_type}&format=json'\n",
    "    response = requests.get(query).json()\n",
    "    country_count_by_type[lending_type] = response[0]['total']"
   ]
  },
  {
   "cell_type": "code",
   "execution_count": 25,
   "metadata": {},
   "outputs": [
    {
     "output_type": "stream",
     "name": "stdout",
     "text": [
      "Lending Type: IBD has 140 countries\nLending Type: IDB has 30 countries\nLending Type: IDX has 118 countries\nLending Type: LNX has 74 countries\n"
     ]
    }
   ],
   "source": [
    "# Print the number of countries of each lending type\n",
    "for key, value in country_count_by_type.items():\n",
    "    print(f'Lending Type: {key} has {value} countries')"
   ]
  },
  {
   "cell_type": "code",
   "execution_count": null,
   "metadata": {},
   "outputs": [],
   "source": []
  }
 ],
 "metadata": {
  "kernelspec": {
   "name": "python3",
   "display_name": "Python 3.6.10 64-bit ('PythonData': conda)"
  },
  "language_info": {
   "codemirror_mode": {
    "name": "ipython",
    "version": 3
   },
   "file_extension": ".py",
   "mimetype": "text/x-python",
   "name": "python",
   "nbconvert_exporter": "python",
   "pygments_lexer": "ipython3",
   "version": "3.6.10"
  },
  "varInspector": {
   "cols": {
    "lenName": 16,
    "lenType": 16,
    "lenVar": 40
   },
   "kernels_config": {
    "python": {
     "delete_cmd_postfix": "",
     "delete_cmd_prefix": "del ",
     "library": "var_list.py",
     "varRefreshCmd": "print(var_dic_list())"
    },
    "r": {
     "delete_cmd_postfix": ") ",
     "delete_cmd_prefix": "rm(",
     "library": "var_list.r",
     "varRefreshCmd": "cat(var_dic_list()) "
    }
   },
   "types_to_exclude": [
    "module",
    "function",
    "builtin_function_or_method",
    "instance",
    "_Feature"
   ],
   "window_display": false
  },
  "interpreter": {
   "hash": "6f1c02d1c161c5d027715177dca30aa2b11c766fe1b39fbb30619813eef2dd31"
  }
 },
 "nbformat": 4,
 "nbformat_minor": 2
}