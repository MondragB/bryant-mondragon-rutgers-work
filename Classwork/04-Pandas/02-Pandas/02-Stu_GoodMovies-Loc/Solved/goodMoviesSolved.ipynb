{
 "cells": [
  {
   "cell_type": "code",
   "execution_count": 1,
   "metadata": {
    "collapsed": true
   },
   "outputs": [],
   "source": [
    "# Dependencies\n",
    "import pandas as pd"
   ]
  },
  {
   "cell_type": "code",
   "execution_count": 2,
   "metadata": {
    "collapsed": true
   },
   "outputs": [],
   "source": [
    "# Load in File from resources\n",
    "# 'movie_scores.csv'\n",
    "movieFile = \"../Unsolved/Resources/movie_scores.csv\""
   ]
  },
  {
   "cell_type": "code",
   "execution_count": 3,
   "metadata": {
    "collapsed": true
   },
   "outputs": [
    {
     "output_type": "execute_result",
     "data": {
      "text/plain": [
       "                                          FILM  RottenTomatoes  \\\n",
       "0               Avengers: Age of Ultron (2015)              74   \n",
       "1                            Cinderella (2015)              85   \n",
       "2                               Ant-Man (2015)              80   \n",
       "3                       Do You Believe? (2015)              18   \n",
       "4                Hot Tub Time Machine 2 (2015)              14   \n",
       "..                                         ...             ...   \n",
       "141                          Mr. Holmes (2015)              87   \n",
       "142                                 '71 (2015)              97   \n",
       "143                 Two Days, One Night (2014)              97   \n",
       "144  Gett: The Trial of Viviane Amsalem (2015)             100   \n",
       "145         Kumiko, The Treasure Hunter (2015)              87   \n",
       "\n",
       "     RottenTomatoes_User  Metacritic  Metacritic_User  IMDB  Fandango_Stars  \\\n",
       "0                     86          66              7.1   7.8             5.0   \n",
       "1                     80          67              7.5   7.1             5.0   \n",
       "2                     90          64              8.1   7.8             5.0   \n",
       "3                     84          22              4.7   5.4             5.0   \n",
       "4                     28          29              3.4   5.1             3.5   \n",
       "..                   ...         ...              ...   ...             ...   \n",
       "141                   78          67              7.9   7.4             4.0   \n",
       "142                   82          83              7.5   7.2             3.5   \n",
       "143                   78          89              8.8   7.4             3.5   \n",
       "144                   81          90              7.3   7.8             3.5   \n",
       "145                   63          68              6.4   6.7             3.5   \n",
       "\n",
       "     Fandango_Ratingvalue  RT_norm  RT_user_norm  ...  IMDB_norm  \\\n",
       "0                     4.5     3.70          4.30  ...       3.90   \n",
       "1                     4.5     4.25          4.00  ...       3.55   \n",
       "2                     4.5     4.00          4.50  ...       3.90   \n",
       "3                     4.5     0.90          4.20  ...       2.70   \n",
       "4                     3.0     0.70          1.40  ...       2.55   \n",
       "..                    ...      ...           ...  ...        ...   \n",
       "141                   4.0     4.35          3.90  ...       3.70   \n",
       "142                   3.5     4.85          4.10  ...       3.60   \n",
       "143                   3.5     4.85          3.90  ...       3.70   \n",
       "144                   3.5     5.00          4.05  ...       3.90   \n",
       "145                   3.5     4.35          3.15  ...       3.35   \n",
       "\n",
       "     RT_norm_round  RT_user_norm_round  Metacritic_norm_round  \\\n",
       "0              3.5                 4.5                    3.5   \n",
       "1              4.5                 4.0                    3.5   \n",
       "2              4.0                 4.5                    3.0   \n",
       "3              1.0                 4.0                    1.0   \n",
       "4              0.5                 1.5                    1.5   \n",
       "..             ...                 ...                    ...   \n",
       "141            4.5                 4.0                    3.5   \n",
       "142            5.0                 4.0                    4.0   \n",
       "143            5.0                 4.0                    4.5   \n",
       "144            5.0                 4.0                    4.5   \n",
       "145            4.5                 3.0                    3.5   \n",
       "\n",
       "     Metacritic_user_norm_round  IMDB_norm_round  Metacritic_user_vote_count  \\\n",
       "0                           3.5              4.0                        1330   \n",
       "1                           4.0              3.5                         249   \n",
       "2                           4.0              4.0                         627   \n",
       "3                           2.5              2.5                          31   \n",
       "4                           1.5              2.5                          88   \n",
       "..                          ...              ...                         ...   \n",
       "141                         4.0              3.5                          33   \n",
       "142                         4.0              3.5                          60   \n",
       "143                         4.5              3.5                         123   \n",
       "144                         3.5              4.0                          19   \n",
       "145                         3.0              3.5                          19   \n",
       "\n",
       "     IMDB_user_vote_count  Fandango_votes  Fandango_Difference  \n",
       "0                  271107           14846                  0.5  \n",
       "1                   65709           12640                  0.5  \n",
       "2                  103660           12055                  0.5  \n",
       "3                    3136            1793                  0.5  \n",
       "4                   19560            1021                  0.5  \n",
       "..                    ...             ...                  ...  \n",
       "141                  7367            1348                  0.0  \n",
       "142                 24116             192                  0.0  \n",
       "143                 24345             118                  0.0  \n",
       "144                  1955              59                  0.0  \n",
       "145                  5289              41                  0.0  \n",
       "\n",
       "[146 rows x 22 columns]"
      ],
      "text/html": "<div>\n<style scoped>\n    .dataframe tbody tr th:only-of-type {\n        vertical-align: middle;\n    }\n\n    .dataframe tbody tr th {\n        vertical-align: top;\n    }\n\n    .dataframe thead th {\n        text-align: right;\n    }\n</style>\n<table border=\"1\" class=\"dataframe\">\n  <thead>\n    <tr style=\"text-align: right;\">\n      <th></th>\n      <th>FILM</th>\n      <th>RottenTomatoes</th>\n      <th>RottenTomatoes_User</th>\n      <th>Metacritic</th>\n      <th>Metacritic_User</th>\n      <th>IMDB</th>\n      <th>Fandango_Stars</th>\n      <th>Fandango_Ratingvalue</th>\n      <th>RT_norm</th>\n      <th>RT_user_norm</th>\n      <th>...</th>\n      <th>IMDB_norm</th>\n      <th>RT_norm_round</th>\n      <th>RT_user_norm_round</th>\n      <th>Metacritic_norm_round</th>\n      <th>Metacritic_user_norm_round</th>\n      <th>IMDB_norm_round</th>\n      <th>Metacritic_user_vote_count</th>\n      <th>IMDB_user_vote_count</th>\n      <th>Fandango_votes</th>\n      <th>Fandango_Difference</th>\n    </tr>\n  </thead>\n  <tbody>\n    <tr>\n      <th>0</th>\n      <td>Avengers: Age of Ultron (2015)</td>\n      <td>74</td>\n      <td>86</td>\n      <td>66</td>\n      <td>7.1</td>\n      <td>7.8</td>\n      <td>5.0</td>\n      <td>4.5</td>\n      <td>3.70</td>\n      <td>4.30</td>\n      <td>...</td>\n      <td>3.90</td>\n      <td>3.5</td>\n      <td>4.5</td>\n      <td>3.5</td>\n      <td>3.5</td>\n      <td>4.0</td>\n      <td>1330</td>\n      <td>271107</td>\n      <td>14846</td>\n      <td>0.5</td>\n    </tr>\n    <tr>\n      <th>1</th>\n      <td>Cinderella (2015)</td>\n      <td>85</td>\n      <td>80</td>\n      <td>67</td>\n      <td>7.5</td>\n      <td>7.1</td>\n      <td>5.0</td>\n      <td>4.5</td>\n      <td>4.25</td>\n      <td>4.00</td>\n      <td>...</td>\n      <td>3.55</td>\n      <td>4.5</td>\n      <td>4.0</td>\n      <td>3.5</td>\n      <td>4.0</td>\n      <td>3.5</td>\n      <td>249</td>\n      <td>65709</td>\n      <td>12640</td>\n      <td>0.5</td>\n    </tr>\n    <tr>\n      <th>2</th>\n      <td>Ant-Man (2015)</td>\n      <td>80</td>\n      <td>90</td>\n      <td>64</td>\n      <td>8.1</td>\n      <td>7.8</td>\n      <td>5.0</td>\n      <td>4.5</td>\n      <td>4.00</td>\n      <td>4.50</td>\n      <td>...</td>\n      <td>3.90</td>\n      <td>4.0</td>\n      <td>4.5</td>\n      <td>3.0</td>\n      <td>4.0</td>\n      <td>4.0</td>\n      <td>627</td>\n      <td>103660</td>\n      <td>12055</td>\n      <td>0.5</td>\n    </tr>\n    <tr>\n      <th>3</th>\n      <td>Do You Believe? (2015)</td>\n      <td>18</td>\n      <td>84</td>\n      <td>22</td>\n      <td>4.7</td>\n      <td>5.4</td>\n      <td>5.0</td>\n      <td>4.5</td>\n      <td>0.90</td>\n      <td>4.20</td>\n      <td>...</td>\n      <td>2.70</td>\n      <td>1.0</td>\n      <td>4.0</td>\n      <td>1.0</td>\n      <td>2.5</td>\n      <td>2.5</td>\n      <td>31</td>\n      <td>3136</td>\n      <td>1793</td>\n      <td>0.5</td>\n    </tr>\n    <tr>\n      <th>4</th>\n      <td>Hot Tub Time Machine 2 (2015)</td>\n      <td>14</td>\n      <td>28</td>\n      <td>29</td>\n      <td>3.4</td>\n      <td>5.1</td>\n      <td>3.5</td>\n      <td>3.0</td>\n      <td>0.70</td>\n      <td>1.40</td>\n      <td>...</td>\n      <td>2.55</td>\n      <td>0.5</td>\n      <td>1.5</td>\n      <td>1.5</td>\n      <td>1.5</td>\n      <td>2.5</td>\n      <td>88</td>\n      <td>19560</td>\n      <td>1021</td>\n      <td>0.5</td>\n    </tr>\n    <tr>\n      <th>...</th>\n      <td>...</td>\n      <td>...</td>\n      <td>...</td>\n      <td>...</td>\n      <td>...</td>\n      <td>...</td>\n      <td>...</td>\n      <td>...</td>\n      <td>...</td>\n      <td>...</td>\n      <td>...</td>\n      <td>...</td>\n      <td>...</td>\n      <td>...</td>\n      <td>...</td>\n      <td>...</td>\n      <td>...</td>\n      <td>...</td>\n      <td>...</td>\n      <td>...</td>\n      <td>...</td>\n    </tr>\n    <tr>\n      <th>141</th>\n      <td>Mr. Holmes (2015)</td>\n      <td>87</td>\n      <td>78</td>\n      <td>67</td>\n      <td>7.9</td>\n      <td>7.4</td>\n      <td>4.0</td>\n      <td>4.0</td>\n      <td>4.35</td>\n      <td>3.90</td>\n      <td>...</td>\n      <td>3.70</td>\n      <td>4.5</td>\n      <td>4.0</td>\n      <td>3.5</td>\n      <td>4.0</td>\n      <td>3.5</td>\n      <td>33</td>\n      <td>7367</td>\n      <td>1348</td>\n      <td>0.0</td>\n    </tr>\n    <tr>\n      <th>142</th>\n      <td>'71 (2015)</td>\n      <td>97</td>\n      <td>82</td>\n      <td>83</td>\n      <td>7.5</td>\n      <td>7.2</td>\n      <td>3.5</td>\n      <td>3.5</td>\n      <td>4.85</td>\n      <td>4.10</td>\n      <td>...</td>\n      <td>3.60</td>\n      <td>5.0</td>\n      <td>4.0</td>\n      <td>4.0</td>\n      <td>4.0</td>\n      <td>3.5</td>\n      <td>60</td>\n      <td>24116</td>\n      <td>192</td>\n      <td>0.0</td>\n    </tr>\n    <tr>\n      <th>143</th>\n      <td>Two Days, One Night (2014)</td>\n      <td>97</td>\n      <td>78</td>\n      <td>89</td>\n      <td>8.8</td>\n      <td>7.4</td>\n      <td>3.5</td>\n      <td>3.5</td>\n      <td>4.85</td>\n      <td>3.90</td>\n      <td>...</td>\n      <td>3.70</td>\n      <td>5.0</td>\n      <td>4.0</td>\n      <td>4.5</td>\n      <td>4.5</td>\n      <td>3.5</td>\n      <td>123</td>\n      <td>24345</td>\n      <td>118</td>\n      <td>0.0</td>\n    </tr>\n    <tr>\n      <th>144</th>\n      <td>Gett: The Trial of Viviane Amsalem (2015)</td>\n      <td>100</td>\n      <td>81</td>\n      <td>90</td>\n      <td>7.3</td>\n      <td>7.8</td>\n      <td>3.5</td>\n      <td>3.5</td>\n      <td>5.00</td>\n      <td>4.05</td>\n      <td>...</td>\n      <td>3.90</td>\n      <td>5.0</td>\n      <td>4.0</td>\n      <td>4.5</td>\n      <td>3.5</td>\n      <td>4.0</td>\n      <td>19</td>\n      <td>1955</td>\n      <td>59</td>\n      <td>0.0</td>\n    </tr>\n    <tr>\n      <th>145</th>\n      <td>Kumiko, The Treasure Hunter (2015)</td>\n      <td>87</td>\n      <td>63</td>\n      <td>68</td>\n      <td>6.4</td>\n      <td>6.7</td>\n      <td>3.5</td>\n      <td>3.5</td>\n      <td>4.35</td>\n      <td>3.15</td>\n      <td>...</td>\n      <td>3.35</td>\n      <td>4.5</td>\n      <td>3.0</td>\n      <td>3.5</td>\n      <td>3.0</td>\n      <td>3.5</td>\n      <td>19</td>\n      <td>5289</td>\n      <td>41</td>\n      <td>0.0</td>\n    </tr>\n  </tbody>\n</table>\n<p>146 rows × 22 columns</p>\n</div>"
     },
     "metadata": {},
     "execution_count": 3
    }
   ],
   "source": [
    "# Read and display with pandas\n",
    "movie_df = pd.read_csv(movieFile)\n",
    "movie_df"
   ]
  },
  {
   "cell_type": "code",
   "execution_count": 4,
   "metadata": {
    "collapsed": true
   },
   "outputs": [
    {
     "output_type": "execute_result",
     "data": {
      "text/plain": [
       "                                          FILM  RottenTomatoes  \\\n",
       "0               Avengers: Age of Ultron (2015)              74   \n",
       "1                            Cinderella (2015)              85   \n",
       "2                               Ant-Man (2015)              80   \n",
       "3                       Do You Believe? (2015)              18   \n",
       "4                Hot Tub Time Machine 2 (2015)              14   \n",
       "..                                         ...             ...   \n",
       "141                          Mr. Holmes (2015)              87   \n",
       "142                                 '71 (2015)              97   \n",
       "143                 Two Days, One Night (2014)              97   \n",
       "144  Gett: The Trial of Viviane Amsalem (2015)             100   \n",
       "145         Kumiko, The Treasure Hunter (2015)              87   \n",
       "\n",
       "     RottenTomatoes_User  Metacritic  Metacritic_User  IMDB  Fandango_Stars  \\\n",
       "0                     86          66              7.1   7.8             5.0   \n",
       "1                     80          67              7.5   7.1             5.0   \n",
       "2                     90          64              8.1   7.8             5.0   \n",
       "3                     84          22              4.7   5.4             5.0   \n",
       "4                     28          29              3.4   5.1             3.5   \n",
       "..                   ...         ...              ...   ...             ...   \n",
       "141                   78          67              7.9   7.4             4.0   \n",
       "142                   82          83              7.5   7.2             3.5   \n",
       "143                   78          89              8.8   7.4             3.5   \n",
       "144                   81          90              7.3   7.8             3.5   \n",
       "145                   63          68              6.4   6.7             3.5   \n",
       "\n",
       "     Fandango_Ratingvalue  RT_norm  RT_user_norm  ...  IMDB_norm  \\\n",
       "0                     4.5     3.70          4.30  ...       3.90   \n",
       "1                     4.5     4.25          4.00  ...       3.55   \n",
       "2                     4.5     4.00          4.50  ...       3.90   \n",
       "3                     4.5     0.90          4.20  ...       2.70   \n",
       "4                     3.0     0.70          1.40  ...       2.55   \n",
       "..                    ...      ...           ...  ...        ...   \n",
       "141                   4.0     4.35          3.90  ...       3.70   \n",
       "142                   3.5     4.85          4.10  ...       3.60   \n",
       "143                   3.5     4.85          3.90  ...       3.70   \n",
       "144                   3.5     5.00          4.05  ...       3.90   \n",
       "145                   3.5     4.35          3.15  ...       3.35   \n",
       "\n",
       "     RT_norm_round  RT_user_norm_round  Metacritic_norm_round  \\\n",
       "0              3.5                 4.5                    3.5   \n",
       "1              4.5                 4.0                    3.5   \n",
       "2              4.0                 4.5                    3.0   \n",
       "3              1.0                 4.0                    1.0   \n",
       "4              0.5                 1.5                    1.5   \n",
       "..             ...                 ...                    ...   \n",
       "141            4.5                 4.0                    3.5   \n",
       "142            5.0                 4.0                    4.0   \n",
       "143            5.0                 4.0                    4.5   \n",
       "144            5.0                 4.0                    4.5   \n",
       "145            4.5                 3.0                    3.5   \n",
       "\n",
       "     Metacritic_user_norm_round  IMDB_norm_round  Metacritic_user_vote_count  \\\n",
       "0                           3.5              4.0                        1330   \n",
       "1                           4.0              3.5                         249   \n",
       "2                           4.0              4.0                         627   \n",
       "3                           2.5              2.5                          31   \n",
       "4                           1.5              2.5                          88   \n",
       "..                          ...              ...                         ...   \n",
       "141                         4.0              3.5                          33   \n",
       "142                         4.0              3.5                          60   \n",
       "143                         4.5              3.5                         123   \n",
       "144                         3.5              4.0                          19   \n",
       "145                         3.0              3.5                          19   \n",
       "\n",
       "     IMDB_user_vote_count  Fandango_votes  Fandango_Difference  \n",
       "0                  271107           14846                  0.5  \n",
       "1                   65709           12640                  0.5  \n",
       "2                  103660           12055                  0.5  \n",
       "3                    3136            1793                  0.5  \n",
       "4                   19560            1021                  0.5  \n",
       "..                    ...             ...                  ...  \n",
       "141                  7367            1348                  0.0  \n",
       "142                 24116             192                  0.0  \n",
       "143                 24345             118                  0.0  \n",
       "144                  1955              59                  0.0  \n",
       "145                  5289              41                  0.0  \n",
       "\n",
       "[146 rows x 22 columns]"
      ],
      "text/html": "<div>\n<style scoped>\n    .dataframe tbody tr th:only-of-type {\n        vertical-align: middle;\n    }\n\n    .dataframe tbody tr th {\n        vertical-align: top;\n    }\n\n    .dataframe thead th {\n        text-align: right;\n    }\n</style>\n<table border=\"1\" class=\"dataframe\">\n  <thead>\n    <tr style=\"text-align: right;\">\n      <th></th>\n      <th>FILM</th>\n      <th>RottenTomatoes</th>\n      <th>RottenTomatoes_User</th>\n      <th>Metacritic</th>\n      <th>Metacritic_User</th>\n      <th>IMDB</th>\n      <th>Fandango_Stars</th>\n      <th>Fandango_Ratingvalue</th>\n      <th>RT_norm</th>\n      <th>RT_user_norm</th>\n      <th>...</th>\n      <th>IMDB_norm</th>\n      <th>RT_norm_round</th>\n      <th>RT_user_norm_round</th>\n      <th>Metacritic_norm_round</th>\n      <th>Metacritic_user_norm_round</th>\n      <th>IMDB_norm_round</th>\n      <th>Metacritic_user_vote_count</th>\n      <th>IMDB_user_vote_count</th>\n      <th>Fandango_votes</th>\n      <th>Fandango_Difference</th>\n    </tr>\n  </thead>\n  <tbody>\n    <tr>\n      <th>0</th>\n      <td>Avengers: Age of Ultron (2015)</td>\n      <td>74</td>\n      <td>86</td>\n      <td>66</td>\n      <td>7.1</td>\n      <td>7.8</td>\n      <td>5.0</td>\n      <td>4.5</td>\n      <td>3.70</td>\n      <td>4.30</td>\n      <td>...</td>\n      <td>3.90</td>\n      <td>3.5</td>\n      <td>4.5</td>\n      <td>3.5</td>\n      <td>3.5</td>\n      <td>4.0</td>\n      <td>1330</td>\n      <td>271107</td>\n      <td>14846</td>\n      <td>0.5</td>\n    </tr>\n    <tr>\n      <th>1</th>\n      <td>Cinderella (2015)</td>\n      <td>85</td>\n      <td>80</td>\n      <td>67</td>\n      <td>7.5</td>\n      <td>7.1</td>\n      <td>5.0</td>\n      <td>4.5</td>\n      <td>4.25</td>\n      <td>4.00</td>\n      <td>...</td>\n      <td>3.55</td>\n      <td>4.5</td>\n      <td>4.0</td>\n      <td>3.5</td>\n      <td>4.0</td>\n      <td>3.5</td>\n      <td>249</td>\n      <td>65709</td>\n      <td>12640</td>\n      <td>0.5</td>\n    </tr>\n    <tr>\n      <th>2</th>\n      <td>Ant-Man (2015)</td>\n      <td>80</td>\n      <td>90</td>\n      <td>64</td>\n      <td>8.1</td>\n      <td>7.8</td>\n      <td>5.0</td>\n      <td>4.5</td>\n      <td>4.00</td>\n      <td>4.50</td>\n      <td>...</td>\n      <td>3.90</td>\n      <td>4.0</td>\n      <td>4.5</td>\n      <td>3.0</td>\n      <td>4.0</td>\n      <td>4.0</td>\n      <td>627</td>\n      <td>103660</td>\n      <td>12055</td>\n      <td>0.5</td>\n    </tr>\n    <tr>\n      <th>3</th>\n      <td>Do You Believe? (2015)</td>\n      <td>18</td>\n      <td>84</td>\n      <td>22</td>\n      <td>4.7</td>\n      <td>5.4</td>\n      <td>5.0</td>\n      <td>4.5</td>\n      <td>0.90</td>\n      <td>4.20</td>\n      <td>...</td>\n      <td>2.70</td>\n      <td>1.0</td>\n      <td>4.0</td>\n      <td>1.0</td>\n      <td>2.5</td>\n      <td>2.5</td>\n      <td>31</td>\n      <td>3136</td>\n      <td>1793</td>\n      <td>0.5</td>\n    </tr>\n    <tr>\n      <th>4</th>\n      <td>Hot Tub Time Machine 2 (2015)</td>\n      <td>14</td>\n      <td>28</td>\n      <td>29</td>\n      <td>3.4</td>\n      <td>5.1</td>\n      <td>3.5</td>\n      <td>3.0</td>\n      <td>0.70</td>\n      <td>1.40</td>\n      <td>...</td>\n      <td>2.55</td>\n      <td>0.5</td>\n      <td>1.5</td>\n      <td>1.5</td>\n      <td>1.5</td>\n      <td>2.5</td>\n      <td>88</td>\n      <td>19560</td>\n      <td>1021</td>\n      <td>0.5</td>\n    </tr>\n    <tr>\n      <th>...</th>\n      <td>...</td>\n      <td>...</td>\n      <td>...</td>\n      <td>...</td>\n      <td>...</td>\n      <td>...</td>\n      <td>...</td>\n      <td>...</td>\n      <td>...</td>\n      <td>...</td>\n      <td>...</td>\n      <td>...</td>\n      <td>...</td>\n      <td>...</td>\n      <td>...</td>\n      <td>...</td>\n      <td>...</td>\n      <td>...</td>\n      <td>...</td>\n      <td>...</td>\n      <td>...</td>\n    </tr>\n    <tr>\n      <th>141</th>\n      <td>Mr. Holmes (2015)</td>\n      <td>87</td>\n      <td>78</td>\n      <td>67</td>\n      <td>7.9</td>\n      <td>7.4</td>\n      <td>4.0</td>\n      <td>4.0</td>\n      <td>4.35</td>\n      <td>3.90</td>\n      <td>...</td>\n      <td>3.70</td>\n      <td>4.5</td>\n      <td>4.0</td>\n      <td>3.5</td>\n      <td>4.0</td>\n      <td>3.5</td>\n      <td>33</td>\n      <td>7367</td>\n      <td>1348</td>\n      <td>0.0</td>\n    </tr>\n    <tr>\n      <th>142</th>\n      <td>'71 (2015)</td>\n      <td>97</td>\n      <td>82</td>\n      <td>83</td>\n      <td>7.5</td>\n      <td>7.2</td>\n      <td>3.5</td>\n      <td>3.5</td>\n      <td>4.85</td>\n      <td>4.10</td>\n      <td>...</td>\n      <td>3.60</td>\n      <td>5.0</td>\n      <td>4.0</td>\n      <td>4.0</td>\n      <td>4.0</td>\n      <td>3.5</td>\n      <td>60</td>\n      <td>24116</td>\n      <td>192</td>\n      <td>0.0</td>\n    </tr>\n    <tr>\n      <th>143</th>\n      <td>Two Days, One Night (2014)</td>\n      <td>97</td>\n      <td>78</td>\n      <td>89</td>\n      <td>8.8</td>\n      <td>7.4</td>\n      <td>3.5</td>\n      <td>3.5</td>\n      <td>4.85</td>\n      <td>3.90</td>\n      <td>...</td>\n      <td>3.70</td>\n      <td>5.0</td>\n      <td>4.0</td>\n      <td>4.5</td>\n      <td>4.5</td>\n      <td>3.5</td>\n      <td>123</td>\n      <td>24345</td>\n      <td>118</td>\n      <td>0.0</td>\n    </tr>\n    <tr>\n      <th>144</th>\n      <td>Gett: The Trial of Viviane Amsalem (2015)</td>\n      <td>100</td>\n      <td>81</td>\n      <td>90</td>\n      <td>7.3</td>\n      <td>7.8</td>\n      <td>3.5</td>\n      <td>3.5</td>\n      <td>5.00</td>\n      <td>4.05</td>\n      <td>...</td>\n      <td>3.90</td>\n      <td>5.0</td>\n      <td>4.0</td>\n      <td>4.5</td>\n      <td>3.5</td>\n      <td>4.0</td>\n      <td>19</td>\n      <td>1955</td>\n      <td>59</td>\n      <td>0.0</td>\n    </tr>\n    <tr>\n      <th>145</th>\n      <td>Kumiko, The Treasure Hunter (2015)</td>\n      <td>87</td>\n      <td>63</td>\n      <td>68</td>\n      <td>6.4</td>\n      <td>6.7</td>\n      <td>3.5</td>\n      <td>3.5</td>\n      <td>4.35</td>\n      <td>3.15</td>\n      <td>...</td>\n      <td>3.35</td>\n      <td>4.5</td>\n      <td>3.0</td>\n      <td>3.5</td>\n      <td>3.0</td>\n      <td>3.5</td>\n      <td>19</td>\n      <td>5289</td>\n      <td>41</td>\n      <td>0.0</td>\n    </tr>\n  </tbody>\n</table>\n<p>146 rows × 22 columns</p>\n</div>"
     },
     "metadata": {},
     "execution_count": 4
    }
   ],
   "source": [
    "# List all the columns the table provides\n",
    "movie_df.loc[:,:]"
   ]
  },
  {
   "cell_type": "code",
   "execution_count": 5,
   "metadata": {
    "collapsed": true
   },
   "outputs": [
    {
     "output_type": "execute_result",
     "data": {
      "text/plain": [
       "                                          FILM  IMDB  IMDB_norm  \\\n",
       "0               Avengers: Age of Ultron (2015)   7.8       3.90   \n",
       "1                            Cinderella (2015)   7.1       3.55   \n",
       "2                               Ant-Man (2015)   7.8       3.90   \n",
       "3                       Do You Believe? (2015)   5.4       2.70   \n",
       "4                Hot Tub Time Machine 2 (2015)   5.1       2.55   \n",
       "..                                         ...   ...        ...   \n",
       "141                          Mr. Holmes (2015)   7.4       3.70   \n",
       "142                                 '71 (2015)   7.2       3.60   \n",
       "143                 Two Days, One Night (2014)   7.4       3.70   \n",
       "144  Gett: The Trial of Viviane Amsalem (2015)   7.8       3.90   \n",
       "145         Kumiko, The Treasure Hunter (2015)   6.7       3.35   \n",
       "\n",
       "     IMDB_norm_round  IMDB_user_vote_count  \n",
       "0                4.0                271107  \n",
       "1                3.5                 65709  \n",
       "2                4.0                103660  \n",
       "3                2.5                  3136  \n",
       "4                2.5                 19560  \n",
       "..               ...                   ...  \n",
       "141              3.5                  7367  \n",
       "142              3.5                 24116  \n",
       "143              3.5                 24345  \n",
       "144              4.0                  1955  \n",
       "145              3.5                  5289  \n",
       "\n",
       "[146 rows x 5 columns]"
      ],
      "text/html": "<div>\n<style scoped>\n    .dataframe tbody tr th:only-of-type {\n        vertical-align: middle;\n    }\n\n    .dataframe tbody tr th {\n        vertical-align: top;\n    }\n\n    .dataframe thead th {\n        text-align: right;\n    }\n</style>\n<table border=\"1\" class=\"dataframe\">\n  <thead>\n    <tr style=\"text-align: right;\">\n      <th></th>\n      <th>FILM</th>\n      <th>IMDB</th>\n      <th>IMDB_norm</th>\n      <th>IMDB_norm_round</th>\n      <th>IMDB_user_vote_count</th>\n    </tr>\n  </thead>\n  <tbody>\n    <tr>\n      <th>0</th>\n      <td>Avengers: Age of Ultron (2015)</td>\n      <td>7.8</td>\n      <td>3.90</td>\n      <td>4.0</td>\n      <td>271107</td>\n    </tr>\n    <tr>\n      <th>1</th>\n      <td>Cinderella (2015)</td>\n      <td>7.1</td>\n      <td>3.55</td>\n      <td>3.5</td>\n      <td>65709</td>\n    </tr>\n    <tr>\n      <th>2</th>\n      <td>Ant-Man (2015)</td>\n      <td>7.8</td>\n      <td>3.90</td>\n      <td>4.0</td>\n      <td>103660</td>\n    </tr>\n    <tr>\n      <th>3</th>\n      <td>Do You Believe? (2015)</td>\n      <td>5.4</td>\n      <td>2.70</td>\n      <td>2.5</td>\n      <td>3136</td>\n    </tr>\n    <tr>\n      <th>4</th>\n      <td>Hot Tub Time Machine 2 (2015)</td>\n      <td>5.1</td>\n      <td>2.55</td>\n      <td>2.5</td>\n      <td>19560</td>\n    </tr>\n    <tr>\n      <th>...</th>\n      <td>...</td>\n      <td>...</td>\n      <td>...</td>\n      <td>...</td>\n      <td>...</td>\n    </tr>\n    <tr>\n      <th>141</th>\n      <td>Mr. Holmes (2015)</td>\n      <td>7.4</td>\n      <td>3.70</td>\n      <td>3.5</td>\n      <td>7367</td>\n    </tr>\n    <tr>\n      <th>142</th>\n      <td>'71 (2015)</td>\n      <td>7.2</td>\n      <td>3.60</td>\n      <td>3.5</td>\n      <td>24116</td>\n    </tr>\n    <tr>\n      <th>143</th>\n      <td>Two Days, One Night (2014)</td>\n      <td>7.4</td>\n      <td>3.70</td>\n      <td>3.5</td>\n      <td>24345</td>\n    </tr>\n    <tr>\n      <th>144</th>\n      <td>Gett: The Trial of Viviane Amsalem (2015)</td>\n      <td>7.8</td>\n      <td>3.90</td>\n      <td>4.0</td>\n      <td>1955</td>\n    </tr>\n    <tr>\n      <th>145</th>\n      <td>Kumiko, The Treasure Hunter (2015)</td>\n      <td>6.7</td>\n      <td>3.35</td>\n      <td>3.5</td>\n      <td>5289</td>\n    </tr>\n  </tbody>\n</table>\n<p>146 rows × 5 columns</p>\n</div>"
     },
     "metadata": {},
     "execution_count": 5
    }
   ],
   "source": [
    "# only care about Imdb, so create a new table that takes the Film and all the columns relating to IMDB\n",
    "imdb_df = movie_df[['FILM','IMDB','IMDB_norm','IMDB_norm_round','IMDB_user_vote_count']]\n",
    "imdb_df"
   ]
  },
  {
   "cell_type": "code",
   "execution_count": 6,
   "metadata": {
    "collapsed": true
   },
   "outputs": [
    {
     "output_type": "execute_result",
     "data": {
      "text/plain": [
       "                                          FILM  IMDB  IMDB_norm  \\\n",
       "0               Avengers: Age of Ultron (2015)   7.8       3.90   \n",
       "1                            Cinderella (2015)   7.1       3.55   \n",
       "2                               Ant-Man (2015)   7.8       3.90   \n",
       "5                     The Water Diviner (2015)   7.2       3.60   \n",
       "8                 Shaun the Sheep Movie (2015)   7.4       3.70   \n",
       "..                                         ...   ...        ...   \n",
       "140                          Inside Out (2015)   8.6       4.30   \n",
       "141                          Mr. Holmes (2015)   7.4       3.70   \n",
       "142                                 '71 (2015)   7.2       3.60   \n",
       "143                 Two Days, One Night (2014)   7.4       3.70   \n",
       "144  Gett: The Trial of Viviane Amsalem (2015)   7.8       3.90   \n",
       "\n",
       "     IMDB_norm_round  IMDB_user_vote_count  \n",
       "0                4.0                271107  \n",
       "1                3.5                 65709  \n",
       "2                4.0                103660  \n",
       "5                3.5                 39373  \n",
       "8                3.5                 12227  \n",
       "..               ...                   ...  \n",
       "140              4.5                 96252  \n",
       "141              3.5                  7367  \n",
       "142              3.5                 24116  \n",
       "143              3.5                 24345  \n",
       "144              4.0                  1955  \n",
       "\n",
       "[64 rows x 5 columns]"
      ],
      "text/html": "<div>\n<style scoped>\n    .dataframe tbody tr th:only-of-type {\n        vertical-align: middle;\n    }\n\n    .dataframe tbody tr th {\n        vertical-align: top;\n    }\n\n    .dataframe thead th {\n        text-align: right;\n    }\n</style>\n<table border=\"1\" class=\"dataframe\">\n  <thead>\n    <tr style=\"text-align: right;\">\n      <th></th>\n      <th>FILM</th>\n      <th>IMDB</th>\n      <th>IMDB_norm</th>\n      <th>IMDB_norm_round</th>\n      <th>IMDB_user_vote_count</th>\n    </tr>\n  </thead>\n  <tbody>\n    <tr>\n      <th>0</th>\n      <td>Avengers: Age of Ultron (2015)</td>\n      <td>7.8</td>\n      <td>3.90</td>\n      <td>4.0</td>\n      <td>271107</td>\n    </tr>\n    <tr>\n      <th>1</th>\n      <td>Cinderella (2015)</td>\n      <td>7.1</td>\n      <td>3.55</td>\n      <td>3.5</td>\n      <td>65709</td>\n    </tr>\n    <tr>\n      <th>2</th>\n      <td>Ant-Man (2015)</td>\n      <td>7.8</td>\n      <td>3.90</td>\n      <td>4.0</td>\n      <td>103660</td>\n    </tr>\n    <tr>\n      <th>5</th>\n      <td>The Water Diviner (2015)</td>\n      <td>7.2</td>\n      <td>3.60</td>\n      <td>3.5</td>\n      <td>39373</td>\n    </tr>\n    <tr>\n      <th>8</th>\n      <td>Shaun the Sheep Movie (2015)</td>\n      <td>7.4</td>\n      <td>3.70</td>\n      <td>3.5</td>\n      <td>12227</td>\n    </tr>\n    <tr>\n      <th>...</th>\n      <td>...</td>\n      <td>...</td>\n      <td>...</td>\n      <td>...</td>\n      <td>...</td>\n    </tr>\n    <tr>\n      <th>140</th>\n      <td>Inside Out (2015)</td>\n      <td>8.6</td>\n      <td>4.30</td>\n      <td>4.5</td>\n      <td>96252</td>\n    </tr>\n    <tr>\n      <th>141</th>\n      <td>Mr. Holmes (2015)</td>\n      <td>7.4</td>\n      <td>3.70</td>\n      <td>3.5</td>\n      <td>7367</td>\n    </tr>\n    <tr>\n      <th>142</th>\n      <td>'71 (2015)</td>\n      <td>7.2</td>\n      <td>3.60</td>\n      <td>3.5</td>\n      <td>24116</td>\n    </tr>\n    <tr>\n      <th>143</th>\n      <td>Two Days, One Night (2014)</td>\n      <td>7.4</td>\n      <td>3.70</td>\n      <td>3.5</td>\n      <td>24345</td>\n    </tr>\n    <tr>\n      <th>144</th>\n      <td>Gett: The Trial of Viviane Amsalem (2015)</td>\n      <td>7.8</td>\n      <td>3.90</td>\n      <td>4.0</td>\n      <td>1955</td>\n    </tr>\n  </tbody>\n</table>\n<p>64 rows × 5 columns</p>\n</div>"
     },
     "metadata": {},
     "execution_count": 6
    }
   ],
   "source": [
    "# List only movies whose ratings are over 7 (out of 10) in IMDB\n",
    "high_rated_movies = imdb_df.loc[imdb_df['IMDB'] > 7 ]\n",
    "high_rated_movies"
   ]
  },
  {
   "cell_type": "code",
   "execution_count": 7,
   "metadata": {
    "collapsed": true
   },
   "outputs": [
    {
     "output_type": "execute_result",
     "data": {
      "text/plain": [
       "                                                  FILM  IMDB  IMDB_norm  \\\n",
       "8                         Shaun the Sheep Movie (2015)   7.4       3.70   \n",
       "9                                  Love & Mercy (2015)   7.8       3.90   \n",
       "10                   Far From The Madding Crowd (2015)   7.2       3.60   \n",
       "20                               McFarland, USA (2015)   7.5       3.75   \n",
       "29                          The End of the Tour (2015)   7.9       3.95   \n",
       "30                                     Red Army (2015)   7.7       3.85   \n",
       "31                        When Marnie Was There (2015)   7.8       3.90   \n",
       "32                           The Hunting Ground (2015)   7.5       3.75   \n",
       "41                                     Timbuktu (2015)   7.2       3.60   \n",
       "66                                     The Gift (2015)   7.6       3.80   \n",
       "68                               Monkey Kingdom (2015)   7.3       3.65   \n",
       "70                     Seymour: An Introduction (2015)   7.7       3.85   \n",
       "71                            The Wrecking Crew (2015)   7.8       3.90   \n",
       "76                       Straight Outta Compton (2015)   8.4       4.20   \n",
       "85                                   Little Boy (2015)   7.4       3.70   \n",
       "86               Me and Earl and The Dying Girl (2015)   8.2       4.10   \n",
       "92                                         Dope (2015)   7.5       3.75   \n",
       "95                        The Salt of the Earth (2015)   8.4       4.20   \n",
       "96                              Song of the Sea (2014)   8.2       4.10   \n",
       "109  The 100-Year-Old Man Who Climbed Out the Windo...   7.1       3.55   \n",
       "117                          Testament of Youth (2015)   7.3       3.65   \n",
       "118                       Infinitely Polar Bear (2015)   7.2       3.60   \n",
       "119                                     Phoenix (2015)   7.2       3.60   \n",
       "120                                The Wolfpack (2015)   7.1       3.55   \n",
       "121              The Stanford Prison Experiment (2015)   7.1       3.55   \n",
       "122                                   Tangerine (2015)   7.4       3.70   \n",
       "126                               Woman in Gold (2015)   7.4       3.70   \n",
       "129                                         Amy (2015)   8.0       4.00   \n",
       "137                               Danny Collins (2015)   7.1       3.55   \n",
       "141                                  Mr. Holmes (2015)   7.4       3.70   \n",
       "144          Gett: The Trial of Viviane Amsalem (2015)   7.8       3.90   \n",
       "\n",
       "     IMDB_norm_round  IMDB_user_vote_count  \n",
       "8                3.5                 12227  \n",
       "9                4.0                  5367  \n",
       "10               3.5                 12129  \n",
       "20               4.0                 13769  \n",
       "29               4.0                  1320  \n",
       "30               4.0                  2275  \n",
       "31               4.0                  4160  \n",
       "32               4.0                  1196  \n",
       "41               3.5                  6246  \n",
       "66               4.0                 10891  \n",
       "68               3.5                   883  \n",
       "70               4.0                   243  \n",
       "71               4.0                   732  \n",
       "76               4.0                 15982  \n",
       "85               3.5                  5927  \n",
       "86               4.0                  5269  \n",
       "92               4.0                  4911  \n",
       "95               4.0                  6605  \n",
       "96               4.0                 14067  \n",
       "109              3.5                 17237  \n",
       "117              3.5                  5495  \n",
       "118              3.5                  1062  \n",
       "119              3.5                  3687  \n",
       "120              3.5                  1488  \n",
       "121              3.5                   950  \n",
       "122              3.5                   696  \n",
       "126              3.5                 17957  \n",
       "129              4.0                  5630  \n",
       "137              3.5                 11206  \n",
       "141              3.5                  7367  \n",
       "144              4.0                  1955  "
      ],
      "text/html": "<div>\n<style scoped>\n    .dataframe tbody tr th:only-of-type {\n        vertical-align: middle;\n    }\n\n    .dataframe tbody tr th {\n        vertical-align: top;\n    }\n\n    .dataframe thead th {\n        text-align: right;\n    }\n</style>\n<table border=\"1\" class=\"dataframe\">\n  <thead>\n    <tr style=\"text-align: right;\">\n      <th></th>\n      <th>FILM</th>\n      <th>IMDB</th>\n      <th>IMDB_norm</th>\n      <th>IMDB_norm_round</th>\n      <th>IMDB_user_vote_count</th>\n    </tr>\n  </thead>\n  <tbody>\n    <tr>\n      <th>8</th>\n      <td>Shaun the Sheep Movie (2015)</td>\n      <td>7.4</td>\n      <td>3.70</td>\n      <td>3.5</td>\n      <td>12227</td>\n    </tr>\n    <tr>\n      <th>9</th>\n      <td>Love &amp; Mercy (2015)</td>\n      <td>7.8</td>\n      <td>3.90</td>\n      <td>4.0</td>\n      <td>5367</td>\n    </tr>\n    <tr>\n      <th>10</th>\n      <td>Far From The Madding Crowd (2015)</td>\n      <td>7.2</td>\n      <td>3.60</td>\n      <td>3.5</td>\n      <td>12129</td>\n    </tr>\n    <tr>\n      <th>20</th>\n      <td>McFarland, USA (2015)</td>\n      <td>7.5</td>\n      <td>3.75</td>\n      <td>4.0</td>\n      <td>13769</td>\n    </tr>\n    <tr>\n      <th>29</th>\n      <td>The End of the Tour (2015)</td>\n      <td>7.9</td>\n      <td>3.95</td>\n      <td>4.0</td>\n      <td>1320</td>\n    </tr>\n    <tr>\n      <th>30</th>\n      <td>Red Army (2015)</td>\n      <td>7.7</td>\n      <td>3.85</td>\n      <td>4.0</td>\n      <td>2275</td>\n    </tr>\n    <tr>\n      <th>31</th>\n      <td>When Marnie Was There (2015)</td>\n      <td>7.8</td>\n      <td>3.90</td>\n      <td>4.0</td>\n      <td>4160</td>\n    </tr>\n    <tr>\n      <th>32</th>\n      <td>The Hunting Ground (2015)</td>\n      <td>7.5</td>\n      <td>3.75</td>\n      <td>4.0</td>\n      <td>1196</td>\n    </tr>\n    <tr>\n      <th>41</th>\n      <td>Timbuktu (2015)</td>\n      <td>7.2</td>\n      <td>3.60</td>\n      <td>3.5</td>\n      <td>6246</td>\n    </tr>\n    <tr>\n      <th>66</th>\n      <td>The Gift (2015)</td>\n      <td>7.6</td>\n      <td>3.80</td>\n      <td>4.0</td>\n      <td>10891</td>\n    </tr>\n    <tr>\n      <th>68</th>\n      <td>Monkey Kingdom (2015)</td>\n      <td>7.3</td>\n      <td>3.65</td>\n      <td>3.5</td>\n      <td>883</td>\n    </tr>\n    <tr>\n      <th>70</th>\n      <td>Seymour: An Introduction (2015)</td>\n      <td>7.7</td>\n      <td>3.85</td>\n      <td>4.0</td>\n      <td>243</td>\n    </tr>\n    <tr>\n      <th>71</th>\n      <td>The Wrecking Crew (2015)</td>\n      <td>7.8</td>\n      <td>3.90</td>\n      <td>4.0</td>\n      <td>732</td>\n    </tr>\n    <tr>\n      <th>76</th>\n      <td>Straight Outta Compton (2015)</td>\n      <td>8.4</td>\n      <td>4.20</td>\n      <td>4.0</td>\n      <td>15982</td>\n    </tr>\n    <tr>\n      <th>85</th>\n      <td>Little Boy (2015)</td>\n      <td>7.4</td>\n      <td>3.70</td>\n      <td>3.5</td>\n      <td>5927</td>\n    </tr>\n    <tr>\n      <th>86</th>\n      <td>Me and Earl and The Dying Girl (2015)</td>\n      <td>8.2</td>\n      <td>4.10</td>\n      <td>4.0</td>\n      <td>5269</td>\n    </tr>\n    <tr>\n      <th>92</th>\n      <td>Dope (2015)</td>\n      <td>7.5</td>\n      <td>3.75</td>\n      <td>4.0</td>\n      <td>4911</td>\n    </tr>\n    <tr>\n      <th>95</th>\n      <td>The Salt of the Earth (2015)</td>\n      <td>8.4</td>\n      <td>4.20</td>\n      <td>4.0</td>\n      <td>6605</td>\n    </tr>\n    <tr>\n      <th>96</th>\n      <td>Song of the Sea (2014)</td>\n      <td>8.2</td>\n      <td>4.10</td>\n      <td>4.0</td>\n      <td>14067</td>\n    </tr>\n    <tr>\n      <th>109</th>\n      <td>The 100-Year-Old Man Who Climbed Out the Windo...</td>\n      <td>7.1</td>\n      <td>3.55</td>\n      <td>3.5</td>\n      <td>17237</td>\n    </tr>\n    <tr>\n      <th>117</th>\n      <td>Testament of Youth (2015)</td>\n      <td>7.3</td>\n      <td>3.65</td>\n      <td>3.5</td>\n      <td>5495</td>\n    </tr>\n    <tr>\n      <th>118</th>\n      <td>Infinitely Polar Bear (2015)</td>\n      <td>7.2</td>\n      <td>3.60</td>\n      <td>3.5</td>\n      <td>1062</td>\n    </tr>\n    <tr>\n      <th>119</th>\n      <td>Phoenix (2015)</td>\n      <td>7.2</td>\n      <td>3.60</td>\n      <td>3.5</td>\n      <td>3687</td>\n    </tr>\n    <tr>\n      <th>120</th>\n      <td>The Wolfpack (2015)</td>\n      <td>7.1</td>\n      <td>3.55</td>\n      <td>3.5</td>\n      <td>1488</td>\n    </tr>\n    <tr>\n      <th>121</th>\n      <td>The Stanford Prison Experiment (2015)</td>\n      <td>7.1</td>\n      <td>3.55</td>\n      <td>3.5</td>\n      <td>950</td>\n    </tr>\n    <tr>\n      <th>122</th>\n      <td>Tangerine (2015)</td>\n      <td>7.4</td>\n      <td>3.70</td>\n      <td>3.5</td>\n      <td>696</td>\n    </tr>\n    <tr>\n      <th>126</th>\n      <td>Woman in Gold (2015)</td>\n      <td>7.4</td>\n      <td>3.70</td>\n      <td>3.5</td>\n      <td>17957</td>\n    </tr>\n    <tr>\n      <th>129</th>\n      <td>Amy (2015)</td>\n      <td>8.0</td>\n      <td>4.00</td>\n      <td>4.0</td>\n      <td>5630</td>\n    </tr>\n    <tr>\n      <th>137</th>\n      <td>Danny Collins (2015)</td>\n      <td>7.1</td>\n      <td>3.55</td>\n      <td>3.5</td>\n      <td>11206</td>\n    </tr>\n    <tr>\n      <th>141</th>\n      <td>Mr. Holmes (2015)</td>\n      <td>7.4</td>\n      <td>3.70</td>\n      <td>3.5</td>\n      <td>7367</td>\n    </tr>\n    <tr>\n      <th>144</th>\n      <td>Gett: The Trial of Viviane Amsalem (2015)</td>\n      <td>7.8</td>\n      <td>3.90</td>\n      <td>4.0</td>\n      <td>1955</td>\n    </tr>\n  </tbody>\n</table>\n</div>"
     },
     "metadata": {},
     "execution_count": 7
    }
   ],
   "source": [
    "# Find lesser-known movies to watch, with fewer than 20K votes\n",
    "lesser_known_movies = high_rated_movies.loc[imdb_df['IMDB_user_vote_count'] < 20000]\n",
    "lesser_known_movies"
   ]
  },
  {
   "cell_type": "code",
   "execution_count": 8,
   "metadata": {
    "collapsed": true
   },
   "outputs": [],
   "source": [
    "# Finally, export this file to an Excel spreadsheet -- without the DataFrame index.\n",
    "lesser_known_movies.to_csv(\"../Solved/lesser_known_movies.csv\")"
   ]
  },
  {
   "cell_type": "code",
   "execution_count": null,
   "metadata": {},
   "outputs": [],
   "source": []
  }
 ],
 "metadata": {
  "anaconda-cloud": {},
  "kernel_info": {
   "name": "python3"
  },
  "kernelspec": {
   "name": "python3",
   "display_name": "Python 3.6.10 64-bit ('PythonData': conda)"
  },
  "language_info": {
   "codemirror_mode": {
    "name": "ipython",
    "version": 3
   },
   "file_extension": ".py",
   "mimetype": "text/x-python",
   "name": "python",
   "nbconvert_exporter": "python",
   "pygments_lexer": "ipython3",
   "version": "3.6.10"
  },
  "nteract": {
   "version": "0.2.0"
  },
  "interpreter": {
   "hash": "6f1c02d1c161c5d027715177dca30aa2b11c766fe1b39fbb30619813eef2dd31"
  }
 },
 "nbformat": 4,
 "nbformat_minor": 2
}