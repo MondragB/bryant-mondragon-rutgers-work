{
 "cells": [
  {
   "cell_type": "code",
   "execution_count": 1,
   "metadata": {},
   "outputs": [
    {
     "name": "stderr",
     "output_type": "stream",
     "text": [
      "C:\\Users\\bryan\\anaconda3\\envs\\PythonAdv\\lib\\site-packages\\tensorflow\\python\\framework\\dtypes.py:516: FutureWarning: Passing (type, 1) or '1type' as a synonym of type is deprecated; in a future version of numpy, it will be understood as (type, (1,)) / '(1,)type'.\n",
      "  _np_qint8 = np.dtype([(\"qint8\", np.int8, 1)])\n",
      "C:\\Users\\bryan\\anaconda3\\envs\\PythonAdv\\lib\\site-packages\\tensorflow\\python\\framework\\dtypes.py:517: FutureWarning: Passing (type, 1) or '1type' as a synonym of type is deprecated; in a future version of numpy, it will be understood as (type, (1,)) / '(1,)type'.\n",
      "  _np_quint8 = np.dtype([(\"quint8\", np.uint8, 1)])\n",
      "C:\\Users\\bryan\\anaconda3\\envs\\PythonAdv\\lib\\site-packages\\tensorflow\\python\\framework\\dtypes.py:518: FutureWarning: Passing (type, 1) or '1type' as a synonym of type is deprecated; in a future version of numpy, it will be understood as (type, (1,)) / '(1,)type'.\n",
      "  _np_qint16 = np.dtype([(\"qint16\", np.int16, 1)])\n",
      "C:\\Users\\bryan\\anaconda3\\envs\\PythonAdv\\lib\\site-packages\\tensorflow\\python\\framework\\dtypes.py:519: FutureWarning: Passing (type, 1) or '1type' as a synonym of type is deprecated; in a future version of numpy, it will be understood as (type, (1,)) / '(1,)type'.\n",
      "  _np_quint16 = np.dtype([(\"quint16\", np.uint16, 1)])\n",
      "C:\\Users\\bryan\\anaconda3\\envs\\PythonAdv\\lib\\site-packages\\tensorflow\\python\\framework\\dtypes.py:520: FutureWarning: Passing (type, 1) or '1type' as a synonym of type is deprecated; in a future version of numpy, it will be understood as (type, (1,)) / '(1,)type'.\n",
      "  _np_qint32 = np.dtype([(\"qint32\", np.int32, 1)])\n",
      "C:\\Users\\bryan\\anaconda3\\envs\\PythonAdv\\lib\\site-packages\\tensorflow\\python\\framework\\dtypes.py:525: FutureWarning: Passing (type, 1) or '1type' as a synonym of type is deprecated; in a future version of numpy, it will be understood as (type, (1,)) / '(1,)type'.\n",
      "  np_resource = np.dtype([(\"resource\", np.ubyte, 1)])\n",
      "C:\\Users\\bryan\\anaconda3\\envs\\PythonAdv\\lib\\site-packages\\tensorboard\\compat\\tensorflow_stub\\dtypes.py:541: FutureWarning: Passing (type, 1) or '1type' as a synonym of type is deprecated; in a future version of numpy, it will be understood as (type, (1,)) / '(1,)type'.\n",
      "  _np_qint8 = np.dtype([(\"qint8\", np.int8, 1)])\n",
      "C:\\Users\\bryan\\anaconda3\\envs\\PythonAdv\\lib\\site-packages\\tensorboard\\compat\\tensorflow_stub\\dtypes.py:542: FutureWarning: Passing (type, 1) or '1type' as a synonym of type is deprecated; in a future version of numpy, it will be understood as (type, (1,)) / '(1,)type'.\n",
      "  _np_quint8 = np.dtype([(\"quint8\", np.uint8, 1)])\n",
      "C:\\Users\\bryan\\anaconda3\\envs\\PythonAdv\\lib\\site-packages\\tensorboard\\compat\\tensorflow_stub\\dtypes.py:543: FutureWarning: Passing (type, 1) or '1type' as a synonym of type is deprecated; in a future version of numpy, it will be understood as (type, (1,)) / '(1,)type'.\n",
      "  _np_qint16 = np.dtype([(\"qint16\", np.int16, 1)])\n",
      "C:\\Users\\bryan\\anaconda3\\envs\\PythonAdv\\lib\\site-packages\\tensorboard\\compat\\tensorflow_stub\\dtypes.py:544: FutureWarning: Passing (type, 1) or '1type' as a synonym of type is deprecated; in a future version of numpy, it will be understood as (type, (1,)) / '(1,)type'.\n",
      "  _np_quint16 = np.dtype([(\"quint16\", np.uint16, 1)])\n",
      "C:\\Users\\bryan\\anaconda3\\envs\\PythonAdv\\lib\\site-packages\\tensorboard\\compat\\tensorflow_stub\\dtypes.py:545: FutureWarning: Passing (type, 1) or '1type' as a synonym of type is deprecated; in a future version of numpy, it will be understood as (type, (1,)) / '(1,)type'.\n",
      "  _np_qint32 = np.dtype([(\"qint32\", np.int32, 1)])\n",
      "C:\\Users\\bryan\\anaconda3\\envs\\PythonAdv\\lib\\site-packages\\tensorboard\\compat\\tensorflow_stub\\dtypes.py:550: FutureWarning: Passing (type, 1) or '1type' as a synonym of type is deprecated; in a future version of numpy, it will be understood as (type, (1,)) / '(1,)type'.\n",
      "  np_resource = np.dtype([(\"resource\", np.ubyte, 1)])\n"
     ]
    }
   ],
   "source": [
    "# Import our dependencies\n",
    "import pandas as pd\n",
    "import matplotlib as plt\n",
    "from sklearn.datasets import make_blobs\n",
    "import sklearn as skl\n",
    "import tensorflow as tf"
   ]
  },
  {
   "cell_type": "code",
   "execution_count": 2,
   "metadata": {},
   "outputs": [
    {
     "data": {
      "text/plain": [
       "<AxesSubplot:xlabel='Feature 1', ylabel='Feature 2'>"
      ]
     },
     "execution_count": 2,
     "metadata": {},
     "output_type": "execute_result"
    },
    {
     "data": {
      "image/png": "[encoded data removed]",
      "text/plain": [
       "<Figure size 432x288 with 2 Axes>"
      ]
     },
     "metadata": {
      "needs_background": "light"
     },
     "output_type": "display_data"
    }
   ],
   "source": [
    "# Generate dummy dataset\n",
    "X, y = make_blobs(n_samples=1000, centers=2, n_features=2, random_state=78)\n",
    "\n",
    "# Creating a DataFrame with the dummy data\n",
    "df = pd.DataFrame(X, columns=[\"Feature 1\", \"Feature 2\"])\n",
    "df[\"Target\"] = y\n",
    "\n",
    "# Plotting the dummy data\n",
    "df.plot.scatter(x=\"Feature 1\", y=\"Feature 2\", c=\"Target\", colormap=\"winter\")"
   ]
  },
  {
   "cell_type": "code",
   "execution_count": 3,
   "metadata": {},
   "outputs": [],
   "source": [
    "# Use sklearn to split dataset\n",
    "from sklearn.model_selection import train_test_split\n",
    "X_train, X_test, y_train, y_test = train_test_split(X, y, random_state=78)"
   ]
  },
  {
   "cell_type": "code",
   "execution_count": 4,
   "metadata": {},
   "outputs": [],
   "source": [
    "# Create scaler instance\n",
    "X_scaler = skl.preprocessing.StandardScaler()\n",
    "\n",
    "# Fit the scaler\n",
    "X_scaler.fit(X_train)\n",
    "\n",
    "# Scale the data\n",
    "X_train_scaled = X_scaler.transform(X_train)\n",
    "X_test_scaled = X_scaler.transform(X_test)"
   ]
  },
  {
   "cell_type": "code",
   "execution_count": 5,
   "metadata": {},
   "outputs": [],
   "source": [
    "# Create the Keras Sequential model\n",
    "nn_model = tf.keras.models.Sequential()"
   ]
  },
  {
   "cell_type": "code",
   "execution_count": 6,
   "metadata": {},
   "outputs": [
    {
     "name": "stdout",
     "output_type": "stream",
     "text": [
      "WARNING:tensorflow:From C:\\Users\\bryan\\anaconda3\\envs\\PythonAdv\\lib\\site-packages\\tensorflow\\python\\ops\\init_ops.py:1251: calling VarianceScaling.__init__ (from tensorflow.python.ops.init_ops) with dtype is deprecated and will be removed in a future version.\n",
      "Instructions for updating:\n",
      "Call initializer instance with the dtype argument instead of passing it to the constructor\n"
     ]
    }
   ],
   "source": [
    "# Add our first Dense layer, including the input layer\n",
    "nn_model.add(tf.keras.layers.Dense(units=5, activation=\"relu\", input_dim=2))"
   ]
  },
  {
   "cell_type": "code",
   "execution_count": 7,
   "metadata": {},
   "outputs": [],
   "source": [
    "# Add the output layer that uses a probability activation function\n",
    "nn_model.add(tf.keras.layers.Dense(units=1, activation=\"sigmoid\"))"
   ]
  },
  {
   "cell_type": "code",
   "execution_count": 8,
   "metadata": {},
   "outputs": [
    {
     "name": "stdout",
     "output_type": "stream",
     "text": [
      "Model: \"sequential\"\n",
      "_________________________________________________________________\n",
      "Layer (type)                 Output Shape              Param #   \n",
      "=================================================================\n",
      "dense (Dense)                (None, 5)                 15        \n",
      "_________________________________________________________________\n",
      "dense_1 (Dense)              (None, 1)                 6         \n",
      "=================================================================\n",
      "Total params: 21\n",
      "Trainable params: 21\n",
      "Non-trainable params: 0\n",
      "_________________________________________________________________\n"
     ]
    }
   ],
   "source": [
    "# Check the structure of the Sequential model\n",
    "nn_model.summary()"
   ]
  },
  {
   "cell_type": "code",
   "execution_count": 9,
   "metadata": {},
   "outputs": [
    {
     "name": "stdout",
     "output_type": "stream",
     "text": [
      "WARNING:tensorflow:From C:\\Users\\bryan\\anaconda3\\envs\\PythonAdv\\lib\\site-packages\\tensorflow\\python\\ops\\nn_impl.py:180: add_dispatch_support.<locals>.wrapper (from tensorflow.python.ops.array_ops) is deprecated and will be removed in a future version.\n",
      "Instructions for updating:\n",
      "Use tf.where in 2.0, which has the same broadcast rule as np.where\n",
      "Epoch 1/100\n",
      "750/750 [==============================] - 0s 120us/sample - loss: 1.0197 - acc: 0.4880\n",
      "Epoch 2/100\n",
      "750/750 [==============================] - 0s 21us/sample - loss: 0.9320 - acc: 0.4867\n",
      "Epoch 3/100\n",
      "750/750 [==============================] - 0s 21us/sample - loss: 0.8494 - acc: 0.4867\n",
      "Epoch 4/100\n",
      "750/750 [==============================] - 0s 20us/sample - loss: 0.7737 - acc: 0.4867\n",
      "Epoch 5/100\n",
      "750/750 [==============================] - 0s 23us/sample - loss: 0.7036 - acc: 0.4867\n",
      "Epoch 6/100\n",
      "750/750 [==============================] - 0s 21us/sample - loss: 0.6389 - acc: 0.4867\n",
      "Epoch 7/100\n",
      "750/750 [==============================] - 0s 21us/sample - loss: 0.5802 - acc: 0.4867\n",
      "Epoch 8/100\n",
      "750/750 [==============================] - 0s 21us/sample - loss: 0.5260 - acc: 0.4867\n",
      "Epoch 9/100\n",
      "750/750 [==============================] - 0s 21us/sample - loss: 0.4773 - acc: 0.5027\n",
      "Epoch 10/100\n",
      "750/750 [==============================] - 0s 21us/sample - loss: 0.4331 - acc: 0.6560\n",
      "Epoch 11/100\n",
      "750/750 [==============================] - 0s 20us/sample - loss: 0.3935 - acc: 0.9347\n",
      "Epoch 12/100\n",
      "750/750 [==============================] - 0s 20us/sample - loss: 0.3581 - acc: 0.9840\n",
      "Epoch 13/100\n",
      "750/750 [==============================] - 0s 23us/sample - loss: 0.3263 - acc: 0.9880\n",
      "Epoch 14/100\n",
      "750/750 [==============================] - 0s 20us/sample - loss: 0.2979 - acc: 0.9907\n",
      "Epoch 15/100\n",
      "750/750 [==============================] - 0s 20us/sample - loss: 0.2722 - acc: 0.9920\n",
      "Epoch 16/100\n",
      "750/750 [==============================] - 0s 20us/sample - loss: 0.2494 - acc: 0.9920\n",
      "Epoch 17/100\n",
      "750/750 [==============================] - 0s 25us/sample - loss: 0.2290 - acc: 0.9920\n",
      "Epoch 18/100\n",
      "750/750 [==============================] - 0s 20us/sample - loss: 0.2107 - acc: 0.9920\n",
      "Epoch 19/100\n",
      "750/750 [==============================] - 0s 20us/sample - loss: 0.1943 - acc: 0.9920\n",
      "Epoch 20/100\n",
      "750/750 [==============================] - 0s 21us/sample - loss: 0.1794 - acc: 0.9920\n",
      "Epoch 21/100\n",
      "750/750 [==============================] - 0s 21us/sample - loss: 0.1662 - acc: 0.9933\n",
      "Epoch 22/100\n",
      "750/750 [==============================] - 0s 20us/sample - loss: 0.1541 - acc: 0.9933\n",
      "Epoch 23/100\n",
      "750/750 [==============================] - 0s 21us/sample - loss: 0.1433 - acc: 0.9933\n",
      "Epoch 24/100\n",
      "750/750 [==============================] - 0s 23us/sample - loss: 0.1333 - acc: 0.9933\n",
      "Epoch 25/100\n",
      "750/750 [==============================] - 0s 20us/sample - loss: 0.1243 - acc: 0.9947\n",
      "Epoch 26/100\n",
      "750/750 [==============================] - 0s 20us/sample - loss: 0.1161 - acc: 0.9947\n",
      "Epoch 27/100\n",
      "750/750 [==============================] - 0s 20us/sample - loss: 0.1086 - acc: 0.9947\n",
      "Epoch 28/100\n",
      "750/750 [==============================] - 0s 21us/sample - loss: 0.1018 - acc: 0.9947\n",
      "Epoch 29/100\n",
      "750/750 [==============================] - 0s 19us/sample - loss: 0.0956 - acc: 0.9960\n",
      "Epoch 30/100\n",
      "750/750 [==============================] - 0s 20us/sample - loss: 0.0898 - acc: 0.9973\n",
      "Epoch 31/100\n",
      "750/750 [==============================] - 0s 20us/sample - loss: 0.0845 - acc: 0.9987\n",
      "Epoch 32/100\n",
      "750/750 [==============================] - 0s 19us/sample - loss: 0.0797 - acc: 1.0000\n",
      "Epoch 33/100\n",
      "750/750 [==============================] - 0s 20us/sample - loss: 0.0753 - acc: 1.0000\n",
      "Epoch 34/100\n",
      "750/750 [==============================] - 0s 19us/sample - loss: 0.0711 - acc: 1.0000\n",
      "Epoch 35/100\n",
      "750/750 [==============================] - 0s 24us/sample - loss: 0.0673 - acc: 1.0000\n",
      "Epoch 36/100\n",
      "750/750 [==============================] - 0s 19us/sample - loss: 0.0638 - acc: 1.0000\n",
      "Epoch 37/100\n",
      "750/750 [==============================] - 0s 20us/sample - loss: 0.0605 - acc: 1.0000\n",
      "Epoch 38/100\n",
      "750/750 [==============================] - 0s 20us/sample - loss: 0.0574 - acc: 1.0000\n",
      "Epoch 39/100\n",
      "750/750 [==============================] - 0s 21us/sample - loss: 0.0545 - acc: 1.0000\n",
      "Epoch 40/100\n",
      "750/750 [==============================] - 0s 19us/sample - loss: 0.0519 - acc: 1.0000\n",
      "Epoch 41/100\n",
      "750/750 [==============================] - 0s 19us/sample - loss: 0.0494 - acc: 1.0000\n",
      "Epoch 42/100\n",
      "750/750 [==============================] - 0s 20us/sample - loss: 0.0471 - acc: 1.0000\n",
      "Epoch 43/100\n",
      "750/750 [==============================] - 0s 20us/sample - loss: 0.0450 - acc: 1.0000\n",
      "Epoch 44/100\n",
      "750/750 [==============================] - 0s 29us/sample - loss: 0.0429 - acc: 1.0000\n",
      "Epoch 45/100\n",
      "750/750 [==============================] - 0s 31us/sample - loss: 0.0410 - acc: 1.0000\n",
      "Epoch 46/100\n",
      "750/750 [==============================] - 0s 25us/sample - loss: 0.0393 - acc: 1.0000\n",
      "Epoch 47/100\n",
      "750/750 [==============================] - 0s 20us/sample - loss: 0.0376 - acc: 1.0000\n",
      "Epoch 48/100\n",
      "750/750 [==============================] - 0s 20us/sample - loss: 0.0360 - acc: 1.0000\n",
      "Epoch 49/100\n",
      "750/750 [==============================] - 0s 22us/sample - loss: 0.0345 - acc: 1.0000\n",
      "Epoch 50/100\n",
      "750/750 [==============================] - 0s 21us/sample - loss: 0.0331 - acc: 1.0000\n",
      "Epoch 51/100\n",
      "750/750 [==============================] - 0s 21us/sample - loss: 0.0318 - acc: 1.0000\n",
      "Epoch 52/100\n",
      "750/750 [==============================] - 0s 21us/sample - loss: 0.0306 - acc: 1.0000\n",
      "Epoch 53/100\n",
      "750/750 [==============================] - 0s 21us/sample - loss: 0.0294 - acc: 1.0000\n",
      "Epoch 54/100\n",
      "750/750 [==============================] - 0s 20us/sample - loss: 0.0282 - acc: 1.0000\n",
      "Epoch 55/100\n",
      "750/750 [==============================] - 0s 20us/sample - loss: 0.0272 - acc: 1.0000\n",
      "Epoch 56/100\n",
      "750/750 [==============================] - 0s 21us/sample - loss: 0.0262 - acc: 1.0000\n",
      "Epoch 57/100\n",
      "750/750 [==============================] - 0s 19us/sample - loss: 0.0252 - acc: 1.0000\n",
      "Epoch 58/100\n",
      "750/750 [==============================] - 0s 24us/sample - loss: 0.0243 - acc: 1.0000\n",
      "Epoch 59/100\n",
      "750/750 [==============================] - 0s 21us/sample - loss: 0.0234 - acc: 1.0000\n",
      "Epoch 60/100\n",
      "750/750 [==============================] - 0s 23us/sample - loss: 0.0226 - acc: 1.0000\n",
      "Epoch 61/100\n",
      "750/750 [==============================] - 0s 20us/sample - loss: 0.0218 - acc: 1.0000\n",
      "Epoch 62/100\n",
      "750/750 [==============================] - 0s 20us/sample - loss: 0.0211 - acc: 1.0000\n",
      "Epoch 63/100\n",
      "750/750 [==============================] - 0s 23us/sample - loss: 0.0204 - acc: 1.0000\n",
      "Epoch 64/100\n",
      "750/750 [==============================] - 0s 19us/sample - loss: 0.0197 - acc: 1.0000\n",
      "Epoch 65/100\n",
      "750/750 [==============================] - 0s 19us/sample - loss: 0.0190 - acc: 1.0000\n",
      "Epoch 66/100\n",
      "750/750 [==============================] - 0s 20us/sample - loss: 0.0184 - acc: 1.0000\n",
      "Epoch 67/100\n",
      "750/750 [==============================] - 0s 20us/sample - loss: 0.0178 - acc: 1.0000\n",
      "Epoch 68/100\n",
      "750/750 [==============================] - 0s 20us/sample - loss: 0.0173 - acc: 1.0000\n",
      "Epoch 69/100\n",
      "750/750 [==============================] - 0s 20us/sample - loss: 0.0167 - acc: 1.0000\n",
      "Epoch 70/100\n",
      "750/750 [==============================] - 0s 20us/sample - loss: 0.0162 - acc: 1.0000\n",
      "Epoch 71/100\n",
      "750/750 [==============================] - 0s 20us/sample - loss: 0.0157 - acc: 1.0000\n",
      "Epoch 72/100\n",
      "750/750 [==============================] - 0s 20us/sample - loss: 0.0152 - acc: 1.0000\n",
      "Epoch 73/100\n",
      "750/750 [==============================] - 0s 20us/sample - loss: 0.0148 - acc: 1.0000\n",
      "Epoch 74/100\n",
      "750/750 [==============================] - 0s 23us/sample - loss: 0.0143 - acc: 1.0000\n",
      "Epoch 75/100\n",
      "750/750 [==============================] - 0s 24us/sample - loss: 0.0139 - acc: 1.0000\n",
      "Epoch 76/100\n",
      "750/750 [==============================] - 0s 19us/sample - loss: 0.0135 - acc: 1.0000\n",
      "Epoch 77/100\n",
      "750/750 [==============================] - 0s 21us/sample - loss: 0.0131 - acc: 1.0000\n",
      "Epoch 78/100\n",
      "750/750 [==============================] - 0s 21us/sample - loss: 0.0127 - acc: 1.0000\n",
      "Epoch 79/100\n",
      "750/750 [==============================] - 0s 20us/sample - loss: 0.0124 - acc: 1.0000\n",
      "Epoch 80/100\n",
      "750/750 [==============================] - 0s 20us/sample - loss: 0.0120 - acc: 1.0000\n",
      "Epoch 81/100\n",
      "750/750 [==============================] - 0s 21us/sample - loss: 0.0117 - acc: 1.0000\n",
      "Epoch 82/100\n",
      "750/750 [==============================] - 0s 20us/sample - loss: 0.0114 - acc: 1.0000\n",
      "Epoch 83/100\n",
      "750/750 [==============================] - 0s 20us/sample - loss: 0.0111 - acc: 1.0000\n",
      "Epoch 84/100\n",
      "750/750 [==============================] - 0s 21us/sample - loss: 0.0108 - acc: 1.0000\n",
      "Epoch 85/100\n",
      "750/750 [==============================] - 0s 20us/sample - loss: 0.0105 - acc: 1.0000\n",
      "Epoch 86/100\n",
      "750/750 [==============================] - 0s 20us/sample - loss: 0.0102 - acc: 1.0000\n",
      "Epoch 87/100\n",
      "750/750 [==============================] - 0s 19us/sample - loss: 0.0099 - acc: 1.0000\n",
      "Epoch 88/100\n",
      "750/750 [==============================] - 0s 21us/sample - loss: 0.0097 - acc: 1.0000\n",
      "Epoch 89/100\n",
      "750/750 [==============================] - 0s 23us/sample - loss: 0.0094 - acc: 1.0000\n",
      "Epoch 90/100\n",
      "750/750 [==============================] - 0s 19us/sample - loss: 0.0092 - acc: 1.0000\n",
      "Epoch 91/100\n",
      "750/750 [==============================] - 0s 21us/sample - loss: 0.0089 - acc: 1.0000\n",
      "Epoch 92/100\n",
      "750/750 [==============================] - 0s 20us/sample - loss: 0.0087 - acc: 1.0000\n",
      "Epoch 93/100\n",
      "750/750 [==============================] - 0s 20us/sample - loss: 0.0085 - acc: 1.0000\n",
      "Epoch 94/100\n",
      "750/750 [==============================] - 0s 19us/sample - loss: 0.0083 - acc: 1.0000\n",
      "Epoch 95/100\n",
      "750/750 [==============================] - 0s 23us/sample - loss: 0.0081 - acc: 1.0000\n",
      "Epoch 96/100\n",
      "750/750 [==============================] - 0s 19us/sample - loss: 0.0079 - acc: 1.0000\n",
      "Epoch 97/100\n",
      "750/750 [==============================] - 0s 20us/sample - loss: 0.0077 - acc: 1.0000\n",
      "Epoch 98/100\n",
      "750/750 [==============================] - 0s 19us/sample - loss: 0.0075 - acc: 1.0000\n",
      "Epoch 99/100\n",
      "750/750 [==============================] - 0s 21us/sample - loss: 0.0073 - acc: 1.0000\n",
      "Epoch 100/100\n",
      "750/750 [==============================] - 0s 19us/sample - loss: 0.0071 - acc: 1.0000\n"
     ]
    }
   ],
   "source": [
    "# Compile the Sequential model together and customize metrics\n",
    "nn_model.compile(loss=\"binary_crossentropy\", optimizer=\"adam\", metrics=[\"accuracy\"])\n",
    "\n",
    "# Fit the model to the training data\n",
    "fit_model = nn_model.fit(X_train_scaled, y_train, epochs=100)"
   ]
  },
  {
   "cell_type": "code",
   "execution_count": 10,
   "metadata": {},
   "outputs": [
    {
     "data": {
      "text/plain": [
       "<AxesSubplot:>"
      ]
     },
     "execution_count": 10,
     "metadata": {},
     "output_type": "execute_result"
    },
    {
     "data": {
      "image/png": "[encoded data removed]",
      "text/plain": [
       "<Figure size 432x288 with 1 Axes>"
      ]
     },
     "metadata": {
      "needs_background": "light"
     },
     "output_type": "display_data"
    }
   ],
   "source": [
    "# Create a DataFrame containing training history\n",
    "history_df = pd.DataFrame(fit_model.history)\n",
    "\n",
    "# Increase the index by 1 to match the number of epochs\n",
    "history_df.index += 1\n",
    "\n",
    "# Plot the loss\n",
    "history_df.plot(y=\"loss\")"
   ]
  },
  {
   "cell_type": "code",
   "execution_count": 11,
   "metadata": {},
   "outputs": [
    {
     "ename": "KeyError",
     "evalue": "'accuracy'",
     "output_type": "error",
     "traceback": [
      "\u001b[1;31m---------------------------------------------------------------------------\u001b[0m",
      "\u001b[1;31mKeyError\u001b[0m                                  Traceback (most recent call last)",
      "\u001b[1;32m~\\anaconda3\\envs\\PythonAdv\\lib\\site-packages\\pandas\\core\\indexes\\base.py\u001b[0m in \u001b[0;36mget_loc\u001b[1;34m(self, key, method, tolerance)\u001b[0m\n\u001b[0;32m   2897\u001b[0m             \u001b[1;32mtry\u001b[0m\u001b[1;33m:\u001b[0m\u001b[1;33m\u001b[0m\u001b[1;33m\u001b[0m\u001b[0m\n\u001b[1;32m-> 2898\u001b[1;33m                 \u001b[1;32mreturn\u001b[0m \u001b[0mself\u001b[0m\u001b[1;33m.\u001b[0m\u001b[0m_engine\u001b[0m\u001b[1;33m.\u001b[0m\u001b[0mget_loc\u001b[0m\u001b[1;33m(\u001b[0m\u001b[0mcasted_key\u001b[0m\u001b[1;33m)\u001b[0m\u001b[1;33m\u001b[0m\u001b[1;33m\u001b[0m\u001b[0m\n\u001b[0m\u001b[0;32m   2899\u001b[0m             \u001b[1;32mexcept\u001b[0m \u001b[0mKeyError\u001b[0m \u001b[1;32mas\u001b[0m \u001b[0merr\u001b[0m\u001b[1;33m:\u001b[0m\u001b[1;33m\u001b[0m\u001b[1;33m\u001b[0m\u001b[0m\n",
      "\u001b[1;32mpandas\\_libs\\index.pyx\u001b[0m in \u001b[0;36mpandas._libs.index.IndexEngine.get_loc\u001b[1;34m()\u001b[0m\n",
      "\u001b[1;32mpandas\\_libs\\index.pyx\u001b[0m in \u001b[0;36mpandas._libs.index.IndexEngine.get_loc\u001b[1;34m()\u001b[0m\n",
      "\u001b[1;32mpandas\\_libs\\hashtable_class_helper.pxi\u001b[0m in \u001b[0;36mpandas._libs.hashtable.PyObjectHashTable.get_item\u001b[1;34m()\u001b[0m\n",
      "\u001b[1;32mpandas\\_libs\\hashtable_class_helper.pxi\u001b[0m in \u001b[0;36mpandas._libs.hashtable.PyObjectHashTable.get_item\u001b[1;34m()\u001b[0m\n",
      "\u001b[1;31mKeyError\u001b[0m: 'accuracy'",
      "\nThe above exception was the direct cause of the following exception:\n",
      "\u001b[1;31mKeyError\u001b[0m                                  Traceback (most recent call last)",
      "\u001b[1;32m<ipython-input-11-66009b376660>\u001b[0m in \u001b[0;36m<module>\u001b[1;34m\u001b[0m\n\u001b[0;32m      1\u001b[0m \u001b[1;31m# Plot the accuracy\u001b[0m\u001b[1;33m\u001b[0m\u001b[1;33m\u001b[0m\u001b[1;33m\u001b[0m\u001b[0m\n\u001b[1;32m----> 2\u001b[1;33m \u001b[0mhistory_df\u001b[0m\u001b[1;33m.\u001b[0m\u001b[0mplot\u001b[0m\u001b[1;33m(\u001b[0m\u001b[0my\u001b[0m\u001b[1;33m=\u001b[0m\u001b[1;34m\"accuracy\"\u001b[0m\u001b[1;33m)\u001b[0m\u001b[1;33m\u001b[0m\u001b[1;33m\u001b[0m\u001b[0m\n\u001b[0m",
      "\u001b[1;32m~\\anaconda3\\envs\\PythonAdv\\lib\\site-packages\\pandas\\plotting\\_core.py\u001b[0m in \u001b[0;36m__call__\u001b[1;34m(self, *args, **kwargs)\u001b[0m\n\u001b[0;32m    933\u001b[0m \u001b[1;33m\u001b[0m\u001b[0m\n\u001b[0;32m    934\u001b[0m                 \u001b[1;31m# don't overwrite\u001b[0m\u001b[1;33m\u001b[0m\u001b[1;33m\u001b[0m\u001b[1;33m\u001b[0m\u001b[0m\n\u001b[1;32m--> 935\u001b[1;33m                 \u001b[0mdata\u001b[0m \u001b[1;33m=\u001b[0m \u001b[0mdata\u001b[0m\u001b[1;33m[\u001b[0m\u001b[0my\u001b[0m\u001b[1;33m]\u001b[0m\u001b[1;33m.\u001b[0m\u001b[0mcopy\u001b[0m\u001b[1;33m(\u001b[0m\u001b[1;33m)\u001b[0m\u001b[1;33m\u001b[0m\u001b[1;33m\u001b[0m\u001b[0m\n\u001b[0m\u001b[0;32m    936\u001b[0m \u001b[1;33m\u001b[0m\u001b[0m\n\u001b[0;32m    937\u001b[0m                 \u001b[1;32mif\u001b[0m \u001b[0misinstance\u001b[0m\u001b[1;33m(\u001b[0m\u001b[0mdata\u001b[0m\u001b[1;33m,\u001b[0m \u001b[0mABCSeries\u001b[0m\u001b[1;33m)\u001b[0m\u001b[1;33m:\u001b[0m\u001b[1;33m\u001b[0m\u001b[1;33m\u001b[0m\u001b[0m\n",
      "\u001b[1;32m~\\anaconda3\\envs\\PythonAdv\\lib\\site-packages\\pandas\\core\\frame.py\u001b[0m in \u001b[0;36m__getitem__\u001b[1;34m(self, key)\u001b[0m\n\u001b[0;32m   2904\u001b[0m             \u001b[1;32mif\u001b[0m \u001b[0mself\u001b[0m\u001b[1;33m.\u001b[0m\u001b[0mcolumns\u001b[0m\u001b[1;33m.\u001b[0m\u001b[0mnlevels\u001b[0m \u001b[1;33m>\u001b[0m \u001b[1;36m1\u001b[0m\u001b[1;33m:\u001b[0m\u001b[1;33m\u001b[0m\u001b[1;33m\u001b[0m\u001b[0m\n\u001b[0;32m   2905\u001b[0m                 \u001b[1;32mreturn\u001b[0m \u001b[0mself\u001b[0m\u001b[1;33m.\u001b[0m\u001b[0m_getitem_multilevel\u001b[0m\u001b[1;33m(\u001b[0m\u001b[0mkey\u001b[0m\u001b[1;33m)\u001b[0m\u001b[1;33m\u001b[0m\u001b[1;33m\u001b[0m\u001b[0m\n\u001b[1;32m-> 2906\u001b[1;33m             \u001b[0mindexer\u001b[0m \u001b[1;33m=\u001b[0m \u001b[0mself\u001b[0m\u001b[1;33m.\u001b[0m\u001b[0mcolumns\u001b[0m\u001b[1;33m.\u001b[0m\u001b[0mget_loc\u001b[0m\u001b[1;33m(\u001b[0m\u001b[0mkey\u001b[0m\u001b[1;33m)\u001b[0m\u001b[1;33m\u001b[0m\u001b[1;33m\u001b[0m\u001b[0m\n\u001b[0m\u001b[0;32m   2907\u001b[0m             \u001b[1;32mif\u001b[0m \u001b[0mis_integer\u001b[0m\u001b[1;33m(\u001b[0m\u001b[0mindexer\u001b[0m\u001b[1;33m)\u001b[0m\u001b[1;33m:\u001b[0m\u001b[1;33m\u001b[0m\u001b[1;33m\u001b[0m\u001b[0m\n\u001b[0;32m   2908\u001b[0m                 \u001b[0mindexer\u001b[0m \u001b[1;33m=\u001b[0m \u001b[1;33m[\u001b[0m\u001b[0mindexer\u001b[0m\u001b[1;33m]\u001b[0m\u001b[1;33m\u001b[0m\u001b[1;33m\u001b[0m\u001b[0m\n",
      "\u001b[1;32m~\\anaconda3\\envs\\PythonAdv\\lib\\site-packages\\pandas\\core\\indexes\\base.py\u001b[0m in \u001b[0;36mget_loc\u001b[1;34m(self, key, method, tolerance)\u001b[0m\n\u001b[0;32m   2898\u001b[0m                 \u001b[1;32mreturn\u001b[0m \u001b[0mself\u001b[0m\u001b[1;33m.\u001b[0m\u001b[0m_engine\u001b[0m\u001b[1;33m.\u001b[0m\u001b[0mget_loc\u001b[0m\u001b[1;33m(\u001b[0m\u001b[0mcasted_key\u001b[0m\u001b[1;33m)\u001b[0m\u001b[1;33m\u001b[0m\u001b[1;33m\u001b[0m\u001b[0m\n\u001b[0;32m   2899\u001b[0m             \u001b[1;32mexcept\u001b[0m \u001b[0mKeyError\u001b[0m \u001b[1;32mas\u001b[0m \u001b[0merr\u001b[0m\u001b[1;33m:\u001b[0m\u001b[1;33m\u001b[0m\u001b[1;33m\u001b[0m\u001b[0m\n\u001b[1;32m-> 2900\u001b[1;33m                 \u001b[1;32mraise\u001b[0m \u001b[0mKeyError\u001b[0m\u001b[1;33m(\u001b[0m\u001b[0mkey\u001b[0m\u001b[1;33m)\u001b[0m \u001b[1;32mfrom\u001b[0m \u001b[0merr\u001b[0m\u001b[1;33m\u001b[0m\u001b[1;33m\u001b[0m\u001b[0m\n\u001b[0m\u001b[0;32m   2901\u001b[0m \u001b[1;33m\u001b[0m\u001b[0m\n\u001b[0;32m   2902\u001b[0m         \u001b[1;32mif\u001b[0m \u001b[0mtolerance\u001b[0m \u001b[1;32mis\u001b[0m \u001b[1;32mnot\u001b[0m \u001b[1;32mNone\u001b[0m\u001b[1;33m:\u001b[0m\u001b[1;33m\u001b[0m\u001b[1;33m\u001b[0m\u001b[0m\n",
      "\u001b[1;31mKeyError\u001b[0m: 'accuracy'"
     ]
    }
   ],
   "source": [
    "# Plot the accuracy\n",
    "history_df.plot(y=\"accuracy\")"
   ]
  },
  {
   "cell_type": "code",
   "execution_count": null,
   "metadata": {},
   "outputs": [],
   "source": [
    "# Evaluate the model using the test data\n",
    "model_loss, model_accuracy = nn_model.evaluate(X_test_scaled,y_test,verbose=2)\n",
    "print(f\"Loss: {model_loss}, Accuracy: {model_accuracy}\")"
   ]
  }
 ],
 "metadata": {
  "interpreter": {
   "hash": "063c13d32aaa72e0f78bc1578530db52d8d405a21eccf44d79546ecd3fa4ed26"
  },
  "kernelspec": {
   "display_name": "Python 3.6.13 64-bit ('PythonAdv': conda)",
   "name": "python3"
  },
  "language_info": {
   "codemirror_mode": {
    "name": "ipython",
    "version": 3
   },
   "file_extension": ".py",
   "mimetype": "text/x-python",
   "name": "python",
   "nbconvert_exporter": "python",
   "pygments_lexer": "ipython3",
   "version": "3.6.13"
  }
 },
 "nbformat": 4,
 "nbformat_minor": 2
}
